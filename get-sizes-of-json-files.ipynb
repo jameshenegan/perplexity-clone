{
 "cells": [
  {
   "cell_type": "code",
   "execution_count": 4,
   "id": "ec7d26c6-1a93-44cc-b626-0e8877d82533",
   "metadata": {},
   "outputs": [
    {
     "data": {
      "text/html": [
       "<div>\n",
       "<style scoped>\n",
       "    .dataframe tbody tr th:only-of-type {\n",
       "        vertical-align: middle;\n",
       "    }\n",
       "\n",
       "    .dataframe tbody tr th {\n",
       "        vertical-align: top;\n",
       "    }\n",
       "\n",
       "    .dataframe thead th {\n",
       "        text-align: right;\n",
       "    }\n",
       "</style>\n",
       "<table border=\"1\" class=\"dataframe\">\n",
       "  <thead>\n",
       "    <tr style=\"text-align: right;\">\n",
       "      <th></th>\n",
       "      <th>File Name</th>\n",
       "      <th>File Path</th>\n",
       "      <th>File Size (Bytes)</th>\n",
       "    </tr>\n",
       "  </thead>\n",
       "  <tbody>\n",
       "    <tr>\n",
       "      <th>0</th>\n",
       "      <td>6.json</td>\n",
       "      <td>./data/ImproverModelResponses/6.json</td>\n",
       "      <td>1668</td>\n",
       "    </tr>\n",
       "    <tr>\n",
       "      <th>1</th>\n",
       "      <td>7.json</td>\n",
       "      <td>./data/ImproverModelResponses/7.json</td>\n",
       "      <td>2622</td>\n",
       "    </tr>\n",
       "    <tr>\n",
       "      <th>2</th>\n",
       "      <td>10.json</td>\n",
       "      <td>./data/ImproverModelResponses/10.json</td>\n",
       "      <td>3286</td>\n",
       "    </tr>\n",
       "    <tr>\n",
       "      <th>3</th>\n",
       "      <td>11.json</td>\n",
       "      <td>./data/ImproverModelResponses/11.json</td>\n",
       "      <td>2243</td>\n",
       "    </tr>\n",
       "    <tr>\n",
       "      <th>4</th>\n",
       "      <td>2.json</td>\n",
       "      <td>./data/ImproverModelResponses/2.json</td>\n",
       "      <td>2055</td>\n",
       "    </tr>\n",
       "    <tr>\n",
       "      <th>...</th>\n",
       "      <td>...</td>\n",
       "      <td>...</td>\n",
       "      <td>...</td>\n",
       "    </tr>\n",
       "    <tr>\n",
       "      <th>89</th>\n",
       "      <td>3.json</td>\n",
       "      <td>./data/WebsiteRefinerModelResponses/3.json</td>\n",
       "      <td>7608</td>\n",
       "    </tr>\n",
       "    <tr>\n",
       "      <th>90</th>\n",
       "      <td>8.json</td>\n",
       "      <td>./data/WebsiteRefinerModelResponses/8.json</td>\n",
       "      <td>11355</td>\n",
       "    </tr>\n",
       "    <tr>\n",
       "      <th>91</th>\n",
       "      <td>4.json</td>\n",
       "      <td>./data/WebsiteRefinerModelResponses/4.json</td>\n",
       "      <td>8106</td>\n",
       "    </tr>\n",
       "    <tr>\n",
       "      <th>92</th>\n",
       "      <td>5.json</td>\n",
       "      <td>./data/WebsiteRefinerModelResponses/5.json</td>\n",
       "      <td>10317</td>\n",
       "    </tr>\n",
       "    <tr>\n",
       "      <th>93</th>\n",
       "      <td>9.json</td>\n",
       "      <td>./data/WebsiteRefinerModelResponses/9.json</td>\n",
       "      <td>6556</td>\n",
       "    </tr>\n",
       "  </tbody>\n",
       "</table>\n",
       "<p>94 rows × 3 columns</p>\n",
       "</div>"
      ],
      "text/plain": [
       "   File Name                                   File Path  File Size (Bytes)\n",
       "0     6.json        ./data/ImproverModelResponses/6.json               1668\n",
       "1     7.json        ./data/ImproverModelResponses/7.json               2622\n",
       "2    10.json       ./data/ImproverModelResponses/10.json               3286\n",
       "3    11.json       ./data/ImproverModelResponses/11.json               2243\n",
       "4     2.json        ./data/ImproverModelResponses/2.json               2055\n",
       "..       ...                                         ...                ...\n",
       "89    3.json  ./data/WebsiteRefinerModelResponses/3.json               7608\n",
       "90    8.json  ./data/WebsiteRefinerModelResponses/8.json              11355\n",
       "91    4.json  ./data/WebsiteRefinerModelResponses/4.json               8106\n",
       "92    5.json  ./data/WebsiteRefinerModelResponses/5.json              10317\n",
       "93    9.json  ./data/WebsiteRefinerModelResponses/9.json               6556\n",
       "\n",
       "[94 rows x 3 columns]"
      ]
     },
     "execution_count": 4,
     "metadata": {},
     "output_type": "execute_result"
    }
   ],
   "source": [
    "import os\n",
    "import pandas as pd\n",
    "\n",
    "def get_json_file_sizes(directory):\n",
    "    # Create a list to hold file information\n",
    "    file_info = []\n",
    "\n",
    "    # Walk through the directory and subdirectories\n",
    "    for root, dirs, files in os.walk(directory):\n",
    "\n",
    "        dirs[:] = [d for d in dirs if not d.startswith('.ipynb_che')]\n",
    "        \n",
    "        for file in files:\n",
    "            if file.endswith(\".json\"):  # Check if the file is a JSON file\n",
    "                file_path = os.path.join(root, file)\n",
    "                file_size = os.path.getsize(file_path)  # Get file size in bytes\n",
    "                file_info.append({\n",
    "                    \"File Name\": file,\n",
    "                    \"File Path\": file_path,\n",
    "                    \"File Size (Bytes)\": file_size\n",
    "                })\n",
    "\n",
    "    # Create a DataFrame from the file information\n",
    "    df = pd.DataFrame(file_info)\n",
    "    return df\n",
    "\n",
    "# Directory containing the JSON files in subfolders\n",
    "directory_path = \"./data\"\n",
    "\n",
    "# Get the DataFrame of JSON file sizes\n",
    "json_file_sizes_df = get_json_file_sizes(directory_path)\n",
    "\n",
    "json_file_sizes_df."
   ]
  },
  {
   "cell_type": "code",
   "execution_count": 17,
   "id": "d81df9d1-4a29-4dbb-b6b6-8567f9fdaf35",
   "metadata": {},
   "outputs": [],
   "source": [
    "df_filtered  = json_file_sizes_df[\n",
    "  json_file_sizes_df['File Name'].apply(lambda x: x in ['10.json', '11.json' , '12.json', '13.json'])\n",
    "]\n",
    "\n",
    "df_filtered.to_csv(\"view.csv\", index=False)"
   ]
  },
  {
   "cell_type": "code",
   "execution_count": 13,
   "id": "4f74007e-7739-4dba-916e-c889bc2cf3e4",
   "metadata": {},
   "outputs": [],
   "source": [
    "num_bytes_in_gb = 1073741824\n"
   ]
  },
  {
   "cell_type": "code",
   "execution_count": 15,
   "id": "be2d1596-ab83-43c1-b91f-d7bcae1ba536",
   "metadata": {},
   "outputs": [
    {
     "data": {
      "text/plain": [
       "np.float64(0.5940962582826614)"
      ]
     },
     "execution_count": 15,
     "metadata": {},
     "output_type": "execute_result"
    }
   ],
   "source": [
    "1000 * df_filtered['File Size (Bytes)'].sum() / num_bytes_in_gb"
   ]
  },
  {
   "cell_type": "code",
   "execution_count": 16,
   "id": "8d7ac702-cbfd-43db-b6fd-117b2f6e937d",
   "metadata": {},
   "outputs": [],
   "source": [
    "json_file_sizes_df.to_csv(\"view.csv\", index=False)"
   ]
  },
  {
   "cell_type": "code",
   "execution_count": null,
   "id": "5b27e9ee-2c8d-475a-972e-af2f0a3fab4c",
   "metadata": {},
   "outputs": [],
   "source": []
  }
 ],
 "metadata": {
  "kernelspec": {
   "display_name": "perplexity-clone",
   "language": "python",
   "name": "perplexity-clone"
  },
  "language_info": {
   "codemirror_mode": {
    "name": "ipython",
    "version": 3
   },
   "file_extension": ".py",
   "mimetype": "text/x-python",
   "name": "python",
   "nbconvert_exporter": "python",
   "pygments_lexer": "ipython3",
   "version": "3.13.0"
  }
 },
 "nbformat": 4,
 "nbformat_minor": 5
}
