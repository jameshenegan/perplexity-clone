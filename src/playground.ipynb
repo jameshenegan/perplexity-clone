{
 "cells": [
  {
   "cell_type": "code",
   "execution_count": 1,
   "id": "fc255b2d-df36-4616-9403-221376570be3",
   "metadata": {},
   "outputs": [
    {
     "name": "stdout",
     "output_type": "stream",
     "text": [
      "Data saved to ../data/InitialGoogleResponses/1.json\n",
      "Data loaded from ../data/InitialGoogleResponses/1.json\n"
     ]
    },
    {
     "name": "stderr",
     "output_type": "stream",
     "text": [
      "Some characters could not be decoded, and were replaced with REPLACEMENT CHARACTER.\n"
     ]
    },
    {
     "name": "stdout",
     "output_type": "stream",
     "text": [
      "Data saved to ../data/RawTextFromHTML/1.json\n"
     ]
    }
   ],
   "source": [
    "from dotenv import dotenv_values\n",
    "import requests\n",
    "\n",
    "from helpers.google_interactor import GoogleInteractor\n",
    "from helpers.html_parser import HTMLParser \n",
    "from helpers.storage_manager import StorageManager\n",
    "from helpers.website_refiner_model import WebsiteRefinerModel\n",
    "\n",
    "# Load environment variables\n",
    "config = dotenv_values(\"../.env\")\n",
    "google_api_key = config['GOOGLE_API_KEY']\n",
    "search_engine_id = config['SEARCH_ENGINE_ID']\n",
    "\n",
    "# Declare trial number\n",
    "trial_number = 1\n",
    " \n",
    "google_interactor = GoogleInteractor(api_key=google_api_key, search_engine_id=search_engine_id)\n",
    "storage_manager = StorageManager(\"../data/\")    \n",
    "website_refiner = WebsiteRefinerModel(api_key=config['OPEN_AI_API_KEY'])\n",
    "\n",
    "query = \"Where to buy life insurance in Mississippi?\"\n",
    "search_results = google_interactor.search_google(query=query, num_results=10)\n",
    "    \n",
    "\n",
    "storage_manager.save_to_folder(\"InitialGoogleResponses\", search_results, f\"{trial_number}.json\")\n",
    "search_results = storage_manager.load_from_folder(\"InitialGoogleResponses\", f\"{trial_number}.json\")\n",
    "\n",
    "\n",
    "items = search_results['items']\n",
    "\n",
    "raw_text_from_html = []\n",
    "\n",
    "for item in search_results['items']:\n",
    "    link = item['link']\n",
    "    response = requests.get(link)\n",
    "    parsed_text = HTMLParser.parse_html(response.content)\n",
    "    raw_text_from_html.append({\"link\" : link, \"raw_text\" : parsed_text})\n",
    "    \n",
    "storage_manager.save_to_folder(\"RawTextFromHTML\", raw_text_from_html, f\"{trial_number}.json\")"
   ]
  },
  {
   "cell_type": "code",
   "execution_count": 2,
   "id": "0eb74a04-870f-46f0-9f0b-8277a124a124",
   "metadata": {},
   "outputs": [
    {
     "name": "stdout",
     "output_type": "stream",
     "text": [
      "Data loaded from ../data/RawTextFromHTML/1.json\n"
     ]
    },
    {
     "data": {
      "text/plain": [
       "\"\\n\\n\\n\\n\\n\\n\\n\\n\\n\\n\\n\\nMississippi Insurance Department - Official Website of the Mississippi Insurance Department\\n\\n\\n\\n\\n\\n\\n\\n\\n\\n\\n\\n\\n\\n\\n\\n\\n\\n\\n\\n\\n\\n\\n\\n\\n\\n\\n\\n\\n\\n\\n\\n\\n\\n\\n\\n\\n\\nSkip to content\\n\\n\\r\\n\\t\\tMain Navigation\\t\\n\\n\\n\\n\\n\\n\\n\\n\\n\\n\\n\\n\\n\\n\\nSearch for:\\n\\n\\n\\n\\n\\n\\nConsumers\\n\\nUnderstanding Premiums and Rates in MississippiQuestions and answers about premiums and rates in Mississippi.\\nAuto InsuranceState law requirements, shopping tips, lowering costs, filing a claim, and more.\\nCompany InformationRating services, market share reports, and examination reports.\\nConsumer AlertsIssued by the Mississippi Insurance Department to inform consumers of dangers, threats, and problems.\\nConsumer ResourcesHelpful insurance-related resources for consumers.\\nFight Insurance FraudHow fraud affects you, agent fraud schemes, fraudulent claims, fraud against seniors, business insurance fraud, reporting insurance fraud, and more.\\nFile a ComplaintFile online complaints, download complaint forms, where to submit complaints, required information when submitting complaints, and more.\\nHealth InsuranceInsurance types, purchasing tips, lowering premiums, complaint procedures, managed care plans, and more.\\nHomeowner’s InsuranceCoverage types, purchasing the right coverage, lowering costs, flood insurance, filing claims, making a home inventory, and more.\\nLife Insurance and AnnuitiesPurchasing the right coverage and amount, viatical settlements, purchasing annuities, detecting deceptive sales practices, and more.\\nLife Insurance Policy Locator ServiceNAIC Life Insurance Policy Locator Service page assists consumers in locating life insurance policies and annuity contracts of a deceased family member or close relationship.\\nLong-Term Care InsuranceLong-term Care Insurance explanation, the benefits, exclusions, providers, and more.\\nMake a Public Record RequestThe MID Public Access Information page contains commonly requested information and resources maintained by the Mississippi Insurance Department.\\nRequest AssistanceHow to request assistance with insurance matters from the Mississippi Insurance Department.\\n\\n\\nCompanies\\n\\nClarity Act/Market Analysis Data CallAnalysis of Premium & Loss data by Zip Code.\\nCompany Annual Filing, Licensing, and Registration RequirementsAnnual Statement Filing Requirements, Company Licensing and Amendments, Registrations, and other reporting forms.\\nCompany Licensing SearchSearch for licensed insurance companies by license number, NAIC number, and name. Download lists by authorized lines, license type, and licensed companies.\\nCompany Rating ServicesMajor insurance company rating agencies, their internet links, and phone numbers.\\nCybersecurity ReportSubmit data to the Mississippi Insurance Department about data breaches.\\nDocument Submission Portal and Electronic State Invoice Payment Service for Company Invoice FeesProvides portals for Financial Filing Submissions, Electronic Payment and Contact Address.\\nExamination ReportsReports indicating companies’ compliance or non-compliance with Mississippi Insurance laws.\\nLife, Accident, and Health Form and Rate FilingState filing procedures and forms for life, accident, and health, annuity, and credit.\\nMarket Share ReportsView insurance company market share reports by year.\\nProperty and Casualty Company InformationProperty and Casualty Company Information Rate and form filing, monthly filing bulletins, workers compensation loss cost data, and the Online Form and Rate Filing Search.\\nRehabilitation and LiquidationLists of insurance companies that are either in rehabilitation or liquidation.\\nResidual Market PlansView the “Markets of Last Resort” that are used when conventional insurance coverage cannot be obtained through standard markets.\\n\\n\\nLicensing\\n\\nLicensing Homepage\\nAdditional Licensing TypesCompany licensing, Elevator\\\\Escalators Licensing, Factory-Built Homes Licensing, Electronic Protection Systems Licensing, Risk Retention Group, and Risk Purchasing Group.\\nAdjuster LicensingIndividual\\\\Entity Adjuster licensing forms and fees, online services, letters of certification/change of address, notices, and more.\\nBail Agent LicensingBail Agent prelicensing and licensing, fees, forms, renewals, frequently asked questions and more.\\nEntity LicensingEntity licensing forms and fees, online services notices, and more.\\nLicensing AppointmentsAppointments, renewals, terminations, company authorization of individuals to appoint/terminate, and more.\\nLicensing ExaminationsTesting centers, study material sources, and more. Pearson Vue will be administering the state insurance exams for producers, adjusters, and bail agents.\\nLicensing SearchLicensing searches for insurance companies, individuals and entities, elevator\\\\escalators, factory-built homes, and electronic protection systems.\\nLicensing Updates Frequently Asked QuestionsLicense information, frequently asked questions, bulletins, and more.\\nPre-Licensing and Continuing EducationForms, education providers, examinations, links, and more.\\nPrivate Utilization Review AgentsLicensing instructions and applications for Private Review Agents\\nProducer\\\\Individual LicensingProducer\\\\Individual licensing forms and fees, online services letters of certification\\\\change of address, notices, and more.\\n\\n\\nHealthcare\\n\\nAutismGet information related to health insurance claims for autism spectrum disorder.\\nExternal ReviewHow to request an external review for an adverse determination of a claim.\\nGlossaryDefinitions for some of the more commonly used health insurance terms.\\nHealth Care ArchivesArchived health care resources.\\nHealth Care ReformHealth Insurance Individual Enrollment, SHOP Enrollment, agents and brokers, bulletins, frequently asked questions, and more.\\nMedicareInformation and resources for Medicare.\\nPrivate Utilization Review AgentsLicensing instructions and applications for Private Review Agents\\nRate Filing InformationRate Review process and documents, company assistance, frequently asked questions and more.\\nTelemedicine / TelehealthInformation about Telemedicine/Telehealth in Mississippi.\\n\\n\\nLegal\\n\\nAttorney General’s OpinionsSearch for Mississippi Attorney General’s Opinions on insurance regulatory issues.\\nBulletinsView bulletins issued by the Mississippi Insurance Department.\\nEnforcement ActionsView enforcement actions issued by the Mississippi Insurance Department.\\nLegal ArchivesArchived legal information from the Mississippi Insurance Department Website\\nMississippi CodeSearch Mississippi Code using the Secretary of State Unannotated Code Lookup.\\nMississippi Insurance LegislationView legislative summaries, new insurance laws, and other legislative information.\\nMake a Public Records RequestThe MID Public Access Information page contains commonly requested information and resources maintained by the Mississippi Insurance Department.\\nRegulationsView regulations issued by the Mississippi Insurance Department.\\n\\n\\nNewsroom\\n\\nEventsEvents related to the Mississippi Insurance Department and the insurance industry.\\nPress ReleasesPress releases issued by the Mississippi Insurance Department.\\nPress Release ArchivesArchived press releases issued by the Mississippi Insurance Department.\\nRequest Commissioner ChaneyRequest the Commissioner attend/speak at an event or request a media interview with the Commissioner or member of MID Staff\\nSocial MediaMississippi Insurance Department social media outlets.\\n\\n\\nPreparedness\\n\\nCatastrophe Savings AccountA tax advantaged regular savings account or money market account for catastrophe losses or home self insurance.\\nFire PreparednessFire safety, Family Escape Plans, smoke Alarms, Heating, Cooking, Grilling, Turkey Frying, Holiday Decorating, Fireworks and contact information.\\nHome PreparednessBuying a home, renters, accidents, vacations/traveling, spring cleaning, protecting pipes, tree trimming, and contact information.\\nLife Health PreparednessOff to college, getting married, growing family, Retirement and contact information.\\nMitigationMitigation information and resources.\\nPreparedness ArchivesArchived preparedness resources.\\nVehicle PreparednessBuying a new car, accidents, teen drivers, avoiding deer, and contact information.\\nWeather Disaster PreparednessPreparedness Tips, Hurricanes, Tornadoes, Lightning, HailIce Storms, Flooding, Earthquakes, Recovery Tips and Contact Information.\\n\\n\\nFire Marshal\\n\\nState Fire Marshal Homepage\\nBuilding Plan Review RequestRequest to review plans for compliance with Mississippi Fire Prevention Codes.\\nElevator\\\\Escalator InspectionsLicensing for elevator contractors\\\\limited elevator contractors, elevator inspectors, and elevator mechanics\\\\limited elevator mechanics.\\nFactory Built HomesLicensing, forms, safety tips, contact information, and more.\\nFire Code EnforcementDuties\\\\Statutory Authority, Application for Special State/Local Inspector, Building Plan Review Request, Mississippi Fire Prevention Code, contact information, and more.\\nFire InvestigationsDuties\\\\Statutory Authority, Fire Damage Registry for Insurance Companies, Fire Information Request, Civilian Fire Casualty Report, contact information, and more.\\nFire ServicesState Fire Coordinator, mission, forms, contact information, and more.\\nFire Standard Compliant CigarettesFSCC Certification, how FSCC Cigarettes work, how retailers, wholesalers, manufacturers, and consumers are affected, resources, and more.\\nLiquefied Compressed GasMission, laws and regulations, forms, State Liquefied Compressed Gas Board, PERC Fund, inspectors, contact information, and more.\\nMississippi Electronic Protection SystemsRules and regulations, application and forms, Approved CEU Courses, Electronic Protection Systems Board, and contact information.\\nPyrotechnicsInstructions for obtaining a permit, permit application, and contact information.\\n\\n\\n \\n\\n\\r\\n\\t\\t\\tContact\\r\\n\\t\\t\\n\\n\\nShow search form\\n\\n\\n\\nSearch for:\\n\\n\\n\\n\\n\\n\\n\\n\\n\\n\\n\\n\\n\\n\\n\\n\\nMississippi Insurance Department\\nto create an environment conducive to a competitive marketplace for the sale of insurance products and services while providing the State’s citizens with the maximum amount of consumer protection.\\n\\nLearn More About MID’s Mission and Values\\n\\n\\n\\n\\n\\n\\n\\n\\n\\n\\n\\xa0\\nRequest Commissioner Chaney\\n\\n\\n\\n\\n\\n\\n\\n\\xa0\\nNew Mitigation Program Information\\n\\n\\n\\n\\n\\n\\n\\n\\n\\n\\n\\nRequest Consumer Assistance\\nRequests for assistance with insurance matters are most commonly made by calling the toll-free Mississippi Insurance Department Consumer Help Line at 800-562-2957 or 601-359-2453 in the Jackson area.\\nClick to Request Assistance\\n\\n\\xa0\\nRequests for Proposal(RFP)\\nAny Requests for Proposal (RFP) that the Mississippi Insurance Department is currently advertising.\\nClick to view Open RFP’s\\n\\n\\n\\n\\n\\n\\n\\n\\n\\n\\n\\n\\n\\n Autism Insurance Benefits Hotline\\n\\n\\n\\r\\n\\t\\t\\t\\t\\t\\t\\t\\t\\t\\t\\t\\tClick to Connect\\t\\t\\t\\t\\t\\t\\t\\t\\t\\t\\t\\n\\n\\n\\n\\n\\n\\n  \\n\\n\\n\\r\\n\\t\\t\\t\\t\\t\\t\\t\\t\\t\\t\\t\\tClick to View\\t\\t\\t\\t\\t\\t\\t\\t\\t\\t\\t\\n\\n\\n\\n\\n\\n\\n Elevator/Escalator Inspections\\n\\n\\n\\r\\n\\t\\t\\t\\t\\t\\t\\t\\t\\t\\t\\t\\tClick to View\\t\\t\\t\\t\\t\\t\\t\\t\\t\\t\\t\\n\\n\\n\\n\\n\\n\\n Clarity Act/ Market Analysis  Data Call\\n\\n\\n\\r\\n\\t\\t\\t\\t\\t\\t\\t\\t\\t\\t\\t\\tClick to View\\t\\t\\t\\t\\t\\t\\t\\t\\t\\t\\t\\n\\n\\n\\n\\n\\n\\n Mitigation: How To Get Started\\n\\n\\n\\r\\n\\t\\t\\t\\t\\t\\t\\t\\t\\t\\t\\t\\tClick to Connect\\t\\t\\t\\t\\t\\t\\t\\t\\t\\t\\t\\n\\n\\n\\n\\n\\n\\n Health Insurance Rate Review\\n\\n\\n\\r\\n\\t\\t\\t\\t\\t\\t\\t\\t\\t\\t\\t\\tClick to Connect\\t\\t\\t\\t\\t\\t\\t\\t\\t\\t\\t\\n\\n\\n\\n\\n\\n\\n Uniform Certificate of Authority Application\\n\\n\\n\\r\\n\\t\\t\\t\\t\\t\\t\\t\\t\\t\\t\\t\\tClick to View\\t\\t\\t\\t\\t\\t\\t\\t\\t\\t\\t\\n\\n\\n\\n\\n\\n\\n\\n\\n\\n\\n\\nNews\\n\\n\\n\\nNews\\n\\n\\nBulletins\\n\\n\\nNotifications\\n\\n\\n\\n\\n\\n\\nTwo Arrested For Selling Faulty Fire Suppression Systems to Daycares And Other Businesses\\n\\n\\n\\r\\n                08.23.2024            \\n\\n\\n\\n\\n \\n\\n\\r\\n        JACKSON, Miss. – Daniel Finnegan and his wife, Sherri Finnegan, were arrested on Wednesday, August 21, 2024, at their home in Smith County and booked into the county jail. They face charges of False Pretense and violation of the Mississippi Fire Prevention Code in at least 13 counties. The couple is accused of installing faulty and used fire suppression systems…    \\n\\nRead More\\n\\n\\n\\n\\n\\nHow To Find An Insurance Agent\\n\\n\\n\\r\\n                08.27.2024            \\n\\n\\n\\n\\n \\n\\n\\r\\n        JACKSON, Miss. – The Mississippi Insurance Department often gets calls regarding insurance rate increases and how to reduce the cost of insurance premiums. One thing you should do is shop around for the best coverage and that means interviewing agents to find the right one for you. Looking for an agent in your area? Here are a few ways to…    \\n\\nRead More\\n\\n\\n\\n\\n\\nStorm Response And Claims Tips\\n\\n\\n\\r\\n                09.12.2024            \\n\\n\\n\\n\\n \\n\\n\\r\\n        JACKSON, Miss. – If your home was damaged in recent storms, now is the time to take action. “Let your insurance company know the extent of the damage,” said Insurance Commissioner Mike Chaney.“ After tornadoes and other disasters, insurance companies will reach out to those with the worst losses first. If you are not staying on the property, make sure…    \\n\\nRead More\\n\\n\\n\\n\\n\\n\\n\\n2024-2\\n\\n\\n\\r\\n                06.27.2024            \\n\\n\\n\\n\\n\\n\\n\\r\\n        Senate Bill 2130, Homeowners’ Insurance – Prohibit Insurance from Canceling or Denying Coverage Solely Due to Roof’s Age (Issued June 27, 2024)    \\n\\nRead More\\n\\n\\n\\n\\n\\n2024-3\\n\\n\\n\\r\\n                06.27.2024            \\n\\n\\n\\n\\n\\n\\n\\r\\n        Transition of Certification and Re-Certification of Private Utilization Review Agents from the Mississippi Department of Health to the Mississippi Insurance Department and Process (Issued June 27, 2024)    \\n\\nRead More\\n\\n\\n\\n\\n\\n2024-4\\n\\n\\n\\r\\n                08.02.2024            \\n\\n\\n\\n\\n\\n\\n\\r\\n        Adoption of Fortified Standard (Issued August 2, 2024)    \\n\\nRead More\\n\\n\\n\\n\\n\\n\\n\\nLiquefied Compressed Gas Board Meeting\\n\\n\\n\\r\\n                09.10.2024            \\n\\n\\n\\n\\n\\n\\n\\r\\n        There will be a Liquefied Compressed Gas Board Meeting on\\xa0Thursday, September 26, 2024, at 10:00 a.m.\\xa0at the State Fire Academy.    \\n\\nRead More\\n\\n\\n\\n\\n\\n\\r\\n\\t\\t\\t\\t\\t\\tSee All News \\r\\n\\t\\t\\t\\t\\t\\t\\n\\n\\n\\n\\n\\n\\n\\n\\n\\nExternal links\\n\\n\\n\\n\\n \\nMississippi.gov\\nThe official website of Mississippi\\n\\n\\n\\n\\n\\n \\nState Fire Academy\\nLearn more about training courses, accreditation and academy staff members.\\n\\n\\n\\n\\n\\n \\nTransparency Mississippi\\nFind information about government spending in Mississippi.\\n\\n\\n\\n\\n\\n \\nMS Fire Personnel (MSCB)\\nLearn more about the mission of the MS Fire Personnel, board members and meeting dates.\\n\\n\\n\\n\\n\\n \\nMWUA\\nThe official website for the Mississippi Windstorm Underwriting Association\\n\\n\\n\\n\\n\\n\\n\\n\\n\\n\\n\\n\\n\\n\\n\\n\\n\\n\\n\\n\\n\\n\\nAbout Us\\nHomeAnnual ReportDivisionsEmail DirectoryEmployment OpportunitiesHistoryPublic Access InformationStrategic Plan\\n\\n\\nQuick Links\\nLicensing Search Company LicensingRequest AssistanceFile ComplaintFight Insurance Fraud Insurance Company Rating Services\\n\\n\\n\\nEntity Licensing Producer\\\\Individual Licensing Bail Agent License RevocationsHealth Care Reform Enforcement Actions\\n\\n\\n\\nContact Us\\nWebsite Disclaimer\\nMake Public Records Requests\\nOpen RFP's\\n\\n\\n\\nFacebook\\nLinkedIn\\nTwitter\\nYouTube\\nThe Mississippi Insurance DepartmentP.O. Box 79Jackson, MS 39205\\nMID.MS.GOV\\n\\n\\n\\n\\n\\nFor general questions and comments email:\\xa0info@mid.ms.gov       •\\xa0    For technical questions or issues email:\\xa0webmaster@mid.ms.gov\\n\\n\\n\\n\\n\\n\\n\\n\\n\\n\\n\\n\\n\\nCopyright © 2024 Mississippi Insurance Department. All Rights Reserved.\\n\\n\\n\\n\\n\\n\\n\\n\\n\\n\\n\\n\\n\\n\\n\""
      ]
     },
     "execution_count": 2,
     "metadata": {},
     "output_type": "execute_result"
    }
   ],
   "source": [
    "raw_text_from_html = storage_manager.load_from_folder(\"RawTextFromHTML\", f\"{trial_number}.json\")\n",
    "current_item = raw_text_from_html[0]\n",
    "raw_text_for_current_item = current_item['raw_text']\n",
    "raw_text_for_current_item"
   ]
  },
  {
   "cell_type": "code",
   "execution_count": 3,
   "id": "0502660c-8c6f-473e-a454-25d5f26405aa",
   "metadata": {},
   "outputs": [
    {
     "name": "stdout",
     "output_type": "stream",
     "text": [
      "Refined Text:\n",
      "{'id': 'chatcmpl-AWnTNlk0FpUfzyfLYlkNYIs8WTHCw', 'choices': [{'finish_reason': 'stop', 'index': 0, 'logprobs': None, 'message': {'content': 'To buy life insurance in Mississippi, you can visit the official website of the Mississippi Insurance Department (MID) at MID.MS.GOV for resources and information. Additionally, you can find licensed insurance agents in your area by contacting the Mississippi Insurance Department Consumer Help Line at 800-562-2957 or 601-359-2453. They provide assistance and guidance on finding suitable insurance coverage, including life insurance options.', 'refusal': None, 'role': 'assistant', 'audio': None, 'function_call': None, 'tool_calls': None}}], 'created': 1732380033, 'model': 'gpt-4o-mini-2024-07-18', 'object': 'chat.completion', 'service_tier': None, 'system_fingerprint': 'fp_0705bf87c0', 'usage': {'completion_tokens': 85, 'prompt_tokens': 2761, 'total_tokens': 2846, 'completion_tokens_details': {'accepted_prediction_tokens': 0, 'audio_tokens': 0, 'reasoning_tokens': 0, 'rejected_prediction_tokens': 0}, 'prompt_tokens_details': {'audio_tokens': 0, 'cached_tokens': 2560}}}\n"
     ]
    }
   ],
   "source": [
    "# Use the first raw text for refinement\n",
    "refined_text = website_refiner.refine_text(raw_text=raw_text_for_current_item, query=query)\n",
    "\n",
    "if refined_text:\n",
    "    print(\"Refined Text:\")\n",
    "    print(refined_text)\n",
    "else:\n",
    "    print(\"Failed to refine text.\")\n"
   ]
  },
  {
   "cell_type": "code",
   "execution_count": 4,
   "id": "9e906474-df3d-4753-a091-f674d4144b63",
   "metadata": {},
   "outputs": [
    {
     "name": "stdout",
     "output_type": "stream",
     "text": [
      "Data saved to ../data/WebsiteRefinerModelResponses/1.json\n"
     ]
    }
   ],
   "source": [
    "storage_manager.save_to_folder(\"WebsiteRefinerModelResponses\", refined_text, f\"{trial_number}.json\")"
   ]
  },
  {
   "cell_type": "code",
   "execution_count": null,
   "id": "e09eae09-2d8e-4fe8-aa52-355327843438",
   "metadata": {},
   "outputs": [],
   "source": []
  }
 ],
 "metadata": {
  "kernelspec": {
   "display_name": "perplexity-clone",
   "language": "python",
   "name": "perplexity-clone"
  },
  "language_info": {
   "codemirror_mode": {
    "name": "ipython",
    "version": 3
   },
   "file_extension": ".py",
   "mimetype": "text/x-python",
   "name": "python",
   "nbconvert_exporter": "python",
   "pygments_lexer": "ipython3",
   "version": "3.13.0"
  }
 },
 "nbformat": 4,
 "nbformat_minor": 5
}
