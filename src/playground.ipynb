{
 "cells": [
  {
   "cell_type": "code",
   "execution_count": 1,
   "id": "fc255b2d-df36-4616-9403-221376570be3",
   "metadata": {},
   "outputs": [],
   "source": [
    "from dotenv import dotenv_values\n",
    "import requests\n",
    "\n",
    "from helpers.google_interactor import GoogleInteractor\n",
    "from helpers.html_parser import HTMLParser \n",
    "from helpers.storage_manager import StorageManager\n",
    "from helpers.refiner_model import RefinerModel\n",
    "from helpers.improver_model import ImproverModel\n",
    "from helpers.writer_citer_model import WriterCiterModel\n",
    "\n",
    "\n",
    "\"\"\"\n",
    "============================================\n",
    "Run through a single trial of the experiment\n",
    "============================================\n",
    "\"\"\"\n",
    "\n",
    "\"\"\"\n",
    "Set up\n",
    "\"\"\"\n",
    "\n",
    "# Number of links to consider\n",
    "K = 5\n",
    "\n",
    "# Declare trial number\n",
    "trial_number = 6\n",
    "\n",
    "\"\"\"\n",
    "Configuration\n",
    "\"\"\"\n",
    "\n",
    "sfblic_link = \"https://www.sfbli.com/\"\n",
    "\n",
    "# Load environment variables\n",
    "config = dotenv_values(\"../.env\")\n",
    "google_api_key = config['GOOGLE_API_KEY']\n",
    "search_engine_id = config['SEARCH_ENGINE_ID']\n",
    "\n",
    "# Instantiate helpers\n",
    "google_interactor = GoogleInteractor(api_key=google_api_key, search_engine_id=search_engine_id)\n",
    "storage_manager = StorageManager(\"../data/\")    \n",
    "website_refiner = RefinerModel(api_key=config['OPEN_AI_API_KEY'])\n",
    "corpus_refiner = RefinerModel(api_key=config['OPEN_AI_API_KEY'])\n",
    "improver_model = ImproverModel(api_key=config['OPEN_AI_API_KEY'])\n",
    "writer_citer = WriterCiterModel(api_key=config['OPEN_AI_API_KEY'])\n",
    "\n",
    "\n",
    "# Load the clean corpus text\n",
    "with open(\"../data/clean_content.txt\") as f:\n",
    "    corpus_text = f.read()\n",
    "\n",
    "\n",
    "# Select a query to use for the current trial\n",
    "query = \"Why do I need life insurance?\""
   ]
  },
  {
   "cell_type": "code",
   "execution_count": 2,
   "id": "f2aef6cb-0a86-4452-9111-02a7bb3c4b6a",
   "metadata": {},
   "outputs": [
    {
     "name": "stdout",
     "output_type": "stream",
     "text": [
      "Data saved to ../data/InitialGoogleResponses/6.json\n"
     ]
    }
   ],
   "source": [
    "\"\"\"\n",
    "Submit the query to Google and store the results\n",
    "\"\"\"\n",
    "\n",
    "# Submit the query to Google\n",
    "search_results = google_interactor.search_google(query=query, num_results=10)\n",
    "    \n",
    "# Store the response\n",
    "storage_manager.save_to_folder(\"InitialGoogleResponses\", search_results, f\"{trial_number}.json\")"
   ]
  },
  {
   "cell_type": "code",
   "execution_count": 3,
   "id": "d3bced40-95f6-4969-9f8c-167d02caad3e",
   "metadata": {},
   "outputs": [
    {
     "data": {
      "text/plain": [
       "['https://www.reddit.com/r/FinancialPlanning/comments/12vb4s6/do_any_of_you_have_life_insurance_and_is_there/',\n",
       " 'https://www.tdi.texas.gov/tips/life-insurance.html',\n",
       " 'https://www.newyorklife.com/articles/six-reasons-to-buy-life-insurance',\n",
       " 'https://www.reddit.com/r/LifeInsurance/comments/171nrj4/what_are_the_benefits_of_life_insurance_and_when/',\n",
       " 'https://www.securian.com/insights-tools/articles/why-do-i-need-life-insurance.html']"
      ]
     },
     "execution_count": 3,
     "metadata": {},
     "output_type": "execute_result"
    }
   ],
   "source": [
    "\"\"\"\n",
    "View links\n",
    "\"\"\"\n",
    "\n",
    "top_k_links = [item['link'] for item in search_results['items']][:K]\n",
    "top_k_links"
   ]
  },
  {
   "cell_type": "code",
   "execution_count": 4,
   "id": "a1d2fc29-ed81-4fd5-bbd3-a07c58527656",
   "metadata": {},
   "outputs": [
    {
     "data": {
      "text/plain": [
       "['https://www.reddit.com/r/FinancialPlanning/comments/12vb4s6/do_any_of_you_have_life_insurance_and_is_there/',\n",
       " 'https://www.tdi.texas.gov/tips/life-insurance.html',\n",
       " 'https://www.newyorklife.com/articles/six-reasons-to-buy-life-insurance',\n",
       " 'https://www.reddit.com/r/LifeInsurance/comments/171nrj4/what_are_the_benefits_of_life_insurance_and_when/',\n",
       " 'https://www.sfbli.com/']"
      ]
     },
     "execution_count": 4,
     "metadata": {},
     "output_type": "execute_result"
    }
   ],
   "source": [
    "\"\"\"\n",
    "Check to see if SFBLIC is in the top K links. \n",
    "If not, add it\n",
    "\"\"\"\n",
    "\n",
    "if sfblic_link in top_k_links:\n",
    "    updated_links = top_k_links\n",
    "else:\n",
    "    top_k_links[K-1] = sfblic_link\n",
    "    updated_links = top_k_links\n",
    "\n",
    "updated_links"
   ]
  },
  {
   "cell_type": "code",
   "execution_count": 5,
   "id": "d5c9ff53-c388-4929-a1d0-93841786cbb0",
   "metadata": {},
   "outputs": [
    {
     "name": "stdout",
     "output_type": "stream",
     "text": [
      "Data saved to ../data/UpdatedGoogleResponses/6.json\n"
     ]
    }
   ],
   "source": [
    "storage_manager.save_to_folder(\"UpdatedGoogleResponses\", updated_links, f\"{trial_number}.json\")"
   ]
  },
  {
   "cell_type": "code",
   "execution_count": 6,
   "id": "3a75ecd1-cb8e-4cc1-a3e4-3881a35880be",
   "metadata": {},
   "outputs": [
    {
     "name": "stdout",
     "output_type": "stream",
     "text": [
      "Data loaded from ../data/UpdatedGoogleResponses/6.json\n",
      "Data saved to ../data/RawTextFromHTML/6.json\n"
     ]
    }
   ],
   "source": [
    "\"\"\"\n",
    "Get Raw Text from the HTML associated with the links from Google\n",
    "\"\"\"\n",
    "\n",
    "# Retrieve the stored response\n",
    "updated_links = storage_manager.load_from_folder(\"UpdatedGoogleResponses\", f\"{trial_number}.json\")\n",
    "\n",
    "raw_text_from_html = []\n",
    "\n",
    "# For each item of raw text that was stored ...\n",
    "for link in updated_links:    \n",
    "\n",
    "    # Fet the HTML associated with the link\n",
    "    response = requests.get(link)\n",
    "\n",
    "    # Get the raw text associated with the HTML\n",
    "    parsed_text = HTMLParser.parse_html(response.content)\n",
    "\n",
    "    # Store the raw text from the HTML\n",
    "    raw_text_from_html.append({\"link\" : link, \"raw_text\" : parsed_text})\n",
    "    \n",
    "storage_manager.save_to_folder(\"RawTextFromHTML\", raw_text_from_html, f\"{trial_number}.json\")"
   ]
  },
  {
   "cell_type": "code",
   "execution_count": 7,
   "id": "5639cc8a-44ab-47bb-b661-455e27676f40",
   "metadata": {},
   "outputs": [
    {
     "name": "stdout",
     "output_type": "stream",
     "text": [
      "Data loaded from ../data/RawTextFromHTML/6.json\n",
      "Data saved to ../data/WebsiteRefinerModelResponses/6.json\n"
     ]
    }
   ],
   "source": [
    "\"\"\"\n",
    "Get the refined text from the raw text\n",
    "\"\"\"\n",
    "\n",
    "raw_text_from_html = storage_manager.load_from_folder(\"RawTextFromHTML\", f\"{trial_number}.json\")\n",
    "\n",
    "website_refiner_responses = []\n",
    "# For each element of raw text that was stored ...\n",
    "for current_item in raw_text_from_html:\n",
    "    \n",
    "    link = current_item['link']\n",
    "    raw_text = current_item['raw_text']   \n",
    "\n",
    "    \n",
    "    response_from_website_refiner = website_refiner.refine_text(raw_text=raw_text, query=query)\n",
    "    \n",
    "    if response_from_website_refiner:\n",
    "        response_from_website_refiner['link'] = link\n",
    "        website_refiner_responses.append(response_from_website_refiner)\n",
    "    else:\n",
    "        print(\"Failed to refine text.\")\n",
    "\n",
    "storage_manager.save_to_folder(\"WebsiteRefinerModelResponses\", website_refiner_responses, f\"{trial_number}.json\")"
   ]
  },
  {
   "cell_type": "code",
   "execution_count": 8,
   "id": "dfe8c8bf-074d-462b-b571-b4e9ae550a40",
   "metadata": {},
   "outputs": [
    {
     "name": "stdout",
     "output_type": "stream",
     "text": [
      "https://www.reddit.com/r/FinancialPlanning/comments/12vb4s6/do_any_of_you_have_life_insurance_and_is_there/\n",
      "THERE IS NO RELEVANT INFORMATION IN THE RAW TEXT\n",
      "\n",
      "https://www.tdi.texas.gov/tips/life-insurance.html\n",
      "Life insurance is important to help your loved ones with financial needs if you aren’t there anymore. It considers factors such as your mortgage, other debts, income replacement, funeral costs, and education for your children. If you have a family that depends on your financial support or if you have a mortgage, term life insurance could be a sensible option. Permanent life insurance provides coverage for your entire life and may have investment features, but it typically costs more than term insurance.\n",
      "\n",
      "https://www.newyorklife.com/articles/six-reasons-to-buy-life-insurance\n",
      "Life insurance is important because it protects your spouse and children from potential financial losses if something were to happen to you. It provides financial security, helps cover debts, living expenses, and any medical or final expenses. \n",
      "\n",
      "Some key reasons to get life insurance include:\n",
      "\n",
      "1. **Guaranteed protection**: Life insurance acts as a financial safety net for dependents, providing a lump-sum payment upon death.\n",
      "2. **Income replacement**: It ensures that your family can pay for essential needs such as mortgage, childcare, education, and debts.\n",
      "3. **Tax-free benefit**: The death benefit is generally passed along to beneficiaries federal income tax-free.\n",
      "4. **Guaranteed cash value growth**: Whole life policies build cash value that grows tax-deferred, which can be used for various financial goals.\n",
      "5. **Dividend potential**: Whole life insurance may provide dividends that can be taken in cash or used to increase coverage.\n",
      "6. **Optional riders**: Additional protection options can be tailored to meet individual needs, such as coverage for disabilities or for children. \n",
      "\n",
      "Overall, life insurance gives peace of mind by providing a legacy for your loved ones and ensuring their financial stability.\n",
      "\n",
      "https://www.reddit.com/r/LifeInsurance/comments/171nrj4/what_are_the_benefits_of_life_insurance_and_when/\n",
      "THERE IS NO RELEVANT INFORMATION IN THE RAW TEXT\n",
      "\n",
      "https://www.sfbli.com/\n",
      "THERE IS NO RELEVANT INFORMATION IN THE RAW TEXT\n",
      "\n"
     ]
    }
   ],
   "source": [
    "for item in website_refiner_responses:\n",
    "    print(item['link'])\n",
    "    print(item['choices'][0]['message']['content'])\n",
    "    print()"
   ]
  },
  {
   "cell_type": "code",
   "execution_count": 9,
   "id": "7816cf66-294f-463c-8fe8-addc13c89b3c",
   "metadata": {},
   "outputs": [
    {
     "name": "stdout",
     "output_type": "stream",
     "text": [
      "Data saved to ../data/CorpusRefinerModelResponses/6.json\n"
     ]
    }
   ],
   "source": [
    "\"\"\"\n",
    "Filter the corpus to information that may be relevant to the query\n",
    "\"\"\"\n",
    "\n",
    "response_from_corpus_refiner = corpus_refiner.refine_text(raw_text=corpus_text, query=query)\n",
    "storage_manager.save_to_folder(\"CorpusRefinerModelResponses\", response_from_corpus_refiner, f\"{trial_number}.json\")"
   ]
  },
  {
   "cell_type": "code",
   "execution_count": 10,
   "id": "38a47908-8c40-4dac-b27b-957447fcddbd",
   "metadata": {},
   "outputs": [
    {
     "name": "stdout",
     "output_type": "stream",
     "text": [
      "Life insurance is necessary to help your loved ones with financial needs if you aren’t there anymore. It considers factors such as your age, financial situation, and if you have people who depend on your income. Important considerations include covering debts like a mortgage, replacing your income, covering funeral costs, and funding college for children.\n",
      "\n",
      "Term life insurance is suitable for those with dependents or a mortgage and is generally the least expensive option. It provides coverage for a specified period. Permanent life insurance offers coverage for your entire life but is more costly and complex.\n",
      "\n",
      "Having life insurance is a way to ensure that your beneficiaries—such as a spouse, children, or other family members—are financially supported after your death.\n",
      "\n",
      "Life insurance is important because it protects your spouse and children from potentially devastating financial losses if something happens to you. It provides financial security, helps pay off debts, living expenses, and any medical or final expenses. The policy delivers a specified sum of money upon your death, which is generally not subject to federal income taxes, ensuring that your beneficiaries receive full benefits.\n",
      "\n",
      "Key reasons to get life insurance include:\n",
      "\n",
      "1. **Guaranteed protection**: Life insurance benefit acts as a financial safety net for your dependents.\n",
      "2. **Income replacement**: It ensures your family has the necessary funds to maintain their living standards if your income disappears.\n",
      "3. **Tax-free benefit**: Beneficiaries receive the death benefit tax-free.\n",
      "4. **Guaranteed cash value growth**: Whole life policies build cash value that can meet various financial goals.\n",
      "5. **Dividend potential**: Policyholders may receive dividends, which can be used in different ways, including offsetting premiums or increasing coverage.\n",
      "6. **Optional riders**: You can customize your policy with additional protections tailored to your needs.\n",
      "\n",
      "Overall, life insurance can provide peace of mind by ensuring a financial legacy for your loved ones.\n"
     ]
    }
   ],
   "source": [
    "print(response_from_corpus_refiner['choices'][0]['message']['content'])"
   ]
  },
  {
   "cell_type": "code",
   "execution_count": 11,
   "id": "d20096ff-b9c9-4288-8435-6d11497e4c7e",
   "metadata": {},
   "outputs": [
    {
     "name": "stdout",
     "output_type": "stream",
     "text": [
      "Data loaded from ../data/WebsiteRefinerModelResponses/6.json\n",
      "Data loaded from ../data/CorpusRefinerModelResponses/6.json\n",
      "Improved Text generated...\n",
      "Data saved to ../data/ImproverModelResponses/6.json\n"
     ]
    }
   ],
   "source": [
    "\"\"\"\n",
    "Improve the text from the SFBLIC site\n",
    "\"\"\"\n",
    "\n",
    "# Get the refined text from the website\n",
    "website_refiner_responses = storage_manager.load_from_folder(\"WebsiteRefinerModelResponses\", f\"{trial_number}.json\")\n",
    "sfblic_response = [response for response in website_refiner_responses if response['link'] == 'https://www.sfbli.com/'][0]\n",
    "refined_text_from_website = sfblic_response['choices'][0]['message']['content']\n",
    "\n",
    "# Get the refined text from the corpus\n",
    "response_from_corpus_refiner = storage_manager.load_from_folder(\"CorpusRefinerModelResponses\", f\"{trial_number}.json\")\n",
    "refined_text_from_corpus = response_from_corpus_refiner['choices'][0]['message']['content']\n",
    "\n",
    "\n",
    "# Generate improved text\n",
    "improved_text = improver_model.improve_text(\n",
    "    query=query,\n",
    "    refined_text_from_website=refined_text_from_website,\n",
    "    refined_text_from_corpus=refined_text_from_corpus\n",
    ")\n",
    "\n",
    "if improved_text:\n",
    "    print(\"Improved Text generated...\")\n",
    "    \n",
    "else:\n",
    "    print(\"Failed to improve text.\")\n",
    "\n",
    "\n",
    "# Save to disk\n",
    "storage_manager.save_to_folder(\"ImproverModelResponses\", improved_text, f\"{trial_number}.json\")\n"
   ]
  },
  {
   "cell_type": "code",
   "execution_count": 12,
   "id": "35b075a3-182b-4bcd-87bf-059b0defe460",
   "metadata": {},
   "outputs": [
    {
     "name": "stdout",
     "output_type": "stream",
     "text": [
      "THERE IS NO RELEVANT INFORMATION IN THE RAW TEXT\n"
     ]
    }
   ],
   "source": [
    "print(refined_text_from_website)"
   ]
  },
  {
   "cell_type": "code",
   "execution_count": 13,
   "id": "8f9378bb-da0c-4733-9523-ce7dfe01a88b",
   "metadata": {},
   "outputs": [
    {
     "name": "stdout",
     "output_type": "stream",
     "text": [
      "Life insurance is essential to ensure your loved ones are financially protected if you are no longer around. It helps cover debts like a mortgage, replaces your income, covers funeral expenses, and can even fund college for your children. Life insurance provides a financial safety net, ensuring that your family maintains their living standard and is not burdened by economic hardships. The payout your beneficiaries receive is generally tax-free, providing full benefits without additional financial strain. Life insurance gives peace of mind by securing a financial future for your loved ones, acting as a crucial part of financial planning.\n"
     ]
    }
   ],
   "source": [
    "print(improved_text['choices'][0]['message']['content'])"
   ]
  },
  {
   "cell_type": "code",
   "execution_count": 14,
   "id": "a7086398-7dc4-4d5c-925b-03af4533aac5",
   "metadata": {},
   "outputs": [
    {
     "name": "stdout",
     "output_type": "stream",
     "text": [
      "Data loaded from ../data/WebsiteRefinerModelResponses/6.json\n",
      "Data loaded from ../data/ImproverModelResponses/6.json\n"
     ]
    }
   ],
   "source": [
    "\"\"\"\n",
    "Create multiple sets of reference material\n",
    "\"\"\"\n",
    "\n",
    "# Create a set of reference material that has the original (unimproved) content from the website\n",
    "\n",
    "website_refiner_model_responses = storage_manager.load_from_folder(\"WebsiteRefinerModelResponses\", f\"{trial_number}.json\")\n",
    "\n",
    "unmodified_set_of_reference_material =  [\n",
    "    {\n",
    "        \"link\" : item['link'],\n",
    "        \"information\" : item['choices'][0]['message']['content']\n",
    "    }\n",
    "    for item in website_refiner_model_responses\n",
    "]\n",
    "\n",
    "# Create a set of reference material that has the new (improved) content\n",
    "improved_text = storage_manager.load_from_folder('ImproverModelResponses', f\"{trial_number}.json\")\n",
    "improved_version = improved_text['choices'][0]['message']['content']\n",
    "\n",
    "\n",
    "# Create a new set of reference material\n",
    "\n",
    "new_set_of_reference_material = []\n",
    "\n",
    "for item in unmodified_set_of_reference_material:\n",
    "    if item['link'] == 'https://www.sfbli.com/':\n",
    "        new_set_of_reference_material.append({\"link\" : link, \"information\" : improved_version})\n",
    "    else:\n",
    "        new_set_of_reference_material.append(item)\n",
    "\n"
   ]
  },
  {
   "cell_type": "code",
   "execution_count": 15,
   "id": "661d229c-2051-4550-a743-8611a636a8bb",
   "metadata": {},
   "outputs": [
    {
     "name": "stdout",
     "output_type": "stream",
     "text": [
      "Data saved to ../data/SetsOfReferenceMaterial/6.json\n"
     ]
    }
   ],
   "source": [
    "\"\"\"\n",
    "Store Sets of Reference Material\n",
    "\"\"\"\n",
    "\n",
    "sets_of_reference_material = []\n",
    "\n",
    "improvement_method = 0\n",
    "set_of_reference_material = unmodified_set_of_reference_material\n",
    "\n",
    "sets_of_reference_material.append({\n",
    "    \"improvement_method\" : improvement_method,\n",
    "    \"set_of_reference_material\" : set_of_reference_material,\n",
    "})\n",
    "\n",
    "improvement_method = 1\n",
    "set_of_reference_material = new_set_of_reference_material\n",
    "\n",
    "sets_of_reference_material.append({\n",
    "    \"improvement_method\" : improvement_method,\n",
    "    \"set_of_reference_material\" : set_of_reference_material,\n",
    "})\n",
    "\n",
    "\n",
    "storage_manager.save_to_folder(\"SetsOfReferenceMaterial\", sets_of_reference_material, f\"{trial_number}.json\")\n",
    "\n"
   ]
  },
  {
   "cell_type": "code",
   "execution_count": 17,
   "id": "074a477f-ec36-4d38-ab83-b6e84a45bb3d",
   "metadata": {},
   "outputs": [
    {
     "name": "stdout",
     "output_type": "stream",
     "text": [
      "Data loaded from ../data/SetsOfReferenceMaterial/6.json\n"
     ]
    }
   ],
   "source": [
    "\n",
    "\"\"\"\n",
    "Send sets of reference material to the writer-citer\n",
    "\"\"\"\n",
    "\n",
    "sets_of_reference_material = storage_manager.load_from_folder(\"SetsOfReferenceMaterial\", f\"{trial_number}.json\")\n",
    "\n"
   ]
  },
  {
   "cell_type": "code",
   "execution_count": 22,
   "id": "f30c11b0-5deb-474c-8946-5f508e9e1e80",
   "metadata": {},
   "outputs": [],
   "source": [
    "writer_citer_model_responses = [] "
   ]
  },
  {
   "cell_type": "code",
   "execution_count": 20,
   "id": "2e7c19d4-31c1-4a8a-8d78-8f6c22f55141",
   "metadata": {},
   "outputs": [],
   "source": [
    "set_of_reference_material = sets_of_reference_material[0]\n",
    "improvement_method = set_of_reference_material['improvement_method']\n",
    "reference_material = set_of_reference_material['set_of_reference_material']\n",
    "\n",
    "# Generate a cited response\n",
    "cited_response = writer_citer.generate_cited_response(\n",
    "    rephrased_query=query,\n",
    "    set_of_reference_query=reference_material\n",
    ")\n",
    "\n"
   ]
  },
  {
   "cell_type": "code",
   "execution_count": 23,
   "id": "6da85aae-192a-416b-9482-fdb490b4582a",
   "metadata": {},
   "outputs": [
    {
     "data": {
      "text/plain": [
       "[{'id': 'chatcmpl-AX9KvNCXvMd7h0egjcuc0iQuaMgzz',\n",
       "  'choices': [{'finish_reason': 'stop',\n",
       "    'index': 0,\n",
       "    'logprobs': None,\n",
       "    'message': {'content': 'Life insurance is a crucial financial tool that provides peace of mind by ensuring your loved ones are protected financially in your absence. Primarily, it offers a lump-sum payment to dependents, safeguarding them from potential financial losses and aiding in covering essential expenses such as debts, mortgage payments, childcare, education, and other living costs[2]. Additionally, it helps address final expenses, including medical bills and funeral costs[3].\\n\\nOne of the key benefits of life insurance is income replacement, which maintains the financial stability of your family, allowing them to sustain their lifestyle even if you are no longer around[3]. Moreover, the death benefit generally passes to beneficiaries without being subjected to federal income tax, adding another layer of financial relief[2].\\n\\nLife insurance can also serve as an investment tool, particularly with whole life policies, which build cash value that grows tax-deferred and can be accessed for various financial goals[2]. Some policies even offer dividend potential, providing more flexibility and potential financial growth[2].\\n\\nFinally, life insurance can be customized with optional riders catering to specific needs, such as coverage for disabilities or insurance for children, enhancing its utility and ensuring comprehensive protection[2]. Whether you opt for term life insurance for its cost-effectiveness or permanent life insurance for lifelong coverage and investment opportunities, life insurance remains an essential component of a sound financial strategy[1][2].',\n",
       "     'refusal': None,\n",
       "     'role': 'assistant',\n",
       "     'audio': None,\n",
       "     'function_call': None,\n",
       "     'tool_calls': None}}],\n",
       "  'created': 1732464077,\n",
       "  'model': 'gpt-4o-2024-08-06',\n",
       "  'object': 'chat.completion',\n",
       "  'service_tier': None,\n",
       "  'system_fingerprint': 'fp_831e067d82',\n",
       "  'usage': {'completion_tokens': 275,\n",
       "   'prompt_tokens': 722,\n",
       "   'total_tokens': 997,\n",
       "   'completion_tokens_details': {'accepted_prediction_tokens': 0,\n",
       "    'audio_tokens': 0,\n",
       "    'reasoning_tokens': 0,\n",
       "    'rejected_prediction_tokens': 0},\n",
       "   'prompt_tokens_details': {'audio_tokens': 0, 'cached_tokens': 0}},\n",
       "  'improvement_method': 0}]"
      ]
     },
     "execution_count": 23,
     "metadata": {},
     "output_type": "execute_result"
    }
   ],
   "source": [
    "cited_response['improvement_method'] = improvement_method\n",
    "\n",
    "writer_citer_model_responses.append(cited_response)\n",
    "writer_citer_model_responses"
   ]
  },
  {
   "cell_type": "code",
   "execution_count": 24,
   "id": "8e9ce661-efbe-459d-b1d6-72698f4c3b61",
   "metadata": {},
   "outputs": [
    {
     "data": {
      "text/plain": [
       "[{'id': 'chatcmpl-AX9KvNCXvMd7h0egjcuc0iQuaMgzz',\n",
       "  'choices': [{'finish_reason': 'stop',\n",
       "    'index': 0,\n",
       "    'logprobs': None,\n",
       "    'message': {'content': 'Life insurance is a crucial financial tool that provides peace of mind by ensuring your loved ones are protected financially in your absence. Primarily, it offers a lump-sum payment to dependents, safeguarding them from potential financial losses and aiding in covering essential expenses such as debts, mortgage payments, childcare, education, and other living costs[2]. Additionally, it helps address final expenses, including medical bills and funeral costs[3].\\n\\nOne of the key benefits of life insurance is income replacement, which maintains the financial stability of your family, allowing them to sustain their lifestyle even if you are no longer around[3]. Moreover, the death benefit generally passes to beneficiaries without being subjected to federal income tax, adding another layer of financial relief[2].\\n\\nLife insurance can also serve as an investment tool, particularly with whole life policies, which build cash value that grows tax-deferred and can be accessed for various financial goals[2]. Some policies even offer dividend potential, providing more flexibility and potential financial growth[2].\\n\\nFinally, life insurance can be customized with optional riders catering to specific needs, such as coverage for disabilities or insurance for children, enhancing its utility and ensuring comprehensive protection[2]. Whether you opt for term life insurance for its cost-effectiveness or permanent life insurance for lifelong coverage and investment opportunities, life insurance remains an essential component of a sound financial strategy[1][2].',\n",
       "     'refusal': None,\n",
       "     'role': 'assistant',\n",
       "     'audio': None,\n",
       "     'function_call': None,\n",
       "     'tool_calls': None}}],\n",
       "  'created': 1732464077,\n",
       "  'model': 'gpt-4o-2024-08-06',\n",
       "  'object': 'chat.completion',\n",
       "  'service_tier': None,\n",
       "  'system_fingerprint': 'fp_831e067d82',\n",
       "  'usage': {'completion_tokens': 275,\n",
       "   'prompt_tokens': 722,\n",
       "   'total_tokens': 997,\n",
       "   'completion_tokens_details': {'accepted_prediction_tokens': 0,\n",
       "    'audio_tokens': 0,\n",
       "    'reasoning_tokens': 0,\n",
       "    'rejected_prediction_tokens': 0},\n",
       "   'prompt_tokens_details': {'audio_tokens': 0, 'cached_tokens': 0}},\n",
       "  'improvement_method': 0},\n",
       " {'id': 'chatcmpl-AX9LrcgdTy35TCw8W9uLuVWDWC8Dc',\n",
       "  'choices': [{'finish_reason': 'stop',\n",
       "    'index': 0,\n",
       "    'logprobs': None,\n",
       "    'message': {'content': 'Life insurance is crucial for providing financial security to your loved ones if you are no longer around. It helps cover various expenses such as a mortgage, debts, living costs, funeral expenses, and even educational costs for children [2][3]. It acts as a financial safety net by replacing your income, ensuring that your family can maintain their standard of living without facing economic hardships [3][5]. Additionally, the death benefit provided by life insurance is generally distributed to beneficiaries without federal income tax, offering a straightforward financial support system [3][5]. Life insurance comes in different forms, including term life and permanent life insurance, each with its own features and benefits. Term life insurance is more affordable and ideal for specific periods, like until a mortgage is paid off, whereas permanent life insurance offers lifetime coverage and may include investment opportunities [2][3]. Overall, life insurance provides peace of mind by securing the financial future of your loved ones and is an essential component of comprehensive financial planning [5][3].',\n",
       "     'refusal': None,\n",
       "     'role': 'assistant',\n",
       "     'audio': None,\n",
       "     'function_call': None,\n",
       "     'tool_calls': None}}],\n",
       "  'created': 1732464135,\n",
       "  'model': 'gpt-4o-2024-08-06',\n",
       "  'object': 'chat.completion',\n",
       "  'service_tier': None,\n",
       "  'system_fingerprint': 'fp_831e067d82',\n",
       "  'usage': {'completion_tokens': 200,\n",
       "   'prompt_tokens': 821,\n",
       "   'total_tokens': 1021,\n",
       "   'completion_tokens_details': {'accepted_prediction_tokens': 0,\n",
       "    'audio_tokens': 0,\n",
       "    'reasoning_tokens': 0,\n",
       "    'rejected_prediction_tokens': 0},\n",
       "   'prompt_tokens_details': {'audio_tokens': 0, 'cached_tokens': 0}},\n",
       "  'improvement_method': 1}]"
      ]
     },
     "execution_count": 24,
     "metadata": {},
     "output_type": "execute_result"
    }
   ],
   "source": [
    "set_of_reference_material = sets_of_reference_material[1]\n",
    "improvement_method = set_of_reference_material['improvement_method']\n",
    "reference_material = set_of_reference_material['set_of_reference_material']\n",
    "\n",
    "# Generate a cited response\n",
    "cited_response = writer_citer.generate_cited_response(\n",
    "    rephrased_query=query,\n",
    "    set_of_reference_query=reference_material\n",
    ")\n",
    "\n",
    "cited_response['improvement_method'] = improvement_method\n",
    "\n",
    "writer_citer_model_responses.append(cited_response)\n",
    "writer_citer_model_responses"
   ]
  },
  {
   "cell_type": "code",
   "execution_count": 25,
   "id": "94fe7961-b4cd-41a0-97d7-1af438c7658c",
   "metadata": {},
   "outputs": [
    {
     "name": "stdout",
     "output_type": "stream",
     "text": [
      "Life insurance is a crucial financial tool that provides peace of mind by ensuring your loved ones are protected financially in your absence. Primarily, it offers a lump-sum payment to dependents, safeguarding them from potential financial losses and aiding in covering essential expenses such as debts, mortgage payments, childcare, education, and other living costs[2]. Additionally, it helps address final expenses, including medical bills and funeral costs[3].\n",
      "\n",
      "One of the key benefits of life insurance is income replacement, which maintains the financial stability of your family, allowing them to sustain their lifestyle even if you are no longer around[3]. Moreover, the death benefit generally passes to beneficiaries without being subjected to federal income tax, adding another layer of financial relief[2].\n",
      "\n",
      "Life insurance can also serve as an investment tool, particularly with whole life policies, which build cash value that grows tax-deferred and can be accessed for various financial goals[2]. Some policies even offer dividend potential, providing more flexibility and potential financial growth[2].\n",
      "\n",
      "Finally, life insurance can be customized with optional riders catering to specific needs, such as coverage for disabilities or insurance for children, enhancing its utility and ensuring comprehensive protection[2]. Whether you opt for term life insurance for its cost-effectiveness or permanent life insurance for lifelong coverage and investment opportunities, life insurance remains an essential component of a sound financial strategy[1][2].\n",
      "---\n",
      "Life insurance is crucial for providing financial security to your loved ones if you are no longer around. It helps cover various expenses such as a mortgage, debts, living costs, funeral expenses, and even educational costs for children [2][3]. It acts as a financial safety net by replacing your income, ensuring that your family can maintain their standard of living without facing economic hardships [3][5]. Additionally, the death benefit provided by life insurance is generally distributed to beneficiaries without federal income tax, offering a straightforward financial support system [3][5]. Life insurance comes in different forms, including term life and permanent life insurance, each with its own features and benefits. Term life insurance is more affordable and ideal for specific periods, like until a mortgage is paid off, whereas permanent life insurance offers lifetime coverage and may include investment opportunities [2][3]. Overall, life insurance provides peace of mind by securing the financial future of your loved ones and is an essential component of comprehensive financial planning [5][3].\n",
      "---\n"
     ]
    }
   ],
   "source": [
    "for item in writer_citer_model_responses:\n",
    "    print(item['choices'][0]['message']['content'])\n",
    "    print(\"---\")"
   ]
  },
  {
   "cell_type": "code",
   "execution_count": 26,
   "id": "d08cd94f-8edd-4c1b-8865-6e0b9cea951d",
   "metadata": {},
   "outputs": [
    {
     "name": "stdout",
     "output_type": "stream",
     "text": [
      "Data saved to ../data/WriterCiterModelResponses/6.json\n"
     ]
    }
   ],
   "source": [
    "# Save to disk\n",
    "storage_manager.save_to_folder(\"WriterCiterModelResponses\", writer_citer_model_responses, f\"{trial_number}.json\")"
   ]
  },
  {
   "cell_type": "code",
   "execution_count": null,
   "id": "987da967-da01-40d5-9c92-5545e3668143",
   "metadata": {},
   "outputs": [],
   "source": []
  }
 ],
 "metadata": {
  "kernelspec": {
   "display_name": "perplexity-clone",
   "language": "python",
   "name": "perplexity-clone"
  },
  "language_info": {
   "codemirror_mode": {
    "name": "ipython",
    "version": 3
   },
   "file_extension": ".py",
   "mimetype": "text/x-python",
   "name": "python",
   "nbconvert_exporter": "python",
   "pygments_lexer": "ipython3",
   "version": "3.13.0"
  }
 },
 "nbformat": 4,
 "nbformat_minor": 5
}
