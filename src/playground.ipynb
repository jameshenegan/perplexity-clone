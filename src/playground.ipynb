{
 "cells": [
  {
   "cell_type": "code",
   "execution_count": 1,
   "id": "fc255b2d-df36-4616-9403-221376570be3",
   "metadata": {},
   "outputs": [
    {
     "name": "stdout",
     "output_type": "stream",
     "text": [
      "Data saved to ../data/InitialGoogleResponses/1.json\n",
      "Data loaded from ../data/InitialGoogleResponses/1.json\n",
      "Data saved to ../data/RawTextFromHTML/1.json\n"
     ]
    }
   ],
   "source": [
    "from dotenv import dotenv_values\n",
    "import requests\n",
    "\n",
    "from helpers.google_interactor import GoogleInteractor\n",
    "from helpers.html_parser import HTMLParser \n",
    "from helpers.storage_manager import StorageManager\n",
    "from helpers.refiner_model import RefinerModel\n",
    "\n",
    "# Load environment variables\n",
    "config = dotenv_values(\"../.env\")\n",
    "google_api_key = config['GOOGLE_API_KEY']\n",
    "search_engine_id = config['SEARCH_ENGINE_ID']\n",
    "\n",
    "# Instantiate helpers\n",
    "google_interactor = GoogleInteractor(api_key=google_api_key, search_engine_id=search_engine_id)\n",
    "storage_manager = StorageManager(\"../data/\")    \n",
    "website_refiner = RefinerModel(api_key=config['OPEN_AI_API_KEY'])\n",
    "corpus_refiner = RefinerModel(api_key=config['OPEN_AI_API_KEY'])\n",
    "\n",
    "# Load the clean corpus text\n",
    "with open(\"../data/clean_content.txt\") as f:\n",
    "    corpus_text = f.read()\n",
    "\n",
    "# Number of links to consider\n",
    "K = 5\n",
    "\n",
    "# Declare trial number\n",
    "trial_number = 1\n",
    "\n",
    "# Select a query to use for the current trial\n",
    "query = \"Where to buy life insurance in Mississippi?\"\n",
    "\n",
    "# Submit the query to Google\n",
    "search_results = google_interactor.search_google(query=query, num_results=10)\n",
    "    \n",
    "# Store the response\n",
    "storage_manager.save_to_folder(\"InitialGoogleResponses\", search_results, f\"{trial_number}.json\")\n",
    "\n",
    "# Retrieve the stored response\n",
    "search_results = storage_manager.load_from_folder(\"InitialGoogleResponses\", f\"{trial_number}.json\")\n",
    "\n",
    "\n",
    "raw_text_from_html = []\n",
    "items = search_results['items']\n",
    "\n",
    "# For each item of raw text that was stored ...\n",
    "for item in search_results['items'][:K]:\n",
    "    link = item['link']\n",
    "\n",
    "    # Fet the HTML associated with the link\n",
    "    response = requests.get(link)\n",
    "\n",
    "    # Get the raw text associated with the HTML\n",
    "    parsed_text = HTMLParser.parse_html(response.content)\n",
    "\n",
    "    # Store the raw text from the HTML\n",
    "    raw_text_from_html.append({\"link\" : link, \"raw_text\" : parsed_text})\n",
    "    \n",
    "storage_manager.save_to_folder(\"RawTextFromHTML\", raw_text_from_html, f\"{trial_number}.json\")"
   ]
  },
  {
   "cell_type": "code",
   "execution_count": 2,
   "id": "0eb74a04-870f-46f0-9f0b-8277a124a124",
   "metadata": {},
   "outputs": [
    {
     "name": "stdout",
     "output_type": "stream",
     "text": [
      "Data loaded from ../data/RawTextFromHTML/1.json\n"
     ]
    },
    {
     "data": {
      "text/plain": [
       "[{'id': 'chatcmpl-AWp8QS26E5CnZLDtuCLzkaIsfbXML',\n",
       "  'choices': [{'finish_reason': 'stop',\n",
       "    'index': 0,\n",
       "    'logprobs': None,\n",
       "    'message': {'content': \"To buy life insurance in Mississippi, you can consider the following steps:\\n\\n1. **Visit the Mississippi Insurance Department's Official Website**: They provide valuable resources and information about life insurance, including purchasing tips and coverage options.\\n   \\n2. **Search for Licensed Insurance Agents**: Use the licensing search feature on the Mississippi Insurance Department's website to find licensed insurance agents in your area who can assist you in purchasing life insurance.\\n\\n3. **Shop Around**: It's recommended to compare different insurance policies and talk to various agents to find the best coverage and rates tailored to your needs.\\n\\n4. **Contact Consumer Assistance**: For further guidance, you can call the toll-free Mississippi Insurance Department Consumer Help Line at 800-562-2957 or 601-359-2453.\\n\\nThese resources will help you navigate your options for purchasing life insurance in Mississippi.\",\n",
       "     'refusal': None,\n",
       "     'role': 'assistant',\n",
       "     'audio': None,\n",
       "     'function_call': None,\n",
       "     'tool_calls': None}}],\n",
       "  'created': 1732386422,\n",
       "  'model': 'gpt-4o-mini-2024-07-18',\n",
       "  'object': 'chat.completion',\n",
       "  'service_tier': None,\n",
       "  'system_fingerprint': 'fp_0705bf87c0',\n",
       "  'usage': {'completion_tokens': 171,\n",
       "   'prompt_tokens': 2761,\n",
       "   'total_tokens': 2932,\n",
       "   'completion_tokens_details': {'accepted_prediction_tokens': 0,\n",
       "    'audio_tokens': 0,\n",
       "    'reasoning_tokens': 0,\n",
       "    'rejected_prediction_tokens': 0},\n",
       "   'prompt_tokens_details': {'audio_tokens': 0, 'cached_tokens': 2560}}},\n",
       " {'id': 'chatcmpl-AWp8SURo54KcVgmS41Wg7oEDaN28Q',\n",
       "  'choices': [{'finish_reason': 'stop',\n",
       "    'index': 0,\n",
       "    'logprobs': None,\n",
       "    'message': {'content': 'To buy life insurance in Mississippi, you can consider the following options:\\n\\n1. **Local Insurance Agents**: Contact agents in your area who represent various insurance companies.\\n2. **Insurance Companies**: Reach out directly to major life insurance providers like State Farm, Allstate, or Prudential.\\n3. **Online Platforms**: Use insurance comparison websites to compare quotes and policies offered in Mississippi.\\n\\nMake sure to research and evaluate your options to find the best policy for your needs.',\n",
       "     'refusal': None,\n",
       "     'role': 'assistant',\n",
       "     'audio': None,\n",
       "     'function_call': None,\n",
       "     'tool_calls': None}}],\n",
       "  'created': 1732386424,\n",
       "  'model': 'gpt-4o-mini-2024-07-18',\n",
       "  'object': 'chat.completion',\n",
       "  'service_tier': None,\n",
       "  'system_fingerprint': 'fp_0705bf87c0',\n",
       "  'usage': {'completion_tokens': 96,\n",
       "   'prompt_tokens': 44,\n",
       "   'total_tokens': 140,\n",
       "   'completion_tokens_details': {'accepted_prediction_tokens': 0,\n",
       "    'audio_tokens': 0,\n",
       "    'reasoning_tokens': 0,\n",
       "    'rejected_prediction_tokens': 0},\n",
       "   'prompt_tokens_details': {'audio_tokens': 0, 'cached_tokens': 0}}},\n",
       " {'id': 'chatcmpl-AWp8UZGSLDLvZCCHOFEr62o4KeHHR',\n",
       "  'choices': [{'finish_reason': 'stop',\n",
       "    'index': 0,\n",
       "    'logprobs': None,\n",
       "    'message': {'content': \"To buy life insurance in Mississippi, you can contact licensed insurance companies in the state or visit the Mississippi Insurance Department's official website for guidance. They provide resources on purchasing the right coverage and information about life insurance policies.\\n\\nAdditionally, the Mississippi Insurance Department offers a Life Insurance Policy Locator Service, which helps residents locate lost or unclaimed life insurance policies and annuities for deceased individuals. You can submit a search request through their website.\\n\\nFor more information on life insurance options available in Mississippi, you can visit the Mississippi Insurance Department's website or call them at 800-562-2957.\",\n",
       "     'refusal': None,\n",
       "     'role': 'assistant',\n",
       "     'audio': None,\n",
       "     'function_call': None,\n",
       "     'tool_calls': None}}],\n",
       "  'created': 1732386426,\n",
       "  'model': 'gpt-4o-mini-2024-07-18',\n",
       "  'object': 'chat.completion',\n",
       "  'service_tier': None,\n",
       "  'system_fingerprint': 'fp_0705bf87c0',\n",
       "  'usage': {'completion_tokens': 118,\n",
       "   'prompt_tokens': 2288,\n",
       "   'total_tokens': 2406,\n",
       "   'completion_tokens_details': {'accepted_prediction_tokens': 0,\n",
       "    'audio_tokens': 0,\n",
       "    'reasoning_tokens': 0,\n",
       "    'rejected_prediction_tokens': 0},\n",
       "   'prompt_tokens_details': {'audio_tokens': 0, 'cached_tokens': 0}}},\n",
       " {'id': 'chatcmpl-AWp8WK430whIKDn6n7sujiJyh4yUA',\n",
       "  'choices': [{'finish_reason': 'stop',\n",
       "    'index': 0,\n",
       "    'logprobs': None,\n",
       "    'message': {'content': 'To buy life insurance in Mississippi, consider the following options:\\n\\n1. **Life Insurance Agents or Companies**: Seek assistance from licensed life insurance agents or companies. They can help assess your needs and guide you through various policy options.\\n\\n2. **Mississippi Insurance Department**: Visit their website for resources, guides, and information related to life insurance and annuities. They can provide assistance and answer inquiries regarding policies.\\n\\n3. **Online Research**: Utilize the internet to compare policies, review different insurance providers, and understand the types of life insurance available.\\n\\nFor direct assistance, you can contact the Mississippi Insurance Department via:\\n- Main Switchboard: (601) 359-3569\\n- Consumers Only Toll-Free: 800-562-2957\\n\\nIt is important to review your insurance needs, compare multiple policies, and ensure that you understand the terms before making a purchase.',\n",
       "     'refusal': None,\n",
       "     'role': 'assistant',\n",
       "     'audio': None,\n",
       "     'function_call': None,\n",
       "     'tool_calls': None}}],\n",
       "  'created': 1732386428,\n",
       "  'model': 'gpt-4o-mini-2024-07-18',\n",
       "  'object': 'chat.completion',\n",
       "  'service_tier': None,\n",
       "  'system_fingerprint': 'fp_0705bf87c0',\n",
       "  'usage': {'completion_tokens': 178,\n",
       "   'prompt_tokens': 4712,\n",
       "   'total_tokens': 4890,\n",
       "   'completion_tokens_details': {'accepted_prediction_tokens': 0,\n",
       "    'audio_tokens': 0,\n",
       "    'reasoning_tokens': 0,\n",
       "    'rejected_prediction_tokens': 0},\n",
       "   'prompt_tokens_details': {'audio_tokens': 0, 'cached_tokens': 4480}}},\n",
       " {'id': 'chatcmpl-AWp8YR1hY3dmb56Dmla1Tt9i1LAld',\n",
       "  'choices': [{'finish_reason': 'stop',\n",
       "    'index': 0,\n",
       "    'logprobs': None,\n",
       "    'message': {'content': 'To buy life insurance in Mississippi, you can contact Minnesota Life Insurance (Securian) at (888) 658-0193 or visit their website for more information and online beneficiary management.',\n",
       "     'refusal': None,\n",
       "     'role': 'assistant',\n",
       "     'audio': None,\n",
       "     'function_call': None,\n",
       "     'tool_calls': None}}],\n",
       "  'created': 1732386430,\n",
       "  'model': 'gpt-4o-mini-2024-07-18',\n",
       "  'object': 'chat.completion',\n",
       "  'service_tier': None,\n",
       "  'system_fingerprint': 'fp_3de1288069',\n",
       "  'usage': {'completion_tokens': 39,\n",
       "   'prompt_tokens': 491,\n",
       "   'total_tokens': 530,\n",
       "   'completion_tokens_details': {'accepted_prediction_tokens': 0,\n",
       "    'audio_tokens': 0,\n",
       "    'reasoning_tokens': 0,\n",
       "    'rejected_prediction_tokens': 0},\n",
       "   'prompt_tokens_details': {'audio_tokens': 0, 'cached_tokens': 0}}}]"
      ]
     },
     "execution_count": 2,
     "metadata": {},
     "output_type": "execute_result"
    }
   ],
   "source": [
    "raw_text_from_html = storage_manager.load_from_folder(\"RawTextFromHTML\", f\"{trial_number}.json\")\n",
    "\n",
    "website_refiner_responses = []\n",
    "# For each element of raw text that was stored ...\n",
    "for current_item in raw_text_from_html:\n",
    "    \n",
    "    link = current_item['link']\n",
    "    raw_text = current_item['raw_text']   \n",
    "\n",
    "    \n",
    "    response_from_website_refiner = website_refiner.refine_text(raw_text=raw_text, query=query)\n",
    "    \n",
    "    if response_from_website_refiner:\n",
    "        website_refiner_responses.append(response_from_website_refiner)\n",
    "    else:\n",
    "        print(\"Failed to refine text.\")\n",
    "\n",
    "website_refiner_responses"
   ]
  },
  {
   "cell_type": "code",
   "execution_count": 3,
   "id": "9e906474-df3d-4753-a091-f674d4144b63",
   "metadata": {},
   "outputs": [
    {
     "name": "stdout",
     "output_type": "stream",
     "text": [
      "Data saved to ../data/WebsiteRefinerModelResponses/1.json\n"
     ]
    }
   ],
   "source": [
    "storage_manager.save_to_folder(\"WebsiteRefinerModelResponses\", website_refiner_responses, f\"{trial_number}.json\")"
   ]
  },
  {
   "cell_type": "code",
   "execution_count": 4,
   "id": "6a68fed5-d606-46ab-8fe8-d05b5d0d3bf1",
   "metadata": {},
   "outputs": [
    {
     "data": {
      "text/plain": [
       "{'id': 'chatcmpl-AWp8fdXGZ6G3Tvcs04GNCXeJfeKuC',\n",
       " 'choices': [{'finish_reason': 'stop',\n",
       "   'index': 0,\n",
       "   'logprobs': None,\n",
       "   'message': {'content': 'You can buy life insurance in Mississippi from Southern Farm Bureau Life Insurance Company. They offer a variety of life insurance products, including:\\n\\n1. **Permanent Life Insurance**: Whole life, single premium, modified premium, and adjustable premium options.\\n2. **Term Life Insurance**: Available in 10, 20, and 30-year intervals.\\n\\n### Contact Information:\\n- **Address**: 1401 Livingston Lane, Jackson, MS 39213\\n- **Phone**: \\n  - Customer Service: 601-981-7422\\n  - Death Claims: 1-800-562-0919\\n  - Policy Service: 1-800-457-9611\\n- **Website**: [sfbli.com](https://www.sfbli.com) \\n\\nSouthern Farm Bureau Life Insurance Company is known for competitive products and superior customer support.',\n",
       "    'refusal': None,\n",
       "    'role': 'assistant',\n",
       "    'audio': None,\n",
       "    'function_call': None,\n",
       "    'tool_calls': None}}],\n",
       " 'created': 1732386437,\n",
       " 'model': 'gpt-4o-mini-2024-07-18',\n",
       " 'object': 'chat.completion',\n",
       " 'service_tier': None,\n",
       " 'system_fingerprint': 'fp_0705bf87c0',\n",
       " 'usage': {'completion_tokens': 177,\n",
       "  'prompt_tokens': 559,\n",
       "  'total_tokens': 736,\n",
       "  'completion_tokens_details': {'accepted_prediction_tokens': 0,\n",
       "   'audio_tokens': 0,\n",
       "   'reasoning_tokens': 0,\n",
       "   'rejected_prediction_tokens': 0},\n",
       "  'prompt_tokens_details': {'audio_tokens': 0, 'cached_tokens': 0}}}"
      ]
     },
     "execution_count": 4,
     "metadata": {},
     "output_type": "execute_result"
    }
   ],
   "source": [
    "# Use the first raw text for refinement\n",
    "# response_from_website_refiner = website_refiner.refine_text(raw_text=raw_text, query=query)\n",
    "\n",
    "response_from_corpus_refiner = corpus_refiner.refine_text(raw_text=corpus_text, query=query)\n",
    "response_from_corpus_refiner"
   ]
  },
  {
   "cell_type": "code",
   "execution_count": 5,
   "id": "9482da2e-df21-4a72-90ef-f85330b6c327",
   "metadata": {},
   "outputs": [
    {
     "name": "stdout",
     "output_type": "stream",
     "text": [
      "Data saved to ../data/CorpusRefinerModelResponses/1.json\n"
     ]
    }
   ],
   "source": [
    "storage_manager.save_to_folder(\"CorpusRefinerModelResponses\", response_from_corpus_refiner, f\"{trial_number}.json\")"
   ]
  },
  {
   "cell_type": "code",
   "execution_count": null,
   "id": "21c41fa5-4d93-4ea5-8c0a-8082927ed84c",
   "metadata": {},
   "outputs": [],
   "source": []
  }
 ],
 "metadata": {
  "kernelspec": {
   "display_name": "perplexity-clone",
   "language": "python",
   "name": "perplexity-clone"
  },
  "language_info": {
   "codemirror_mode": {
    "name": "ipython",
    "version": 3
   },
   "file_extension": ".py",
   "mimetype": "text/x-python",
   "name": "python",
   "nbconvert_exporter": "python",
   "pygments_lexer": "ipython3",
   "version": "3.13.0"
  }
 },
 "nbformat": 4,
 "nbformat_minor": 5
}
