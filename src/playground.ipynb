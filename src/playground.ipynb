{
 "cells": [
  {
   "cell_type": "code",
   "execution_count": 1,
   "id": "fc255b2d-df36-4616-9403-221376570be3",
   "metadata": {},
   "outputs": [
    {
     "name": "stdout",
     "output_type": "stream",
     "text": [
      "Data saved to ../data/InitialGoogleResponses/2.json\n",
      "Data loaded from ../data/InitialGoogleResponses/2.json\n",
      "Data saved to ../data/RawTextFromHTML/2.json\n",
      "Data loaded from ../data/RawTextFromHTML/2.json\n",
      "Data saved to ../data/WebsiteRefinerModelResponses/2.json\n",
      "Data saved to ../data/CorpusRefinerModelResponses/2.json\n"
     ]
    }
   ],
   "source": [
    "from dotenv import dotenv_values\n",
    "import requests\n",
    "\n",
    "from helpers.google_interactor import GoogleInteractor\n",
    "from helpers.html_parser import HTMLParser \n",
    "from helpers.storage_manager import StorageManager\n",
    "from helpers.refiner_model import RefinerModel\n",
    "from helpers.improver_model import ImproverModel\n",
    "from helpers.writer_citer_model import WriterCiterModel\n",
    "\n",
    "\n",
    "\n",
    "# Load environment variables\n",
    "config = dotenv_values(\"../.env\")\n",
    "google_api_key = config['GOOGLE_API_KEY']\n",
    "search_engine_id = config['SEARCH_ENGINE_ID']\n",
    "\n",
    "# Instantiate helpers\n",
    "google_interactor = GoogleInteractor(api_key=google_api_key, search_engine_id=search_engine_id)\n",
    "storage_manager = StorageManager(\"../data/\")    \n",
    "website_refiner = RefinerModel(api_key=config['OPEN_AI_API_KEY'])\n",
    "corpus_refiner = RefinerModel(api_key=config['OPEN_AI_API_KEY'])\n",
    "improver_model = ImproverModel(api_key=config['OPEN_AI_API_KEY'])\n",
    "\n",
    "\n",
    "# Load the clean corpus text\n",
    "with open(\"../data/clean_content.txt\") as f:\n",
    "    corpus_text = f.read()\n",
    "\n",
    "# Number of links to consider\n",
    "K = 5\n",
    "\n",
    "# Declare trial number\n",
    "trial_number = 2\n",
    "\n",
    "# Select a query to use for the current trial\n",
    "query = \"What products are offered by Southern Farm Bureau Life Insurance Company?\"\n",
    "\n",
    "# Submit the query to Google\n",
    "search_results = google_interactor.search_google(query=query, num_results=10)\n",
    "    \n",
    "# Store the response\n",
    "storage_manager.save_to_folder(\"InitialGoogleResponses\", search_results, f\"{trial_number}.json\")\n",
    "\n",
    "\n",
    "\"\"\"\n",
    "Get Raw Text from the HTML associated with the Google Links\n",
    "\"\"\"\n",
    "\n",
    "# Retrieve the stored response\n",
    "search_results = storage_manager.load_from_folder(\"InitialGoogleResponses\", f\"{trial_number}.json\")\n",
    "\n",
    "raw_text_from_html = []\n",
    "items = search_results['items']\n",
    "\n",
    "# For each item of raw text that was stored ...\n",
    "for item in search_results['items'][:K]:\n",
    "    link = item['link']\n",
    "\n",
    "    # Fet the HTML associated with the link\n",
    "    response = requests.get(link)\n",
    "\n",
    "    # Get the raw text associated with the HTML\n",
    "    parsed_text = HTMLParser.parse_html(response.content)\n",
    "\n",
    "    # Store the raw text from the HTML\n",
    "    raw_text_from_html.append({\"link\" : link, \"raw_text\" : parsed_text})\n",
    "    \n",
    "storage_manager.save_to_folder(\"RawTextFromHTML\", raw_text_from_html, f\"{trial_number}.json\")\n",
    "\n",
    "\n",
    "\"\"\"\n",
    "Get the refined text from the raw text\n",
    "\"\"\"\n",
    "\n",
    "raw_text_from_html = storage_manager.load_from_folder(\"RawTextFromHTML\", f\"{trial_number}.json\")\n",
    "\n",
    "website_refiner_responses = []\n",
    "# For each element of raw text that was stored ...\n",
    "for current_item in raw_text_from_html:\n",
    "    \n",
    "    link = current_item['link']\n",
    "    raw_text = current_item['raw_text']   \n",
    "\n",
    "    \n",
    "    response_from_website_refiner = website_refiner.refine_text(raw_text=raw_text, query=query)\n",
    "    \n",
    "    if response_from_website_refiner:\n",
    "        response_from_website_refiner['link'] = link\n",
    "        website_refiner_responses.append(response_from_website_refiner)\n",
    "    else:\n",
    "        print(\"Failed to refine text.\")\n",
    "\n",
    "storage_manager.save_to_folder(\"WebsiteRefinerModelResponses\", website_refiner_responses, f\"{trial_number}.json\")\n",
    "\n",
    "\n",
    "\"\"\"\n",
    "Filter the corpus to information that may be relevant to the query\n",
    "\"\"\"\n",
    "\n",
    "response_from_corpus_refiner = corpus_refiner.refine_text(raw_text=corpus_text, query=query)\n",
    "storage_manager.save_to_folder(\"CorpusRefinerModelResponses\", response_from_corpus_refiner, f\"{trial_number}.json\")"
   ]
  },
  {
   "cell_type": "code",
   "execution_count": 2,
   "id": "afae59b5-6f04-4f9b-8a42-77a0a6edd9bc",
   "metadata": {},
   "outputs": [
    {
     "name": "stdout",
     "output_type": "stream",
     "text": [
      "Data loaded from ../data/WebsiteRefinerModelResponses/2.json\n",
      "Data loaded from ../data/CorpusRefinerModelResponses/2.json\n"
     ]
    },
    {
     "data": {
      "text/plain": [
       "'Southern Farm Bureau Life Insurance Company offers the following products:\\n\\n1. **Life Insurance Products**:\\n   - **Permanent Life Insurance**: \\n     - Whole life\\n     - Single premium\\n     - Modified premium\\n     - Adjustable premium\\n   - **Term Life Insurance**: Available in 10, 20, and 30-year intervals.\\n\\n2. **Financial Planning Services**:\\n   - Estate and retirement planning\\n   - Tax-qualified and non-qualified retirement plans\\n   - Banking services (certificates of deposit, money market accounts, health savings accounts, loans)\\n\\n3. **Additional Services**:\\n   - Customized policies for wealth transfer, debt repayment, and daily living costs.\\n\\nThe company operates in 11 states, emphasizing competitive products, superior customer service, and ethical practices.'"
      ]
     },
     "execution_count": 2,
     "metadata": {},
     "output_type": "execute_result"
    }
   ],
   "source": [
    "\"\"\"\n",
    "Improve the text from the SFBLIC site\n",
    "\"\"\"\n",
    "\n",
    "# Get the refined text from the website\n",
    "website_refiner_responses = storage_manager.load_from_folder(\"WebsiteRefinerModelResponses\", f\"{trial_number}.json\")\n",
    "sfblic_response = [response for response in website_refiner_responses if response['link'] == 'https://www.sfbli.com/'][0]\n",
    "refined_text_from_website = sfblic_response['choices'][0]['message']['content']\n",
    "\n",
    "# Get the refined text from the corpus\n",
    "response_from_corpus_refiner = storage_manager.load_from_folder(\"CorpusRefinerModelResponses\", f\"{trial_number}.json\")\n",
    "refined_text_from_corpus = response_from_corpus_refiner['choices'][0]['message']['content']\n",
    "\n",
    "\n",
    "# Generate improved text\n",
    "improved_text = improver_model.improve_text(\n",
    "    query=query,\n",
    "    refined_text_from_website=refined_text_from_website,\n",
    "    refined_text_from_corpus=refined_text_from_corpus\n",
    ")\n",
    "\n",
    "if improved_text:\n",
    "    print(\"Improved Text generated...\")\n",
    "    \n",
    "else:\n",
    "    print(\"Failed to improve text.\")"
   ]
  },
  {
   "cell_type": "code",
   "execution_count": 6,
   "id": "e70740c5-3235-4f7c-9c49-ebadb4bcbab6",
   "metadata": {},
   "outputs": [
    {
     "name": "stdout",
     "output_type": "stream",
     "text": [
      "Data saved to ../data/ImproverModelResponses/2.json\n"
     ]
    }
   ],
   "source": [
    "storage_manager.save_to_folder(\"ImproverModelResponses\", improved_text, f\"{trial_number}.json\")"
   ]
  },
  {
   "cell_type": "code",
   "execution_count": 8,
   "id": "79412bb0-d498-454a-9cb4-1687b80651c0",
   "metadata": {},
   "outputs": [
    {
     "name": "stdout",
     "output_type": "stream",
     "text": [
      "Southern Farm Bureau Life Insurance Company offers a range of products and services focused on providing competitive options for its policyholders. Their offerings include:\n",
      "\n",
      "1. **Life Insurance Products**:\n",
      "   - **Permanent Life Insurance**: Includes whole life, single premium, modified premium, and adjustable premium policies.\n",
      "   - **Term Life Insurance**: Available in terms of 10, 20, and 30 years.\n",
      "\n",
      "2. **Financial Planning Services**:\n",
      "   - Estate and retirement planning\n",
      "   - Tax-qualified and non-qualified retirement plans\n",
      "   - Banking services such as certificates of deposit, money market accounts, health savings accounts, and loans.\n",
      "\n",
      "3. **Additional Services**:\n",
      "   - Customized policies designed for wealth transfer, debt repayment, and covering daily living costs.\n",
      "\n",
      "The company operates in 11 states, prioritizing competitive products, superior customer service, and ethical practices. For more detailed information on specific products, contacting an agent or visiting the company's official website is recommended.\n"
     ]
    }
   ],
   "source": [
    "improved_version = improved_text['choices'][0]['message']['content']\n",
    "print(improved_version)"
   ]
  },
  {
   "cell_type": "code",
   "execution_count": 12,
   "id": "e7b3d8e4-81e5-4641-9b83-feab67d44dd6",
   "metadata": {},
   "outputs": [
    {
     "name": "stdout",
     "output_type": "stream",
     "text": [
      "Data loaded from ../data/WebsiteRefinerModelResponses/2.json\n"
     ]
    },
    {
     "data": {
      "text/plain": [
       "[{'link': 'https://www.sfbli.com/',\n",
       "  'information': 'Southern Farm Bureau Life Insurance Company offers a range of life insurance products, focusing on competitive offerings for its policyholders. Specific products mentioned include:\\n\\n- Life Insurance\\n- Health Plans\\n- Behavioral Health Plans\\n\\nFor detailed product offerings, it is advisable to contact an agent or access their official website.'},\n",
       " {'link': 'https://w3.sfbcic.com/',\n",
       "  'information': 'The provided text does not contain relevant information regarding the products offered by Southern Farm Bureau Life Insurance Company. Please provide a different source or query for assistance.'},\n",
       " {'link': 'https://www.sfbli.com/loginregister',\n",
       "  'information': 'Southern Farm Bureau Life Insurance Company offers a range of life insurance products and services. Their mission focuses on providing competitive products and superior customer service to policyholders. Specific product offerings include:\\n\\n- Life insurance policies\\n- Health plans\\n- Behavioral health plans\\n\\nFor more details, you may need to consult directly with the company or visit their website.'},\n",
       " {'link': 'https://www.scfbins.com/insurance/other-products/life-insurance',\n",
       "  'information': 'Southern Farm Bureau Life Insurance Company offers the following products:\\n\\n- Life Insurance\\n- Farm Insurance\\n- Business Insurance\\n- Umbrella Insurance\\n- Health Insurance\\n- Financial Services\\n- Retirement Planning\\n- Estate Planning\\n- Claims assistance\\n\\nThese products aim to provide financial protection and tailored solutions for individuals and families.'},\n",
       " {'link': 'https://www.linkedin.com/company/southern-farm-bureau',\n",
       "  'information': 'Southern Farm Bureau Life Insurance Company offers a range of insurance products, including:\\n\\n1. **Life Insurance** - Various policies to provide financial protection for beneficiaries.\\n2. **Annuities** - Investment products for retirement savings and income.\\n3. **Health Insurance** - Options for medical coverage and related health benefits. \\n\\nPlease check their official resources for the most up-to-date product offerings.'}]"
      ]
     },
     "execution_count": 12,
     "metadata": {},
     "output_type": "execute_result"
    }
   ],
   "source": [
    "website_refiner_model_responses = storage_manager.load_from_folder(\"WebsiteRefinerModelResponses\", f\"{trial_number}.json\")\n",
    "\n",
    "unmodified_set_of_reference_material =  [\n",
    "    {\n",
    "        \"link\" : item['link'],\n",
    "        \"information\" : item['choices'][0]['message']['content']\n",
    "    }\n",
    "    for item in website_refiner_model_responses\n",
    "]\n",
    "\n",
    "unmodified_set_of_reference_material\n"
   ]
  },
  {
   "cell_type": "code",
   "execution_count": 13,
   "id": "c873f55a-ea58-4f4f-86f4-ce3cff979bff",
   "metadata": {},
   "outputs": [],
   "source": [
    "\n",
    "\n",
    "# Initialize WriterCiterModel\n",
    "writer_citer = WriterCiterModel(api_key=config['OPEN_AI_API_KEY'])\n",
    "\n",
    "# Generate a cited response\n",
    "cited_response = writer_citer.generate_cited_response(\n",
    "    rephrased_query=query,\n",
    "    set_of_reference_query=unmodified_set_of_reference_material\n",
    ")\n",
    "\n",
    "if cited_response:\n",
    "    print(\"Cited Response:\")\n",
    "    print(cited_response)\n",
    "else:\n",
    "    print(\"Failed to generate cited response.\")\n",
    "\n"
   ]
  },
  {
   "cell_type": "code",
   "execution_count": 14,
   "id": "4cf9079f-0daa-453c-9c43-f6a9053461e1",
   "metadata": {},
   "outputs": [
    {
     "name": "stdout",
     "output_type": "stream",
     "text": [
      "Cited Response:\n",
      "{'id': 'chatcmpl-AWqfwRIPPveotXd0luY8qK0cYc1hU', 'choices': [{'finish_reason': 'stop', 'index': 0, 'logprobs': None, 'message': {'content': 'Southern Farm Bureau Life Insurance Company offers a variety of insurance products, primarily focusing on life insurance, health plans, and behavioral health plans[1][3]. Additionally, they provide products related to annuities for retirement savings and income[5]. For a broader range of offerings, their portfolio also includes farm insurance, business insurance, umbrella insurance, financial services, retirement planning, and estate planning[4]. To obtain detailed information on specific products and services, it is recommended to consult directly with the company or access their official website[1][3].', 'refusal': None, 'role': 'assistant', 'audio': None, 'function_call': None, 'tool_calls': None}}], 'created': 1732392344, 'model': 'gpt-4o-2024-08-06', 'object': 'chat.completion', 'service_tier': None, 'system_fingerprint': 'fp_831e067d82', 'usage': {'completion_tokens': 110, 'prompt_tokens': 617, 'total_tokens': 727, 'completion_tokens_details': {'accepted_prediction_tokens': 0, 'audio_tokens': 0, 'reasoning_tokens': 0, 'rejected_prediction_tokens': 0}, 'prompt_tokens_details': {'audio_tokens': 0, 'cached_tokens': 0}}}\n"
     ]
    }
   ],
   "source": []
  },
  {
   "cell_type": "code",
   "execution_count": 18,
   "id": "de3f7fed-205f-4c45-8e39-42ebb0358b6a",
   "metadata": {},
   "outputs": [
    {
     "data": {
      "text/plain": [
       "[{'link': 'https://www.linkedin.com/company/southern-farm-bureau',\n",
       "  'information': \"Southern Farm Bureau Life Insurance Company offers a range of products and services focused on providing competitive options for its policyholders. Their offerings include:\\n\\n1. **Life Insurance Products**:\\n   - **Permanent Life Insurance**: Includes whole life, single premium, modified premium, and adjustable premium policies.\\n   - **Term Life Insurance**: Available in terms of 10, 20, and 30 years.\\n\\n2. **Financial Planning Services**:\\n   - Estate and retirement planning\\n   - Tax-qualified and non-qualified retirement plans\\n   - Banking services such as certificates of deposit, money market accounts, health savings accounts, and loans.\\n\\n3. **Additional Services**:\\n   - Customized policies designed for wealth transfer, debt repayment, and covering daily living costs.\\n\\nThe company operates in 11 states, prioritizing competitive products, superior customer service, and ethical practices. For more detailed information on specific products, contacting an agent or visiting the company's official website is recommended.\"},\n",
       " {'link': 'https://w3.sfbcic.com/',\n",
       "  'information': 'The provided text does not contain relevant information regarding the products offered by Southern Farm Bureau Life Insurance Company. Please provide a different source or query for assistance.'},\n",
       " {'link': 'https://www.sfbli.com/loginregister',\n",
       "  'information': 'Southern Farm Bureau Life Insurance Company offers a range of life insurance products and services. Their mission focuses on providing competitive products and superior customer service to policyholders. Specific product offerings include:\\n\\n- Life insurance policies\\n- Health plans\\n- Behavioral health plans\\n\\nFor more details, you may need to consult directly with the company or visit their website.'},\n",
       " {'link': 'https://www.scfbins.com/insurance/other-products/life-insurance',\n",
       "  'information': 'Southern Farm Bureau Life Insurance Company offers the following products:\\n\\n- Life Insurance\\n- Farm Insurance\\n- Business Insurance\\n- Umbrella Insurance\\n- Health Insurance\\n- Financial Services\\n- Retirement Planning\\n- Estate Planning\\n- Claims assistance\\n\\nThese products aim to provide financial protection and tailored solutions for individuals and families.'},\n",
       " {'link': 'https://www.linkedin.com/company/southern-farm-bureau',\n",
       "  'information': 'Southern Farm Bureau Life Insurance Company offers a range of insurance products, including:\\n\\n1. **Life Insurance** - Various policies to provide financial protection for beneficiaries.\\n2. **Annuities** - Investment products for retirement savings and income.\\n3. **Health Insurance** - Options for medical coverage and related health benefits. \\n\\nPlease check their official resources for the most up-to-date product offerings.'}]"
      ]
     },
     "execution_count": 18,
     "metadata": {},
     "output_type": "execute_result"
    }
   ],
   "source": [
    "new_set_of_reference_material = []\n",
    "\n",
    "for item in unmodified_set_of_reference_material:\n",
    "    if item['link'] == 'https://www.sfbli.com/':\n",
    "        new_set_of_reference_material.append({\"link\" : link, \"information\" : improved_version})\n",
    "    else:\n",
    "        new_set_of_reference_material.append(item)\n",
    "\n",
    "new_set_of_reference_material\n",
    "        "
   ]
  },
  {
   "cell_type": "code",
   "execution_count": 19,
   "id": "61a10041-477d-4d63-99ac-40a204106644",
   "metadata": {},
   "outputs": [
    {
     "name": "stdout",
     "output_type": "stream",
     "text": [
      "Cited Response:\n",
      "{'id': 'chatcmpl-AWqjgOYPfaf6z9kFhdfgWLl9JTM5n', 'choices': [{'finish_reason': 'stop', 'index': 0, 'logprobs': None, 'message': {'content': 'Southern Farm Bureau Life Insurance Company provides a variety of products and services designed to meet the needs of its policyholders. Their product offerings include a range of life insurance policies, featuring both permanent life insurance—such as whole life, single premium, modified premium, and adjustable premium policies—and term life insurance available in 10, 20, and 30-year terms [1]. Additionally, they offer health and behavioral health plans [3].\\n\\nThe company also provides various financial planning services including estate and retirement planning, tax-qualified and non-qualified retirement plans, and banking services such as certificates of deposit, money market accounts, health savings accounts, and loans [1]. Furthermore, they offer products like annuities for retirement savings and income, and have solutions for wealth transfer, debt repayment, and daily living cost coverage [1][4].\\n\\nAside from these, Southern Farm Bureau Life Insurance Company also supplies insurance for farms, businesses, and offers umbrella insurance [4]. For more specific and detailed information on their products, consulting directly with the company or visiting their official website is advised [1][3][4].', 'refusal': None, 'role': 'assistant', 'audio': None, 'function_call': None, 'tool_calls': None}}], 'created': 1732392576, 'model': 'gpt-4o-2024-08-06', 'object': 'chat.completion', 'service_tier': None, 'system_fingerprint': 'fp_831e067d82', 'usage': {'completion_tokens': 220, 'prompt_tokens': 766, 'total_tokens': 986, 'completion_tokens_details': {'accepted_prediction_tokens': 0, 'audio_tokens': 0, 'reasoning_tokens': 0, 'rejected_prediction_tokens': 0}, 'prompt_tokens_details': {'audio_tokens': 0, 'cached_tokens': 0}}}\n"
     ]
    }
   ],
   "source": [
    "# Generate a cited response\n",
    "cited_response = writer_citer.generate_cited_response(\n",
    "    rephrased_query=query,\n",
    "    set_of_reference_query=new_set_of_reference_material\n",
    ")\n",
    "\n",
    "if cited_response:\n",
    "    print(\"Cited Response:\")\n",
    "    print(cited_response)\n",
    "else:\n",
    "    print(\"Failed to generate cited response.\")"
   ]
  },
  {
   "cell_type": "code",
   "execution_count": null,
   "id": "0d7e2c66-1012-4bd2-8093-13b09b3f94a7",
   "metadata": {},
   "outputs": [],
   "source": []
  }
 ],
 "metadata": {
  "kernelspec": {
   "display_name": "perplexity-clone",
   "language": "python",
   "name": "perplexity-clone"
  },
  "language_info": {
   "codemirror_mode": {
    "name": "ipython",
    "version": 3
   },
   "file_extension": ".py",
   "mimetype": "text/x-python",
   "name": "python",
   "nbconvert_exporter": "python",
   "pygments_lexer": "ipython3",
   "version": "3.13.0"
  }
 },
 "nbformat": 4,
 "nbformat_minor": 5
}
