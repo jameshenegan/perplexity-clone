{
 "cells": [
  {
   "cell_type": "code",
   "execution_count": 1,
   "id": "fc255b2d-df36-4616-9403-221376570be3",
   "metadata": {},
   "outputs": [],
   "source": [
    "from dotenv import dotenv_values\n",
    "import requests\n",
    "\n",
    "from helpers.google_interactor import GoogleInteractor\n",
    "from helpers.html_parser import HTMLParser \n",
    "from helpers.storage_manager import StorageManager\n",
    "from helpers.refiner_model import RefinerModel\n",
    "from helpers.improver_model import ImproverModel\n",
    "from helpers.writer_citer_model import WriterCiterModel\n",
    "\n",
    "\n",
    "\"\"\"\n",
    "============================================\n",
    "Run through a single trial of the experiment\n",
    "============================================\n",
    "\"\"\"\n",
    "\n",
    "\"\"\"\n",
    "Set up\n",
    "\"\"\"\n",
    "\n",
    "# Number of links to consider\n",
    "K = 5\n",
    "\n",
    "# Declare trial number\n",
    "trial_number = 10\n",
    "\n",
    "# Select a query to use for the current trial\n",
    "query = \"How do I decide which type of life insurance is right for me?\"\n",
    "\n",
    "\"\"\"\n",
    "Configuration\n",
    "\"\"\"\n",
    "\n",
    "sfblic_link = \"https://www.sfbli.com/\"\n",
    "\n",
    "# Load environment variables\n",
    "config = dotenv_values(\"../.env\")\n",
    "google_api_key = config['GOOGLE_API_KEY']\n",
    "search_engine_id = config['SEARCH_ENGINE_ID']\n",
    "\n",
    "# Instantiate helpers\n",
    "google_interactor = GoogleInteractor(api_key=google_api_key, search_engine_id=search_engine_id)\n",
    "storage_manager = StorageManager(\"../data/\")    \n",
    "website_refiner = RefinerModel(api_key=config['OPEN_AI_API_KEY'])\n",
    "corpus_refiner = RefinerModel(api_key=config['OPEN_AI_API_KEY'])\n",
    "improver_model = ImproverModel(api_key=config['OPEN_AI_API_KEY'])\n",
    "writer_citer = WriterCiterModel(api_key=config['OPEN_AI_API_KEY'])\n",
    "\n",
    "\n",
    "# Load the clean corpus text\n",
    "with open(\"../data/clean_content.txt\") as f:\n",
    "    corpus_text = f.read()"
   ]
  },
  {
   "cell_type": "code",
   "execution_count": 2,
   "id": "f2aef6cb-0a86-4452-9111-02a7bb3c4b6a",
   "metadata": {},
   "outputs": [
    {
     "name": "stdout",
     "output_type": "stream",
     "text": [
      "Data saved to ../data/InitialGoogleResponses/10.json\n"
     ]
    }
   ],
   "source": [
    "\"\"\"\n",
    "Submit the query to Google and store the results\n",
    "\"\"\"\n",
    "\n",
    "# Submit the query to Google\n",
    "search_results = google_interactor.search_google(query=query, num_results=10)\n",
    "    \n",
    "# Store the response\n",
    "storage_manager.save_to_folder(\"InitialGoogleResponses\", search_results, f\"{trial_number}.json\")"
   ]
  },
  {
   "cell_type": "code",
   "execution_count": 3,
   "id": "d3bced40-95f6-4969-9f8c-167d02caad3e",
   "metadata": {},
   "outputs": [
    {
     "data": {
      "text/plain": [
       "['https://content.naic.org/article/consumer-insight-what-type-life-insurance-right-you',\n",
       " 'https://www.iii.org/article/how-choose-right-type-life-insurance',\n",
       " 'https://www.investopedia.com/types-of-life-insurance-plans-and-how-to-decide-which-one-is-right-for-you-7482251',\n",
       " 'https://www.nerdwallet.com/article/insurance/types-of-life-insurance',\n",
       " 'https://www.progressive.com/answers/best-life-insurance-for-me/']"
      ]
     },
     "execution_count": 3,
     "metadata": {},
     "output_type": "execute_result"
    }
   ],
   "source": [
    "\"\"\"\n",
    "View links\n",
    "\"\"\"\n",
    "\n",
    "top_k_links = [item['link'] for item in search_results['items']][:K]\n",
    "top_k_links"
   ]
  },
  {
   "cell_type": "code",
   "execution_count": 4,
   "id": "a1d2fc29-ed81-4fd5-bbd3-a07c58527656",
   "metadata": {},
   "outputs": [
    {
     "data": {
      "text/plain": [
       "['https://content.naic.org/article/consumer-insight-what-type-life-insurance-right-you',\n",
       " 'https://www.iii.org/article/how-choose-right-type-life-insurance',\n",
       " 'https://www.investopedia.com/types-of-life-insurance-plans-and-how-to-decide-which-one-is-right-for-you-7482251',\n",
       " 'https://www.nerdwallet.com/article/insurance/types-of-life-insurance',\n",
       " 'https://www.sfbli.com/']"
      ]
     },
     "execution_count": 4,
     "metadata": {},
     "output_type": "execute_result"
    }
   ],
   "source": [
    "\"\"\"\n",
    "Check to see if SFBLIC is in the top K links. \n",
    "If not, add it\n",
    "\"\"\"\n",
    "\n",
    "if sfblic_link in top_k_links:\n",
    "    updated_links = top_k_links\n",
    "else:\n",
    "    top_k_links[K-1] = sfblic_link\n",
    "    updated_links = top_k_links\n",
    "\n",
    "updated_links"
   ]
  },
  {
   "cell_type": "code",
   "execution_count": 5,
   "id": "d5c9ff53-c388-4929-a1d0-93841786cbb0",
   "metadata": {},
   "outputs": [
    {
     "name": "stdout",
     "output_type": "stream",
     "text": [
      "Data saved to ../data/UpdatedGoogleResponses/10.json\n"
     ]
    }
   ],
   "source": [
    "storage_manager.save_to_folder(\"UpdatedGoogleResponses\", updated_links, f\"{trial_number}.json\")"
   ]
  },
  {
   "cell_type": "code",
   "execution_count": 6,
   "id": "3a75ecd1-cb8e-4cc1-a3e4-3881a35880be",
   "metadata": {},
   "outputs": [
    {
     "name": "stdout",
     "output_type": "stream",
     "text": [
      "Data loaded from ../data/UpdatedGoogleResponses/10.json\n",
      "Data saved to ../data/RawTextFromHTML/10.json\n"
     ]
    }
   ],
   "source": [
    "\"\"\"\n",
    "Get Raw Text from the HTML associated with the links from Google\n",
    "\"\"\"\n",
    "\n",
    "# Retrieve the stored response\n",
    "updated_links = storage_manager.load_from_folder(\"UpdatedGoogleResponses\", f\"{trial_number}.json\")\n",
    "\n",
    "raw_text_from_html = []\n",
    "\n",
    "# For each item of raw text that was stored ...\n",
    "for link in updated_links:    \n",
    "\n",
    "    # Fet the HTML associated with the link\n",
    "    response = requests.get(link)\n",
    "\n",
    "    # Get the raw text associated with the HTML\n",
    "    parsed_text = HTMLParser.parse_html(response.content)\n",
    "\n",
    "    # Store the raw text from the HTML\n",
    "    raw_text_from_html.append({\"link\" : link, \"raw_text\" : parsed_text})\n",
    "    \n",
    "storage_manager.save_to_folder(\"RawTextFromHTML\", raw_text_from_html, f\"{trial_number}.json\")"
   ]
  },
  {
   "cell_type": "code",
   "execution_count": 7,
   "id": "5639cc8a-44ab-47bb-b661-455e27676f40",
   "metadata": {},
   "outputs": [
    {
     "name": "stdout",
     "output_type": "stream",
     "text": [
      "Data loaded from ../data/RawTextFromHTML/10.json\n",
      "Data saved to ../data/WebsiteRefinerModelResponses/10.json\n"
     ]
    }
   ],
   "source": [
    "\"\"\"\n",
    "Get the refined text from the raw text\n",
    "\"\"\"\n",
    "\n",
    "raw_text_from_html = storage_manager.load_from_folder(\"RawTextFromHTML\", f\"{trial_number}.json\")\n",
    "\n",
    "website_refiner_responses = []\n",
    "# For each element of raw text that was stored ...\n",
    "for current_item in raw_text_from_html:\n",
    "    \n",
    "    link = current_item['link']\n",
    "    raw_text = current_item['raw_text']   \n",
    "\n",
    "    \n",
    "    response_from_website_refiner = website_refiner.refine_text(raw_text=raw_text, query=query)\n",
    "    \n",
    "    if response_from_website_refiner:\n",
    "        response_from_website_refiner['link'] = link\n",
    "        website_refiner_responses.append(response_from_website_refiner)\n",
    "    else:\n",
    "        print(\"Failed to refine text.\")\n",
    "\n",
    "storage_manager.save_to_folder(\"WebsiteRefinerModelResponses\", website_refiner_responses, f\"{trial_number}.json\")"
   ]
  },
  {
   "cell_type": "code",
   "execution_count": 8,
   "id": "dfe8c8bf-074d-462b-b571-b4e9ae550a40",
   "metadata": {},
   "outputs": [
    {
     "name": "stdout",
     "output_type": "stream",
     "text": [
      "https://content.naic.org/article/consumer-insight-what-type-life-insurance-right-you\n",
      "To decide which type of life insurance is right for you, consider the following:\n",
      "\n",
      "1. **Types of Policies**: There are two main types of life insurance products:\n",
      "   - **Term life insurance**: This policy is purchased for a specific period (term) and pays benefits if the insured dies during that term. It generally provides lower-cost coverage for specific timeframes, such as 10 or 20 years. It may allow renewal, but premiums could increase.\n",
      "   - **Cash value life insurance**: This type includes policies like whole life, universal life, and variable life. These can be kept for as long as needed and have savings or investment features, allowing policy owners to access money while still alive.\n",
      "\n",
      "2. **Questions to Consider**:\n",
      "   - How much of the family income do I provide?\n",
      "   - Will these financial obligations change over time?\n",
      "   - In how many years do you anticipate needing death benefits, knowing that the risk of death increases each year?\n",
      "\n",
      "3. **Questions for Your Insurance Agent**:\n",
      "   - Do I pay the premiums on a set schedule?\n",
      "   - Does the policy have a cash value?\n",
      "   - Do the policy values change from year to year?\n",
      "   - Are there guaranteed minimums on my policy?\n",
      "\n",
      "4. **Comparison**: If you already have life insurance, compare it with any new policies to understand differences in coverage and finances. Ensure that any changes in your health are taken into account before switching.\n",
      "\n",
      "5. **Affordability**: Before buying, ensure that you can afford the premiums. Be aware that premiums may vary based on the company’s investment earnings and claims costs.\n",
      "\n",
      "6. **Understanding**: Make sure you fully understand how your chosen policy works, including payouts, before making any decisions.\n",
      "\n",
      "These considerations will help guide you in choosing a life insurance policy that best fits your individual needs.\n",
      "\n",
      "https://www.iii.org/article/how-choose-right-type-life-insurance\n",
      "To decide which type of life insurance is right for you, consider the following guidelines:\n",
      "\n",
      "**Consider term life insurance if:**\n",
      "- You need life insurance for a specific period of time. For example, if you have young children, you might buy a 20-year term life insurance to cover their college education.\n",
      "- You need a large amount of life insurance but have a limited budget. Term life insurance generally has lower rates compared to permanent forms and it pays only if you die during the term.\n",
      "- You think your financial needs may change. Look into convertible term policies that allow you to convert to permanent insurance without a medical exam.\n",
      "\n",
      "**Consider permanent life insurance if:**\n",
      "- You need life insurance for as long as you live. It pays a death benefit regardless of when you die.\n",
      "- You want to accumulate a savings element that grows on a tax-deferred basis and can be borrowed against. This savings can help pay premiums if necessary or be used for other purposes.\n",
      "\n",
      "Keep in mind:\n",
      "- Premiums for permanent policies are generally higher but remain constant; term policy premiums may increase upon renewal.\n",
      "\n",
      "https://www.investopedia.com/types-of-life-insurance-plans-and-how-to-decide-which-one-is-right-for-you-7482251\n",
      "To choose the right life insurance plan for you and your loved ones, consider the following factors:\n",
      "\n",
      "1. **Purpose of the Policy**: Think about why you want the policy—whether to cover end-of-life expenses, pass on an inheritance, or ensure your family is financially supported.\n",
      "\n",
      "2. **Eligibility**: Your ability to qualify for coverage depends on your age, lifestyle habits, and medical history. Check the plans that are available to you.\n",
      "\n",
      "3. **Budget**: Determine how much you can spend on life insurance monthly and yearly. Costs vary by plan type and coverage amount.\n",
      "\n",
      "4. **Preference for Predictability or Flexibility**: Decide if you prefer fixed premiums and death benefits (term or whole life) or if you want the flexibility of adjusting them (universal life).\n",
      "\n",
      "5. **Building Cash Value**: If you want to build cash value that you can withdraw or borrow against, term life policies will not meet this need.\n",
      "\n",
      "6. **Control Over Cash Value Growth**: Consider how you want your cash value funds to be managed. If you prefer a fixed rate of return, a whole life policy might be best; if you're comfortable with market-linked returns, a universal life policy could be more suitable.\n",
      "\n",
      "By identifying your needs and understanding the types of life insurance available, you can better evaluate which policy aligns with your situation.\n",
      "\n",
      "https://www.nerdwallet.com/article/insurance/types-of-life-insurance\n",
      "To decide which type of life insurance is right for you, consider your needs and budget. Here’s a breakdown of the main types of life insurance:\n",
      "\n",
      "1. **Term Life Insurance**: Best for most people. It’s affordable and provides coverage for a set period (commonly 10, 20, or 30 years). This policy is designed to replace your income if you die unexpectedly, helping your loved ones meet financial obligations.\n",
      "\n",
      "2. **Whole Life Insurance**: Suitable for those wanting a permanent policy with a higher premium. It lasts your entire life, builds cash value, and typically has fixed premiums.\n",
      "\n",
      "3. **Universal Life Insurance**: This is for individuals who want a flexible permanent policy. It allows you to adjust premiums and has a cash value component that grows based on market interest rates.\n",
      "\n",
      "4. **Variable Life Insurance**: Ideal for those with a higher risk tolerance seeking more control over cash value investments. Premiums are fixed, but the cash value can change based on investment account performance.\n",
      "\n",
      "5. **Burial Insurance (Final Expense Insurance)**: Best for covering funeral expenses. It’s typically a small whole life policy with lower coverage amounts.\n",
      "\n",
      "Ultimately, the best policy for you depends on your personal circumstances, including what you aim to cover with the insurance and how much you can afford to pay in premiums.\n",
      "\n",
      "https://www.sfbli.com/\n",
      "THERE IS NO RELEVANT INFORMATION IN THE RAW TEXT\n",
      "\n"
     ]
    }
   ],
   "source": [
    "for item in website_refiner_responses:\n",
    "    print(item['link'])\n",
    "    print(item['choices'][0]['message']['content'])\n",
    "    print()"
   ]
  },
  {
   "cell_type": "code",
   "execution_count": 9,
   "id": "7816cf66-294f-463c-8fe8-addc13c89b3c",
   "metadata": {},
   "outputs": [
    {
     "name": "stdout",
     "output_type": "stream",
     "text": [
      "Data saved to ../data/CorpusRefinerModelResponses/10.json\n"
     ]
    }
   ],
   "source": [
    "\"\"\"\n",
    "Filter the corpus to information that may be relevant to the query\n",
    "\"\"\"\n",
    "\n",
    "response_from_corpus_refiner = corpus_refiner.refine_text(raw_text=corpus_text, query=query)\n",
    "storage_manager.save_to_folder(\"CorpusRefinerModelResponses\", response_from_corpus_refiner, f\"{trial_number}.json\")"
   ]
  },
  {
   "cell_type": "code",
   "execution_count": 10,
   "id": "38a47908-8c40-4dac-b27b-957447fcddbd",
   "metadata": {},
   "outputs": [
    {
     "name": "stdout",
     "output_type": "stream",
     "text": [
      "To decide what type of life insurance is right for you, assess your financial needs, goals, and budget.\n",
      "\n",
      "### **Key Considerations:**\n",
      "1. **Types of Policies:**\n",
      "   - **Term Life Insurance:** Provides affordable coverage for a specific period (e.g., 10-30 years). Ideal for short-term needs like covering dependents, a mortgage, or college expenses. Look for renewable or convertible options if your needs may evolve.\n",
      "   - **Permanent Life Insurance:** Includes whole life, universal life, and variable life policies. These offer lifelong coverage, build cash value, and suit long-term goals like estate planning or creating a financial safety net for heirs. They require higher premiums but provide added financial benefits.\n",
      "\n",
      "2. **Financial Goals:**\n",
      "   - For income replacement or temporary obligations, term insurance is often best.\n",
      "   - For lifelong protection and potential savings growth, permanent policies are more appropriate.\n",
      "\n",
      "3. **Budget and Premiums:**\n",
      "   - Term policies typically have lower premiums but increase with age upon renewal.\n",
      "   - Permanent policies have higher, consistent premiums, often with a savings component that can be accessed later.\n",
      "\n",
      "4. **Flexibility Needs:**\n",
      "   - Choose universal or variable life insurance for adjustable premiums and cash value investment options.\n",
      "   - Opt for term or whole life insurance for fixed costs and predictability.\n",
      "\n",
      "5. **Coverage Features:**\n",
      "   - Evaluate if you need riders like critical illness coverage or cash withdrawal options.\n",
      "   - Understand how cash value grows in permanent policies and its implications for your financial strategy.\n",
      "\n",
      "6. **Practical Steps:**\n",
      "   - Consider your dependents, debts, and long-term obligations.\n",
      "   - Compare policies and ask questions about premiums, cash value, and guaranteed benefits.\n",
      "   - Use tools like the NAIC Life Insurance Buyers Guide to clarify options.\n",
      "\n",
      "By weighing your needs, budget, and desired flexibility, you can choose a policy that aligns with your financial situation and goals.\n"
     ]
    }
   ],
   "source": [
    "print(response_from_corpus_refiner['choices'][0]['message']['content'])"
   ]
  },
  {
   "cell_type": "code",
   "execution_count": 11,
   "id": "d20096ff-b9c9-4288-8435-6d11497e4c7e",
   "metadata": {},
   "outputs": [
    {
     "name": "stdout",
     "output_type": "stream",
     "text": [
      "Data loaded from ../data/WebsiteRefinerModelResponses/10.json\n",
      "Data loaded from ../data/CorpusRefinerModelResponses/10.json\n",
      "Improved Text generated...\n",
      "Data saved to ../data/ImproverModelResponses/10.json\n"
     ]
    }
   ],
   "source": [
    "\"\"\"\n",
    "Improve the text from the SFBLIC site\n",
    "\"\"\"\n",
    "\n",
    "# Get the refined text from the website\n",
    "website_refiner_responses = storage_manager.load_from_folder(\"WebsiteRefinerModelResponses\", f\"{trial_number}.json\")\n",
    "sfblic_response = [response for response in website_refiner_responses if response['link'] == 'https://www.sfbli.com/'][0]\n",
    "refined_text_from_website = sfblic_response['choices'][0]['message']['content']\n",
    "\n",
    "# Get the refined text from the corpus\n",
    "response_from_corpus_refiner = storage_manager.load_from_folder(\"CorpusRefinerModelResponses\", f\"{trial_number}.json\")\n",
    "refined_text_from_corpus = response_from_corpus_refiner['choices'][0]['message']['content']\n",
    "\n",
    "\n",
    "# Generate improved text\n",
    "improved_text = improver_model.improve_text(\n",
    "    query=query,\n",
    "    refined_text_from_website=refined_text_from_website,\n",
    "    refined_text_from_corpus=refined_text_from_corpus\n",
    ")\n",
    "\n",
    "if improved_text:\n",
    "    print(\"Improved Text generated...\")\n",
    "    \n",
    "else:\n",
    "    print(\"Failed to improve text.\")\n",
    "\n",
    "\n",
    "# Save to disk\n",
    "storage_manager.save_to_folder(\"ImproverModelResponses\", improved_text, f\"{trial_number}.json\")\n"
   ]
  },
  {
   "cell_type": "code",
   "execution_count": 12,
   "id": "35b075a3-182b-4bcd-87bf-059b0defe460",
   "metadata": {},
   "outputs": [
    {
     "name": "stdout",
     "output_type": "stream",
     "text": [
      "THERE IS NO RELEVANT INFORMATION IN THE RAW TEXT\n"
     ]
    }
   ],
   "source": [
    "print(refined_text_from_website)"
   ]
  },
  {
   "cell_type": "code",
   "execution_count": 13,
   "id": "8f9378bb-da0c-4733-9523-ce7dfe01a88b",
   "metadata": {},
   "outputs": [
    {
     "name": "stdout",
     "output_type": "stream",
     "text": [
      "To decide on the right type of life insurance for you, you should evaluate your financial needs, goals, and budget. Here are some key considerations:\n",
      "\n",
      "1. **Types of Policies:**\n",
      "   - **Term Life Insurance:** Offers affordable coverage for a specified timeframe (e.g., 10-30 years) and is best suited for short-term needs such as supporting dependents, paying off a mortgage, or covering college expenses. Consider renewable or convertible options if your requirements might change.\n",
      "   - **Permanent Life Insurance:** Includes whole life, universal life, and variable life policies. These provide lifelong coverage, build cash value, and are ideal for long-term goals like estate planning or establishing a financial safety net for heirs. They usually demand higher premiums but offer additional financial benefits.\n",
      "\n",
      "2. **Financial Goals:**\n",
      "   - For income replacement or managing temporary obligations, term insurance is often the better choice.\n",
      "   - If you need lifelong protection and a potential for savings growth, permanent policies might be more suitable.\n",
      "\n",
      "3. **Budget and Premiums:**\n",
      "   - Term insurance generally has lower premiums which tend to increase with age upon renewal.\n",
      "   - Permanent insurance policies have higher but consistent premiums and often include a savings component that can be accessed later.\n",
      "\n",
      "4. **Flexibility Needs:**\n",
      "   - Consider universal or variable life insurance for adjustable premiums and cash value investment options.\n",
      "   - Choose term or whole life insurance if you prefer fixed costs and predictability.\n",
      "\n",
      "5. **Coverage Features:**\n",
      "   - Determine if you require additional riders like critical illness coverage or cash withdrawal options.\n",
      "   - Understand how the cash value in permanent policies grows and its implications for your financial strategy.\n",
      "\n",
      "6. **Practical Steps:**\n",
      "   - Reflect on your dependents, debts, and long-term obligations.\n",
      "   - Compare different policies and ask questions about premiums, cash value, and guaranteed benefits.\n",
      "   - Utilize resources like the NAIC Life Insurance Buyers Guide to help clarify your options.\n",
      "\n",
      "By considering your needs, budget, and desired flexibility, you can select a life insurance policy that matches your financial situation and objectives.\n"
     ]
    }
   ],
   "source": [
    "print(improved_text['choices'][0]['message']['content'])"
   ]
  },
  {
   "cell_type": "code",
   "execution_count": 14,
   "id": "a7086398-7dc4-4d5c-925b-03af4533aac5",
   "metadata": {},
   "outputs": [
    {
     "name": "stdout",
     "output_type": "stream",
     "text": [
      "Data loaded from ../data/WebsiteRefinerModelResponses/10.json\n",
      "Data loaded from ../data/ImproverModelResponses/10.json\n"
     ]
    }
   ],
   "source": [
    "\"\"\"\n",
    "Create multiple sets of reference material\n",
    "\"\"\"\n",
    "\n",
    "# Create a set of reference material that has the original (unimproved) content from the website\n",
    "\n",
    "website_refiner_model_responses = storage_manager.load_from_folder(\"WebsiteRefinerModelResponses\", f\"{trial_number}.json\")\n",
    "\n",
    "unmodified_set_of_reference_material =  [\n",
    "    {\n",
    "        \"link\" : item['link'],\n",
    "        \"information\" : item['choices'][0]['message']['content']\n",
    "    }\n",
    "    for item in website_refiner_model_responses\n",
    "]\n",
    "\n",
    "# Create a set of reference material that has the new (improved) content\n",
    "improved_text = storage_manager.load_from_folder('ImproverModelResponses', f\"{trial_number}.json\")\n",
    "improved_version = improved_text['choices'][0]['message']['content']\n",
    "\n",
    "\n",
    "# Create a new set of reference material\n",
    "\n",
    "new_set_of_reference_material = []\n",
    "\n",
    "for item in unmodified_set_of_reference_material:\n",
    "    if item['link'] == 'https://www.sfbli.com/':\n",
    "        new_set_of_reference_material.append({\"link\" : link, \"information\" : improved_version})\n",
    "    else:\n",
    "        new_set_of_reference_material.append(item)"
   ]
  },
  {
   "cell_type": "code",
   "execution_count": 15,
   "id": "661d229c-2051-4550-a743-8611a636a8bb",
   "metadata": {},
   "outputs": [
    {
     "name": "stdout",
     "output_type": "stream",
     "text": [
      "Data saved to ../data/SetsOfReferenceMaterial/10.json\n"
     ]
    }
   ],
   "source": [
    "\"\"\"\n",
    "Store Sets of Reference Material\n",
    "\"\"\"\n",
    "\n",
    "sets_of_reference_material = []\n",
    "\n",
    "improvement_method = 0\n",
    "set_of_reference_material = unmodified_set_of_reference_material\n",
    "\n",
    "sets_of_reference_material.append({\n",
    "    \"improvement_method\" : improvement_method,\n",
    "    \"set_of_reference_material\" : set_of_reference_material,\n",
    "})\n",
    "\n",
    "improvement_method = 1\n",
    "set_of_reference_material = new_set_of_reference_material\n",
    "\n",
    "sets_of_reference_material.append({\n",
    "    \"improvement_method\" : improvement_method,\n",
    "    \"set_of_reference_material\" : set_of_reference_material,\n",
    "})\n",
    "\n",
    "\n",
    "storage_manager.save_to_folder(\"SetsOfReferenceMaterial\", sets_of_reference_material, f\"{trial_number}.json\")"
   ]
  },
  {
   "cell_type": "code",
   "execution_count": 16,
   "id": "074a477f-ec36-4d38-ab83-b6e84a45bb3d",
   "metadata": {},
   "outputs": [
    {
     "name": "stdout",
     "output_type": "stream",
     "text": [
      "Data loaded from ../data/SetsOfReferenceMaterial/10.json\n"
     ]
    }
   ],
   "source": [
    "\"\"\"\n",
    "Send sets of reference material to the writer-citer\n",
    "\"\"\"\n",
    "\n",
    "writer_citer_model_responses = [] \n",
    "\n",
    "sets_of_reference_material = storage_manager.load_from_folder(\"SetsOfReferenceMaterial\", f\"{trial_number}.json\")\n",
    "\n",
    "# Unimproved Method\n",
    "# -----------------\n",
    "\n",
    "set_of_reference_material = sets_of_reference_material[0]\n",
    "improvement_method = set_of_reference_material['improvement_method']\n",
    "reference_material = set_of_reference_material['set_of_reference_material']\n",
    "\n",
    "# Generate a cited response\n",
    "cited_response = writer_citer.generate_cited_response(\n",
    "    rephrased_query=query,\n",
    "    set_of_reference_query=reference_material\n",
    ")\n",
    "\n",
    "cited_response['improvement_method'] = improvement_method\n",
    "\n",
    "writer_citer_model_responses.append(cited_response)\n",
    "\n",
    "# Improved Method\n",
    "# -----------------\n",
    "\n",
    "set_of_reference_material = sets_of_reference_material[1]\n",
    "improvement_method = set_of_reference_material['improvement_method']\n",
    "reference_material = set_of_reference_material['set_of_reference_material']\n",
    "\n",
    "# Generate a cited response\n",
    "cited_response = writer_citer.generate_cited_response(\n",
    "    rephrased_query=query,\n",
    "    set_of_reference_query=reference_material\n",
    ")\n",
    "\n",
    "cited_response['improvement_method'] = improvement_method\n",
    "\n",
    "writer_citer_model_responses.append(cited_response)\n"
   ]
  },
  {
   "cell_type": "code",
   "execution_count": 18,
   "id": "94fe7961-b4cd-41a0-97d7-1af438c7658c",
   "metadata": {},
   "outputs": [
    {
     "name": "stdout",
     "output_type": "stream",
     "text": [
      "Deciding which type of life insurance is right for you requires consideration of several key factors [1][2][3][4]. \n",
      "\n",
      "Start by evaluating the **types of life insurance** available. The two main types are **term life insurance** and **permanent life insurance** (which includes whole life, universal life, and variable life policies). Term life insurance covers a specific period, making it a good option if you need a large amount of coverage for a limited time and have a constrained budget, while permanent policies offer lifelong coverage and accumulate cash value, which can be accessed during your lifetime [1][2].\n",
      "\n",
      "Determine the **purpose of the policy**. Consider whether it’s to cover specific needs like children’s college expenses (which may suit a term policy) or lifelong financial security with savings elements (typical with permanent policies) [3]. Understand how much of the family income you supply and any financial obligations' changes over time, as these factors can significantly influence your choice [1].\n",
      "\n",
      "Consider your **budget** and the affordability of premiums, which differ significantly between term and permanent policies. Term insurance premiums are generally lower initially but can increase at renewal, while permanent premiums start higher but remain constant [1][2][4]. \n",
      "\n",
      "Assess your **eligibility** based on factors like age, health, and lifestyle, which can affect the type of plan you can obtain and at what cost [3].\n",
      "\n",
      "Lastly, decide whether you prefer **predictability or flexibility** in your insurance plan. If you value predictability, fixed premiums and death benefits of term and whole life policies might be preferable. For those requiring flexible premiums and benefits, universal life insurance could be suitable [3].\n",
      "\n",
      "In summary, your ultimate choice should align with your personal circumstances, financial goals, and capacity to pay premiums, ensuring that your insurance policy effectively covers your intended needs [1][4].\n",
      "---\n",
      "To decide which type of life insurance is right for you, consider several important factors based on your personal circumstances and financial needs. Start by understanding the two main categories: **Term Life Insurance** and **Permanent Life Insurance** [1][2][3][5]. \n",
      "\n",
      "**Term Life Insurance** is typically more affordable and provides coverage for a specific period, such as 10, 20, or 30 years. It's best suited for those needing insurance for a limited time, like covering children’s education or paying off a mortgage. Term policies might be renewable or convertible if needs change, although premiums may increase upon renewal [1][3][5].\n",
      "\n",
      "**Permanent Life Insurance** includes whole, universal, and variable life policies. These offer lifelong coverage and build cash value that can be borrowed against or withdrawn. Choose this if you desire a policy that extends for your entire life, want a savings element, or are planning for estate management. While premiums are higher, they remain constant [1][2][3][5].\n",
      "\n",
      "When deciding, also reflect on your financial goals, such as income replacement or managing obligations, and budget constraints. Term policies generally have lower premiums, whereas permanent policies demand higher but steady premiums and offer additional benefits [1][2][5].\n",
      "\n",
      "Additionally, consider if you need predictability or flexibility. Whole life insurance provides fixed premiums and death benefits, while universal life insurance allows for adjustments in payments and coverage. If you prefer having control over cash value investments, variable life insurance may be more suited [3][4].\n",
      "\n",
      "Ensure you're aware of your eligibility, which can depend on your age, health, and lifestyle. Evaluate your ability to pay premiums consistently and understand the policy thoroughly, including any features like guaranteed benefits or cash withdrawal options [3][5].\n",
      "\n",
      "By closely examining your individual financial needs, life circumstances, and long-term objectives, you can make a well-informed choice about which life insurance policy best aligns with your requirements [1][2][3][4][5].\n",
      "---\n"
     ]
    }
   ],
   "source": [
    "for item in writer_citer_model_responses:\n",
    "    print(item['choices'][0]['message']['content'])\n",
    "    print(\"---\")"
   ]
  },
  {
   "cell_type": "code",
   "execution_count": 19,
   "id": "d08cd94f-8edd-4c1b-8865-6e0b9cea951d",
   "metadata": {},
   "outputs": [
    {
     "name": "stdout",
     "output_type": "stream",
     "text": [
      "Data saved to ../data/WriterCiterModelResponses/10.json\n"
     ]
    }
   ],
   "source": [
    "# Save to disk\n",
    "storage_manager.save_to_folder(\"WriterCiterModelResponses\", writer_citer_model_responses, f\"{trial_number}.json\")"
   ]
  }
 ],
 "metadata": {
  "kernelspec": {
   "display_name": "perplexity-clone",
   "language": "python",
   "name": "perplexity-clone"
  },
  "language_info": {
   "codemirror_mode": {
    "name": "ipython",
    "version": 3
   },
   "file_extension": ".py",
   "mimetype": "text/x-python",
   "name": "python",
   "nbconvert_exporter": "python",
   "pygments_lexer": "ipython3",
   "version": "3.13.0"
  }
 },
 "nbformat": 4,
 "nbformat_minor": 5
}
