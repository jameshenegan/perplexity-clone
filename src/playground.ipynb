{
 "cells": [
  {
   "cell_type": "code",
   "execution_count": 1,
   "id": "fc255b2d-df36-4616-9403-221376570be3",
   "metadata": {},
   "outputs": [],
   "source": [
    "from dotenv import dotenv_values\n",
    "import requests\n",
    "\n",
    "from helpers.google_interactor import GoogleInteractor\n",
    "from helpers.html_parser import HTMLParser \n",
    "from helpers.storage_manager import StorageManager\n",
    "from helpers.refiner_model import RefinerModel\n",
    "from helpers.improver_model import ImproverModel\n",
    "from helpers.writer_citer_model import WriterCiterModel\n",
    "\n",
    "\n",
    "\"\"\"\n",
    "============================================\n",
    "Run through a single trial of the experiment\n",
    "============================================\n",
    "\"\"\"\n",
    "\n",
    "\"\"\"\n",
    "Set up\n",
    "\"\"\"\n",
    "\n",
    "# Number of links to consider\n",
    "K = 5\n",
    "\n",
    "# Declare trial number\n",
    "trial_number = 5\n",
    "\n",
    "\"\"\"\n",
    "Configuration\n",
    "\"\"\"\n",
    "\n",
    "sfblic_link = \"https://www.sfbli.com/\"\n",
    "\n",
    "# Load environment variables\n",
    "config = dotenv_values(\"../.env\")\n",
    "google_api_key = config['GOOGLE_API_KEY']\n",
    "search_engine_id = config['SEARCH_ENGINE_ID']\n",
    "\n",
    "# Instantiate helpers\n",
    "google_interactor = GoogleInteractor(api_key=google_api_key, search_engine_id=search_engine_id)\n",
    "storage_manager = StorageManager(\"../data/\")    \n",
    "website_refiner = RefinerModel(api_key=config['OPEN_AI_API_KEY'])\n",
    "corpus_refiner = RefinerModel(api_key=config['OPEN_AI_API_KEY'])\n",
    "improver_model = ImproverModel(api_key=config['OPEN_AI_API_KEY'])\n",
    "writer_citer = WriterCiterModel(api_key=config['OPEN_AI_API_KEY'])\n",
    "\n",
    "\n",
    "# Load the clean corpus text\n",
    "with open(\"../data/clean_content.txt\") as f:\n",
    "    corpus_text = f.read()\n",
    "\n",
    "\n",
    "# Select a query to use for the current trial\n",
    "query = \"What is life insurance?\""
   ]
  },
  {
   "cell_type": "code",
   "execution_count": 2,
   "id": "f2aef6cb-0a86-4452-9111-02a7bb3c4b6a",
   "metadata": {},
   "outputs": [
    {
     "name": "stdout",
     "output_type": "stream",
     "text": [
      "Data saved to ../data/InitialGoogleResponses/5.json\n"
     ]
    }
   ],
   "source": [
    "\"\"\"\n",
    "Submit the query to Google and store the results\n",
    "\"\"\"\n",
    "\n",
    "# Submit the query to Google\n",
    "search_results = google_interactor.search_google(query=query, num_results=10)\n",
    "    \n",
    "# Store the response\n",
    "storage_manager.save_to_folder(\"InitialGoogleResponses\", search_results, f\"{trial_number}.json\")"
   ]
  },
  {
   "cell_type": "code",
   "execution_count": 3,
   "id": "d3bced40-95f6-4969-9f8c-167d02caad3e",
   "metadata": {},
   "outputs": [
    {
     "data": {
      "text/plain": [
       "['https://www.libertymutual.com/insurance-resources/life/how-does-life-insurance-work',\n",
       " 'https://www.benefits.va.gov/insurance/',\n",
       " 'https://www.va.gov/life-insurance/options-eligibility/valife/',\n",
       " 'https://content.naic.org/insurance-topics/life-insurance',\n",
       " 'https://www.va.gov/life-insurance/']"
      ]
     },
     "execution_count": 3,
     "metadata": {},
     "output_type": "execute_result"
    }
   ],
   "source": [
    "\"\"\"\n",
    "View links\n",
    "\"\"\"\n",
    "\n",
    "top_k_links = [item['link'] for item in search_results['items']][:K]\n",
    "top_k_links"
   ]
  },
  {
   "cell_type": "code",
   "execution_count": 4,
   "id": "a1d2fc29-ed81-4fd5-bbd3-a07c58527656",
   "metadata": {},
   "outputs": [
    {
     "data": {
      "text/plain": [
       "['https://www.libertymutual.com/insurance-resources/life/how-does-life-insurance-work',\n",
       " 'https://www.benefits.va.gov/insurance/',\n",
       " 'https://www.va.gov/life-insurance/options-eligibility/valife/',\n",
       " 'https://content.naic.org/insurance-topics/life-insurance',\n",
       " 'https://www.sfbli.com/']"
      ]
     },
     "execution_count": 4,
     "metadata": {},
     "output_type": "execute_result"
    }
   ],
   "source": [
    "\"\"\"\n",
    "Check to see if SFBLIC is in the top K links. \n",
    "If not, add it\n",
    "\"\"\"\n",
    "\n",
    "if sfblic_link in top_k_links:\n",
    "    updated_links = top_k_links\n",
    "else:\n",
    "    top_k_links[K-1] = sfblic_link\n",
    "    updated_links = top_k_links\n",
    "\n",
    "updated_links"
   ]
  },
  {
   "cell_type": "code",
   "execution_count": 5,
   "id": "d5c9ff53-c388-4929-a1d0-93841786cbb0",
   "metadata": {},
   "outputs": [
    {
     "name": "stdout",
     "output_type": "stream",
     "text": [
      "Data saved to ../data/UpdatedGoogleResponses/5.json\n"
     ]
    }
   ],
   "source": [
    "storage_manager.save_to_folder(\"UpdatedGoogleResponses\", updated_links, f\"{trial_number}.json\")"
   ]
  },
  {
   "cell_type": "code",
   "execution_count": 6,
   "id": "3a75ecd1-cb8e-4cc1-a3e4-3881a35880be",
   "metadata": {},
   "outputs": [
    {
     "name": "stdout",
     "output_type": "stream",
     "text": [
      "Data loaded from ../data/UpdatedGoogleResponses/5.json\n",
      "Data saved to ../data/RawTextFromHTML/5.json\n"
     ]
    }
   ],
   "source": [
    "\"\"\"\n",
    "Get Raw Text from the HTML associated with the links from Google\n",
    "\"\"\"\n",
    "\n",
    "# Retrieve the stored response\n",
    "updated_links = storage_manager.load_from_folder(\"UpdatedGoogleResponses\", f\"{trial_number}.json\")\n",
    "\n",
    "raw_text_from_html = []\n",
    "\n",
    "# For each item of raw text that was stored ...\n",
    "for link in updated_links:    \n",
    "\n",
    "    # Fet the HTML associated with the link\n",
    "    response = requests.get(link)\n",
    "\n",
    "    # Get the raw text associated with the HTML\n",
    "    parsed_text = HTMLParser.parse_html(response.content)\n",
    "\n",
    "    # Store the raw text from the HTML\n",
    "    raw_text_from_html.append({\"link\" : link, \"raw_text\" : parsed_text})\n",
    "    \n",
    "storage_manager.save_to_folder(\"RawTextFromHTML\", raw_text_from_html, f\"{trial_number}.json\")"
   ]
  },
  {
   "cell_type": "code",
   "execution_count": 7,
   "id": "5639cc8a-44ab-47bb-b661-455e27676f40",
   "metadata": {},
   "outputs": [
    {
     "name": "stdout",
     "output_type": "stream",
     "text": [
      "Data loaded from ../data/RawTextFromHTML/5.json\n",
      "Data saved to ../data/WebsiteRefinerModelResponses/5.json\n"
     ]
    }
   ],
   "source": [
    "\"\"\"\n",
    "Get the refined text from the raw text\n",
    "\"\"\"\n",
    "\n",
    "raw_text_from_html = storage_manager.load_from_folder(\"RawTextFromHTML\", f\"{trial_number}.json\")\n",
    "\n",
    "website_refiner_responses = []\n",
    "# For each element of raw text that was stored ...\n",
    "for current_item in raw_text_from_html:\n",
    "    \n",
    "    link = current_item['link']\n",
    "    raw_text = current_item['raw_text']   \n",
    "\n",
    "    \n",
    "    response_from_website_refiner = website_refiner.refine_text(raw_text=raw_text, query=query)\n",
    "    \n",
    "    if response_from_website_refiner:\n",
    "        response_from_website_refiner['link'] = link\n",
    "        website_refiner_responses.append(response_from_website_refiner)\n",
    "    else:\n",
    "        print(\"Failed to refine text.\")\n",
    "\n",
    "storage_manager.save_to_folder(\"WebsiteRefinerModelResponses\", website_refiner_responses, f\"{trial_number}.json\")"
   ]
  },
  {
   "cell_type": "code",
   "execution_count": 8,
   "id": "dfe8c8bf-074d-462b-b571-b4e9ae550a40",
   "metadata": {},
   "outputs": [
    {
     "name": "stdout",
     "output_type": "stream",
     "text": [
      "https://www.libertymutual.com/insurance-resources/life/how-does-life-insurance-work\n",
      "Life insurance is a contract between an insurance company and policyholder. In exchange for a premium, the life insurance company agrees to pay a sum of money to one or more named beneficiaries upon the death of the policyholder. The purpose of life insurance is to help provide financial security to your loved ones upon your death. Some life policies also offer living benefits, allowing payment of a part of the policy's death benefit while you're still alive if diagnosed with a covered chronic, critical, or terminal illness.\n",
      "\n",
      "https://www.benefits.va.gov/insurance/\n",
      "Life insurance is a financial product that provides coverage in the event of death, offering beneficiaries a payout. There are various types of life insurance available:\n",
      "\n",
      "1. **Veterans Affairs Life Insurance (VALife)** - A guaranteed acceptance whole life insurance program for service-connected Veterans aged 80 and under, providing coverage of up to $40,000.\n",
      "\n",
      "2. **Servicemembers' Group Life Insurance (SGLI)** - A low-cost group term life insurance program for Servicemembers, which can be extended for up to two years if the Servicemember is totally disabled at separation.\n",
      "\n",
      "3. **Veterans' Group Life Insurance (VGLI)** - Allows Veterans to convert SGLI into a civilian program of lifetime renewable term coverage after separation from service.\n",
      "\n",
      "4. **Family Servicemembers' Group Life Insurance (FSGLI)** - Insurance for the spouses and children of Servicemembers covered under SGLI.\n",
      "\n",
      "5. **Servicemembers' Group Life Insurance Traumatic Injury Protection (TSGLI)** - Provides payments to Servicemembers suffering losses due to traumatic injuries in service.\n",
      "\n",
      "6. **Veterans' Mortgage Life Insurance (VMLI)** - Provides mortgage life insurance protection to disabled Veterans approved for a VA Specially Adapted Housing grant.\n",
      "\n",
      "7. **Service-Disabled Veterans' Life Insurance (S-DVI)** - Closed to new enrollment after December 31, 2022. \n",
      "\n",
      "Life insurance policies typically come with options regarding coverage amounts, eligibility requirements, and the application process.\n",
      "\n",
      "https://www.va.gov/life-insurance/options-eligibility/valife/\n",
      "Life insurance is a type of insurance that provides financial protection for your beneficiaries in the event of your death. The Veterans Affairs Life Insurance (VALife) is an option available to veterans, providing low-cost whole life insurance coverage specifically to those with service-connected disabilities. Here are key points about VALife:\n",
      "\n",
      "- VALife offers up to $40,000 in whole life insurance coverage, available in $10,000 increments.\n",
      "- It is guaranteed acceptance whole life insurance, meaning if you meet the eligibility requirements, your application is automatically approved without needing to prove good health.\n",
      "- The insurance coverage starts two years after your application is approved, during which premiums must be paid.\n",
      "- If the insured person dies within the two-year waiting period, beneficiaries will receive the total amount of premiums paid plus interest.\n",
      "\n",
      "Beneficiaries are the individuals designated to receive the life insurance payout upon the policyholder's death.\n",
      "\n",
      "https://content.naic.org/insurance-topics/life-insurance\n",
      "Life insurance is a type of insurance policy that provides a death benefit to beneficiaries upon the insured's death. One aspect of life insurance is the life insurance illustration, which is a presentation provided to prospective or new policy owners, showing how the policy should perform under specific circumstances. \n",
      "\n",
      "Life insurance illustrations include details such as the benefits for a policyholder, the required premiums, and the expenses related to issuing and maintaining the policy. These illustrations are governed by regulations to protect consumers and help them understand their policies. There are three types of illustrations defined: basic illustrations, supplemental illustrations, and in-force illustrations, each serving different purposes in the marketing and understanding of life insurance policies. \n",
      "\n",
      "Regulatory standards aim to ensure transparency and consumer protection regarding life insurance policies and their illustrations.\n",
      "\n",
      "https://www.sfbli.com/\n",
      "THERE IS NO RELEVANT INFORMATION IN THE RAW TEXT\n",
      "\n"
     ]
    }
   ],
   "source": [
    "for item in website_refiner_responses:\n",
    "    print(item['link'])\n",
    "    print(item['choices'][0]['message']['content'])\n",
    "    print()"
   ]
  },
  {
   "cell_type": "code",
   "execution_count": 9,
   "id": "7816cf66-294f-463c-8fe8-addc13c89b3c",
   "metadata": {},
   "outputs": [
    {
     "name": "stdout",
     "output_type": "stream",
     "text": [
      "Data saved to ../data/CorpusRefinerModelResponses/5.json\n"
     ]
    }
   ],
   "source": [
    "\"\"\"\n",
    "Filter the corpus to information that may be relevant to the query\n",
    "\"\"\"\n",
    "\n",
    "response_from_corpus_refiner = corpus_refiner.refine_text(raw_text=corpus_text, query=query)\n",
    "storage_manager.save_to_folder(\"CorpusRefinerModelResponses\", response_from_corpus_refiner, f\"{trial_number}.json\")"
   ]
  },
  {
   "cell_type": "code",
   "execution_count": 10,
   "id": "38a47908-8c40-4dac-b27b-957447fcddbd",
   "metadata": {},
   "outputs": [
    {
     "name": "stdout",
     "output_type": "stream",
     "text": [
      "Life insurance is a financial product that provides coverage to policyholders in exchange for premiums, designed to protect families and provide financial security. Southern Farm Bureau Life Insurance Company offers various life insurance products, including:\n",
      "\n",
      "1. **Permanent Life Insurance**: This includes whole life, single premium, modified premium, and adjustable premium options, providing lifelong coverage with different payment structures.\n",
      "2. **Term Life Insurance**: This type of insurance is available in 10, 20, and 30-year intervals, providing cost-effective, time-bound coverage.\n",
      "\n",
      "The company aims to be the life insurance provider of choice, focusing on competitive offerings, superior customer service, and ethical practices. Its mission statements emphasize a commitment to protecting families and supporting financial security across generations.\n"
     ]
    }
   ],
   "source": [
    "print(response_from_corpus_refiner['choices'][0]['message']['content'])"
   ]
  },
  {
   "cell_type": "code",
   "execution_count": 11,
   "id": "d20096ff-b9c9-4288-8435-6d11497e4c7e",
   "metadata": {},
   "outputs": [
    {
     "name": "stdout",
     "output_type": "stream",
     "text": [
      "Data loaded from ../data/WebsiteRefinerModelResponses/5.json\n",
      "Data loaded from ../data/CorpusRefinerModelResponses/5.json\n",
      "Improved Text generated...\n",
      "Data saved to ../data/ImproverModelResponses/5.json\n"
     ]
    }
   ],
   "source": [
    "\"\"\"\n",
    "Improve the text from the SFBLIC site\n",
    "\"\"\"\n",
    "\n",
    "# Get the refined text from the website\n",
    "website_refiner_responses = storage_manager.load_from_folder(\"WebsiteRefinerModelResponses\", f\"{trial_number}.json\")\n",
    "sfblic_response = [response for response in website_refiner_responses if response['link'] == 'https://www.sfbli.com/'][0]\n",
    "refined_text_from_website = sfblic_response['choices'][0]['message']['content']\n",
    "\n",
    "# Get the refined text from the corpus\n",
    "response_from_corpus_refiner = storage_manager.load_from_folder(\"CorpusRefinerModelResponses\", f\"{trial_number}.json\")\n",
    "refined_text_from_corpus = response_from_corpus_refiner['choices'][0]['message']['content']\n",
    "\n",
    "\n",
    "# Generate improved text\n",
    "improved_text = improver_model.improve_text(\n",
    "    query=query,\n",
    "    refined_text_from_website=refined_text_from_website,\n",
    "    refined_text_from_corpus=refined_text_from_corpus\n",
    ")\n",
    "\n",
    "if improved_text:\n",
    "    print(\"Improved Text generated...\")\n",
    "    \n",
    "else:\n",
    "    print(\"Failed to improve text.\")\n",
    "\n",
    "\n",
    "# Save to disk\n",
    "storage_manager.save_to_folder(\"ImproverModelResponses\", improved_text, f\"{trial_number}.json\")\n"
   ]
  },
  {
   "cell_type": "code",
   "execution_count": 12,
   "id": "35b075a3-182b-4bcd-87bf-059b0defe460",
   "metadata": {},
   "outputs": [
    {
     "name": "stdout",
     "output_type": "stream",
     "text": [
      "THERE IS NO RELEVANT INFORMATION IN THE RAW TEXT\n"
     ]
    }
   ],
   "source": [
    "print(refined_text_from_website)"
   ]
  },
  {
   "cell_type": "code",
   "execution_count": 13,
   "id": "8f9378bb-da0c-4733-9523-ce7dfe01a88b",
   "metadata": {},
   "outputs": [
    {
     "name": "stdout",
     "output_type": "stream",
     "text": [
      "Life insurance is a financial product that provides coverage to policyholders in exchange for regular payments known as premiums. It is designed to protect families and provide financial security by offering a death benefit to beneficiaries upon the insured's passing. Various types of life insurance policies, such as permanent and term life insurance, cater to different needs and preferences. Permanent life insurance options, including whole life and adjustable premium policies, offer lifelong coverage with various payment structures. In contrast, term life insurance provides coverage for a specific period, such as 10, 20, or 30 years, and is typically more cost-effective for those seeking temporary protection. Life insurance aims to ensure peace of mind for families by safeguarding their financial future.\n"
     ]
    }
   ],
   "source": [
    "print(improved_text['choices'][0]['message']['content'])"
   ]
  },
  {
   "cell_type": "code",
   "execution_count": 14,
   "id": "a7086398-7dc4-4d5c-925b-03af4533aac5",
   "metadata": {},
   "outputs": [
    {
     "name": "stdout",
     "output_type": "stream",
     "text": [
      "Data loaded from ../data/WebsiteRefinerModelResponses/5.json\n",
      "Data loaded from ../data/ImproverModelResponses/5.json\n"
     ]
    }
   ],
   "source": [
    "\"\"\"\n",
    "Create multiple sets of reference material\n",
    "\"\"\"\n",
    "\n",
    "# Create a set of reference material that has the original (unimproved) content from the website\n",
    "\n",
    "website_refiner_model_responses = storage_manager.load_from_folder(\"WebsiteRefinerModelResponses\", f\"{trial_number}.json\")\n",
    "\n",
    "unmodified_set_of_reference_material =  [\n",
    "    {\n",
    "        \"link\" : item['link'],\n",
    "        \"information\" : item['choices'][0]['message']['content']\n",
    "    }\n",
    "    for item in website_refiner_model_responses\n",
    "]\n",
    "\n",
    "# Create a set of reference material that has the new (improved) content\n",
    "improved_text = storage_manager.load_from_folder('ImproverModelResponses', f\"{trial_number}.json\")\n",
    "improved_version = improved_text['choices'][0]['message']['content']\n",
    "\n",
    "\n",
    "# Create a new set of reference material\n",
    "\n",
    "new_set_of_reference_material = []\n",
    "\n",
    "for item in unmodified_set_of_reference_material:\n",
    "    if item['link'] == 'https://www.sfbli.com/':\n",
    "        new_set_of_reference_material.append({\"link\" : link, \"information\" : improved_version})\n",
    "    else:\n",
    "        new_set_of_reference_material.append(item)\n",
    "\n"
   ]
  },
  {
   "cell_type": "code",
   "execution_count": null,
   "id": "661d229c-2051-4550-a743-8611a636a8bb",
   "metadata": {},
   "outputs": [],
   "source": [
    "\"\"\"\n",
    "Store Sets of Reference Material\n",
    "\"\"\"\n",
    "\n",
    "sets_of_reference_material = []\n",
    "\n",
    "improvement_method = 0\n",
    "set_of_reference_material = unmodified_set_of_reference_material\n",
    "\n",
    "sets_of_reference_material.append({\n",
    "    \"improvement_method\" : improvement_method,\n",
    "    \"set_of_reference_material\" : set_of_reference_material,\n",
    "})\n",
    "\n",
    "improvement_method = 1\n",
    "set_of_reference_material = new_set_of_reference_material\n",
    "\n",
    "sets_of_reference_material.append({\n",
    "    \"improvement_method\" : improvement_method,\n",
    "    \"set_of_reference_material\" : set_of_reference_material,\n",
    "})\n",
    "\n",
    "\n",
    "storage_manager.save_to_folder(\"SetsOfReferenceMaterial\", sets_of_reference_material, f\"{trial_number}.json\")\n",
    "\n"
   ]
  },
  {
   "cell_type": "code",
   "execution_count": 15,
   "id": "074a477f-ec36-4d38-ab83-b6e84a45bb3d",
   "metadata": {},
   "outputs": [
    {
     "name": "stdout",
     "output_type": "stream",
     "text": [
      "Cited response captured...\n",
      "{'id': 'chatcmpl-AX92SnB1xEQMe3NWs5w7ry5p4SDoT', 'choices': [{'finish_reason': 'stop', 'index': 0, 'logprobs': None, 'message': {'content': 'Life insurance is a contract between a policyholder and an insurance company, where the insurer agrees to pay a specified sum of money to designated beneficiaries upon the policyholder’s death, in exchange for premium payments made by the policyholder[1][2]. The primary purpose of life insurance is to provide financial security to the insured’s dependents, helping them cover expenses such as funeral costs, debts, or living expenses[1][2].\\n\\nThere are various types of life insurance, including term life insurance, which provides coverage for a specific period, and whole life insurance, which offers lifelong coverage along with a savings component[1][3]. Within these categories, there are specific programs such as the Veterans Affairs Life Insurance (VALife), which is tailored for service-connected veterans, providing guaranteed acceptance whole life coverage[2][3].\\n\\nSome life insurance policies also include living benefits that allow the policyholder to access a portion of the death benefit if diagnosed with a chronic, critical, or terminal illness[1]. Regulatory standards govern life insurance to ensure transparency and protect consumers, involving detailed illustrations of policy performance and requirements[4].', 'refusal': None, 'role': 'assistant', 'audio': None, 'function_call': None, 'tool_calls': None}}], 'created': 1732462932, 'model': 'gpt-4o-2024-08-06', 'object': 'chat.completion', 'service_tier': None, 'system_fingerprint': 'fp_831e067d82', 'usage': {'completion_tokens': 223, 'prompt_tokens': 1086, 'total_tokens': 1309, 'completion_tokens_details': {'accepted_prediction_tokens': 0, 'audio_tokens': 0, 'reasoning_tokens': 0, 'rejected_prediction_tokens': 0}, 'prompt_tokens_details': {'audio_tokens': 0, 'cached_tokens': 0}}}\n"
     ]
    }
   ],
   "source": [
    "\n",
    "\"\"\"\n",
    "Send sets of reference material to the writer-citer\n",
    "\"\"\"\n",
    "\n",
    "writer_citer_model_responses = []\n",
    "\n",
    "# Generate a cited response\n",
    "cited_response = writer_citer.generate_cited_response(\n",
    "    rephrased_query=query,\n",
    "    set_of_reference_query=unmodified_set_of_reference_material\n",
    ")\n",
    "\n",
    "if cited_response:\n",
    "    print(\"Cited response captured...\")\n",
    "    print(cited_response)\n",
    "else:\n",
    "    print(\"Failed to generate cited response.\")\n",
    "        \n",
    "\n"
   ]
  },
  {
   "cell_type": "code",
   "execution_count": 16,
   "id": "06c66a59-0571-45f1-a79b-28898e465be1",
   "metadata": {},
   "outputs": [
    {
     "data": {
      "text/plain": [
       "[{'id': 'chatcmpl-AX92SnB1xEQMe3NWs5w7ry5p4SDoT',\n",
       "  'choices': [{'finish_reason': 'stop',\n",
       "    'index': 0,\n",
       "    'logprobs': None,\n",
       "    'message': {'content': 'Life insurance is a contract between a policyholder and an insurance company, where the insurer agrees to pay a specified sum of money to designated beneficiaries upon the policyholder’s death, in exchange for premium payments made by the policyholder[1][2]. The primary purpose of life insurance is to provide financial security to the insured’s dependents, helping them cover expenses such as funeral costs, debts, or living expenses[1][2].\\n\\nThere are various types of life insurance, including term life insurance, which provides coverage for a specific period, and whole life insurance, which offers lifelong coverage along with a savings component[1][3]. Within these categories, there are specific programs such as the Veterans Affairs Life Insurance (VALife), which is tailored for service-connected veterans, providing guaranteed acceptance whole life coverage[2][3].\\n\\nSome life insurance policies also include living benefits that allow the policyholder to access a portion of the death benefit if diagnosed with a chronic, critical, or terminal illness[1]. Regulatory standards govern life insurance to ensure transparency and protect consumers, involving detailed illustrations of policy performance and requirements[4].',\n",
       "     'refusal': None,\n",
       "     'role': 'assistant',\n",
       "     'audio': None,\n",
       "     'function_call': None,\n",
       "     'tool_calls': None}}],\n",
       "  'created': 1732462932,\n",
       "  'model': 'gpt-4o-2024-08-06',\n",
       "  'object': 'chat.completion',\n",
       "  'service_tier': None,\n",
       "  'system_fingerprint': 'fp_831e067d82',\n",
       "  'usage': {'completion_tokens': 223,\n",
       "   'prompt_tokens': 1086,\n",
       "   'total_tokens': 1309,\n",
       "   'completion_tokens_details': {'accepted_prediction_tokens': 0,\n",
       "    'audio_tokens': 0,\n",
       "    'reasoning_tokens': 0,\n",
       "    'rejected_prediction_tokens': 0},\n",
       "   'prompt_tokens_details': {'audio_tokens': 0, 'cached_tokens': 0}},\n",
       "  'improvement_method': 0}]"
      ]
     },
     "execution_count": 16,
     "metadata": {},
     "output_type": "execute_result"
    }
   ],
   "source": [
    "cited_response['improvement_method'] = 0\n",
    "\n",
    "writer_citer_model_responses.append(cited_response)\n",
    "writer_citer_model_responses"
   ]
  },
  {
   "cell_type": "code",
   "execution_count": 17,
   "id": "8e9ce661-efbe-459d-b1d6-72698f4c3b61",
   "metadata": {},
   "outputs": [
    {
     "name": "stdout",
     "output_type": "stream",
     "text": [
      "Cited Response:\n",
      "{'id': 'chatcmpl-AX92bfA7F7Qe0KwgPWSFtGPpF6Odo', 'choices': [{'finish_reason': 'stop', 'index': 0, 'logprobs': None, 'message': {'content': \"Life insurance is a financial product designed to provide coverage and financial protection to beneficiaries in the event of the policyholder's death. It operates as a contract between an insurance company and the policyholder, whereby the insurer agrees to pay a designated sum of money to the beneficiaries upon the policyholder's death, in exchange for periodic premium payments [1][5]. \\n\\nLife insurance serves the primary purpose of ensuring financial security for the policyholder's loved ones, helping to cover expenses such as funerals, debts, or other financial needs that might arise after the policyholder's passing [1][5]. Additionally, some life insurance policies also offer living benefits. This provision allows a policyholder diagnosed with a covered chronic, critical, or terminal illness to access a portion of the death benefit while still alive, providing additional support during their lifetime [1].\\n\\nThere are various types of life insurance products available to meet different needs and preferences. Permanent life insurance, which includes whole life and adjustable premium policies, offers lifelong coverage and can build cash value over time. Term life insurance provides protection for a specific period, such as 10, 20, or 30 years, and is often more affordable for temporary coverage needs [5]. \\n\\nFurthermore, life insurance is designed to guarantee peace of mind, ensuring the financial well-being of families should the unforeseen happen, and regulatory standards are in place to ensure transparency and consumer protection in policy illustrations and agreements [4][5].\", 'refusal': None, 'role': 'assistant', 'audio': None, 'function_call': None, 'tool_calls': None}}], 'created': 1732462941, 'model': 'gpt-4o-2024-08-06', 'object': 'chat.completion', 'service_tier': None, 'system_fingerprint': 'fp_831e067d82', 'usage': {'completion_tokens': 290, 'prompt_tokens': 1214, 'total_tokens': 1504, 'completion_tokens_details': {'accepted_prediction_tokens': 0, 'audio_tokens': 0, 'reasoning_tokens': 0, 'rejected_prediction_tokens': 0}, 'prompt_tokens_details': {'audio_tokens': 0, 'cached_tokens': 0}}}\n"
     ]
    }
   ],
   "source": [
    "# Generate a cited response\n",
    "cited_response = writer_citer.generate_cited_response(\n",
    "    rephrased_query=query,\n",
    "    set_of_reference_query=new_set_of_reference_material\n",
    ")\n",
    "\n",
    "if cited_response:\n",
    "    print(\"Cited Response:\")\n",
    "    print(cited_response)\n",
    "else:\n",
    "    print(\"Failed to generate cited response.\")"
   ]
  },
  {
   "cell_type": "code",
   "execution_count": 18,
   "id": "74410bf9-4052-485a-b123-025f0a8db237",
   "metadata": {},
   "outputs": [
    {
     "data": {
      "text/plain": [
       "[{'id': 'chatcmpl-AX92SnB1xEQMe3NWs5w7ry5p4SDoT',\n",
       "  'choices': [{'finish_reason': 'stop',\n",
       "    'index': 0,\n",
       "    'logprobs': None,\n",
       "    'message': {'content': 'Life insurance is a contract between a policyholder and an insurance company, where the insurer agrees to pay a specified sum of money to designated beneficiaries upon the policyholder’s death, in exchange for premium payments made by the policyholder[1][2]. The primary purpose of life insurance is to provide financial security to the insured’s dependents, helping them cover expenses such as funeral costs, debts, or living expenses[1][2].\\n\\nThere are various types of life insurance, including term life insurance, which provides coverage for a specific period, and whole life insurance, which offers lifelong coverage along with a savings component[1][3]. Within these categories, there are specific programs such as the Veterans Affairs Life Insurance (VALife), which is tailored for service-connected veterans, providing guaranteed acceptance whole life coverage[2][3].\\n\\nSome life insurance policies also include living benefits that allow the policyholder to access a portion of the death benefit if diagnosed with a chronic, critical, or terminal illness[1]. Regulatory standards govern life insurance to ensure transparency and protect consumers, involving detailed illustrations of policy performance and requirements[4].',\n",
       "     'refusal': None,\n",
       "     'role': 'assistant',\n",
       "     'audio': None,\n",
       "     'function_call': None,\n",
       "     'tool_calls': None}}],\n",
       "  'created': 1732462932,\n",
       "  'model': 'gpt-4o-2024-08-06',\n",
       "  'object': 'chat.completion',\n",
       "  'service_tier': None,\n",
       "  'system_fingerprint': 'fp_831e067d82',\n",
       "  'usage': {'completion_tokens': 223,\n",
       "   'prompt_tokens': 1086,\n",
       "   'total_tokens': 1309,\n",
       "   'completion_tokens_details': {'accepted_prediction_tokens': 0,\n",
       "    'audio_tokens': 0,\n",
       "    'reasoning_tokens': 0,\n",
       "    'rejected_prediction_tokens': 0},\n",
       "   'prompt_tokens_details': {'audio_tokens': 0, 'cached_tokens': 0}},\n",
       "  'improvement_method': 0},\n",
       " {'id': 'chatcmpl-AX92bfA7F7Qe0KwgPWSFtGPpF6Odo',\n",
       "  'choices': [{'finish_reason': 'stop',\n",
       "    'index': 0,\n",
       "    'logprobs': None,\n",
       "    'message': {'content': \"Life insurance is a financial product designed to provide coverage and financial protection to beneficiaries in the event of the policyholder's death. It operates as a contract between an insurance company and the policyholder, whereby the insurer agrees to pay a designated sum of money to the beneficiaries upon the policyholder's death, in exchange for periodic premium payments [1][5]. \\n\\nLife insurance serves the primary purpose of ensuring financial security for the policyholder's loved ones, helping to cover expenses such as funerals, debts, or other financial needs that might arise after the policyholder's passing [1][5]. Additionally, some life insurance policies also offer living benefits. This provision allows a policyholder diagnosed with a covered chronic, critical, or terminal illness to access a portion of the death benefit while still alive, providing additional support during their lifetime [1].\\n\\nThere are various types of life insurance products available to meet different needs and preferences. Permanent life insurance, which includes whole life and adjustable premium policies, offers lifelong coverage and can build cash value over time. Term life insurance provides protection for a specific period, such as 10, 20, or 30 years, and is often more affordable for temporary coverage needs [5]. \\n\\nFurthermore, life insurance is designed to guarantee peace of mind, ensuring the financial well-being of families should the unforeseen happen, and regulatory standards are in place to ensure transparency and consumer protection in policy illustrations and agreements [4][5].\",\n",
       "     'refusal': None,\n",
       "     'role': 'assistant',\n",
       "     'audio': None,\n",
       "     'function_call': None,\n",
       "     'tool_calls': None}}],\n",
       "  'created': 1732462941,\n",
       "  'model': 'gpt-4o-2024-08-06',\n",
       "  'object': 'chat.completion',\n",
       "  'service_tier': None,\n",
       "  'system_fingerprint': 'fp_831e067d82',\n",
       "  'usage': {'completion_tokens': 290,\n",
       "   'prompt_tokens': 1214,\n",
       "   'total_tokens': 1504,\n",
       "   'completion_tokens_details': {'accepted_prediction_tokens': 0,\n",
       "    'audio_tokens': 0,\n",
       "    'reasoning_tokens': 0,\n",
       "    'rejected_prediction_tokens': 0},\n",
       "   'prompt_tokens_details': {'audio_tokens': 0, 'cached_tokens': 0}},\n",
       "  'improvement_method': 1}]"
      ]
     },
     "execution_count": 18,
     "metadata": {},
     "output_type": "execute_result"
    }
   ],
   "source": [
    "cited_response['improvement_method'] = 1\n",
    "\n",
    "writer_citer_model_responses.append(cited_response)\n",
    "writer_citer_model_responses"
   ]
  },
  {
   "cell_type": "code",
   "execution_count": 19,
   "id": "94fe7961-b4cd-41a0-97d7-1af438c7658c",
   "metadata": {},
   "outputs": [
    {
     "name": "stdout",
     "output_type": "stream",
     "text": [
      "Life insurance is a contract between a policyholder and an insurance company, where the insurer agrees to pay a specified sum of money to designated beneficiaries upon the policyholder’s death, in exchange for premium payments made by the policyholder[1][2]. The primary purpose of life insurance is to provide financial security to the insured’s dependents, helping them cover expenses such as funeral costs, debts, or living expenses[1][2].\n",
      "\n",
      "There are various types of life insurance, including term life insurance, which provides coverage for a specific period, and whole life insurance, which offers lifelong coverage along with a savings component[1][3]. Within these categories, there are specific programs such as the Veterans Affairs Life Insurance (VALife), which is tailored for service-connected veterans, providing guaranteed acceptance whole life coverage[2][3].\n",
      "\n",
      "Some life insurance policies also include living benefits that allow the policyholder to access a portion of the death benefit if diagnosed with a chronic, critical, or terminal illness[1]. Regulatory standards govern life insurance to ensure transparency and protect consumers, involving detailed illustrations of policy performance and requirements[4].\n",
      "---\n",
      "Life insurance is a financial product designed to provide coverage and financial protection to beneficiaries in the event of the policyholder's death. It operates as a contract between an insurance company and the policyholder, whereby the insurer agrees to pay a designated sum of money to the beneficiaries upon the policyholder's death, in exchange for periodic premium payments [1][5]. \n",
      "\n",
      "Life insurance serves the primary purpose of ensuring financial security for the policyholder's loved ones, helping to cover expenses such as funerals, debts, or other financial needs that might arise after the policyholder's passing [1][5]. Additionally, some life insurance policies also offer living benefits. This provision allows a policyholder diagnosed with a covered chronic, critical, or terminal illness to access a portion of the death benefit while still alive, providing additional support during their lifetime [1].\n",
      "\n",
      "There are various types of life insurance products available to meet different needs and preferences. Permanent life insurance, which includes whole life and adjustable premium policies, offers lifelong coverage and can build cash value over time. Term life insurance provides protection for a specific period, such as 10, 20, or 30 years, and is often more affordable for temporary coverage needs [5]. \n",
      "\n",
      "Furthermore, life insurance is designed to guarantee peace of mind, ensuring the financial well-being of families should the unforeseen happen, and regulatory standards are in place to ensure transparency and consumer protection in policy illustrations and agreements [4][5].\n",
      "---\n"
     ]
    }
   ],
   "source": [
    "for item in writer_citer_model_responses:\n",
    "    print(item['choices'][0]['message']['content'])\n",
    "    print(\"---\")"
   ]
  },
  {
   "cell_type": "code",
   "execution_count": 20,
   "id": "d08cd94f-8edd-4c1b-8865-6e0b9cea951d",
   "metadata": {},
   "outputs": [
    {
     "name": "stdout",
     "output_type": "stream",
     "text": [
      "Data saved to ../data/WriterCiterModelResponses/5.json\n"
     ]
    }
   ],
   "source": [
    "# Save to disk\n",
    "storage_manager.save_to_folder(\"WriterCiterModelResponses\", writer_citer_model_responses, f\"{trial_number}.json\")"
   ]
  },
  {
   "cell_type": "code",
   "execution_count": 21,
   "id": "772ae494-bb78-426b-9fd3-ab88afb15386",
   "metadata": {},
   "outputs": [
    {
     "name": "stdout",
     "output_type": "stream",
     "text": [
      "Hello\n"
     ]
    }
   ],
   "source": [
    "print(\"Hello\")"
   ]
  },
  {
   "cell_type": "code",
   "execution_count": 23,
   "id": "80387975-0e5a-46aa-ba4c-23df30eecab3",
   "metadata": {},
   "outputs": [
    {
     "data": {
      "text/plain": [
       "[{'improvement_method': 0,\n",
       "  'set_of_reference_material': [{'link': 'https://www.libertymutual.com/insurance-resources/life/how-does-life-insurance-work',\n",
       "    'information': \"Life insurance is a contract between an insurance company and policyholder. In exchange for a premium, the life insurance company agrees to pay a sum of money to one or more named beneficiaries upon the death of the policyholder. The purpose of life insurance is to help provide financial security to your loved ones upon your death. Some life policies also offer living benefits, allowing payment of a part of the policy's death benefit while you're still alive if diagnosed with a covered chronic, critical, or terminal illness.\"},\n",
       "   {'link': 'https://www.benefits.va.gov/insurance/',\n",
       "    'information': \"Life insurance is a financial product that provides coverage in the event of death, offering beneficiaries a payout. There are various types of life insurance available:\\n\\n1. **Veterans Affairs Life Insurance (VALife)** - A guaranteed acceptance whole life insurance program for service-connected Veterans aged 80 and under, providing coverage of up to $40,000.\\n\\n2. **Servicemembers' Group Life Insurance (SGLI)** - A low-cost group term life insurance program for Servicemembers, which can be extended for up to two years if the Servicemember is totally disabled at separation.\\n\\n3. **Veterans' Group Life Insurance (VGLI)** - Allows Veterans to convert SGLI into a civilian program of lifetime renewable term coverage after separation from service.\\n\\n4. **Family Servicemembers' Group Life Insurance (FSGLI)** - Insurance for the spouses and children of Servicemembers covered under SGLI.\\n\\n5. **Servicemembers' Group Life Insurance Traumatic Injury Protection (TSGLI)** - Provides payments to Servicemembers suffering losses due to traumatic injuries in service.\\n\\n6. **Veterans' Mortgage Life Insurance (VMLI)** - Provides mortgage life insurance protection to disabled Veterans approved for a VA Specially Adapted Housing grant.\\n\\n7. **Service-Disabled Veterans' Life Insurance (S-DVI)** - Closed to new enrollment after December 31, 2022. \\n\\nLife insurance policies typically come with options regarding coverage amounts, eligibility requirements, and the application process.\"},\n",
       "   {'link': 'https://www.va.gov/life-insurance/options-eligibility/valife/',\n",
       "    'information': \"Life insurance is a type of insurance that provides financial protection for your beneficiaries in the event of your death. The Veterans Affairs Life Insurance (VALife) is an option available to veterans, providing low-cost whole life insurance coverage specifically to those with service-connected disabilities. Here are key points about VALife:\\n\\n- VALife offers up to $40,000 in whole life insurance coverage, available in $10,000 increments.\\n- It is guaranteed acceptance whole life insurance, meaning if you meet the eligibility requirements, your application is automatically approved without needing to prove good health.\\n- The insurance coverage starts two years after your application is approved, during which premiums must be paid.\\n- If the insured person dies within the two-year waiting period, beneficiaries will receive the total amount of premiums paid plus interest.\\n\\nBeneficiaries are the individuals designated to receive the life insurance payout upon the policyholder's death.\"},\n",
       "   {'link': 'https://content.naic.org/insurance-topics/life-insurance',\n",
       "    'information': \"Life insurance is a type of insurance policy that provides a death benefit to beneficiaries upon the insured's death. One aspect of life insurance is the life insurance illustration, which is a presentation provided to prospective or new policy owners, showing how the policy should perform under specific circumstances. \\n\\nLife insurance illustrations include details such as the benefits for a policyholder, the required premiums, and the expenses related to issuing and maintaining the policy. These illustrations are governed by regulations to protect consumers and help them understand their policies. There are three types of illustrations defined: basic illustrations, supplemental illustrations, and in-force illustrations, each serving different purposes in the marketing and understanding of life insurance policies. \\n\\nRegulatory standards aim to ensure transparency and consumer protection regarding life insurance policies and their illustrations.\"},\n",
       "   {'link': 'https://www.sfbli.com/',\n",
       "    'information': 'THERE IS NO RELEVANT INFORMATION IN THE RAW TEXT'}]},\n",
       " {'improvement_method': 1,\n",
       "  'set_of_reference_material': [{'link': 'https://www.libertymutual.com/insurance-resources/life/how-does-life-insurance-work',\n",
       "    'information': \"Life insurance is a contract between an insurance company and policyholder. In exchange for a premium, the life insurance company agrees to pay a sum of money to one or more named beneficiaries upon the death of the policyholder. The purpose of life insurance is to help provide financial security to your loved ones upon your death. Some life policies also offer living benefits, allowing payment of a part of the policy's death benefit while you're still alive if diagnosed with a covered chronic, critical, or terminal illness.\"},\n",
       "   {'link': 'https://www.benefits.va.gov/insurance/',\n",
       "    'information': \"Life insurance is a financial product that provides coverage in the event of death, offering beneficiaries a payout. There are various types of life insurance available:\\n\\n1. **Veterans Affairs Life Insurance (VALife)** - A guaranteed acceptance whole life insurance program for service-connected Veterans aged 80 and under, providing coverage of up to $40,000.\\n\\n2. **Servicemembers' Group Life Insurance (SGLI)** - A low-cost group term life insurance program for Servicemembers, which can be extended for up to two years if the Servicemember is totally disabled at separation.\\n\\n3. **Veterans' Group Life Insurance (VGLI)** - Allows Veterans to convert SGLI into a civilian program of lifetime renewable term coverage after separation from service.\\n\\n4. **Family Servicemembers' Group Life Insurance (FSGLI)** - Insurance for the spouses and children of Servicemembers covered under SGLI.\\n\\n5. **Servicemembers' Group Life Insurance Traumatic Injury Protection (TSGLI)** - Provides payments to Servicemembers suffering losses due to traumatic injuries in service.\\n\\n6. **Veterans' Mortgage Life Insurance (VMLI)** - Provides mortgage life insurance protection to disabled Veterans approved for a VA Specially Adapted Housing grant.\\n\\n7. **Service-Disabled Veterans' Life Insurance (S-DVI)** - Closed to new enrollment after December 31, 2022. \\n\\nLife insurance policies typically come with options regarding coverage amounts, eligibility requirements, and the application process.\"},\n",
       "   {'link': 'https://www.va.gov/life-insurance/options-eligibility/valife/',\n",
       "    'information': \"Life insurance is a type of insurance that provides financial protection for your beneficiaries in the event of your death. The Veterans Affairs Life Insurance (VALife) is an option available to veterans, providing low-cost whole life insurance coverage specifically to those with service-connected disabilities. Here are key points about VALife:\\n\\n- VALife offers up to $40,000 in whole life insurance coverage, available in $10,000 increments.\\n- It is guaranteed acceptance whole life insurance, meaning if you meet the eligibility requirements, your application is automatically approved without needing to prove good health.\\n- The insurance coverage starts two years after your application is approved, during which premiums must be paid.\\n- If the insured person dies within the two-year waiting period, beneficiaries will receive the total amount of premiums paid plus interest.\\n\\nBeneficiaries are the individuals designated to receive the life insurance payout upon the policyholder's death.\"},\n",
       "   {'link': 'https://content.naic.org/insurance-topics/life-insurance',\n",
       "    'information': \"Life insurance is a type of insurance policy that provides a death benefit to beneficiaries upon the insured's death. One aspect of life insurance is the life insurance illustration, which is a presentation provided to prospective or new policy owners, showing how the policy should perform under specific circumstances. \\n\\nLife insurance illustrations include details such as the benefits for a policyholder, the required premiums, and the expenses related to issuing and maintaining the policy. These illustrations are governed by regulations to protect consumers and help them understand their policies. There are three types of illustrations defined: basic illustrations, supplemental illustrations, and in-force illustrations, each serving different purposes in the marketing and understanding of life insurance policies. \\n\\nRegulatory standards aim to ensure transparency and consumer protection regarding life insurance policies and their illustrations.\"},\n",
       "   {'link': 'https://www.sfbli.com/',\n",
       "    'information': \"Life insurance is a financial product that provides coverage to policyholders in exchange for regular payments known as premiums. It is designed to protect families and provide financial security by offering a death benefit to beneficiaries upon the insured's passing. Various types of life insurance policies, such as permanent and term life insurance, cater to different needs and preferences. Permanent life insurance options, including whole life and adjustable premium policies, offer lifelong coverage with various payment structures. In contrast, term life insurance provides coverage for a specific period, such as 10, 20, or 30 years, and is typically more cost-effective for those seeking temporary protection. Life insurance aims to ensure peace of mind for families by safeguarding their financial future.\"}]}]"
      ]
     },
     "execution_count": 23,
     "metadata": {},
     "output_type": "execute_result"
    }
   ],
   "source": []
  },
  {
   "cell_type": "code",
   "execution_count": 24,
   "id": "cdb2e983-f24d-412d-abf9-1c2caf595a34",
   "metadata": {},
   "outputs": [
    {
     "name": "stdout",
     "output_type": "stream",
     "text": [
      "Data saved to ../data/SetsOfReferenceMaterial/5.json\n"
     ]
    }
   ],
   "source": []
  },
  {
   "cell_type": "code",
   "execution_count": null,
   "id": "987da967-da01-40d5-9c92-5545e3668143",
   "metadata": {},
   "outputs": [],
   "source": []
  }
 ],
 "metadata": {
  "kernelspec": {
   "display_name": "perplexity-clone",
   "language": "python",
   "name": "perplexity-clone"
  },
  "language_info": {
   "codemirror_mode": {
    "name": "ipython",
    "version": 3
   },
   "file_extension": ".py",
   "mimetype": "text/x-python",
   "name": "python",
   "nbconvert_exporter": "python",
   "pygments_lexer": "ipython3",
   "version": "3.13.0"
  }
 },
 "nbformat": 4,
 "nbformat_minor": 5
}
