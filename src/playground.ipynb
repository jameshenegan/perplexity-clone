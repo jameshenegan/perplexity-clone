{
 "cells": [
  {
   "cell_type": "code",
   "execution_count": 1,
   "id": "fc255b2d-df36-4616-9403-221376570be3",
   "metadata": {},
   "outputs": [
    {
     "name": "stdout",
     "output_type": "stream",
     "text": [
      "Data saved to ../data/InitialGoogleResponses/2.json\n",
      "Data loaded from ../data/InitialGoogleResponses/2.json\n",
      "Data saved to ../data/RawTextFromHTML/2.json\n",
      "Data loaded from ../data/RawTextFromHTML/2.json\n",
      "Data saved to ../data/WebsiteRefinerModelResponses/2.json\n",
      "Data saved to ../data/CorpusRefinerModelResponses/2.json\n"
     ]
    }
   ],
   "source": [
    "from dotenv import dotenv_values\n",
    "import requests\n",
    "\n",
    "from helpers.google_interactor import GoogleInteractor\n",
    "from helpers.html_parser import HTMLParser \n",
    "from helpers.storage_manager import StorageManager\n",
    "from helpers.refiner_model import RefinerModel\n",
    "from helpers.improver_model import ImproverModel\n",
    "\n",
    "\n",
    "# Load environment variables\n",
    "config = dotenv_values(\"../.env\")\n",
    "google_api_key = config['GOOGLE_API_KEY']\n",
    "search_engine_id = config['SEARCH_ENGINE_ID']\n",
    "\n",
    "# Instantiate helpers\n",
    "google_interactor = GoogleInteractor(api_key=google_api_key, search_engine_id=search_engine_id)\n",
    "storage_manager = StorageManager(\"../data/\")    \n",
    "website_refiner = RefinerModel(api_key=config['OPEN_AI_API_KEY'])\n",
    "corpus_refiner = RefinerModel(api_key=config['OPEN_AI_API_KEY'])\n",
    "improver_model = ImproverModel(api_key=config['OPEN_AI_API_KEY'])\n",
    "\n",
    "\n",
    "# Load the clean corpus text\n",
    "with open(\"../data/clean_content.txt\") as f:\n",
    "    corpus_text = f.read()\n",
    "\n",
    "# Number of links to consider\n",
    "K = 5\n",
    "\n",
    "# Declare trial number\n",
    "trial_number = 2\n",
    "\n",
    "# Select a query to use for the current trial\n",
    "query = \"What products are offered by Southern Farm Bureau Life Insurance Company?\"\n",
    "\n",
    "# Submit the query to Google\n",
    "search_results = google_interactor.search_google(query=query, num_results=10)\n",
    "    \n",
    "# Store the response\n",
    "storage_manager.save_to_folder(\"InitialGoogleResponses\", search_results, f\"{trial_number}.json\")\n",
    "\n",
    "\n",
    "\"\"\"\n",
    "Get Raw Text from the HTML associated with the Google Links\n",
    "\"\"\"\n",
    "\n",
    "# Retrieve the stored response\n",
    "search_results = storage_manager.load_from_folder(\"InitialGoogleResponses\", f\"{trial_number}.json\")\n",
    "\n",
    "raw_text_from_html = []\n",
    "items = search_results['items']\n",
    "\n",
    "# For each item of raw text that was stored ...\n",
    "for item in search_results['items'][:K]:\n",
    "    link = item['link']\n",
    "\n",
    "    # Fet the HTML associated with the link\n",
    "    response = requests.get(link)\n",
    "\n",
    "    # Get the raw text associated with the HTML\n",
    "    parsed_text = HTMLParser.parse_html(response.content)\n",
    "\n",
    "    # Store the raw text from the HTML\n",
    "    raw_text_from_html.append({\"link\" : link, \"raw_text\" : parsed_text})\n",
    "    \n",
    "storage_manager.save_to_folder(\"RawTextFromHTML\", raw_text_from_html, f\"{trial_number}.json\")\n",
    "\n",
    "\n",
    "\"\"\"\n",
    "Get the refined text from the raw text\n",
    "\"\"\"\n",
    "\n",
    "raw_text_from_html = storage_manager.load_from_folder(\"RawTextFromHTML\", f\"{trial_number}.json\")\n",
    "\n",
    "website_refiner_responses = []\n",
    "# For each element of raw text that was stored ...\n",
    "for current_item in raw_text_from_html:\n",
    "    \n",
    "    link = current_item['link']\n",
    "    raw_text = current_item['raw_text']   \n",
    "\n",
    "    \n",
    "    response_from_website_refiner = website_refiner.refine_text(raw_text=raw_text, query=query)\n",
    "    \n",
    "    if response_from_website_refiner:\n",
    "        response_from_website_refiner['link'] = link\n",
    "        website_refiner_responses.append(response_from_website_refiner)\n",
    "    else:\n",
    "        print(\"Failed to refine text.\")\n",
    "\n",
    "storage_manager.save_to_folder(\"WebsiteRefinerModelResponses\", website_refiner_responses, f\"{trial_number}.json\")\n",
    "\n",
    "\n",
    "\"\"\"\n",
    "Filter the corpus to information that may be relevant to the query\n",
    "\"\"\"\n",
    "\n",
    "response_from_corpus_refiner = corpus_refiner.refine_text(raw_text=corpus_text, query=query)\n",
    "storage_manager.save_to_folder(\"CorpusRefinerModelResponses\", response_from_corpus_refiner, f\"{trial_number}.json\")"
   ]
  },
  {
   "cell_type": "code",
   "execution_count": 2,
   "id": "afae59b5-6f04-4f9b-8a42-77a0a6edd9bc",
   "metadata": {},
   "outputs": [
    {
     "name": "stdout",
     "output_type": "stream",
     "text": [
      "Data loaded from ../data/WebsiteRefinerModelResponses/2.json\n",
      "Data loaded from ../data/CorpusRefinerModelResponses/2.json\n"
     ]
    },
    {
     "data": {
      "text/plain": [
       "'Southern Farm Bureau Life Insurance Company offers the following products:\\n\\n1. **Life Insurance Products:**\\n   - **Permanent Life Insurance:** Whole life, single premium, modified premium, and adjustable premium options.\\n   - **Term Life Insurance:** Coverage available in 10, 20, and 30-year terms.\\n\\n2. **Financial Planning Services:**\\n   - Estate and retirement planning.\\n   - Tax-qualified and non-qualified retirement plans.\\n   - Banking services, including certificates of deposit, money market accounts, health savings accounts, and loans.\\n\\n3. **Additional Services:**\\n   - Customized policies for wealth transfer, debt repayment, and daily living costs. \\n\\nFor more details, visit their website at [sfbli.com](https://www.sfbli.com).'"
      ]
     },
     "execution_count": 2,
     "metadata": {},
     "output_type": "execute_result"
    }
   ],
   "source": [
    "# Get the refined text from the website\n",
    "website_refiner_responses = storage_manager.load_from_folder(\"WebsiteRefinerModelResponses\", f\"{trial_number}.json\")\n",
    "sfblic_response = [response for response in website_refiner_responses if response['link'] == 'https://www.sfbli.com/'][0]\n",
    "refined_text_from_website = sfblic_response['choices'][0]['message']['content']\n",
    "\n",
    "# Get the refined text from the corpus\n",
    "response_from_corpus_refiner = storage_manager.load_from_folder(\"CorpusRefinerModelResponses\", f\"{trial_number}.json\")\n",
    "refined_text_from_corpus = response_from_corpus_refiner['choices'][0]['message']['content']\n",
    "refined_text_from_corpus"
   ]
  },
  {
   "cell_type": "code",
   "execution_count": 3,
   "id": "e70740c5-3235-4f7c-9c49-ebadb4bcbab6",
   "metadata": {},
   "outputs": [
    {
     "name": "stdout",
     "output_type": "stream",
     "text": [
      "Improved Text generated...\n"
     ]
    }
   ],
   "source": [
    "# Generate improved text\n",
    "improved_text = improver_model.improve_text(\n",
    "    query=query,\n",
    "    refined_text_from_website=refined_text_from_website,\n",
    "    refined_text_from_corpus=refined_text_from_corpus\n",
    ")\n",
    "\n",
    "if improved_text:\n",
    "    print(\"Improved Text generated...\")\n",
    "    \n",
    "else:\n",
    "    print(\"Failed to improve text.\")"
   ]
  },
  {
   "cell_type": "code",
   "execution_count": 4,
   "id": "79412bb0-d498-454a-9cb4-1687b80651c0",
   "metadata": {},
   "outputs": [
    {
     "name": "stdout",
     "output_type": "stream",
     "text": [
      "Southern Farm Bureau Life Insurance Company offers a range of products and services, including:\n",
      "\n",
      "1. **Life Insurance Products:**\n",
      "   - **Permanent Life Insurance:** Options include whole life, single premium, modified premium, and adjustable premium policies.\n",
      "   - **Term Life Insurance:** Coverage is available in 10, 20, and 30-year terms.\n",
      "\n",
      "2. **Financial Planning Services:**\n",
      "   - Estate and retirement planning.\n",
      "   - Tax-qualified and non-qualified retirement plans.\n",
      "   - Banking services, such as certificates of deposit, money market accounts, health savings accounts, and loans.\n",
      "\n",
      "3. **Additional Services:**\n",
      "   - Customized policies that cater to wealth transfer, debt repayment, and covering daily living costs.\n",
      "\n",
      "For more details, please visit their website at [sfbli.com](https://www.sfbli.com).\n"
     ]
    }
   ],
   "source": [
    "print(improved_text['choices'][0]['message']['content'])"
   ]
  },
  {
   "cell_type": "code",
   "execution_count": null,
   "id": "9d9d6ed7-1804-4c6b-9b0e-fd934b2dcfd6",
   "metadata": {},
   "outputs": [],
   "source": []
  }
 ],
 "metadata": {
  "kernelspec": {
   "display_name": "perplexity-clone",
   "language": "python",
   "name": "perplexity-clone"
  },
  "language_info": {
   "codemirror_mode": {
    "name": "ipython",
    "version": 3
   },
   "file_extension": ".py",
   "mimetype": "text/x-python",
   "name": "python",
   "nbconvert_exporter": "python",
   "pygments_lexer": "ipython3",
   "version": "3.13.0"
  }
 },
 "nbformat": 4,
 "nbformat_minor": 5
}
