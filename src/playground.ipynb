{
 "cells": [
  {
   "cell_type": "code",
   "execution_count": 1,
   "id": "fc255b2d-df36-4616-9403-221376570be3",
   "metadata": {},
   "outputs": [],
   "source": [
    "from dotenv import dotenv_values\n",
    "import requests\n",
    "\n",
    "from helpers.google_interactor import GoogleInteractor\n",
    "from helpers.html_parser import HTMLParser \n",
    "from helpers.storage_manager import StorageManager\n",
    "from helpers.refiner_model import RefinerModel\n",
    "from helpers.improver_model import ImproverModel\n",
    "from helpers.writer_citer_model import WriterCiterModel\n",
    "\n",
    "\n",
    "\"\"\"\n",
    "============================================\n",
    "Run through a single trial of the experiment\n",
    "============================================\n",
    "\"\"\"\n",
    "\n",
    "\"\"\"\n",
    "Set up\n",
    "\"\"\"\n",
    "\n",
    "# Number of links to consider\n",
    "K = 5\n",
    "\n",
    "# Declare trial number\n",
    "trial_number = 4\n",
    "\n",
    "\"\"\"\n",
    "Configuration\n",
    "\"\"\"\n",
    "\n",
    "# Load environment variables\n",
    "config = dotenv_values(\"../.env\")\n",
    "google_api_key = config['GOOGLE_API_KEY']\n",
    "search_engine_id = config['SEARCH_ENGINE_ID']\n",
    "\n",
    "# Instantiate helpers\n",
    "google_interactor = GoogleInteractor(api_key=google_api_key, search_engine_id=search_engine_id)\n",
    "storage_manager = StorageManager(\"../data/\")    \n",
    "website_refiner = RefinerModel(api_key=config['OPEN_AI_API_KEY'])\n",
    "corpus_refiner = RefinerModel(api_key=config['OPEN_AI_API_KEY'])\n",
    "improver_model = ImproverModel(api_key=config['OPEN_AI_API_KEY'])\n",
    "writer_citer = WriterCiterModel(api_key=config['OPEN_AI_API_KEY'])\n",
    "\n",
    "\n",
    "# Load the clean corpus text\n",
    "with open(\"../data/clean_content.txt\") as f:\n",
    "    corpus_text = f.read()\n",
    "\n",
    "\n",
    "# Select a query to use for the current trial\n",
    "query = \"Why should I buy Life Insurance from Southern Farm Bureau?\""
   ]
  },
  {
   "cell_type": "code",
   "execution_count": 2,
   "id": "f2aef6cb-0a86-4452-9111-02a7bb3c4b6a",
   "metadata": {},
   "outputs": [
    {
     "name": "stdout",
     "output_type": "stream",
     "text": [
      "Data saved to ../data/InitialGoogleResponses/4.json\n"
     ]
    }
   ],
   "source": [
    "\"\"\"\n",
    "Submit the query to Google and store the results\n",
    "\"\"\"\n",
    "\n",
    "# Submit the query to Google\n",
    "search_results = google_interactor.search_google(query=query, num_results=10)\n",
    "    \n",
    "# Store the response\n",
    "storage_manager.save_to_folder(\"InitialGoogleResponses\", search_results, f\"{trial_number}.json\")"
   ]
  },
  {
   "cell_type": "code",
   "execution_count": 3,
   "id": "d3bced40-95f6-4969-9f8c-167d02caad3e",
   "metadata": {},
   "outputs": [
    {
     "data": {
      "text/plain": [
       "['https://w3.sfbcic.com/',\n",
       " 'https://www.sfbli.com/',\n",
       " 'https://www.lafarmbureau.com/',\n",
       " 'https://msfbins.com/',\n",
       " 'https://cfbinsurance.com/',\n",
       " 'https://afbic.com/insurance/life-financial-products/term-life-insurance/',\n",
       " 'https://www.fbitn.com/',\n",
       " 'https://afbic.com/',\n",
       " 'https://floridafarmbureau.com/',\n",
       " 'https://www.splunk.com/en_us/customers/success-stories/southern-farm-bureau-life-insurance-company.html']"
      ]
     },
     "execution_count": 3,
     "metadata": {},
     "output_type": "execute_result"
    }
   ],
   "source": [
    "\"\"\"\n",
    "View links\n",
    "\"\"\"\n",
    "\n",
    "[item['link'] for item in search_results['items']]"
   ]
  },
  {
   "cell_type": "code",
   "execution_count": 4,
   "id": "3a75ecd1-cb8e-4cc1-a3e4-3881a35880be",
   "metadata": {},
   "outputs": [
    {
     "name": "stdout",
     "output_type": "stream",
     "text": [
      "Data loaded from ../data/InitialGoogleResponses/4.json\n",
      "Data saved to ../data/RawTextFromHTML/4.json\n"
     ]
    }
   ],
   "source": [
    "\"\"\"\n",
    "Get Raw Text from the HTML associated with the links from Google\n",
    "\"\"\"\n",
    "\n",
    "# Retrieve the stored response\n",
    "search_results = storage_manager.load_from_folder(\"InitialGoogleResponses\", f\"{trial_number}.json\")\n",
    "\n",
    "raw_text_from_html = []\n",
    "items = search_results['items']\n",
    "\n",
    "# For each item of raw text that was stored ...\n",
    "for item in search_results['items'][:K]:\n",
    "    link = item['link']\n",
    "\n",
    "    # Fet the HTML associated with the link\n",
    "    response = requests.get(link)\n",
    "\n",
    "    # Get the raw text associated with the HTML\n",
    "    parsed_text = HTMLParser.parse_html(response.content)\n",
    "\n",
    "    # Store the raw text from the HTML\n",
    "    raw_text_from_html.append({\"link\" : link, \"raw_text\" : parsed_text})\n",
    "    \n",
    "storage_manager.save_to_folder(\"RawTextFromHTML\", raw_text_from_html, f\"{trial_number}.json\")"
   ]
  },
  {
   "cell_type": "code",
   "execution_count": 5,
   "id": "5639cc8a-44ab-47bb-b661-455e27676f40",
   "metadata": {},
   "outputs": [
    {
     "name": "stdout",
     "output_type": "stream",
     "text": [
      "Data loaded from ../data/RawTextFromHTML/4.json\n",
      "Data saved to ../data/WebsiteRefinerModelResponses/4.json\n"
     ]
    }
   ],
   "source": [
    "\"\"\"\n",
    "Get the refined text from the raw text\n",
    "\"\"\"\n",
    "\n",
    "raw_text_from_html = storage_manager.load_from_folder(\"RawTextFromHTML\", f\"{trial_number}.json\")\n",
    "\n",
    "website_refiner_responses = []\n",
    "# For each element of raw text that was stored ...\n",
    "for current_item in raw_text_from_html:\n",
    "    \n",
    "    link = current_item['link']\n",
    "    raw_text = current_item['raw_text']   \n",
    "\n",
    "    \n",
    "    response_from_website_refiner = website_refiner.refine_text(raw_text=raw_text, query=query)\n",
    "    \n",
    "    if response_from_website_refiner:\n",
    "        response_from_website_refiner['link'] = link\n",
    "        website_refiner_responses.append(response_from_website_refiner)\n",
    "    else:\n",
    "        print(\"Failed to refine text.\")\n",
    "\n",
    "storage_manager.save_to_folder(\"WebsiteRefinerModelResponses\", website_refiner_responses, f\"{trial_number}.json\")"
   ]
  },
  {
   "cell_type": "code",
   "execution_count": 6,
   "id": "dfe8c8bf-074d-462b-b571-b4e9ae550a40",
   "metadata": {},
   "outputs": [
    {
     "name": "stdout",
     "output_type": "stream",
     "text": [
      "https://w3.sfbcic.com/\n",
      "It seems there was an error in accessing the information. However, here are some reasons you might consider buying life insurance from Southern Farm Bureau:\n",
      "\n",
      "1. **Financial Security**: Southern Farm Bureau provides a safety net for your family in the event of unexpected circumstances.\n",
      "2. **Competitive Rates**: They may offer competitive premiums compared to other insurers.\n",
      "3. **Customizable Policies**: Options to tailor policies based on individual needs and financial goals.\n",
      "4. **Reputable Company**: Southern Farm Bureau has a strong reputation and history in the insurance industry.\n",
      "5. **Customer Service**: Known for quality customer support and personalized service.\n",
      "\n",
      "For specific details, it's best to contact Southern Farm Bureau directly or visit their official website.\n",
      "\n",
      "https://www.sfbli.com/\n",
      "Southern Farm Bureau Life Insurance focuses on providing competitive life insurance products and superior customer service to its policyholders and agents. Key reasons to consider buying life insurance from them include their commitment to the Farm Bureau family, their ethical standards, and the availability of personalized support through agents.\n",
      "\n",
      "https://www.lafarmbureau.com/\n",
      "I am unable to access the specific content regarding Southern Farm Bureau's life insurance. Generally, reasons to buy life insurance from a company like Southern Farm Bureau may include financial security for your family, customizable policy options, potential cash value accumulation, and a trusted reputation. For detailed information, please visit their official website or contact their representatives directly.\n",
      "\n",
      "https://msfbins.com/\n",
      "I'm unable to access specific information about Southern Farm Bureau Life Insurance. Please visit their official website or contact them directly for detailed information on why you should consider purchasing life insurance from them.\n",
      "\n",
      "https://cfbinsurance.com/\n",
      "It appears there is no relevant information provided regarding why one should buy life insurance from Southern Farm Bureau. Please provide additional context or details for further assistance.\n",
      "\n"
     ]
    }
   ],
   "source": [
    "for item in website_refiner_responses:\n",
    "    print(item['link'])\n",
    "    print(item['choices'][0]['message']['content'])\n",
    "    print()"
   ]
  },
  {
   "cell_type": "code",
   "execution_count": 7,
   "id": "7816cf66-294f-463c-8fe8-addc13c89b3c",
   "metadata": {},
   "outputs": [
    {
     "name": "stdout",
     "output_type": "stream",
     "text": [
      "Data saved to ../data/CorpusRefinerModelResponses/4.json\n"
     ]
    }
   ],
   "source": [
    "\"\"\"\n",
    "Filter the corpus to information that may be relevant to the query\n",
    "\"\"\"\n",
    "\n",
    "response_from_corpus_refiner = corpus_refiner.refine_text(raw_text=corpus_text, query=query)\n",
    "storage_manager.save_to_folder(\"CorpusRefinerModelResponses\", response_from_corpus_refiner, f\"{trial_number}.json\")"
   ]
  },
  {
   "cell_type": "code",
   "execution_count": 8,
   "id": "38a47908-8c40-4dac-b27b-957447fcddbd",
   "metadata": {},
   "outputs": [
    {
     "name": "stdout",
     "output_type": "stream",
     "text": [
      "Here are the relevant reasons to consider buying life insurance from Southern Farm Bureau:\n",
      "\n",
      "1. **Established History**: The company has been operating since 1946, focusing on the insurance needs of southern farmers and their families.\n",
      "\n",
      "2. **Product Variety**: Southern Farm Bureau offers a range of life insurance products:\n",
      "   - **Permanent Life Insurance**: Includes whole life and various premium options for lifelong coverage.\n",
      "   - **Term Life Insurance**: Provides cost-effective coverage for specific time intervals (10, 20, or 30 years).\n",
      "\n",
      "3. **Financial Planning Services**: They offer estate and retirement planning, tax-qualified retirement plans, and banking services.\n",
      "\n",
      "4. **Commitment to Service**: The company emphasizes superior customer support, competitive products, and adheres to high ethical standards.\n",
      "\n",
      "5. **Financial Stability**: They have an A+ (Superior) rating from A.M. Best, indicating strong financial stability and reliability in meeting obligations to policyholders.\n",
      "\n",
      "6. **Community Engagement**: Southern Farm Bureau participates in initiatives like Farm Bureau Cares, highlighting their commitment to community service and family protection.\n",
      "\n",
      "7. **Positive Outlook**: Recent updates from A.M. Best reflect a positive outlook for the company's financial health, indicating growth in individual life insurance lines and steady income trends. \n",
      "\n",
      "This combination of product offerings, service commitment, financial strength, and community involvement positions Southern Farm Bureau as a compelling choice for life insurance.\n"
     ]
    }
   ],
   "source": [
    "print(response_from_corpus_refiner['choices'][0]['message']['content'])"
   ]
  },
  {
   "cell_type": "code",
   "execution_count": 9,
   "id": "d20096ff-b9c9-4288-8435-6d11497e4c7e",
   "metadata": {},
   "outputs": [
    {
     "name": "stdout",
     "output_type": "stream",
     "text": [
      "Data loaded from ../data/WebsiteRefinerModelResponses/4.json\n",
      "Data loaded from ../data/CorpusRefinerModelResponses/4.json\n",
      "Improved Text generated...\n",
      "Data saved to ../data/ImproverModelResponses/4.json\n"
     ]
    }
   ],
   "source": [
    "\"\"\"\n",
    "Improve the text from the SFBLIC site\n",
    "\"\"\"\n",
    "\n",
    "# Get the refined text from the website\n",
    "website_refiner_responses = storage_manager.load_from_folder(\"WebsiteRefinerModelResponses\", f\"{trial_number}.json\")\n",
    "sfblic_response = [response for response in website_refiner_responses if response['link'] == 'https://www.sfbli.com/'][0]\n",
    "refined_text_from_website = sfblic_response['choices'][0]['message']['content']\n",
    "\n",
    "# Get the refined text from the corpus\n",
    "response_from_corpus_refiner = storage_manager.load_from_folder(\"CorpusRefinerModelResponses\", f\"{trial_number}.json\")\n",
    "refined_text_from_corpus = response_from_corpus_refiner['choices'][0]['message']['content']\n",
    "\n",
    "\n",
    "# Generate improved text\n",
    "improved_text = improver_model.improve_text(\n",
    "    query=query,\n",
    "    refined_text_from_website=refined_text_from_website,\n",
    "    refined_text_from_corpus=refined_text_from_corpus\n",
    ")\n",
    "\n",
    "if improved_text:\n",
    "    print(\"Improved Text generated...\")\n",
    "    \n",
    "else:\n",
    "    print(\"Failed to improve text.\")\n",
    "\n",
    "\n",
    "# Save to disk\n",
    "storage_manager.save_to_folder(\"ImproverModelResponses\", improved_text, f\"{trial_number}.json\")\n"
   ]
  },
  {
   "cell_type": "code",
   "execution_count": 10,
   "id": "35b075a3-182b-4bcd-87bf-059b0defe460",
   "metadata": {},
   "outputs": [
    {
     "name": "stdout",
     "output_type": "stream",
     "text": [
      "Southern Farm Bureau Life Insurance focuses on providing competitive life insurance products and superior customer service to its policyholders and agents. Key reasons to consider buying life insurance from them include their commitment to the Farm Bureau family, their ethical standards, and the availability of personalized support through agents.\n"
     ]
    }
   ],
   "source": [
    "print(refined_text_from_website)"
   ]
  },
  {
   "cell_type": "code",
   "execution_count": 11,
   "id": "8f9378bb-da0c-4733-9523-ce7dfe01a88b",
   "metadata": {},
   "outputs": [
    {
     "name": "stdout",
     "output_type": "stream",
     "text": [
      "Southern Farm Bureau Life Insurance offers a compelling choice for life insurance due to a combination of factors that prioritize their policyholders. Founded in 1946, the company has a long-standing focus on meeting the insurance needs of southern farmers and their families. They provide a wide range of life insurance products, including permanent and term life insurance, tailored to different life stages and financial plans. Their services extend beyond insurance, offering financial planning services such as estate and retirement planning, and even banking services, to help you secure your financial future. Southern Farm Bureau is known for its superior customer service and high ethical standards. They maintain strong financial stability, evidenced by an A+ (Superior) rating from A.M. Best, ensuring that they can reliably meet their obligations to policyholders. Their involvement in community initiatives like Farm Bureau Cares underscores their commitment to family protection and community service. Additionally, they have a positive financial outlook, with growth in individual life insurance lines and stable income trends. This combination of product offerings, commitment to service, financial strength, and community engagement makes Southern Farm Bureau a trustworthy and reliable choice for life insurance.\n"
     ]
    }
   ],
   "source": [
    "print(improved_text['choices'][0]['message']['content'])"
   ]
  },
  {
   "cell_type": "code",
   "execution_count": 12,
   "id": "a7086398-7dc4-4d5c-925b-03af4533aac5",
   "metadata": {},
   "outputs": [
    {
     "name": "stdout",
     "output_type": "stream",
     "text": [
      "Data loaded from ../data/WebsiteRefinerModelResponses/4.json\n",
      "Data loaded from ../data/ImproverModelResponses/4.json\n"
     ]
    }
   ],
   "source": [
    "\"\"\"\n",
    "Create multiple sets of reference material\n",
    "\"\"\"\n",
    "\n",
    "# Create a set of reference material that has the original (unimproved) content from the website\n",
    "\n",
    "website_refiner_model_responses = storage_manager.load_from_folder(\"WebsiteRefinerModelResponses\", f\"{trial_number}.json\")\n",
    "\n",
    "unmodified_set_of_reference_material =  [\n",
    "    {\n",
    "        \"link\" : item['link'],\n",
    "        \"information\" : item['choices'][0]['message']['content']\n",
    "    }\n",
    "    for item in website_refiner_model_responses\n",
    "]\n",
    "\n",
    "# Create a set of reference material that has the new (improved) content\n",
    "improved_text = storage_manager.load_from_folder('ImproverModelResponses', f\"{trial_number}.json\")\n",
    "improved_version = improved_text['choices'][0]['message']['content']\n",
    "\n",
    "\n",
    "# Create a new set of reference material\n",
    "\n",
    "new_set_of_reference_material = []\n",
    "\n",
    "for item in unmodified_set_of_reference_material:\n",
    "    if item['link'] == 'https://www.sfbli.com/':\n",
    "        new_set_of_reference_material.append({\"link\" : link, \"information\" : improved_version})\n",
    "    else:\n",
    "        new_set_of_reference_material.append(item)\n",
    "\n"
   ]
  },
  {
   "cell_type": "code",
   "execution_count": 13,
   "id": "074a477f-ec36-4d38-ab83-b6e84a45bb3d",
   "metadata": {},
   "outputs": [
    {
     "name": "stdout",
     "output_type": "stream",
     "text": [
      "Cited response captured...\n",
      "{'id': 'chatcmpl-AX6YqslEI7KuvC5CJbFzQcdu5lkD5', 'choices': [{'finish_reason': 'stop', 'index': 0, 'logprobs': None, 'message': {'content': 'You might consider purchasing life insurance from Southern Farm Bureau for several compelling reasons. First, they provide financial security, serving as a safety net for families during unexpected circumstances[1]. Their offerings include competitive premiums, which can make their policies more affordable compared to other insurers[1][2]. Southern Farm Bureau also allows for customizable policies tailored to meet individual needs and financial goals, providing flexibility in coverage options[1][3]. Furthermore, they are known for their strong reputation and history in the insurance industry, which can be reassuring to policyholders seeking a trustworthy provider[1]. Additionally, Southern Farm Bureau emphasizes quality customer service and personalized support, ensuring policyholders receive attentive and supportive service from their agents[1][2].', 'refusal': None, 'role': 'assistant', 'audio': None, 'function_call': None, 'tool_calls': None}}], 'created': 1732453408, 'model': 'gpt-4o-2024-08-06', 'object': 'chat.completion', 'service_tier': None, 'system_fingerprint': 'fp_831e067d82', 'usage': {'completion_tokens': 143, 'prompt_tokens': 625, 'total_tokens': 768, 'completion_tokens_details': {'accepted_prediction_tokens': 0, 'audio_tokens': 0, 'reasoning_tokens': 0, 'rejected_prediction_tokens': 0}, 'prompt_tokens_details': {'audio_tokens': 0, 'cached_tokens': 0}}}\n"
     ]
    }
   ],
   "source": [
    "\n",
    "\"\"\"\n",
    "Send sets of reference material to the writer-citer\n",
    "\"\"\"\n",
    "\n",
    "writer_citer_model_responses = []\n",
    "\n",
    "# Generate a cited response\n",
    "cited_response = writer_citer.generate_cited_response(\n",
    "    rephrased_query=query,\n",
    "    set_of_reference_query=unmodified_set_of_reference_material\n",
    ")\n",
    "\n",
    "if cited_response:\n",
    "    print(\"Cited response captured...\")\n",
    "    print(cited_response)\n",
    "else:\n",
    "    print(\"Failed to generate cited response.\")\n",
    "        \n",
    "\n"
   ]
  },
  {
   "cell_type": "code",
   "execution_count": 14,
   "id": "06c66a59-0571-45f1-a79b-28898e465be1",
   "metadata": {},
   "outputs": [
    {
     "data": {
      "text/plain": [
       "[{'id': 'chatcmpl-AX6YqslEI7KuvC5CJbFzQcdu5lkD5',\n",
       "  'choices': [{'finish_reason': 'stop',\n",
       "    'index': 0,\n",
       "    'logprobs': None,\n",
       "    'message': {'content': 'You might consider purchasing life insurance from Southern Farm Bureau for several compelling reasons. First, they provide financial security, serving as a safety net for families during unexpected circumstances[1]. Their offerings include competitive premiums, which can make their policies more affordable compared to other insurers[1][2]. Southern Farm Bureau also allows for customizable policies tailored to meet individual needs and financial goals, providing flexibility in coverage options[1][3]. Furthermore, they are known for their strong reputation and history in the insurance industry, which can be reassuring to policyholders seeking a trustworthy provider[1]. Additionally, Southern Farm Bureau emphasizes quality customer service and personalized support, ensuring policyholders receive attentive and supportive service from their agents[1][2].',\n",
       "     'refusal': None,\n",
       "     'role': 'assistant',\n",
       "     'audio': None,\n",
       "     'function_call': None,\n",
       "     'tool_calls': None}}],\n",
       "  'created': 1732453408,\n",
       "  'model': 'gpt-4o-2024-08-06',\n",
       "  'object': 'chat.completion',\n",
       "  'service_tier': None,\n",
       "  'system_fingerprint': 'fp_831e067d82',\n",
       "  'usage': {'completion_tokens': 143,\n",
       "   'prompt_tokens': 625,\n",
       "   'total_tokens': 768,\n",
       "   'completion_tokens_details': {'accepted_prediction_tokens': 0,\n",
       "    'audio_tokens': 0,\n",
       "    'reasoning_tokens': 0,\n",
       "    'rejected_prediction_tokens': 0},\n",
       "   'prompt_tokens_details': {'audio_tokens': 0, 'cached_tokens': 0}},\n",
       "  'improvement_method': 0}]"
      ]
     },
     "execution_count": 14,
     "metadata": {},
     "output_type": "execute_result"
    }
   ],
   "source": [
    "cited_response['improvement_method'] = 0\n",
    "\n",
    "writer_citer_model_responses.append(cited_response)\n",
    "writer_citer_model_responses"
   ]
  },
  {
   "cell_type": "code",
   "execution_count": 15,
   "id": "8e9ce661-efbe-459d-b1d6-72698f4c3b61",
   "metadata": {},
   "outputs": [
    {
     "name": "stdout",
     "output_type": "stream",
     "text": [
      "Cited Response:\n",
      "{'id': 'chatcmpl-AX6Z0gSxYA7JskRttrUzMbN4WZUx9', 'choices': [{'finish_reason': 'stop', 'index': 0, 'logprobs': None, 'message': {'content': \"There are several compelling reasons to consider purchasing life insurance from Southern Farm Bureau. Firstly, the company provides financial security for policyholders, ensuring that families have a safety net during unexpected circumstances [1]. Southern Farm Bureau is well-regarded for offering competitive rates and customizable policies that can be tailored to fit individual needs and financial objectives [1]. \\n\\nThe company was founded in 1946 with a focus on serving southern farmers and their families, which underscores its commitment to community and family values [2]. Southern Farm Bureau offers a broad array of life insurance products, including both permanent and term life insurance, which are designed to suit varied life stages and financial plans [2]. Additionally, they provide financial planning services such as estate and retirement planning, further aiding in securing a robust financial future [2].\\n\\nSouthern Farm Bureau's strong reputation is supported by its A+ (Superior) rating from A.M. Best, demonstrating excellent financial stability and reliability in meeting policyholder obligations [2]. Known for quality customer support, the company maintains high ethical standards [2]. \\n\\nFinally, their involvement in community initiatives, like Farm Bureau Cares, highlights their dedication to not only protecting families but also actively engaging with and supporting community welfare [2]. This blend of financial strength, service commitment, and community engagement makes Southern Farm Bureau an appealing choice for life insurance.\", 'refusal': None, 'role': 'assistant', 'audio': None, 'function_call': None, 'tool_calls': None}}], 'created': 1732453418, 'model': 'gpt-4o-2024-08-06', 'object': 'chat.completion', 'service_tier': None, 'system_fingerprint': 'fp_831e067d82', 'usage': {'completion_tokens': 267, 'prompt_tokens': 793, 'total_tokens': 1060, 'completion_tokens_details': {'accepted_prediction_tokens': 0, 'audio_tokens': 0, 'reasoning_tokens': 0, 'rejected_prediction_tokens': 0}, 'prompt_tokens_details': {'audio_tokens': 0, 'cached_tokens': 0}}}\n"
     ]
    }
   ],
   "source": [
    "# Generate a cited response\n",
    "cited_response = writer_citer.generate_cited_response(\n",
    "    rephrased_query=query,\n",
    "    set_of_reference_query=new_set_of_reference_material\n",
    ")\n",
    "\n",
    "if cited_response:\n",
    "    print(\"Cited Response:\")\n",
    "    print(cited_response)\n",
    "else:\n",
    "    print(\"Failed to generate cited response.\")\n",
    "\n",
    "\n"
   ]
  },
  {
   "cell_type": "code",
   "execution_count": 16,
   "id": "74410bf9-4052-485a-b123-025f0a8db237",
   "metadata": {},
   "outputs": [
    {
     "data": {
      "text/plain": [
       "[{'id': 'chatcmpl-AX6YqslEI7KuvC5CJbFzQcdu5lkD5',\n",
       "  'choices': [{'finish_reason': 'stop',\n",
       "    'index': 0,\n",
       "    'logprobs': None,\n",
       "    'message': {'content': 'You might consider purchasing life insurance from Southern Farm Bureau for several compelling reasons. First, they provide financial security, serving as a safety net for families during unexpected circumstances[1]. Their offerings include competitive premiums, which can make their policies more affordable compared to other insurers[1][2]. Southern Farm Bureau also allows for customizable policies tailored to meet individual needs and financial goals, providing flexibility in coverage options[1][3]. Furthermore, they are known for their strong reputation and history in the insurance industry, which can be reassuring to policyholders seeking a trustworthy provider[1]. Additionally, Southern Farm Bureau emphasizes quality customer service and personalized support, ensuring policyholders receive attentive and supportive service from their agents[1][2].',\n",
       "     'refusal': None,\n",
       "     'role': 'assistant',\n",
       "     'audio': None,\n",
       "     'function_call': None,\n",
       "     'tool_calls': None}}],\n",
       "  'created': 1732453408,\n",
       "  'model': 'gpt-4o-2024-08-06',\n",
       "  'object': 'chat.completion',\n",
       "  'service_tier': None,\n",
       "  'system_fingerprint': 'fp_831e067d82',\n",
       "  'usage': {'completion_tokens': 143,\n",
       "   'prompt_tokens': 625,\n",
       "   'total_tokens': 768,\n",
       "   'completion_tokens_details': {'accepted_prediction_tokens': 0,\n",
       "    'audio_tokens': 0,\n",
       "    'reasoning_tokens': 0,\n",
       "    'rejected_prediction_tokens': 0},\n",
       "   'prompt_tokens_details': {'audio_tokens': 0, 'cached_tokens': 0}},\n",
       "  'improvement_method': 0},\n",
       " {'id': 'chatcmpl-AX6Z0gSxYA7JskRttrUzMbN4WZUx9',\n",
       "  'choices': [{'finish_reason': 'stop',\n",
       "    'index': 0,\n",
       "    'logprobs': None,\n",
       "    'message': {'content': \"There are several compelling reasons to consider purchasing life insurance from Southern Farm Bureau. Firstly, the company provides financial security for policyholders, ensuring that families have a safety net during unexpected circumstances [1]. Southern Farm Bureau is well-regarded for offering competitive rates and customizable policies that can be tailored to fit individual needs and financial objectives [1]. \\n\\nThe company was founded in 1946 with a focus on serving southern farmers and their families, which underscores its commitment to community and family values [2]. Southern Farm Bureau offers a broad array of life insurance products, including both permanent and term life insurance, which are designed to suit varied life stages and financial plans [2]. Additionally, they provide financial planning services such as estate and retirement planning, further aiding in securing a robust financial future [2].\\n\\nSouthern Farm Bureau's strong reputation is supported by its A+ (Superior) rating from A.M. Best, demonstrating excellent financial stability and reliability in meeting policyholder obligations [2]. Known for quality customer support, the company maintains high ethical standards [2]. \\n\\nFinally, their involvement in community initiatives, like Farm Bureau Cares, highlights their dedication to not only protecting families but also actively engaging with and supporting community welfare [2]. This blend of financial strength, service commitment, and community engagement makes Southern Farm Bureau an appealing choice for life insurance.\",\n",
       "     'refusal': None,\n",
       "     'role': 'assistant',\n",
       "     'audio': None,\n",
       "     'function_call': None,\n",
       "     'tool_calls': None}}],\n",
       "  'created': 1732453418,\n",
       "  'model': 'gpt-4o-2024-08-06',\n",
       "  'object': 'chat.completion',\n",
       "  'service_tier': None,\n",
       "  'system_fingerprint': 'fp_831e067d82',\n",
       "  'usage': {'completion_tokens': 267,\n",
       "   'prompt_tokens': 793,\n",
       "   'total_tokens': 1060,\n",
       "   'completion_tokens_details': {'accepted_prediction_tokens': 0,\n",
       "    'audio_tokens': 0,\n",
       "    'reasoning_tokens': 0,\n",
       "    'rejected_prediction_tokens': 0},\n",
       "   'prompt_tokens_details': {'audio_tokens': 0, 'cached_tokens': 0}},\n",
       "  'improvement_method': 1}]"
      ]
     },
     "execution_count": 16,
     "metadata": {},
     "output_type": "execute_result"
    }
   ],
   "source": [
    "cited_response['improvement_method'] = 1\n",
    "\n",
    "writer_citer_model_responses.append(cited_response)\n",
    "writer_citer_model_responses"
   ]
  },
  {
   "cell_type": "code",
   "execution_count": 17,
   "id": "94fe7961-b4cd-41a0-97d7-1af438c7658c",
   "metadata": {},
   "outputs": [
    {
     "name": "stdout",
     "output_type": "stream",
     "text": [
      "You might consider purchasing life insurance from Southern Farm Bureau for several compelling reasons. First, they provide financial security, serving as a safety net for families during unexpected circumstances[1]. Their offerings include competitive premiums, which can make their policies more affordable compared to other insurers[1][2]. Southern Farm Bureau also allows for customizable policies tailored to meet individual needs and financial goals, providing flexibility in coverage options[1][3]. Furthermore, they are known for their strong reputation and history in the insurance industry, which can be reassuring to policyholders seeking a trustworthy provider[1]. Additionally, Southern Farm Bureau emphasizes quality customer service and personalized support, ensuring policyholders receive attentive and supportive service from their agents[1][2].\n",
      "---\n",
      "There are several compelling reasons to consider purchasing life insurance from Southern Farm Bureau. Firstly, the company provides financial security for policyholders, ensuring that families have a safety net during unexpected circumstances [1]. Southern Farm Bureau is well-regarded for offering competitive rates and customizable policies that can be tailored to fit individual needs and financial objectives [1]. \n",
      "\n",
      "The company was founded in 1946 with a focus on serving southern farmers and their families, which underscores its commitment to community and family values [2]. Southern Farm Bureau offers a broad array of life insurance products, including both permanent and term life insurance, which are designed to suit varied life stages and financial plans [2]. Additionally, they provide financial planning services such as estate and retirement planning, further aiding in securing a robust financial future [2].\n",
      "\n",
      "Southern Farm Bureau's strong reputation is supported by its A+ (Superior) rating from A.M. Best, demonstrating excellent financial stability and reliability in meeting policyholder obligations [2]. Known for quality customer support, the company maintains high ethical standards [2]. \n",
      "\n",
      "Finally, their involvement in community initiatives, like Farm Bureau Cares, highlights their dedication to not only protecting families but also actively engaging with and supporting community welfare [2]. This blend of financial strength, service commitment, and community engagement makes Southern Farm Bureau an appealing choice for life insurance.\n",
      "---\n"
     ]
    }
   ],
   "source": [
    "for item in writer_citer_model_responses:\n",
    "    print(item['choices'][0]['message']['content'])\n",
    "    print(\"---\")"
   ]
  },
  {
   "cell_type": "code",
   "execution_count": 18,
   "id": "d08cd94f-8edd-4c1b-8865-6e0b9cea951d",
   "metadata": {},
   "outputs": [
    {
     "name": "stdout",
     "output_type": "stream",
     "text": [
      "Data saved to ../data/WriterCiterModelResponses/4.json\n"
     ]
    }
   ],
   "source": [
    "# Save to disk\n",
    "storage_manager.save_to_folder(\"WriterCiterModelResponses\", writer_citer_model_responses, f\"{trial_number}.json\")"
   ]
  },
  {
   "cell_type": "code",
   "execution_count": null,
   "id": "772ae494-bb78-426b-9fd3-ab88afb15386",
   "metadata": {},
   "outputs": [],
   "source": []
  }
 ],
 "metadata": {
  "kernelspec": {
   "display_name": "perplexity-clone",
   "language": "python",
   "name": "perplexity-clone"
  },
  "language_info": {
   "codemirror_mode": {
    "name": "ipython",
    "version": 3
   },
   "file_extension": ".py",
   "mimetype": "text/x-python",
   "name": "python",
   "nbconvert_exporter": "python",
   "pygments_lexer": "ipython3",
   "version": "3.13.0"
  }
 },
 "nbformat": 4,
 "nbformat_minor": 5
}
