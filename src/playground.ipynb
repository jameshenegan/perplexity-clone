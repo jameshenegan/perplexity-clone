{
 "cells": [
  {
   "cell_type": "code",
   "execution_count": 1,
   "id": "fc255b2d-df36-4616-9403-221376570be3",
   "metadata": {},
   "outputs": [],
   "source": [
    "from dotenv import dotenv_values\n",
    "import requests\n",
    "\n",
    "from helpers.google_interactor import GoogleInteractor\n",
    "from helpers.html_parser import HTMLParser \n",
    "from helpers.storage_manager import StorageManager\n",
    "from helpers.refiner_model import RefinerModel\n",
    "from helpers.improver_model import ImproverModel\n",
    "from helpers.writer_citer_model import WriterCiterModel\n",
    "\n",
    "\n",
    "\"\"\"\n",
    "============================================\n",
    "Run through a single trial of the experiment\n",
    "============================================\n",
    "\"\"\"\n",
    "\n",
    "\"\"\"\n",
    "Set up\n",
    "\"\"\"\n",
    "\n",
    "# Number of links to consider\n",
    "K = 5\n",
    "\n",
    "# Declare trial number\n",
    "trial_number = 13\n",
    "\n",
    "# Select a query to use for the current trial\n",
    "query = \"What happens if I outlive my term life insurance policy?\"\n",
    "\n",
    "\"\"\"\n",
    "Configuration\n",
    "\"\"\"\n",
    "\n",
    "sfblic_link = \"https://www.sfbli.com/\"\n",
    "\n",
    "# Load environment variables\n",
    "config = dotenv_values(\"../.env\")\n",
    "google_api_key = config['GOOGLE_API_KEY']\n",
    "search_engine_id = config['SEARCH_ENGINE_ID']\n",
    "\n",
    "# Instantiate helpers\n",
    "google_interactor = GoogleInteractor(api_key=google_api_key, search_engine_id=search_engine_id)\n",
    "storage_manager = StorageManager(\"../data/\")    \n",
    "website_refiner = RefinerModel(api_key=config['OPEN_AI_API_KEY'])\n",
    "corpus_refiner = RefinerModel(api_key=config['OPEN_AI_API_KEY'])\n",
    "improver_model = ImproverModel(api_key=config['OPEN_AI_API_KEY'])\n",
    "writer_citer = WriterCiterModel(api_key=config['OPEN_AI_API_KEY'])\n",
    "\n",
    "\n",
    "# Load the clean corpus text\n",
    "with open(\"../data/clean_content.txt\") as f:\n",
    "    corpus_text = f.read()"
   ]
  },
  {
   "cell_type": "code",
   "execution_count": 2,
   "id": "f2aef6cb-0a86-4452-9111-02a7bb3c4b6a",
   "metadata": {},
   "outputs": [
    {
     "name": "stdout",
     "output_type": "stream",
     "text": [
      "Data saved to ../data/InitialGoogleResponses/13.json\n"
     ]
    }
   ],
   "source": [
    "\"\"\"\n",
    "Submit the query to Google and store the results\n",
    "\"\"\"\n",
    "\n",
    "# Submit the query to Google\n",
    "search_results = google_interactor.search_google(query=query, num_results=10)\n",
    "    \n",
    "# Store the response\n",
    "storage_manager.save_to_folder(\"InitialGoogleResponses\", search_results, f\"{trial_number}.json\")"
   ]
  },
  {
   "cell_type": "code",
   "execution_count": 3,
   "id": "d3bced40-95f6-4969-9f8c-167d02caad3e",
   "metadata": {},
   "outputs": [
    {
     "data": {
      "text/plain": [
       "['https://www.bankrate.com/insurance/life-insurance/outlive-term-life-insurance/',\n",
       " 'https://www.aflac.com/resources/life-insurance/what-happens-when-a-term-life-insurance-policy-expires.aspx',\n",
       " 'https://www.policyadvisor.com/life-insurance/outlive-term-life-insurance/',\n",
       " 'https://www.investopedia.com/what-happens-if-you-outlive-your-term-life-insurance-policy-5076607',\n",
       " 'https://www.quotacy.com/what-happens-if-i-dont-die-while-my-policy-is-inforce/']"
      ]
     },
     "execution_count": 3,
     "metadata": {},
     "output_type": "execute_result"
    }
   ],
   "source": [
    "\"\"\"\n",
    "View links\n",
    "\"\"\"\n",
    "\n",
    "top_k_links = [item['link'] for item in search_results['items']][:K]\n",
    "top_k_links"
   ]
  },
  {
   "cell_type": "code",
   "execution_count": 4,
   "id": "a1d2fc29-ed81-4fd5-bbd3-a07c58527656",
   "metadata": {},
   "outputs": [
    {
     "data": {
      "text/plain": [
       "['https://www.bankrate.com/insurance/life-insurance/outlive-term-life-insurance/',\n",
       " 'https://www.aflac.com/resources/life-insurance/what-happens-when-a-term-life-insurance-policy-expires.aspx',\n",
       " 'https://www.policyadvisor.com/life-insurance/outlive-term-life-insurance/',\n",
       " 'https://www.investopedia.com/what-happens-if-you-outlive-your-term-life-insurance-policy-5076607',\n",
       " 'https://www.sfbli.com/']"
      ]
     },
     "execution_count": 4,
     "metadata": {},
     "output_type": "execute_result"
    }
   ],
   "source": [
    "\"\"\"\n",
    "Check to see if SFBLIC is in the top K links. \n",
    "If not, add it\n",
    "\"\"\"\n",
    "\n",
    "if sfblic_link in top_k_links:\n",
    "    updated_links = top_k_links\n",
    "else:\n",
    "    top_k_links[K-1] = sfblic_link\n",
    "    updated_links = top_k_links\n",
    "\n",
    "updated_links"
   ]
  },
  {
   "cell_type": "code",
   "execution_count": 5,
   "id": "d5c9ff53-c388-4929-a1d0-93841786cbb0",
   "metadata": {},
   "outputs": [
    {
     "name": "stdout",
     "output_type": "stream",
     "text": [
      "Data saved to ../data/UpdatedGoogleResponses/13.json\n"
     ]
    }
   ],
   "source": [
    "storage_manager.save_to_folder(\"UpdatedGoogleResponses\", updated_links, f\"{trial_number}.json\")"
   ]
  },
  {
   "cell_type": "code",
   "execution_count": 6,
   "id": "3a75ecd1-cb8e-4cc1-a3e4-3881a35880be",
   "metadata": {},
   "outputs": [
    {
     "name": "stdout",
     "output_type": "stream",
     "text": [
      "Data loaded from ../data/UpdatedGoogleResponses/13.json\n",
      "Data saved to ../data/RawTextFromHTML/13.json\n"
     ]
    }
   ],
   "source": [
    "\"\"\"\n",
    "Get Raw Text from the HTML associated with the links from Google\n",
    "\"\"\"\n",
    "\n",
    "# Retrieve the stored response\n",
    "updated_links = storage_manager.load_from_folder(\"UpdatedGoogleResponses\", f\"{trial_number}.json\")\n",
    "\n",
    "raw_text_from_html = []\n",
    "\n",
    "# For each item of raw text that was stored ...\n",
    "for link in updated_links:    \n",
    "\n",
    "    try:\n",
    "\n",
    "        # Fet the HTML associated with the link\n",
    "        response = requests.get(link)\n",
    "    \n",
    "        # Get the raw text associated with the HTML\n",
    "        parsed_text = HTMLParser.parse_html(response.content)\n",
    "    \n",
    "        # Store the raw text from the HTML\n",
    "        raw_text_from_html.append({\"link\" : link, \"raw_text\" : parsed_text})\n",
    "\n",
    "    except:\n",
    "        print(\"Something happened with \", link)\n",
    "    \n",
    "storage_manager.save_to_folder(\"RawTextFromHTML\", raw_text_from_html, f\"{trial_number}.json\")"
   ]
  },
  {
   "cell_type": "code",
   "execution_count": 7,
   "id": "53972b9e-cac3-47e8-9220-f4f62a2ec002",
   "metadata": {},
   "outputs": [
    {
     "data": {
      "text/plain": [
       "'https://www.sfbli.com/'"
      ]
     },
     "execution_count": 7,
     "metadata": {},
     "output_type": "execute_result"
    }
   ],
   "source": [
    "link"
   ]
  },
  {
   "cell_type": "code",
   "execution_count": 8,
   "id": "5639cc8a-44ab-47bb-b661-455e27676f40",
   "metadata": {},
   "outputs": [
    {
     "name": "stdout",
     "output_type": "stream",
     "text": [
      "Data loaded from ../data/RawTextFromHTML/13.json\n",
      "Data saved to ../data/WebsiteRefinerModelResponses/13.json\n"
     ]
    }
   ],
   "source": [
    "\"\"\"\n",
    "Get the refined text from the raw text\n",
    "\"\"\"\n",
    "\n",
    "raw_text_from_html = storage_manager.load_from_folder(\"RawTextFromHTML\", f\"{trial_number}.json\")\n",
    "\n",
    "website_refiner_responses = []\n",
    "# For each element of raw text that was stored ...\n",
    "for current_item in raw_text_from_html:\n",
    "    \n",
    "    link = current_item['link']\n",
    "    raw_text = current_item['raw_text']   \n",
    "\n",
    "    \n",
    "    response_from_website_refiner = website_refiner.refine_text(raw_text=raw_text, query=query)\n",
    "    \n",
    "    if response_from_website_refiner:\n",
    "        response_from_website_refiner['link'] = link\n",
    "        website_refiner_responses.append(response_from_website_refiner)\n",
    "    else:\n",
    "        print(\"Failed to refine text.\")\n",
    "\n",
    "storage_manager.save_to_folder(\"WebsiteRefinerModelResponses\", website_refiner_responses, f\"{trial_number}.json\")"
   ]
  },
  {
   "cell_type": "code",
   "execution_count": 9,
   "id": "dfe8c8bf-074d-462b-b571-b4e9ae550a40",
   "metadata": {},
   "outputs": [
    {
     "name": "stdout",
     "output_type": "stream",
     "text": [
      "https://www.bankrate.com/insurance/life-insurance/outlive-term-life-insurance/\n",
      "When term life insurance expires, it typically ends without any action needed from the policyholder. The insurance carrier sends a notice, premiums stop, and there is no longer a death benefit. If the policy included a return-of-premium feature, the policyholder would receive a check for the premiums paid during the term.\n",
      "\n",
      "Some term policies offer the option to renew on a year-by-year basis after the initial term expires, which maintains the original coverage amount but is usually more expensive each year due to age-related risk increases. This option is beneficial for those who develop health issues that make obtaining new insurance challenging.\n",
      "\n",
      "Additionally, many term policies include a conversion rider that allows the policyholder to convert their term policy into a permanent policy without needing to go through underwriting again. This is a strategic choice for those who develop a health condition or become uninsurable but still need life insurance after their term policy ends.\n",
      "\n",
      "If you need further coverage after the term policy expires, you should evaluate other options well in advance of the termination date, as conversion riders typically cannot be added once the policy is in force. Options include renewing the term policy, purchasing a new term policy, or purchasing a permanent life insurance policy.\n",
      "\n",
      "https://www.aflac.com/resources/life-insurance/what-happens-when-a-term-life-insurance-policy-expires.aspx\n",
      "When your term life insurance plan expires, the policy’s coverage ends, and you stop paying premiums. Therefore, if you pass away after the policy ends, your beneficiaries will not be eligible to receive a death benefit. \n",
      "\n",
      "Once your policy ends, you can’t get back the premiums you paid unless you have a return of premium rider. This optional add-on lets you receive a refund of premiums if you outlive your policy term, although it can increase your premiums.\n",
      "\n",
      "Here are some options you have to remain covered after your term life insurance policy ends:\n",
      "1. **Convert your policy** - You may convert your term policy to a permanent life plan.\n",
      "2. **Extend your current policy** - Some insurers allow you to extend your coverage without new underwriting or medical exams.\n",
      "3. **Get a new term life policy** - You can buy a new term policy, but you may have to take a medical exam and pay higher premiums due to increased age.\n",
      "4. **Get permanent life insurance** - You can purchase a permanent life insurance policy even after the term has expired, though traditional policies may require a medical exam.\n",
      "\n",
      "It's essential to evaluate your options and understand the pros and cons before making a decision.\n",
      "\n",
      "https://www.policyadvisor.com/life-insurance/outlive-term-life-insurance/\n",
      "If you outlive your term life insurance policy, several options are available to you:\n",
      "\n",
      "1. **Renew Your Policy**: Many term life insurance companies offer the option to extend the policy. This is typically a more expensive option as the premiums can increase significantly.\n",
      "\n",
      "2. **Convert Your Policy**: You may have the choice to convert your term life insurance into a whole life policy. This option usually does not require proof of insurability, which can be beneficial if your health has declined.\n",
      "\n",
      "3. **Buy a New Policy**: If your financial needs have changed or you are in good health, you might consider purchasing a brand new term life insurance policy, which may offer lower premiums based on your health status.\n",
      "\n",
      "If you decide against having life insurance coverage after your term expires, you can simply allow the policy to lapse, and you will not be covered after the term ends. It's advisable to review your financial situation before making this decision.\n",
      "\n",
      "https://www.investopedia.com/what-happens-if-you-outlive-your-term-life-insurance-policy-5076607\n",
      "If you outlive your term life insurance policy, you have several options:\n",
      "\n",
      "1. **Extend Your Coverage**: Many term policies have a guaranteed renewability provision that allows you to keep your insurance in effect after the end of the original term, provided you continue to pay the premiums. However, premiums are likely to rise each year based on your current age.\n",
      "\n",
      "2. **Convert to a Permanent Policy**: Your term policy may include a provision that allows for conversion to a whole life or universal life policy without a physical exam. This new insurance could provide coverage for the rest of your life.\n",
      "\n",
      "3. **Shop Around for a New Policy**: Some insurers continue to write policies for people up to age 80. You may need to undergo a medical exam, especially for larger coverage amounts.\n",
      "\n",
      "4. **Combine Several Smaller Policies**: If buying a larger policy is difficult due to health issues, you can consider multiple smaller policies to achieve the desired coverage.\n",
      "\n",
      "5. **Buy a Burial Policy**: Final expense or burial insurance is typically a whole life policy with small payouts, requiring no medical exam.\n",
      "\n",
      "When a term life insurance policy matures, your life insurance coverage ends, and the premiums you paid for the death benefit remain with the insurance company after the term expires.\n",
      "\n",
      "https://www.sfbli.com/\n",
      "THERE IS NO RELEVANT INFORMATION IN THE RAW TEXT\n",
      "\n"
     ]
    }
   ],
   "source": [
    "for item in website_refiner_responses:\n",
    "    print(item['link'])\n",
    "    print(item['choices'][0]['message']['content'])\n",
    "    print()"
   ]
  },
  {
   "cell_type": "code",
   "execution_count": 10,
   "id": "7816cf66-294f-463c-8fe8-addc13c89b3c",
   "metadata": {},
   "outputs": [
    {
     "name": "stdout",
     "output_type": "stream",
     "text": [
      "Data saved to ../data/CorpusRefinerModelResponses/13.json\n"
     ]
    }
   ],
   "source": [
    "\"\"\"\n",
    "Filter the corpus to information that may be relevant to the query\n",
    "\"\"\"\n",
    "\n",
    "response_from_corpus_refiner = corpus_refiner.refine_text(raw_text=corpus_text, query=query)\n",
    "storage_manager.save_to_folder(\"CorpusRefinerModelResponses\", response_from_corpus_refiner, f\"{trial_number}.json\")"
   ]
  },
  {
   "cell_type": "code",
   "execution_count": 11,
   "id": "38a47908-8c40-4dac-b27b-957447fcddbd",
   "metadata": {},
   "outputs": [
    {
     "name": "stdout",
     "output_type": "stream",
     "text": [
      "When term life insurance expires, it typically ends without any action needed from the policyholder. The insurance carrier sends a notice, premiums stop, and there is no longer a death benefit. If the policy had a return-of-premium feature, the policyholder might receive a check for the premiums paid during the term.\n",
      "\n",
      "Some term policies offer the option to renew on a year-by-year basis after the initial term expires, maintaining the original coverage amount but usually at a higher cost due to age-related risk increases. Additionally, many term policies include a conversion rider that allows the policyholder to convert the term policy into a permanent policy without going through underwriting again, although this option may have specific time restrictions.\n",
      "\n",
      "If coverage is still needed after the term expires, individuals can evaluate their options, such as converting their policy if they have a conversion rider, renewing their term policy, buying a new term policy, or purchasing a permanent policy. However, permanent life insurance is generally more expensive than term insurance. Factors to consider when determining whether you need life insurance after your term policy expires include whether you have dependents, outstanding debts, business obligations, and your financial stability.\n"
     ]
    }
   ],
   "source": [
    "print(response_from_corpus_refiner['choices'][0]['message']['content'])"
   ]
  },
  {
   "cell_type": "code",
   "execution_count": 12,
   "id": "d20096ff-b9c9-4288-8435-6d11497e4c7e",
   "metadata": {},
   "outputs": [
    {
     "name": "stdout",
     "output_type": "stream",
     "text": [
      "Data loaded from ../data/WebsiteRefinerModelResponses/13.json\n",
      "Data loaded from ../data/CorpusRefinerModelResponses/13.json\n",
      "Improved Text generated...\n",
      "Data saved to ../data/ImproverModelResponses/13.json\n"
     ]
    }
   ],
   "source": [
    "\"\"\"\n",
    "Improve the text from the SFBLIC site\n",
    "\"\"\"\n",
    "\n",
    "# Get the refined text from the website\n",
    "website_refiner_responses = storage_manager.load_from_folder(\"WebsiteRefinerModelResponses\", f\"{trial_number}.json\")\n",
    "sfblic_response = [response for response in website_refiner_responses if response['link'] == 'https://www.sfbli.com/'][0]\n",
    "refined_text_from_website = sfblic_response['choices'][0]['message']['content']\n",
    "\n",
    "# Get the refined text from the corpus\n",
    "response_from_corpus_refiner = storage_manager.load_from_folder(\"CorpusRefinerModelResponses\", f\"{trial_number}.json\")\n",
    "refined_text_from_corpus = response_from_corpus_refiner['choices'][0]['message']['content']\n",
    "\n",
    "\n",
    "# Generate improved text\n",
    "improved_text = improver_model.improve_text(\n",
    "    query=query,\n",
    "    refined_text_from_website=refined_text_from_website,\n",
    "    refined_text_from_corpus=refined_text_from_corpus\n",
    ")\n",
    "\n",
    "if improved_text:\n",
    "    print(\"Improved Text generated...\")\n",
    "    \n",
    "else:\n",
    "    print(\"Failed to improve text.\")\n",
    "\n",
    "\n",
    "# Save to disk\n",
    "storage_manager.save_to_folder(\"ImproverModelResponses\", improved_text, f\"{trial_number}.json\")\n"
   ]
  },
  {
   "cell_type": "code",
   "execution_count": 13,
   "id": "35b075a3-182b-4bcd-87bf-059b0defe460",
   "metadata": {},
   "outputs": [
    {
     "name": "stdout",
     "output_type": "stream",
     "text": [
      "THERE IS NO RELEVANT INFORMATION IN THE RAW TEXT\n"
     ]
    }
   ],
   "source": [
    "print(refined_text_from_website)"
   ]
  },
  {
   "cell_type": "code",
   "execution_count": 14,
   "id": "8f9378bb-da0c-4733-9523-ce7dfe01a88b",
   "metadata": {},
   "outputs": [
    {
     "name": "stdout",
     "output_type": "stream",
     "text": [
      "If you outlive your term life insurance policy, the policy typically expires without any action needed from you. You will no longer have life insurance coverage, and there will be no death benefit paid out. If your policy had a return-of-premium feature, you might receive a refund of the premiums you paid over the term.\n",
      "\n",
      "After the policy expires, you have a few options if you still need coverage. Some term policies allow you to renew them on a year-by-year basis, but usually at a higher cost due to increased age-related risks. Alternatively, if your policy includes a conversion rider, you may convert your term policy into a permanent one without undergoing the underwriting process again, though there may be time restrictions for this option.\n",
      "\n",
      "If you determine that you still need life insurance coverage, you can evaluate whether to convert your existing policy, renew the term policy, buy a new term policy, or consider a permanent life insurance policy. Permanent policies tend to be more expensive than term policies. Factors such as whether you have dependents, outstanding debts, business obligations, and your overall financial stability should be considered when deciding on the best option for your situation.\n"
     ]
    }
   ],
   "source": [
    "print(improved_text['choices'][0]['message']['content'])"
   ]
  },
  {
   "cell_type": "code",
   "execution_count": 15,
   "id": "a7086398-7dc4-4d5c-925b-03af4533aac5",
   "metadata": {},
   "outputs": [
    {
     "name": "stdout",
     "output_type": "stream",
     "text": [
      "Data loaded from ../data/WebsiteRefinerModelResponses/13.json\n",
      "Data loaded from ../data/ImproverModelResponses/13.json\n"
     ]
    }
   ],
   "source": [
    "\"\"\"\n",
    "Create multiple sets of reference material\n",
    "\"\"\"\n",
    "\n",
    "# Create a set of reference material that has the original (unimproved) content from the website\n",
    "\n",
    "website_refiner_model_responses = storage_manager.load_from_folder(\"WebsiteRefinerModelResponses\", f\"{trial_number}.json\")\n",
    "\n",
    "unmodified_set_of_reference_material =  [\n",
    "    {\n",
    "        \"link\" : item['link'],\n",
    "        \"information\" : item['choices'][0]['message']['content']\n",
    "    }\n",
    "    for item in website_refiner_model_responses\n",
    "]\n",
    "\n",
    "# Create a set of reference material that has the new (improved) content\n",
    "improved_text = storage_manager.load_from_folder('ImproverModelResponses', f\"{trial_number}.json\")\n",
    "improved_version = improved_text['choices'][0]['message']['content']\n",
    "\n",
    "\n",
    "# Create a new set of reference material\n",
    "\n",
    "new_set_of_reference_material = []\n",
    "\n",
    "for item in unmodified_set_of_reference_material:\n",
    "    if item['link'] == 'https://www.sfbli.com/':\n",
    "        new_set_of_reference_material.append({\"link\" : link, \"information\" : improved_version})\n",
    "    else:\n",
    "        new_set_of_reference_material.append(item)"
   ]
  },
  {
   "cell_type": "code",
   "execution_count": 16,
   "id": "661d229c-2051-4550-a743-8611a636a8bb",
   "metadata": {},
   "outputs": [
    {
     "name": "stdout",
     "output_type": "stream",
     "text": [
      "Data saved to ../data/SetsOfReferenceMaterial/13.json\n"
     ]
    }
   ],
   "source": [
    "\"\"\"\n",
    "Store Sets of Reference Material\n",
    "\"\"\"\n",
    "\n",
    "sets_of_reference_material = []\n",
    "\n",
    "improvement_method = 0\n",
    "set_of_reference_material = unmodified_set_of_reference_material\n",
    "\n",
    "sets_of_reference_material.append({\n",
    "    \"improvement_method\" : improvement_method,\n",
    "    \"set_of_reference_material\" : set_of_reference_material,\n",
    "})\n",
    "\n",
    "improvement_method = 1\n",
    "set_of_reference_material = new_set_of_reference_material\n",
    "\n",
    "sets_of_reference_material.append({\n",
    "    \"improvement_method\" : improvement_method,\n",
    "    \"set_of_reference_material\" : set_of_reference_material,\n",
    "})\n",
    "\n",
    "\n",
    "storage_manager.save_to_folder(\"SetsOfReferenceMaterial\", sets_of_reference_material, f\"{trial_number}.json\")"
   ]
  },
  {
   "cell_type": "code",
   "execution_count": 17,
   "id": "074a477f-ec36-4d38-ab83-b6e84a45bb3d",
   "metadata": {},
   "outputs": [
    {
     "name": "stdout",
     "output_type": "stream",
     "text": [
      "Data loaded from ../data/SetsOfReferenceMaterial/13.json\n"
     ]
    }
   ],
   "source": [
    "\"\"\"\n",
    "Send sets of reference material to the writer-citer\n",
    "\"\"\"\n",
    "\n",
    "writer_citer_model_responses = [] \n",
    "\n",
    "sets_of_reference_material = storage_manager.load_from_folder(\"SetsOfReferenceMaterial\", f\"{trial_number}.json\")\n",
    "\n",
    "# Unimproved Method\n",
    "# -----------------\n",
    "\n",
    "set_of_reference_material = sets_of_reference_material[0]\n",
    "improvement_method = set_of_reference_material['improvement_method']\n",
    "reference_material = set_of_reference_material['set_of_reference_material']\n",
    "\n",
    "# Generate a cited response\n",
    "cited_response = writer_citer.generate_cited_response(\n",
    "    rephrased_query=query,\n",
    "    set_of_reference_query=reference_material\n",
    ")\n",
    "\n",
    "cited_response['improvement_method'] = improvement_method\n",
    "\n",
    "writer_citer_model_responses.append(cited_response)\n",
    "\n",
    "# Improved Method\n",
    "# -----------------\n",
    "\n",
    "set_of_reference_material = sets_of_reference_material[1]\n",
    "improvement_method = set_of_reference_material['improvement_method']\n",
    "reference_material = set_of_reference_material['set_of_reference_material']\n",
    "\n",
    "# Generate a cited response\n",
    "cited_response = writer_citer.generate_cited_response(\n",
    "    rephrased_query=query,\n",
    "    set_of_reference_query=reference_material\n",
    ")\n",
    "\n",
    "cited_response['improvement_method'] = improvement_method\n",
    "\n",
    "writer_citer_model_responses.append(cited_response)\n"
   ]
  },
  {
   "cell_type": "code",
   "execution_count": 18,
   "id": "94fe7961-b4cd-41a0-97d7-1af438c7658c",
   "metadata": {},
   "outputs": [
    {
     "name": "stdout",
     "output_type": "stream",
     "text": [
      "If you outlive your term life insurance policy, the coverage ends, and you stop paying premiums, resulting in no death benefit being available for your beneficiaries [1][2]. However, several options may be available depending on your needs and circumstances:\n",
      "\n",
      "1. **Renew Your Policy**: Many insurers offer the possibility to renew the term on a year-by-year basis, but the premiums generally increase due to the higher risk associated with aging [1][3].\n",
      "\n",
      "2. **Convert Your Policy**: Some term policies allow you to convert them into permanent policies, such as whole or universal life insurance, without requiring a new medical exam. This can be advantageous if your health has deteriorated, making it difficult to qualify for new insurance [1][2][3].\n",
      "\n",
      "3. **Buy a New Policy**: If you still require life insurance coverage, purchasing a new policy is an option. This typically involves higher premiums and possibly a medical exam, especially if you are older or seek substantial coverage. In some cases, smaller policies might be combined to achieve desired coverage [3][4].\n",
      "\n",
      "4. **Consider a Burial Policy**: As an alternative, you might opt for a smaller, permanent policy such as a burial insurance policy, which is often easier to obtain without a medical exam [4].\n",
      "\n",
      "5. **Return-of-Premium Option**: If your term policy includes a return-of-premium rider, you could receive a refund of the premiums paid during the term, though this feature generally raises the policy's cost [1][2].\n",
      "\n",
      "Ultimately, it's essential to review your financial situation, health status, and insurance needs well in advance of your policy's expiration to determine the best course of action [1][2][3].\n",
      "---\n",
      "If you outlive your term life insurance policy, the policy will typically end without any required actions, and there will be no death benefit or continuation of the coverage [1][5]. However, you have several options to maintain coverage if necessary:\n",
      "\n",
      "1. **Renew Your Policy**: Many insurers allow you to renew your term policy year-by-year, although at a higher premium due to increased age-related risks [1][3][4][5].\n",
      "\n",
      "2. **Convert Your Policy**: If your policy includes a conversion rider, you can convert it to a permanent life insurance plan, such as whole life or universal life. This option usually does not require a new medical exam, making it beneficial if your health has declined [1][2][4][5]. Timing restrictions may apply, so this option should be considered well before the policy term ends [1].\n",
      "\n",
      "3. **Buy a New Policy**: Depending on your needs and health status, you might consider purchasing a new term or permanent life insurance policy. Although new policies typically require a medical exam and may have higher premiums due to increased age, they provide coverage tailored to your current situation [2][3][4].\n",
      "\n",
      "If your initial policy had a return-of-premium feature, you may receive back the premiums paid over the term [1][2]. Deciding whether to pursue continued coverage should involve evaluating your financial needs, health status, and life circumstances, such as dependents and debts [5].\n",
      "---\n"
     ]
    }
   ],
   "source": [
    "for item in writer_citer_model_responses:\n",
    "    print(item['choices'][0]['message']['content'])\n",
    "    print(\"---\")"
   ]
  },
  {
   "cell_type": "code",
   "execution_count": 19,
   "id": "d08cd94f-8edd-4c1b-8865-6e0b9cea951d",
   "metadata": {},
   "outputs": [
    {
     "name": "stdout",
     "output_type": "stream",
     "text": [
      "Data saved to ../data/WriterCiterModelResponses/13.json\n"
     ]
    }
   ],
   "source": [
    "# Save to disk\n",
    "storage_manager.save_to_folder(\"WriterCiterModelResponses\", writer_citer_model_responses, f\"{trial_number}.json\")"
   ]
  },
  {
   "cell_type": "code",
   "execution_count": 20,
   "id": "1499693a-9a64-47db-9e41-83fa8582bc7b",
   "metadata": {},
   "outputs": [
    {
     "name": "stdout",
     "output_type": "stream",
     "text": [
      "hello\n"
     ]
    }
   ],
   "source": [
    "print(\"hello\")"
   ]
  },
  {
   "cell_type": "code",
   "execution_count": null,
   "id": "057e0322-0a8f-45ed-a4b7-231301dfb538",
   "metadata": {},
   "outputs": [],
   "source": []
  }
 ],
 "metadata": {
  "kernelspec": {
   "display_name": "perplexity-clone",
   "language": "python",
   "name": "perplexity-clone"
  },
  "language_info": {
   "codemirror_mode": {
    "name": "ipython",
    "version": 3
   },
   "file_extension": ".py",
   "mimetype": "text/x-python",
   "name": "python",
   "nbconvert_exporter": "python",
   "pygments_lexer": "ipython3",
   "version": "3.13.0"
  }
 },
 "nbformat": 4,
 "nbformat_minor": 5
}
