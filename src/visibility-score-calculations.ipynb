{
 "cells": [
  {
   "cell_type": "code",
   "execution_count": 9,
   "id": "a35d8f31-fca2-4479-a09b-71960d1598f4",
   "metadata": {},
   "outputs": [
    {
     "name": "stdout",
     "output_type": "stream",
     "text": [
      "Data loaded from ../data/SetsOfReferenceMaterial/12.json\n",
      "Data loaded from ../data/WriterCiterModelResponses/12.json\n"
     ]
    }
   ],
   "source": [
    "from helpers.storage_manager import StorageManager\n",
    "\n",
    "storage_manager = StorageManager(\"../data/\")    \n",
    "\n",
    "trial_number = 12\n",
    "sfblic_link = \"https://www.sfbli.com/\"\n",
    "\n",
    "improvement_method = 1\n",
    "\n",
    "sets_of_reference_material = storage_manager.load_from_folder(\"SetsOfReferenceMaterial\", f\"{trial_number}.json\")\n",
    "writer_citer_model_responses = storage_manager.load_from_folder(\"WriterCiterModelResponses\", f\"{trial_number}.json\")"
   ]
  },
  {
   "cell_type": "code",
   "execution_count": 10,
   "id": "db4fa142-b159-45ec-9704-9e96d7775c5c",
   "metadata": {},
   "outputs": [],
   "source": [
    "def get_sfblic_link_number(sets_of_reference_material, improvement_method):\n",
    "\n",
    "    set_of_reference_material = [\n",
    "        s for s in sets_of_reference_material if s['improvement_method'] == improvement_method\n",
    "    ][0]['set_of_reference_material']\n",
    "\n",
    "    link_number = 1\n",
    "    \n",
    "    for piece_of_reference_material in set_of_reference_material:\n",
    "        if piece_of_reference_material['link'] == sfblic_link:\n",
    "            return link_number\n",
    "        else:\n",
    "            link_number += 1\n",
    "            \n",
    "\n",
    "def get_writer_citer_response(improvement_method): \n",
    "    return [        \n",
    "        r for r in writer_citer_model_responses if r['improvement_method'] == improvement_method\n",
    "    ][0]['choices'][0]['message']['content']"
   ]
  },
  {
   "cell_type": "code",
   "execution_count": 11,
   "id": "6e17ce86-d6bf-42e6-b3c1-384f6caf41d4",
   "metadata": {},
   "outputs": [
    {
     "data": {
      "text/plain": [
       "5"
      ]
     },
     "execution_count": 11,
     "metadata": {},
     "output_type": "execute_result"
    }
   ],
   "source": [
    "sfblic_link_number = get_sfblic_link_number(sets_of_reference_material, improvement_method)\n",
    "sfblic_link_number   "
   ]
  },
  {
   "cell_type": "code",
   "execution_count": 12,
   "id": "1150b202-4a53-4739-a937-1df09c74a1f6",
   "metadata": {},
   "outputs": [
    {
     "data": {
      "text/plain": [
       "'Term and whole life insurance differ primarily in cost, duration of coverage, cash value, and complexity. Term life insurance offers coverage for a specified period, typically between 10 and 30 years, making it more affordable than whole life insurance, which covers the insured for their entire lifetime [1][2][3][4]. While term life insurance does not include a cash value component, whole life insurance accumulates cash value over time, which can be borrowed against or withdrawn [1][2][3][4]. The premiums for term life insurance are generally lower and simpler, although they can increase upon renewal, whereas whole life insurance tends to have higher, but fixed premiums [1][2][3]. Moreover, term life insurance only pays a death benefit if the insured passes away within the policy term, whereas whole life insurance guarantees a death benefit [2][3]. Term life insurance is typically suitable for those seeking low-cost and temporary coverage, while whole life insurance is designed for individuals who want lifelong coverage with the advantage of cash value accumulation for long-term financial planning [1][2][3][4].'"
      ]
     },
     "execution_count": 12,
     "metadata": {},
     "output_type": "execute_result"
    }
   ],
   "source": [
    "get_writer_citer_response(improvement_method)"
   ]
  },
  {
   "cell_type": "code",
   "execution_count": null,
   "id": "60c2000c-5e3a-49cf-bb7b-cc385cd2826c",
   "metadata": {},
   "outputs": [],
   "source": []
  },
  {
   "cell_type": "code",
   "execution_count": null,
   "id": "09ae8ca6-d235-4b12-9156-e1df36d0cef2",
   "metadata": {},
   "outputs": [],
   "source": []
  }
 ],
 "metadata": {
  "kernelspec": {
   "display_name": "Python 3 (ipykernel)",
   "language": "python",
   "name": "python3"
  },
  "language_info": {
   "codemirror_mode": {
    "name": "ipython",
    "version": 3
   },
   "file_extension": ".py",
   "mimetype": "text/x-python",
   "name": "python",
   "nbconvert_exporter": "python",
   "pygments_lexer": "ipython3",
   "version": "3.13.0"
  }
 },
 "nbformat": 4,
 "nbformat_minor": 5
}
