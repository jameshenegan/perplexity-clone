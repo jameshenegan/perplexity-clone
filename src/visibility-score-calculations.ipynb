{
 "cells": [
  {
   "cell_type": "code",
   "execution_count": 19,
   "id": "a35d8f31-fca2-4479-a09b-71960d1598f4",
   "metadata": {},
   "outputs": [
    {
     "name": "stdout",
     "output_type": "stream",
     "text": [
      "Data loaded from ../data/SetsOfReferenceMaterial/10.json\n",
      "Data loaded from ../data/WriterCiterModelResponses/10.json\n"
     ]
    }
   ],
   "source": [
    "from helpers.storage_manager import StorageManager\n",
    "\n",
    "storage_manager = StorageManager(\"../data/\")    \n",
    "\n",
    "trial_number = 10\n",
    "sfblic_link = \"https://www.sfbli.com/\"\n",
    "\n",
    "improvement_method = 0\n",
    "\n",
    "sets_of_reference_material = storage_manager.load_from_folder(\"SetsOfReferenceMaterial\", f\"{trial_number}.json\")\n",
    "writer_citer_model_responses = storage_manager.load_from_folder(\"WriterCiterModelResponses\", f\"{trial_number}.json\")"
   ]
  },
  {
   "cell_type": "code",
   "execution_count": 20,
   "id": "db4fa142-b159-45ec-9704-9e96d7775c5c",
   "metadata": {},
   "outputs": [],
   "source": [
    "def get_sfblic_link_number(sets_of_reference_material, improvement_method):\n",
    "\n",
    "    set_of_reference_material = [\n",
    "        s for s in sets_of_reference_material if s['improvement_method'] == improvement_method\n",
    "    ][0]['set_of_reference_material']\n",
    "\n",
    "    link_number = 1\n",
    "    \n",
    "    for piece_of_reference_material in set_of_reference_material:\n",
    "        if piece_of_reference_material['link'] == sfblic_link:\n",
    "            return link_number\n",
    "        else:\n",
    "            link_number += 1\n",
    "            \n",
    "\n",
    "def get_writer_citer_response(improvement_method): \n",
    "    return [        \n",
    "        r for r in writer_citer_model_responses if r['improvement_method'] == improvement_method\n",
    "    ][0]['choices'][0]['message']['content']"
   ]
  },
  {
   "cell_type": "code",
   "execution_count": 21,
   "id": "6e17ce86-d6bf-42e6-b3c1-384f6caf41d4",
   "metadata": {},
   "outputs": [
    {
     "data": {
      "text/plain": [
       "5"
      ]
     },
     "execution_count": 21,
     "metadata": {},
     "output_type": "execute_result"
    }
   ],
   "source": [
    "sfblic_link_number = get_sfblic_link_number(sets_of_reference_material, improvement_method)\n",
    "sfblic_link_number   "
   ]
  },
  {
   "cell_type": "code",
   "execution_count": 22,
   "id": "1150b202-4a53-4739-a937-1df09c74a1f6",
   "metadata": {},
   "outputs": [
    {
     "data": {
      "text/plain": [
       "\"Deciding which type of life insurance is right for you requires consideration of several key factors [1][2][3][4]. \\n\\nStart by evaluating the **types of life insurance** available. The two main types are **term life insurance** and **permanent life insurance** (which includes whole life, universal life, and variable life policies). Term life insurance covers a specific period, making it a good option if you need a large amount of coverage for a limited time and have a constrained budget, while permanent policies offer lifelong coverage and accumulate cash value, which can be accessed during your lifetime [1][2].\\n\\nDetermine the **purpose of the policy**. Consider whether it’s to cover specific needs like children’s college expenses (which may suit a term policy) or lifelong financial security with savings elements (typical with permanent policies) [3]. Understand how much of the family income you supply and any financial obligations' changes over time, as these factors can significantly influence your choice [1].\\n\\nConsider your **budget** and the affordability of premiums, which differ significantly between term and permanent policies. Term insurance premiums are generally lower initially but can increase at renewal, while permanent premiums start higher but remain constant [1][2][4]. \\n\\nAssess your **eligibility** based on factors like age, health, and lifestyle, which can affect the type of plan you can obtain and at what cost [3].\\n\\nLastly, decide whether you prefer **predictability or flexibility** in your insurance plan. If you value predictability, fixed premiums and death benefits of term and whole life policies might be preferable. For those requiring flexible premiums and benefits, universal life insurance could be suitable [3].\\n\\nIn summary, your ultimate choice should align with your personal circumstances, financial goals, and capacity to pay premiums, ensuring that your insurance policy effectively covers your intended needs [1][4].\""
      ]
     },
     "execution_count": 22,
     "metadata": {},
     "output_type": "execute_result"
    }
   ],
   "source": [
    "get_writer_citer_response(improvement_method)"
   ]
  },
  {
   "cell_type": "code",
   "execution_count": null,
   "id": "60c2000c-5e3a-49cf-bb7b-cc385cd2826c",
   "metadata": {},
   "outputs": [],
   "source": []
  },
  {
   "cell_type": "code",
   "execution_count": null,
   "id": "09ae8ca6-d235-4b12-9156-e1df36d0cef2",
   "metadata": {},
   "outputs": [],
   "source": []
  }
 ],
 "metadata": {
  "kernelspec": {
   "display_name": "Python 3 (ipykernel)",
   "language": "python",
   "name": "python3"
  },
  "language_info": {
   "codemirror_mode": {
    "name": "ipython",
    "version": 3
   },
   "file_extension": ".py",
   "mimetype": "text/x-python",
   "name": "python",
   "nbconvert_exporter": "python",
   "pygments_lexer": "ipython3",
   "version": "3.13.0"
  }
 },
 "nbformat": 4,
 "nbformat_minor": 5
}
