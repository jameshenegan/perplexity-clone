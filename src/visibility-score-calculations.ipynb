{
 "cells": [
  {
   "cell_type": "code",
   "execution_count": 17,
   "id": "a35d8f31-fca2-4479-a09b-71960d1598f4",
   "metadata": {},
   "outputs": [
    {
     "name": "stdout",
     "output_type": "stream",
     "text": [
      "Data loaded from ../data/SetsOfReferenceMaterial/13.json\n",
      "Data loaded from ../data/WriterCiterModelResponses/13.json\n"
     ]
    }
   ],
   "source": [
    "from helpers.visibility import parse_citations_from_text, compute_citation_scores\n",
    "from helpers.storage_manager import StorageManager\n",
    "\n",
    "storage_manager = StorageManager(\"../data/\")    \n",
    "\n",
    "trial_number = 13\n",
    "sfblic_link = \"https://www.sfbli.com/\"\n",
    "\n",
    "improvement_method = 0\n",
    "\n",
    "sets_of_reference_material = storage_manager.load_from_folder(\"SetsOfReferenceMaterial\", f\"{trial_number}.json\")\n",
    "writer_citer_model_responses = storage_manager.load_from_folder(\"WriterCiterModelResponses\", f\"{trial_number}.json\")"
   ]
  },
  {
   "cell_type": "code",
   "execution_count": 18,
   "id": "db4fa142-b159-45ec-9704-9e96d7775c5c",
   "metadata": {},
   "outputs": [],
   "source": [
    "def get_sfblic_link_number(sets_of_reference_material, improvement_method):\n",
    "\n",
    "    set_of_reference_material = [\n",
    "        s for s in sets_of_reference_material if s['improvement_method'] == improvement_method\n",
    "    ][0]['set_of_reference_material']\n",
    "\n",
    "    link_number = 1\n",
    "    \n",
    "    for piece_of_reference_material in set_of_reference_material:\n",
    "        if piece_of_reference_material['link'] == sfblic_link:\n",
    "            return link_number\n",
    "        else:\n",
    "            link_number += 1\n",
    "            \n",
    "\n",
    "def get_writer_citer_response(improvement_method): \n",
    "    return [        \n",
    "        r for r in writer_citer_model_responses if r['improvement_method'] == improvement_method\n",
    "    ][0]['choices'][0]['message']['content']"
   ]
  },
  {
   "cell_type": "code",
   "execution_count": 19,
   "id": "6e17ce86-d6bf-42e6-b3c1-384f6caf41d4",
   "metadata": {},
   "outputs": [
    {
     "data": {
      "text/plain": [
       "5"
      ]
     },
     "execution_count": 19,
     "metadata": {},
     "output_type": "execute_result"
    }
   ],
   "source": [
    "sfblic_link_number = get_sfblic_link_number(sets_of_reference_material, improvement_method)\n",
    "sfblic_link_number   "
   ]
  },
  {
   "cell_type": "code",
   "execution_count": 20,
   "id": "1150b202-4a53-4739-a937-1df09c74a1f6",
   "metadata": {},
   "outputs": [],
   "source": [
    "text = get_writer_citer_response(improvement_method)"
   ]
  },
  {
   "cell_type": "code",
   "execution_count": 21,
   "id": "c655913c-4dd3-4914-8495-1052354e1340",
   "metadata": {},
   "outputs": [
    {
     "name": "stdout",
     "output_type": "stream",
     "text": [
      "[0.3819334537129557, 0.26101712118639636, 0.21295820175100585, 0.1440912233496421, 0.0]\n"
     ]
    }
   ],
   "source": [
    "# Step 1: Parse citations from text\n",
    "parsed_data = parse_citations_from_text(text)\n",
    "\n",
    "# Step 2: Compute citation scores\n",
    "scores = compute_citation_scores(parsed_data, num_citations=5, normalize=True)\n",
    "print(scores)"
   ]
  },
  {
   "cell_type": "code",
   "execution_count": null,
   "id": "b195087e-24f5-42cf-9578-e914dace9437",
   "metadata": {},
   "outputs": [],
   "source": []
  },
  {
   "cell_type": "code",
   "execution_count": null,
   "id": "bcb043d5-4ed6-4247-ae41-3bca218187cd",
   "metadata": {},
   "outputs": [],
   "source": []
  }
 ],
 "metadata": {
  "kernelspec": {
   "display_name": "Python 3 (ipykernel)",
   "language": "python",
   "name": "python3"
  },
  "language_info": {
   "codemirror_mode": {
    "name": "ipython",
    "version": 3
   },
   "file_extension": ".py",
   "mimetype": "text/x-python",
   "name": "python",
   "nbconvert_exporter": "python",
   "pygments_lexer": "ipython3",
   "version": "3.13.0"
  }
 },
 "nbformat": 4,
 "nbformat_minor": 5
}
