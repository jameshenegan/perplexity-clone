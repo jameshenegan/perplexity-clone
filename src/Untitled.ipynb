{
 "cells": [
  {
   "cell_type": "code",
   "execution_count": 2,
   "id": "fc255b2d-df36-4616-9403-221376570be3",
   "metadata": {},
   "outputs": [
    {
     "name": "stdout",
     "output_type": "stream",
     "text": [
      "Title\n"
     ]
    }
   ],
   "source": [
    "from helpers.html_parser import HTMLParser \n",
    "\n",
    "parsed_text = HTMLParser.parse_html(\"<html><body><h1>Title</h1></body></html>\")\n",
    "print(parsed_text)  # Output: Title"
   ]
  },
  {
   "cell_type": "code",
   "execution_count": null,
   "id": "7819011b-3293-4a81-90c8-1660cbdf0363",
   "metadata": {},
   "outputs": [],
   "source": []
  }
 ],
 "metadata": {
  "kernelspec": {
   "display_name": "perplexity-clone",
   "language": "python",
   "name": "perplexity-clone"
  },
  "language_info": {
   "codemirror_mode": {
    "name": "ipython",
    "version": 3
   },
   "file_extension": ".py",
   "mimetype": "text/x-python",
   "name": "python",
   "nbconvert_exporter": "python",
   "pygments_lexer": "ipython3",
   "version": "3.13.0"
  }
 },
 "nbformat": 4,
 "nbformat_minor": 5
}
