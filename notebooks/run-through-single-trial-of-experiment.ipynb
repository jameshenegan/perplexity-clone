{
 "cells": [
  {
   "cell_type": "code",
   "execution_count": 1,
   "id": "ab389d57-a003-4235-ac2b-f08a1ddabe36",
   "metadata": {},
   "outputs": [],
   "source": [
    "from dotenv import dotenv_values\n",
    "import requests\n",
    "import sys\n",
    "\n",
    "\n",
    "\"\"\"\n",
    "Configuration\n",
    "\"\"\"\n",
    "\n",
    "path_to_src_folder = \"../src\"\n",
    "sfblic_link = \"https://www.sfbli.com/\"\n",
    "path_to_clean_corpus = \"../data/clean_content.txt\"\n",
    "\n",
    "# Load environment variables\n",
    "config = dotenv_values(\"../.env\")\n",
    "google_api_key = config['GOOGLE_API_KEY']\n",
    "search_engine_id = config['SEARCH_ENGINE_ID']\n",
    "\n",
    "sys.path.append(path_to_src_folder)\n",
    "\n",
    "from helpers.google_interactor import GoogleInteractor\n",
    "from helpers.html_parser import HTMLParser \n",
    "from helpers.storage_manager import StorageManager\n",
    "from helpers.refiner_model import RefinerModel\n",
    "from helpers.improver_model import ImproverModel\n",
    "from helpers.writer_citer_model import WriterCiterModel\n",
    "from helpers.visibility import parse_citations_from_text, compute_citation_scores\n",
    "\n",
    "\"\"\"\n",
    "============================================\n",
    "Run through a single trial of the experiment\n",
    "============================================\n",
    "\"\"\"\n",
    "\n",
    "\"\"\"\n",
    "Set up\n",
    "\"\"\"\n",
    "\n",
    "# Number of links to consider\n",
    "K = 5\n",
    "\n",
    "# Declare trial number\n",
    "trial_number = 1\n",
    "\n",
    "# Select a query to use for the current trial\n",
    "query = \"Where is Southern Farm Bureau Life Insurance Company located?\"\n",
    "\n",
    "# Instantiate helpers\n",
    "google_interactor = GoogleInteractor(api_key=google_api_key, search_engine_id=search_engine_id)\n",
    "storage_manager = StorageManager(\"../data/\")    \n",
    "website_refiner = RefinerModel(api_key=config['OPEN_AI_API_KEY'])\n",
    "corpus_refiner = RefinerModel(api_key=config['OPEN_AI_API_KEY'])\n",
    "improver_model = ImproverModel(api_key=config['OPEN_AI_API_KEY'])\n",
    "writer_citer = WriterCiterModel(api_key=config['OPEN_AI_API_KEY'])\n",
    "\n",
    "# Load the clean corpus text\n",
    "with open(path_to_clean_corpus) as f:\n",
    "    corpus_text = f.read()"
   ]
  },
  {
   "cell_type": "code",
   "execution_count": 2,
   "id": "c8f8f84b-3a6d-43c8-a8a6-be9435d2af78",
   "metadata": {},
   "outputs": [
    {
     "name": "stdout",
     "output_type": "stream",
     "text": [
      "Data saved to ../data/SubmittedQueries/1.json\n",
      "Data saved to ../data/InitialGoogleResponses/1.json\n"
     ]
    }
   ],
   "source": [
    "\"\"\"\n",
    "Submit the query to Google and store the results\n",
    "\"\"\"\n",
    "\n",
    "# Submit the query to Google\n",
    "search_results = google_interactor.search_google(query=query, num_results=10)\n",
    "\n",
    "# Store the response\n",
    "storage_manager.save_to_folder(\"SubmittedQueries\", {\"query\": query}, f\"{trial_number}.json\")\n",
    "    \n",
    "# Store the response\n",
    "storage_manager.save_to_folder(\"InitialGoogleResponses\", search_results, f\"{trial_number}.json\")"
   ]
  },
  {
   "cell_type": "code",
   "execution_count": 3,
   "id": "a693c1c8-0681-4f4c-a649-4da7ae83713d",
   "metadata": {},
   "outputs": [
    {
     "data": {
      "text/plain": [
       "['https://www.sfbli.com/',\n",
       " 'https://w3.sfbcic.com/',\n",
       " 'https://www.sfbli.com/loginregister',\n",
       " 'https://www.linkedin.com/company/southern-farm-bureau',\n",
       " 'https://www.sfbli.com/contactus']"
      ]
     },
     "execution_count": 3,
     "metadata": {},
     "output_type": "execute_result"
    }
   ],
   "source": [
    "\"\"\"\n",
    "View links\n",
    "\"\"\"\n",
    "\n",
    "top_k_links = [item['link'] for item in search_results['items']][:K]\n",
    "top_k_links"
   ]
  },
  {
   "cell_type": "code",
   "execution_count": 4,
   "id": "878f21cd-60be-4cc0-ab90-654add01fe0b",
   "metadata": {},
   "outputs": [
    {
     "data": {
      "text/plain": [
       "['https://www.sfbli.com/',\n",
       " 'https://w3.sfbcic.com/',\n",
       " 'https://www.sfbli.com/loginregister',\n",
       " 'https://www.linkedin.com/company/southern-farm-bureau',\n",
       " 'https://www.sfbli.com/contactus']"
      ]
     },
     "execution_count": 4,
     "metadata": {},
     "output_type": "execute_result"
    }
   ],
   "source": [
    "\"\"\"\n",
    "Check to see if SFBLIC is in the top K links. \n",
    "If not, add it\n",
    "\"\"\"\n",
    "\n",
    "if sfblic_link in top_k_links:    \n",
    "    updated_links = top_k_links    \n",
    "else:\n",
    "    top_k_links[K-1] = sfblic_link\n",
    "    updated_links = top_k_links\n",
    "\n",
    "updated_links"
   ]
  },
  {
   "cell_type": "code",
   "execution_count": 5,
   "id": "407432c1-ba8d-4f61-9ab4-d71c9d459d04",
   "metadata": {},
   "outputs": [
    {
     "name": "stdout",
     "output_type": "stream",
     "text": [
      "Data saved to ../data/UpdatedGoogleResponses/1.json\n"
     ]
    }
   ],
   "source": [
    "storage_manager.save_to_folder(\"UpdatedGoogleResponses\", updated_links, f\"{trial_number}.json\")"
   ]
  },
  {
   "cell_type": "code",
   "execution_count": 6,
   "id": "b884eaba-8994-49de-824d-a77f1af6ae1c",
   "metadata": {},
   "outputs": [
    {
     "name": "stdout",
     "output_type": "stream",
     "text": [
      "Data loaded from ../data/UpdatedGoogleResponses/1.json\n",
      "Data saved to ../data/RawTextFromHTML/1.json\n"
     ]
    }
   ],
   "source": [
    "\"\"\"\n",
    "Get Raw Text from the HTML associated with the links from Google\n",
    "\"\"\"\n",
    "\n",
    "# Retrieve the stored response\n",
    "updated_links = storage_manager.load_from_folder(\"UpdatedGoogleResponses\", f\"{trial_number}.json\")\n",
    "\n",
    "raw_text_from_html = []\n",
    "\n",
    "# For each item of raw text that was stored ...\n",
    "for link in updated_links:    \n",
    "\n",
    "    try:\n",
    "\n",
    "        # Fet the HTML associated with the link\n",
    "        response = requests.get(link)\n",
    "    \n",
    "        # Get the raw text associated with the HTML\n",
    "        parsed_text = HTMLParser.parse_html(response.content)\n",
    "    \n",
    "        # Store the raw text from the HTML\n",
    "        raw_text_from_html.append({\"link\" : link, \"raw_text\" : parsed_text})\n",
    "\n",
    "    except:\n",
    "        print(\"Something happened with \", link)\n",
    "    \n",
    "storage_manager.save_to_folder(\"RawTextFromHTML\", raw_text_from_html, f\"{trial_number}.json\")"
   ]
  },
  {
   "cell_type": "code",
   "execution_count": 7,
   "id": "965381b7-a4ae-42a4-b472-7469b3f21ade",
   "metadata": {},
   "outputs": [
    {
     "name": "stdout",
     "output_type": "stream",
     "text": [
      "Data loaded from ../data/RawTextFromHTML/1.json\n",
      "Data saved to ../data/WebsiteRefinerModelResponses/1.json\n"
     ]
    }
   ],
   "source": [
    "\"\"\"\n",
    "Get the refined text from the raw text\n",
    "\"\"\"\n",
    "\n",
    "raw_text_from_html = storage_manager.load_from_folder(\"RawTextFromHTML\", f\"{trial_number}.json\")\n",
    "\n",
    "website_refiner_responses = []\n",
    "# For each element of raw text that was stored ...\n",
    "for current_item in raw_text_from_html:\n",
    "    \n",
    "    link = current_item['link']\n",
    "    raw_text = current_item['raw_text']   \n",
    "\n",
    "    \n",
    "    response_from_website_refiner = website_refiner.refine_text(raw_text=raw_text, query=query)\n",
    "    \n",
    "    if response_from_website_refiner:\n",
    "        response_from_website_refiner['link'] = link\n",
    "        website_refiner_responses.append(response_from_website_refiner)\n",
    "    else:\n",
    "        print(\"Failed to refine text.\")\n",
    "\n",
    "storage_manager.save_to_folder(\"WebsiteRefinerModelResponses\", website_refiner_responses, f\"{trial_number}.json\")"
   ]
  },
  {
   "cell_type": "code",
   "execution_count": 8,
   "id": "1d4118cd-84d9-4916-a56d-c6dc0557c046",
   "metadata": {},
   "outputs": [
    {
     "name": "stdout",
     "output_type": "stream",
     "text": [
      "https://www.sfbli.com/\n",
      "Southern Farm Bureau Life Insurance Company is located at 1401 Livingston Lane, Jackson, MS 39213.\n",
      "\n",
      "https://w3.sfbcic.com/\n",
      "THERE IS NO RELEVANT INFORMATION IN THE RAW TEXT\n",
      "\n",
      "https://www.sfbli.com/loginregister\n",
      "Southern Farm Bureau Life Insurance Company is located at 1401 Livingston Lane, Jackson, MS 39213.\n",
      "\n",
      "https://www.linkedin.com/company/southern-farm-bureau\n",
      "THERE IS NO RELEVANT INFORMATION IN THE RAW TEXT\n",
      "\n",
      "https://www.sfbli.com/contactus\n",
      "Southern Farm Bureau Life Insurance Company is located at 1401 Livingstone Lane, Jackson, MS 39213.\n",
      "\n"
     ]
    }
   ],
   "source": [
    "for item in website_refiner_responses:\n",
    "    print(item['link'])\n",
    "    print(item['choices'][0]['message']['content'])\n",
    "    print()"
   ]
  },
  {
   "cell_type": "code",
   "execution_count": 9,
   "id": "096455eb-d3ca-4740-a59d-ac13154e27e3",
   "metadata": {},
   "outputs": [
    {
     "name": "stdout",
     "output_type": "stream",
     "text": [
      "Data saved to ../data/CorpusRefinerModelResponses/1.json\n"
     ]
    }
   ],
   "source": [
    "\"\"\"\n",
    "Filter the corpus to information that may be relevant to the query\n",
    "\"\"\"\n",
    "\n",
    "response_from_corpus_refiner = corpus_refiner.refine_text(raw_text=corpus_text, query=query)\n",
    "storage_manager.save_to_folder(\"CorpusRefinerModelResponses\", response_from_corpus_refiner, f\"{trial_number}.json\")"
   ]
  },
  {
   "cell_type": "code",
   "execution_count": 10,
   "id": "6905596a-831f-4da3-bdd5-89d2abe7fc52",
   "metadata": {},
   "outputs": [
    {
     "name": "stdout",
     "output_type": "stream",
     "text": [
      "Southern Farm Bureau Life Insurance Company is located at 1401 Livingston Lane, Jackson, MS 39213.\n"
     ]
    }
   ],
   "source": [
    "print(response_from_corpus_refiner['choices'][0]['message']['content'])"
   ]
  },
  {
   "cell_type": "code",
   "execution_count": 11,
   "id": "9fdc59d2-cf24-4de4-830f-e6f12c0a5f0f",
   "metadata": {},
   "outputs": [
    {
     "name": "stdout",
     "output_type": "stream",
     "text": [
      "Data loaded from ../data/WebsiteRefinerModelResponses/1.json\n"
     ]
    },
    {
     "data": {
      "text/plain": [
       "'Southern Farm Bureau Life Insurance Company is located at 1401 Livingston Lane, Jackson, MS 39213.'"
      ]
     },
     "execution_count": 11,
     "metadata": {},
     "output_type": "execute_result"
    }
   ],
   "source": [
    "\"\"\"\n",
    "Improve the text from the SFBLIC site\n",
    "\"\"\"\n",
    "\n",
    "# Get the refined text from the website\n",
    "website_refiner_responses = storage_manager.load_from_folder(\"WebsiteRefinerModelResponses\", f\"{trial_number}.json\")\n",
    "sfblic_response = [response for response in website_refiner_responses if response['link'] == 'https://www.sfbli.com/'][0]\n",
    "refined_text_from_website = sfblic_response['choices'][0]['message']['content']\n",
    "refined_text_from_website"
   ]
  },
  {
   "cell_type": "code",
   "execution_count": 12,
   "id": "c62c6546-9284-4985-b5b3-bf109bf10aab",
   "metadata": {},
   "outputs": [
    {
     "name": "stdout",
     "output_type": "stream",
     "text": [
      "Data loaded from ../data/CorpusRefinerModelResponses/1.json\n",
      "Southern Farm Bureau Life Insurance Company is located at 1401 Livingston Lane, Jackson, MS 39213.\n"
     ]
    }
   ],
   "source": [
    "# Get the refined text from the corpus\n",
    "response_from_corpus_refiner = storage_manager.load_from_folder(\"CorpusRefinerModelResponses\", f\"{trial_number}.json\")\n",
    "refined_text_from_corpus = response_from_corpus_refiner['choices'][0]['message']['content']\n",
    "print(refined_text_from_corpus)"
   ]
  },
  {
   "cell_type": "code",
   "execution_count": 13,
   "id": "dfe0e6ff-6edc-473c-b4de-eb55adfb4fea",
   "metadata": {},
   "outputs": [
    {
     "name": "stdout",
     "output_type": "stream",
     "text": [
      "Improved Text generated...\n",
      "Data saved to ../data/ImproverModelResponses/1.json\n"
     ]
    }
   ],
   "source": [
    "# Generate improved text\n",
    "improved_text = improver_model.improve_text(\n",
    "    query=query,\n",
    "    refined_text_from_website=refined_text_from_website,\n",
    "    refined_text_from_corpus=refined_text_from_corpus\n",
    ")\n",
    "\n",
    "if improved_text:\n",
    "    print(\"Improved Text generated...\")\n",
    "    \n",
    "else:\n",
    "    print(\"Failed to improve text.\")\n",
    "\n",
    "\n",
    "# Save to disk\n",
    "storage_manager.save_to_folder(\"ImproverModelResponses\", improved_text, f\"{trial_number}.json\")"
   ]
  },
  {
   "cell_type": "code",
   "execution_count": 14,
   "id": "dc534e7f-4581-4608-8b29-31149fb34750",
   "metadata": {},
   "outputs": [
    {
     "name": "stdout",
     "output_type": "stream",
     "text": [
      "Southern Farm Bureau Life Insurance Company is located at 1401 Livingston Lane, Jackson, Mississippi, 39213.\n"
     ]
    }
   ],
   "source": [
    "print(improved_text['choices'][0]['message']['content'])"
   ]
  },
  {
   "cell_type": "code",
   "execution_count": 15,
   "id": "98981308-2382-4a86-955b-f05a8bc693cb",
   "metadata": {},
   "outputs": [
    {
     "name": "stdout",
     "output_type": "stream",
     "text": [
      "Data loaded from ../data/WebsiteRefinerModelResponses/1.json\n"
     ]
    },
    {
     "data": {
      "text/plain": [
       "[{'link': 'https://www.sfbli.com/',\n",
       "  'information': 'Southern Farm Bureau Life Insurance Company is located at 1401 Livingston Lane, Jackson, MS 39213.'},\n",
       " {'link': 'https://w3.sfbcic.com/',\n",
       "  'information': 'THERE IS NO RELEVANT INFORMATION IN THE RAW TEXT'},\n",
       " {'link': 'https://www.sfbli.com/loginregister',\n",
       "  'information': 'Southern Farm Bureau Life Insurance Company is located at 1401 Livingston Lane, Jackson, MS 39213.'},\n",
       " {'link': 'https://www.linkedin.com/company/southern-farm-bureau',\n",
       "  'information': 'THERE IS NO RELEVANT INFORMATION IN THE RAW TEXT'},\n",
       " {'link': 'https://www.sfbli.com/contactus',\n",
       "  'information': 'Southern Farm Bureau Life Insurance Company is located at 1401 Livingstone Lane, Jackson, MS 39213.'}]"
      ]
     },
     "execution_count": 15,
     "metadata": {},
     "output_type": "execute_result"
    }
   ],
   "source": [
    "\"\"\"\n",
    "Create multiple sets of reference material\n",
    "\"\"\"\n",
    "\n",
    "# Create a set of reference material that has the original (unimproved) content from the website\n",
    "\n",
    "website_refiner_model_responses = storage_manager.load_from_folder(\"WebsiteRefinerModelResponses\", f\"{trial_number}.json\")\n",
    "\n",
    "unmodified_set_of_reference_material =  [\n",
    "    {\n",
    "        \"link\" : item['link'],\n",
    "        \"information\" : item['choices'][0]['message']['content']\n",
    "    }\n",
    "    for item in website_refiner_model_responses\n",
    "]\n",
    "\n",
    "unmodified_set_of_reference_material"
   ]
  },
  {
   "cell_type": "code",
   "execution_count": 16,
   "id": "1c827d56-78fb-49d2-90c1-c8d2c0f3c5e2",
   "metadata": {},
   "outputs": [
    {
     "name": "stdout",
     "output_type": "stream",
     "text": [
      "Data loaded from ../data/ImproverModelResponses/1.json\n"
     ]
    },
    {
     "data": {
      "text/plain": [
       "[{'link': 'https://www.sfbli.com/',\n",
       "  'information': 'Southern Farm Bureau Life Insurance Company is located at 1401 Livingston Lane, Jackson, Mississippi, 39213.'},\n",
       " {'link': 'https://w3.sfbcic.com/',\n",
       "  'information': 'THERE IS NO RELEVANT INFORMATION IN THE RAW TEXT'},\n",
       " {'link': 'https://www.sfbli.com/loginregister',\n",
       "  'information': 'Southern Farm Bureau Life Insurance Company is located at 1401 Livingston Lane, Jackson, MS 39213.'},\n",
       " {'link': 'https://www.linkedin.com/company/southern-farm-bureau',\n",
       "  'information': 'THERE IS NO RELEVANT INFORMATION IN THE RAW TEXT'},\n",
       " {'link': 'https://www.sfbli.com/contactus',\n",
       "  'information': 'Southern Farm Bureau Life Insurance Company is located at 1401 Livingstone Lane, Jackson, MS 39213.'}]"
      ]
     },
     "execution_count": 16,
     "metadata": {},
     "output_type": "execute_result"
    }
   ],
   "source": [
    "\n",
    "# Create a set of reference material that has the new (improved) content\n",
    "improved_text = storage_manager.load_from_folder('ImproverModelResponses', f\"{trial_number}.json\")\n",
    "improved_version = improved_text['choices'][0]['message']['content']\n",
    "\n",
    "\n",
    "# Create a new set of reference material\n",
    "\n",
    "new_set_of_reference_material = []\n",
    "\n",
    "for item in unmodified_set_of_reference_material:\n",
    "    if item['link'] == sfblic_link:\n",
    "        new_set_of_reference_material.append({\"link\" : item['link'], \"information\" : improved_version})\n",
    "    else:\n",
    "        new_set_of_reference_material.append(item)\n",
    "\n",
    "new_set_of_reference_material"
   ]
  },
  {
   "cell_type": "code",
   "execution_count": 17,
   "id": "f3dff9fe-4ae0-4e40-805f-d1e84d1f7149",
   "metadata": {},
   "outputs": [
    {
     "name": "stdout",
     "output_type": "stream",
     "text": [
      "Data saved to ../data/SetsOfReferenceMaterial/1.json\n"
     ]
    }
   ],
   "source": [
    "\"\"\"\n",
    "Store Sets of Reference Material\n",
    "\"\"\"\n",
    "\n",
    "sets_of_reference_material = []\n",
    "\n",
    "improvement_method = 0\n",
    "set_of_reference_material = unmodified_set_of_reference_material\n",
    "\n",
    "sets_of_reference_material.append({\n",
    "    \"improvement_method\" : improvement_method,\n",
    "    \"set_of_reference_material\" : set_of_reference_material,\n",
    "})\n",
    "\n",
    "improvement_method = 1\n",
    "set_of_reference_material = new_set_of_reference_material\n",
    "\n",
    "sets_of_reference_material.append({\n",
    "    \"improvement_method\" : improvement_method,\n",
    "    \"set_of_reference_material\" : set_of_reference_material,\n",
    "})\n",
    "\n",
    "\n",
    "storage_manager.save_to_folder(\"SetsOfReferenceMaterial\", sets_of_reference_material, f\"{trial_number}.json\")"
   ]
  },
  {
   "cell_type": "code",
   "execution_count": 18,
   "id": "c623cbc3-67a6-4d98-aae8-abb60ed5990d",
   "metadata": {},
   "outputs": [
    {
     "name": "stdout",
     "output_type": "stream",
     "text": [
      "Data loaded from ../data/SetsOfReferenceMaterial/1.json\n"
     ]
    }
   ],
   "source": [
    "\"\"\"\n",
    "Send sets of reference material to the writer-citer\n",
    "\"\"\"\n",
    "\n",
    "writer_citer_model_responses = [] \n",
    "\n",
    "sets_of_reference_material = storage_manager.load_from_folder(\"SetsOfReferenceMaterial\", f\"{trial_number}.json\")\n",
    "\n",
    "# Unimproved Method\n",
    "# -----------------\n",
    "\n",
    "set_of_reference_material = sets_of_reference_material[0]\n",
    "improvement_method = set_of_reference_material['improvement_method']\n",
    "reference_material = set_of_reference_material['set_of_reference_material']\n",
    "\n",
    "# Generate a cited response\n",
    "cited_response = writer_citer.generate_cited_response(\n",
    "    rephrased_query=query,\n",
    "    set_of_reference_query=reference_material\n",
    ")\n",
    "\n",
    "cited_response['improvement_method'] = improvement_method\n",
    "\n",
    "writer_citer_model_responses.append(cited_response)\n",
    "\n",
    "# Improved Method\n",
    "# -----------------\n",
    "\n",
    "set_of_reference_material = sets_of_reference_material[1]\n",
    "improvement_method = set_of_reference_material['improvement_method']\n",
    "reference_material = set_of_reference_material['set_of_reference_material']\n",
    "\n",
    "# Generate a cited response\n",
    "cited_response = writer_citer.generate_cited_response(\n",
    "    rephrased_query=query,\n",
    "    set_of_reference_query=reference_material\n",
    ")\n",
    "\n",
    "cited_response['improvement_method'] = improvement_method\n",
    "\n",
    "writer_citer_model_responses.append(cited_response)\n"
   ]
  },
  {
   "cell_type": "code",
   "execution_count": 19,
   "id": "8b4122ab-2a7b-4b6f-8441-b88c6edc0138",
   "metadata": {},
   "outputs": [
    {
     "name": "stdout",
     "output_type": "stream",
     "text": [
      "Southern Farm Bureau Life Insurance Company is located at 1401 Livingston Lane, Jackson, MS 39213 [1][3][5].\n",
      "---\n",
      "Southern Farm Bureau Life Insurance Company is located at 1401 Livingston Lane, Jackson, Mississippi, 39213 [1][3][5].\n",
      "---\n"
     ]
    }
   ],
   "source": [
    "for item in writer_citer_model_responses:\n",
    "    print(item['choices'][0]['message']['content'])\n",
    "    print(\"---\")"
   ]
  },
  {
   "cell_type": "code",
   "execution_count": 20,
   "id": "9ce1ad40-d5de-4299-b871-4ec274588032",
   "metadata": {},
   "outputs": [
    {
     "name": "stdout",
     "output_type": "stream",
     "text": [
      "Data saved to ../data/WriterCiterModelResponses/1.json\n"
     ]
    }
   ],
   "source": [
    "# Save to disk\n",
    "storage_manager.save_to_folder(\"WriterCiterModelResponses\", writer_citer_model_responses, f\"{trial_number}.json\")"
   ]
  },
  {
   "cell_type": "code",
   "execution_count": 21,
   "id": "596da881-6f5c-4c9e-9693-211bd9b63790",
   "metadata": {},
   "outputs": [
    {
     "name": "stdout",
     "output_type": "stream",
     "text": [
      "Data loaded from ../data/SetsOfReferenceMaterial/1.json\n",
      "Data loaded from ../data/WriterCiterModelResponses/1.json\n",
      "Data saved to ../data/VisibilityScores/1.json\n"
     ]
    },
    {
     "data": {
      "text/plain": [
       "[{'improvement_method': 0,\n",
       "  'scores': [4.0, 0, 4.0, 0, 4.0],\n",
       "  'normalized_scores': [0.3333333333333333,\n",
       "   0.0,\n",
       "   0.3333333333333333,\n",
       "   0.0,\n",
       "   0.3333333333333333],\n",
       "  'sfblic_score': 4.0,\n",
       "  'normalized_sfblic_score': 0.3333333333333333},\n",
       " {'improvement_method': 1,\n",
       "  'scores': [4.333333333333333, 0, 4.333333333333333, 0, 4.333333333333333],\n",
       "  'normalized_scores': [0.3333333333333333,\n",
       "   0.0,\n",
       "   0.3333333333333333,\n",
       "   0.0,\n",
       "   0.3333333333333333],\n",
       "  'sfblic_score': 4.333333333333333,\n",
       "  'normalized_sfblic_score': 0.3333333333333333}]"
      ]
     },
     "execution_count": 21,
     "metadata": {},
     "output_type": "execute_result"
    }
   ],
   "source": [
    "\"\"\"\n",
    "Compute visibility scores\n",
    "\"\"\"\n",
    "\n",
    "\n",
    "# Helpers for computing visibility scores\n",
    "\n",
    "def get_sfblic_link_number(sets_of_reference_material, improvement_method):\n",
    "\n",
    "    set_of_reference_material = [\n",
    "        s for s in sets_of_reference_material if s['improvement_method'] == improvement_method\n",
    "    ][0]['set_of_reference_material']\n",
    "\n",
    "    link_number = 1\n",
    "    \n",
    "    for piece_of_reference_material in set_of_reference_material:\n",
    "        if piece_of_reference_material['link'] == sfblic_link:\n",
    "            return link_number\n",
    "        else:\n",
    "            link_number += 1\n",
    "            \n",
    "\n",
    "def get_writer_citer_response(improvement_method): \n",
    "    return [        \n",
    "        r for r in writer_citer_model_responses if r['improvement_method'] == improvement_method\n",
    "    ][0]['choices'][0]['message']['content']\n",
    "\n",
    "# Load data to compute visibility scores\n",
    "\n",
    "sets_of_reference_material = storage_manager.load_from_folder(\"SetsOfReferenceMaterial\", f\"{trial_number}.json\")\n",
    "writer_citer_model_responses = storage_manager.load_from_folder(\"WriterCiterModelResponses\", f\"{trial_number}.json\")\n",
    "sfblic_link_number = get_sfblic_link_number(sets_of_reference_material, improvement_method)\n",
    "\n",
    "# Compute visibility scores\n",
    "# -------------------------\n",
    "\n",
    "visibility_score_records = []\n",
    "\n",
    "for improvement_method in [0, 1]:\n",
    "\n",
    "    text = get_writer_citer_response(improvement_method)\n",
    "    parsed_data = parse_citations_from_text(text)\n",
    "    scores = compute_citation_scores(parsed_data, num_citations=5, normalize=False)\n",
    "    normalized_scores = compute_citation_scores(parsed_data, num_citations=5, normalize=True)\n",
    "    sfblic_score = scores[sfblic_link_number - 1]\n",
    "    normalized_sfblic_score = normalized_scores[sfblic_link_number - 1]\n",
    "    \n",
    "    record = {\n",
    "        \"improvement_method\" : improvement_method,\n",
    "        \"scores\" : scores,\n",
    "        \"normalized_scores\" : normalized_scores,\n",
    "        \"sfblic_score\" : sfblic_score,\n",
    "        \"normalized_sfblic_score\" : normalized_sfblic_score,    \n",
    "        \n",
    "    }\n",
    "\n",
    "    visibility_score_records.append(record)\n",
    "\n",
    "# Save to disk\n",
    "storage_manager.save_to_folder(\"VisibilityScores\", visibility_score_records, f\"{trial_number}.json\")\n",
    "\n",
    "visibility_score_records"
   ]
  },
  {
   "cell_type": "code",
   "execution_count": null,
   "id": "1127c55d-2824-4fee-a2c4-19ba3bb30674",
   "metadata": {},
   "outputs": [],
   "source": []
  },
  {
   "cell_type": "code",
   "execution_count": null,
   "id": "3a17a86b-999c-4b16-9b2e-533ea7a53621",
   "metadata": {},
   "outputs": [],
   "source": []
  }
 ],
 "metadata": {
  "kernelspec": {
   "display_name": "perplexity-clone",
   "language": "python",
   "name": "perplexity-clone"
  },
  "language_info": {
   "codemirror_mode": {
    "name": "ipython",
    "version": 3
   },
   "file_extension": ".py",
   "mimetype": "text/x-python",
   "name": "python",
   "nbconvert_exporter": "python",
   "pygments_lexer": "ipython3",
   "version": "3.13.0"
  }
 },
 "nbformat": 4,
 "nbformat_minor": 5
}
