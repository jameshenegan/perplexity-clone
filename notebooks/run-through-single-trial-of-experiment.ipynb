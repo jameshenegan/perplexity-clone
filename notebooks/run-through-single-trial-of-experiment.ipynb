{
 "cells": [
  {
   "cell_type": "code",
   "execution_count": 1,
   "id": "ab389d57-a003-4235-ac2b-f08a1ddabe36",
   "metadata": {},
   "outputs": [],
   "source": [
    "from dotenv import dotenv_values\n",
    "import requests\n",
    "import sys\n",
    "\n",
    "\n",
    "\"\"\"\n",
    "Configuration\n",
    "\"\"\"\n",
    "\n",
    "path_to_src_folder = \"../src\"\n",
    "sfblic_link = \"https://www.sfbli.com/\"\n",
    "\n",
    "# Load environment variables\n",
    "config = dotenv_values(\"../.env\")\n",
    "google_api_key = config['GOOGLE_API_KEY']\n",
    "search_engine_id = config['SEARCH_ENGINE_ID']\n",
    "\n",
    "sys.path.append(path_to_src_folder)\n",
    "\n",
    "from helpers.google_interactor import GoogleInteractor\n",
    "from helpers.html_parser import HTMLParser \n",
    "from helpers.storage_manager import StorageManager\n",
    "from helpers.refiner_model import RefinerModel\n",
    "from helpers.improver_model import ImproverModel\n",
    "from helpers.writer_citer_model import WriterCiterModel\n",
    "from helpers.visibility import parse_citations_from_text, compute_citation_scores\n",
    "\n",
    "\"\"\"\n",
    "============================================\n",
    "Run through a single trial of the experiment\n",
    "============================================\n",
    "\"\"\"\n",
    "\n",
    "\"\"\"\n",
    "Set up\n",
    "\"\"\"\n",
    "\n",
    "# Number of links to consider\n",
    "K = 5\n",
    "\n",
    "# Declare trial number\n",
    "trial_number = 14\n",
    "\n",
    "# Select a query to use for the current trial\n",
    "query = \"What is life insurance?\"\n",
    "\n",
    "# Instantiate helpers\n",
    "google_interactor = GoogleInteractor(api_key=google_api_key, search_engine_id=search_engine_id)\n",
    "storage_manager = StorageManager(\"../data/\")    \n",
    "website_refiner = RefinerModel(api_key=config['OPEN_AI_API_KEY'])\n",
    "corpus_refiner = RefinerModel(api_key=config['OPEN_AI_API_KEY'])\n",
    "improver_model = ImproverModel(api_key=config['OPEN_AI_API_KEY'])\n",
    "writer_citer = WriterCiterModel(api_key=config['OPEN_AI_API_KEY'])\n",
    "\n",
    "# Load the clean corpus text\n",
    "with open(\"../data/clean_content.txt\") as f:\n",
    "    corpus_text = f.read()"
   ]
  },
  {
   "cell_type": "code",
   "execution_count": 2,
   "id": "c8f8f84b-3a6d-43c8-a8a6-be9435d2af78",
   "metadata": {},
   "outputs": [
    {
     "name": "stdout",
     "output_type": "stream",
     "text": [
      "Data saved to ../data/InitialGoogleResponses/14.json\n"
     ]
    }
   ],
   "source": [
    "\"\"\"\n",
    "Submit the query to Google and store the results\n",
    "\"\"\"\n",
    "\n",
    "# Submit the query to Google\n",
    "search_results = google_interactor.search_google(query=query, num_results=10)\n",
    "    \n",
    "# Store the response\n",
    "storage_manager.save_to_folder(\"InitialGoogleResponses\", search_results, f\"{trial_number}.json\")"
   ]
  },
  {
   "cell_type": "code",
   "execution_count": 3,
   "id": "a693c1c8-0681-4f4c-a649-4da7ae83713d",
   "metadata": {},
   "outputs": [
    {
     "data": {
      "text/plain": [
       "['https://www.libertymutual.com/insurance-resources/life/how-does-life-insurance-work',\n",
       " 'https://www.benefits.va.gov/insurance/',\n",
       " 'https://www.va.gov/life-insurance/options-eligibility/valife/',\n",
       " 'https://content.naic.org/insurance-topics/life-insurance',\n",
       " 'https://www.va.gov/life-insurance/']"
      ]
     },
     "execution_count": 3,
     "metadata": {},
     "output_type": "execute_result"
    }
   ],
   "source": [
    "\"\"\"\n",
    "View links\n",
    "\"\"\"\n",
    "\n",
    "top_k_links = [item['link'] for item in search_results['items']][:K]\n",
    "top_k_links"
   ]
  },
  {
   "cell_type": "code",
   "execution_count": 4,
   "id": "878f21cd-60be-4cc0-ab90-654add01fe0b",
   "metadata": {},
   "outputs": [
    {
     "data": {
      "text/plain": [
       "['https://www.libertymutual.com/insurance-resources/life/how-does-life-insurance-work',\n",
       " 'https://www.benefits.va.gov/insurance/',\n",
       " 'https://www.va.gov/life-insurance/options-eligibility/valife/',\n",
       " 'https://content.naic.org/insurance-topics/life-insurance',\n",
       " 'https://www.sfbli.com/']"
      ]
     },
     "execution_count": 4,
     "metadata": {},
     "output_type": "execute_result"
    }
   ],
   "source": [
    "\"\"\"\n",
    "Check to see if SFBLIC is in the top K links. \n",
    "If not, add it\n",
    "\"\"\"\n",
    "\n",
    "if sfblic_link in top_k_links:\n",
    "    updated_links = top_k_links\n",
    "else:\n",
    "    top_k_links[K-1] = sfblic_link\n",
    "    updated_links = top_k_links\n",
    "\n",
    "updated_links"
   ]
  },
  {
   "cell_type": "code",
   "execution_count": 5,
   "id": "407432c1-ba8d-4f61-9ab4-d71c9d459d04",
   "metadata": {},
   "outputs": [
    {
     "name": "stdout",
     "output_type": "stream",
     "text": [
      "Data saved to ../data/UpdatedGoogleResponses/14.json\n"
     ]
    }
   ],
   "source": [
    "storage_manager.save_to_folder(\"UpdatedGoogleResponses\", updated_links, f\"{trial_number}.json\")"
   ]
  },
  {
   "cell_type": "code",
   "execution_count": 6,
   "id": "b884eaba-8994-49de-824d-a77f1af6ae1c",
   "metadata": {},
   "outputs": [
    {
     "name": "stdout",
     "output_type": "stream",
     "text": [
      "Data loaded from ../data/UpdatedGoogleResponses/14.json\n",
      "Data saved to ../data/RawTextFromHTML/14.json\n"
     ]
    }
   ],
   "source": [
    "\"\"\"\n",
    "Get Raw Text from the HTML associated with the links from Google\n",
    "\"\"\"\n",
    "\n",
    "# Retrieve the stored response\n",
    "updated_links = storage_manager.load_from_folder(\"UpdatedGoogleResponses\", f\"{trial_number}.json\")\n",
    "\n",
    "raw_text_from_html = []\n",
    "\n",
    "# For each item of raw text that was stored ...\n",
    "for link in updated_links:    \n",
    "\n",
    "    try:\n",
    "\n",
    "        # Fet the HTML associated with the link\n",
    "        response = requests.get(link)\n",
    "    \n",
    "        # Get the raw text associated with the HTML\n",
    "        parsed_text = HTMLParser.parse_html(response.content)\n",
    "    \n",
    "        # Store the raw text from the HTML\n",
    "        raw_text_from_html.append({\"link\" : link, \"raw_text\" : parsed_text})\n",
    "\n",
    "    except:\n",
    "        print(\"Something happened with \", link)\n",
    "    \n",
    "storage_manager.save_to_folder(\"RawTextFromHTML\", raw_text_from_html, f\"{trial_number}.json\")"
   ]
  },
  {
   "cell_type": "code",
   "execution_count": 7,
   "id": "965381b7-a4ae-42a4-b472-7469b3f21ade",
   "metadata": {},
   "outputs": [
    {
     "name": "stdout",
     "output_type": "stream",
     "text": [
      "Data loaded from ../data/RawTextFromHTML/14.json\n",
      "Data saved to ../data/WebsiteRefinerModelResponses/14.json\n"
     ]
    }
   ],
   "source": [
    "\"\"\"\n",
    "Get the refined text from the raw text\n",
    "\"\"\"\n",
    "\n",
    "raw_text_from_html = storage_manager.load_from_folder(\"RawTextFromHTML\", f\"{trial_number}.json\")\n",
    "\n",
    "website_refiner_responses = []\n",
    "# For each element of raw text that was stored ...\n",
    "for current_item in raw_text_from_html:\n",
    "    \n",
    "    link = current_item['link']\n",
    "    raw_text = current_item['raw_text']   \n",
    "\n",
    "    \n",
    "    response_from_website_refiner = website_refiner.refine_text(raw_text=raw_text, query=query)\n",
    "    \n",
    "    if response_from_website_refiner:\n",
    "        response_from_website_refiner['link'] = link\n",
    "        website_refiner_responses.append(response_from_website_refiner)\n",
    "    else:\n",
    "        print(\"Failed to refine text.\")\n",
    "\n",
    "storage_manager.save_to_folder(\"WebsiteRefinerModelResponses\", website_refiner_responses, f\"{trial_number}.json\")"
   ]
  },
  {
   "cell_type": "code",
   "execution_count": 8,
   "id": "1d4118cd-84d9-4916-a56d-c6dc0557c046",
   "metadata": {},
   "outputs": [
    {
     "name": "stdout",
     "output_type": "stream",
     "text": [
      "https://www.libertymutual.com/insurance-resources/life/how-does-life-insurance-work\n",
      "Life insurance is a contract between an insurance company and policyholder. In exchange for a premium, the life insurance company agrees to pay a sum of money to one or more named beneficiaries upon the death of the policyholder. The purpose of life insurance is to help provide financial security to your loved ones upon your death. However, some life policies also offer living benefits, allowing a part of the policy's death benefit to be paid while the policyholder is still alive under certain conditions.\n",
      "\n",
      "https://www.benefits.va.gov/insurance/\n",
      "Life insurance is a financial product that provides a death benefit to beneficiaries upon the insured person's death. The text mentions several life insurance programs available for Veterans:\n",
      "\n",
      "1. **Veterans Affairs Life Insurance (VALife)** - A new guaranteed acceptance whole life insurance program for service-connected Veterans aged 80 and under, offering coverage of up to $40,000. The coverage takes effect two years after enrollment, provided premiums are paid.\n",
      "\n",
      "2. **Servicemembers' Group Life Insurance (SGLI)** - A low-cost group term life insurance program for Servicemembers, with automatic coverage for active duty members and options to extend coverage under certain conditions.\n",
      "\n",
      "3. **Veterans' Group Life Insurance (VGLI)** - Allows Veterans to convert their SGLI to a civilian program of lifetime renewable term coverage after separation from service.\n",
      "\n",
      "4. **Family Servicemembers' Group Life Insurance (FSGLI)** - Insures spouses and children of Servicemembers with SGLI coverage.\n",
      "\n",
      "5. **Servicemembers' Group Life Insurance Traumatic Injury Protection (TSGLI)** - Provides automatic coverage for Servicemembers who suffer traumatic injuries during service.\n",
      "\n",
      "6. **Veterans' Mortgage Life Insurance (VMLI)** - Provides mortgage life insurance protection to disabled Veterans with approved VA Specially Adapted Housing (SAH) grants.\n",
      "\n",
      "7. **Service-Disabled Veterans' Life Insurance (S-DVI)** - Closed to new enrollment after December 31, 2022, but applications for VALife are accepted from January 1, 2023.\n",
      "\n",
      "These insurance types serve various needs and offer different coverage options for Veterans and their families.\n",
      "\n",
      "https://www.va.gov/life-insurance/options-eligibility/valife/\n",
      "Life insurance, specifically Veterans Affairs Life Insurance (VALife), provides low-cost coverage to Veterans with service-connected disabilities. Eligible individuals can receive up to $40,000 in whole life insurance coverage, and they benefit from guaranteed acceptance, meaning that as long as they meet the eligibility requirements, their application will be automatically approved without needing to prove good health. The cash value of the policy starts accumulating two years after the application approval. \n",
      "\n",
      "During the two-year waiting period, if the insured dies, the beneficiaries receive the total amount of premiums paid plus interest. After the waiting period, the beneficiaries are entitled to the full coverage amount of the policy. Premiums depend on the applicant's age and the coverage amount chosen, with the premium rate remaining stable as long as the policy is maintained.\n",
      "\n",
      "https://content.naic.org/insurance-topics/life-insurance\n",
      "Life insurance is a type of insurance policy that provides financial protection to the policyholder's beneficiaries in the event of the policyholder's death. Life insurance illustrations are tools that show how a life insurance policy is expected to perform under specific circumstances. These illustrations include information such as the benefits entitled to the policyholder, the premiums required to maintain these benefits, and associated expenses. They are governed by the Life Insurance Illustrations Model Regulation, which aims to protect consumers and foster their education about life insurance products.\n",
      "\n",
      "https://www.sfbli.com/\n",
      "THERE IS NO RELEVANT INFORMATION IN THE RAW TEXT\n",
      "\n"
     ]
    }
   ],
   "source": [
    "for item in website_refiner_responses:\n",
    "    print(item['link'])\n",
    "    print(item['choices'][0]['message']['content'])\n",
    "    print()"
   ]
  },
  {
   "cell_type": "code",
   "execution_count": 9,
   "id": "096455eb-d3ca-4740-a59d-ac13154e27e3",
   "metadata": {},
   "outputs": [
    {
     "name": "stdout",
     "output_type": "stream",
     "text": [
      "Data saved to ../data/CorpusRefinerModelResponses/14.json\n"
     ]
    }
   ],
   "source": [
    "\"\"\"\n",
    "Filter the corpus to information that may be relevant to the query\n",
    "\"\"\"\n",
    "\n",
    "response_from_corpus_refiner = corpus_refiner.refine_text(raw_text=corpus_text, query=query)\n",
    "storage_manager.save_to_folder(\"CorpusRefinerModelResponses\", response_from_corpus_refiner, f\"{trial_number}.json\")"
   ]
  },
  {
   "cell_type": "code",
   "execution_count": 10,
   "id": "6905596a-831f-4da3-bdd5-89d2abe7fc52",
   "metadata": {},
   "outputs": [
    {
     "name": "stdout",
     "output_type": "stream",
     "text": [
      "Life insurance is a contract between an insurance company and the policyholder. In exchange for a premium, the life insurance company agrees to pay a sum of money to one or more named beneficiaries upon the death of the policyholder. The purpose of life insurance is to provide financial security to your loved ones upon your death. \n",
      "\n",
      "Life insurance is important because it protects your spouse and children from potentially devastating financial losses if something happens to you. It provides financial security, helps pay off debts, living expenses, and any medical or final expenses. The policy delivers a specified sum of money upon your death, which is generally not subject to federal income taxes, ensuring that your beneficiaries receive full benefits.\n",
      "\n",
      "There are two main categories of life insurance policies: \n",
      "1. **Term Life Insurance**: Provides coverage for a specific period (e.g., 10, 20, or 30 years). If the policyholder dies during the coverage period, the beneficiaries receive the death benefit. If they outlive the term, the policy expires. Term life insurance is suitable for those with dependents or a mortgage and is generally the least expensive option.\n",
      "  \n",
      "2. **Permanent Life Insurance**: Provides coverage for the policyholder's whole life, as long as premiums are paid. This includes types such as:\n",
      "   - **Whole Life Insurance**: Does not expire and includes a cash value component.\n",
      "   - **Universal Life Insurance**: Offers lifetime coverage with flexible premium payment options and cash value growth.\n",
      "   - **Variable Life Insurance**: Includes cash value that can grow based on the performance of certain subaccounts.\n",
      "\n",
      "Having life insurance is a way to ensure that your beneficiaries—such as a spouse, children, or other family members—are financially supported after your death. \n",
      "\n",
      "Overall, life insurance can provide peace of mind by ensuring a financial legacy for your loved ones.\n"
     ]
    }
   ],
   "source": [
    "print(response_from_corpus_refiner['choices'][0]['message']['content'])"
   ]
  },
  {
   "cell_type": "code",
   "execution_count": 11,
   "id": "9fdc59d2-cf24-4de4-830f-e6f12c0a5f0f",
   "metadata": {},
   "outputs": [
    {
     "name": "stdout",
     "output_type": "stream",
     "text": [
      "Data loaded from ../data/WebsiteRefinerModelResponses/14.json\n",
      "Data loaded from ../data/CorpusRefinerModelResponses/14.json\n",
      "Improved Text generated...\n",
      "Data saved to ../data/ImproverModelResponses/14.json\n"
     ]
    }
   ],
   "source": [
    "\"\"\"\n",
    "Improve the text from the SFBLIC site\n",
    "\"\"\"\n",
    "\n",
    "# Get the refined text from the website\n",
    "website_refiner_responses = storage_manager.load_from_folder(\"WebsiteRefinerModelResponses\", f\"{trial_number}.json\")\n",
    "sfblic_response = [response for response in website_refiner_responses if response['link'] == 'https://www.sfbli.com/'][0]\n",
    "refined_text_from_website = sfblic_response['choices'][0]['message']['content']\n",
    "\n",
    "# Get the refined text from the corpus\n",
    "response_from_corpus_refiner = storage_manager.load_from_folder(\"CorpusRefinerModelResponses\", f\"{trial_number}.json\")\n",
    "refined_text_from_corpus = response_from_corpus_refiner['choices'][0]['message']['content']\n",
    "\n",
    "\n",
    "# Generate improved text\n",
    "improved_text = improver_model.improve_text(\n",
    "    query=query,\n",
    "    refined_text_from_website=refined_text_from_website,\n",
    "    refined_text_from_corpus=refined_text_from_corpus\n",
    ")\n",
    "\n",
    "if improved_text:\n",
    "    print(\"Improved Text generated...\")\n",
    "    \n",
    "else:\n",
    "    print(\"Failed to improve text.\")\n",
    "\n",
    "\n",
    "# Save to disk\n",
    "storage_manager.save_to_folder(\"ImproverModelResponses\", improved_text, f\"{trial_number}.json\")\n"
   ]
  },
  {
   "cell_type": "code",
   "execution_count": 12,
   "id": "dc534e7f-4581-4608-8b29-31149fb34750",
   "metadata": {},
   "outputs": [
    {
     "name": "stdout",
     "output_type": "stream",
     "text": [
      "Life insurance is a contract between an insurance company and the policyholder. In exchange for paying a premium, the life insurance company agrees to provide a specified sum of money to one or more named beneficiaries upon the policyholder's death. The primary purpose of life insurance is to offer financial security to your loved ones after your passing, helping them manage potential financial burdens such as debts, living expenses, and any medical or funeral costs. There are two main types of life insurance: Term Life Insurance, which offers coverage for a set period, and Permanent Life Insurance, which includes coverage for the policyholder's lifetime and can include a cash value component. Life insurance helps protect your beneficiaries from financial distress and delivers financial peace of mind.\n"
     ]
    }
   ],
   "source": [
    "print(improved_text['choices'][0]['message']['content'])"
   ]
  },
  {
   "cell_type": "code",
   "execution_count": 13,
   "id": "98981308-2382-4a86-955b-f05a8bc693cb",
   "metadata": {},
   "outputs": [
    {
     "name": "stdout",
     "output_type": "stream",
     "text": [
      "Data loaded from ../data/WebsiteRefinerModelResponses/14.json\n",
      "Data loaded from ../data/ImproverModelResponses/14.json\n"
     ]
    }
   ],
   "source": [
    "\"\"\"\n",
    "Create multiple sets of reference material\n",
    "\"\"\"\n",
    "\n",
    "# Create a set of reference material that has the original (unimproved) content from the website\n",
    "\n",
    "website_refiner_model_responses = storage_manager.load_from_folder(\"WebsiteRefinerModelResponses\", f\"{trial_number}.json\")\n",
    "\n",
    "unmodified_set_of_reference_material =  [\n",
    "    {\n",
    "        \"link\" : item['link'],\n",
    "        \"information\" : item['choices'][0]['message']['content']\n",
    "    }\n",
    "    for item in website_refiner_model_responses\n",
    "]\n",
    "\n",
    "# Create a set of reference material that has the new (improved) content\n",
    "improved_text = storage_manager.load_from_folder('ImproverModelResponses', f\"{trial_number}.json\")\n",
    "improved_version = improved_text['choices'][0]['message']['content']\n",
    "\n",
    "\n",
    "# Create a new set of reference material\n",
    "\n",
    "new_set_of_reference_material = []\n",
    "\n",
    "for item in unmodified_set_of_reference_material:\n",
    "    if item['link'] == 'https://www.sfbli.com/':\n",
    "        new_set_of_reference_material.append({\"link\" : link, \"information\" : improved_version})\n",
    "    else:\n",
    "        new_set_of_reference_material.append(item)"
   ]
  },
  {
   "cell_type": "code",
   "execution_count": 14,
   "id": "f3dff9fe-4ae0-4e40-805f-d1e84d1f7149",
   "metadata": {},
   "outputs": [
    {
     "name": "stdout",
     "output_type": "stream",
     "text": [
      "Data saved to ../data/SetsOfReferenceMaterial/14.json\n"
     ]
    }
   ],
   "source": [
    "\"\"\"\n",
    "Store Sets of Reference Material\n",
    "\"\"\"\n",
    "\n",
    "sets_of_reference_material = []\n",
    "\n",
    "improvement_method = 0\n",
    "set_of_reference_material = unmodified_set_of_reference_material\n",
    "\n",
    "sets_of_reference_material.append({\n",
    "    \"improvement_method\" : improvement_method,\n",
    "    \"set_of_reference_material\" : set_of_reference_material,\n",
    "})\n",
    "\n",
    "improvement_method = 1\n",
    "set_of_reference_material = new_set_of_reference_material\n",
    "\n",
    "sets_of_reference_material.append({\n",
    "    \"improvement_method\" : improvement_method,\n",
    "    \"set_of_reference_material\" : set_of_reference_material,\n",
    "})\n",
    "\n",
    "\n",
    "storage_manager.save_to_folder(\"SetsOfReferenceMaterial\", sets_of_reference_material, f\"{trial_number}.json\")"
   ]
  },
  {
   "cell_type": "code",
   "execution_count": 15,
   "id": "c623cbc3-67a6-4d98-aae8-abb60ed5990d",
   "metadata": {},
   "outputs": [
    {
     "name": "stdout",
     "output_type": "stream",
     "text": [
      "Data loaded from ../data/SetsOfReferenceMaterial/14.json\n"
     ]
    }
   ],
   "source": [
    "\"\"\"\n",
    "Send sets of reference material to the writer-citer\n",
    "\"\"\"\n",
    "\n",
    "writer_citer_model_responses = [] \n",
    "\n",
    "sets_of_reference_material = storage_manager.load_from_folder(\"SetsOfReferenceMaterial\", f\"{trial_number}.json\")\n",
    "\n",
    "# Unimproved Method\n",
    "# -----------------\n",
    "\n",
    "set_of_reference_material = sets_of_reference_material[0]\n",
    "improvement_method = set_of_reference_material['improvement_method']\n",
    "reference_material = set_of_reference_material['set_of_reference_material']\n",
    "\n",
    "# Generate a cited response\n",
    "cited_response = writer_citer.generate_cited_response(\n",
    "    rephrased_query=query,\n",
    "    set_of_reference_query=reference_material\n",
    ")\n",
    "\n",
    "cited_response['improvement_method'] = improvement_method\n",
    "\n",
    "writer_citer_model_responses.append(cited_response)\n",
    "\n",
    "# Improved Method\n",
    "# -----------------\n",
    "\n",
    "set_of_reference_material = sets_of_reference_material[1]\n",
    "improvement_method = set_of_reference_material['improvement_method']\n",
    "reference_material = set_of_reference_material['set_of_reference_material']\n",
    "\n",
    "# Generate a cited response\n",
    "cited_response = writer_citer.generate_cited_response(\n",
    "    rephrased_query=query,\n",
    "    set_of_reference_query=reference_material\n",
    ")\n",
    "\n",
    "cited_response['improvement_method'] = improvement_method\n",
    "\n",
    "writer_citer_model_responses.append(cited_response)\n"
   ]
  },
  {
   "cell_type": "code",
   "execution_count": 16,
   "id": "8b4122ab-2a7b-4b6f-8441-b88c6edc0138",
   "metadata": {},
   "outputs": [
    {
     "name": "stdout",
     "output_type": "stream",
     "text": [
      "Life insurance is a contract between an insurance company and a policyholder. In exchange for a premium, the insurance company pledges to pay a sum of money to designated beneficiaries upon the policyholder's death, providing financial security to the beneficiaries [1]. Life insurance can be categorized into different types, including term life insurance and whole life insurance, each serving various financial needs and offering specific coverage options [1][4].\n",
      "\n",
      "Moreover, some life insurance policies offer living benefits, which allow a portion of the policy's death benefit to be accessed while the policyholder is still alive, under certain conditions [1]. Illustrations of life insurance policies are essential tools that demonstrate how such policies are expected to perform over time, detailing benefits, required premiums, and related expenses to help consumers understand the product better [4]. \n",
      "\n",
      "Specific programs, such as those offered by Veterans Affairs, cater to particular groups, such as service-connected Veterans, offering options like VA Life Insurance, which provides up to $40,000 in whole life insurance coverage with guaranteed acceptance for eligible individuals [2][3].\n",
      "---\n",
      "Life insurance is a contractual agreement between an insurance company and a policyholder. In exchange for the payment of a premium, the life insurance company commits to paying a specified sum of money to one or more designated beneficiaries when the policyholder passes away [1][5]. The primary goal of life insurance is to provide financial security for the policyholder's loved ones, assisting them in managing economic obligations like debts, living expenses, and costs related to medical care or funerals [5]. There are two main types of life insurance: Term Life Insurance, which provides coverage for a predetermined duration, and Permanent Life Insurance, which offers lifelong coverage and may include a cash value component [5].\n",
      "\n",
      "Additionally, life insurance policies can sometimes offer living benefits, where a portion of the death benefit can be accessed during the policyholder's lifetime under specific conditions [1]. Various programs cater to specific groups, such as the Veterans Affairs Life Insurance (VALife) for veterans, which ensures guaranteed acceptance for eligible individuals and coverage of up to $40,000 [2][3]. Life insurance illustrations are used as tools to project how a policy is expected to perform, including details on benefits, premiums, and related expenses [4]. These aspects are regulated to ensure consumer protection and education about life insurance products [4].\n",
      "---\n"
     ]
    }
   ],
   "source": [
    "for item in writer_citer_model_responses:\n",
    "    print(item['choices'][0]['message']['content'])\n",
    "    print(\"---\")"
   ]
  },
  {
   "cell_type": "code",
   "execution_count": 17,
   "id": "9ce1ad40-d5de-4299-b871-4ec274588032",
   "metadata": {},
   "outputs": [
    {
     "name": "stdout",
     "output_type": "stream",
     "text": [
      "Data saved to ../data/WriterCiterModelResponses/14.json\n"
     ]
    }
   ],
   "source": [
    "# Save to disk\n",
    "storage_manager.save_to_folder(\"WriterCiterModelResponses\", writer_citer_model_responses, f\"{trial_number}.json\")"
   ]
  },
  {
   "cell_type": "code",
   "execution_count": 18,
   "id": "596da881-6f5c-4c9e-9693-211bd9b63790",
   "metadata": {},
   "outputs": [],
   "source": [
    "\"\"\"\n",
    "Compute visibility scores\n",
    "\"\"\"\n",
    "\n",
    "def get_sfblic_link_number(sets_of_reference_material, improvement_method):\n",
    "\n",
    "    set_of_reference_material = [\n",
    "        s for s in sets_of_reference_material if s['improvement_method'] == improvement_method\n",
    "    ][0]['set_of_reference_material']\n",
    "\n",
    "    link_number = 1\n",
    "    \n",
    "    for piece_of_reference_material in set_of_reference_material:\n",
    "        if piece_of_reference_material['link'] == sfblic_link:\n",
    "            return link_number\n",
    "        else:\n",
    "            link_number += 1\n",
    "            \n",
    "\n",
    "def get_writer_citer_response(improvement_method): \n",
    "    return [        \n",
    "        r for r in writer_citer_model_responses if r['improvement_method'] == improvement_method\n",
    "    ][0]['choices'][0]['message']['content']\n",
    "\n",
    "    "
   ]
  },
  {
   "cell_type": "code",
   "execution_count": 19,
   "id": "57ef3cae-e382-4b3a-a4f2-c85e14d69513",
   "metadata": {},
   "outputs": [
    {
     "name": "stdout",
     "output_type": "stream",
     "text": [
      "Data loaded from ../data/SetsOfReferenceMaterial/14.json\n",
      "Data loaded from ../data/WriterCiterModelResponses/14.json\n"
     ]
    }
   ],
   "source": [
    "sets_of_reference_material = storage_manager.load_from_folder(\"SetsOfReferenceMaterial\", f\"{trial_number}.json\")\n",
    "writer_citer_model_responses = storage_manager.load_from_folder(\"WriterCiterModelResponses\", f\"{trial_number}.json\")"
   ]
  },
  {
   "cell_type": "code",
   "execution_count": 21,
   "id": "cb0d125c-bd91-44e7-bce8-98909e50f87d",
   "metadata": {},
   "outputs": [
    {
     "data": {
      "text/plain": [
       "5"
      ]
     },
     "execution_count": 21,
     "metadata": {},
     "output_type": "execute_result"
    }
   ],
   "source": [
    "sfblic_link_number = get_sfblic_link_number(sets_of_reference_material, improvement_method)\n",
    "sfblic_link_number  "
   ]
  },
  {
   "cell_type": "code",
   "execution_count": 28,
   "id": "473dcf2e-919e-47b5-8817-b1d3a51cd8fe",
   "metadata": {},
   "outputs": [
    {
     "data": {
      "text/plain": [
       "[{'improvement_method': 0,\n",
       "  'scores': [38.74382565633974,\n",
       "   5.702131338157356,\n",
       "   5.702131338157356,\n",
       "   21.85886949896214,\n",
       "   0],\n",
       "  'normalized_scores': [0.5380566937286749,\n",
       "   0.07918861607084422,\n",
       "   0.07918861607084422,\n",
       "   0.3035660741296366,\n",
       "   0.0],\n",
       "  'sfblic_score': 0,\n",
       "  'normalized_sfblic_score': 0.0},\n",
       " {'improvement_method': 1,\n",
       "  'scores': [22.957612653305553,\n",
       "   5.874499914683438,\n",
       "   5.874499914683438,\n",
       "   12.42114395741385,\n",
       "   50.553631779166764],\n",
       "  'normalized_scores': [0.23502545440668296,\n",
       "   0.06013939832117959,\n",
       "   0.06013939832117959,\n",
       "   0.12715978124239677,\n",
       "   0.5175359677085611],\n",
       "  'sfblic_score': 50.553631779166764,\n",
       "  'normalized_sfblic_score': 0.5175359677085611}]"
      ]
     },
     "execution_count": 28,
     "metadata": {},
     "output_type": "execute_result"
    }
   ],
   "source": [
    "records = []\n",
    "\n",
    "for improvement_method in [0, 1]:\n",
    "\n",
    "    text = get_writer_citer_response(improvement_method)\n",
    "    parsed_data = parse_citations_from_text(text)\n",
    "    scores = compute_citation_scores(parsed_data, num_citations=5, normalize=False)\n",
    "    normalized_scores = compute_citation_scores(parsed_data, num_citations=5, normalize=True)\n",
    "    sfblic_score = scores[sfblic_link_number - 1]\n",
    "    normalized_sfblic_score = normalized_scores[sfblic_link_number - 1]\n",
    "    \n",
    "    record = {\n",
    "        \"improvement_method\" : improvement_method,\n",
    "        \"scores\" : scores,\n",
    "        \"normalized_scores\" : normalized_scores,\n",
    "        \"sfblic_score\" : sfblic_score,\n",
    "        \"normalized_sfblic_score\" : normalized_sfblic_score,    \n",
    "        \n",
    "    }\n",
    "\n",
    "    records.append(record)\n",
    "\n",
    "records"
   ]
  },
  {
   "cell_type": "code",
   "execution_count": 29,
   "id": "ad56db57-9d93-4778-8d79-ba1219e9036f",
   "metadata": {},
   "outputs": [
    {
     "name": "stdout",
     "output_type": "stream",
     "text": [
      "Data saved to ../data/VisibilityScores/14.json\n"
     ]
    }
   ],
   "source": [
    "# Save to disk\n",
    "storage_manager.save_to_folder(\"VisibilityScores\", records, f\"{trial_number}.json\")"
   ]
  },
  {
   "cell_type": "code",
   "execution_count": null,
   "id": "cc7b8de9-86a6-42f5-b66e-416e14acdbec",
   "metadata": {},
   "outputs": [],
   "source": []
  }
 ],
 "metadata": {
  "kernelspec": {
   "display_name": "perplexity-clone",
   "language": "python",
   "name": "perplexity-clone"
  },
  "language_info": {
   "codemirror_mode": {
    "name": "ipython",
    "version": 3
   },
   "file_extension": ".py",
   "mimetype": "text/x-python",
   "name": "python",
   "nbconvert_exporter": "python",
   "pygments_lexer": "ipython3",
   "version": "3.13.0"
  }
 },
 "nbformat": 4,
 "nbformat_minor": 5
}
