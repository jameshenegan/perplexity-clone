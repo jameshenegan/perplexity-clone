{
 "cells": [
  {
   "cell_type": "code",
   "execution_count": 1,
   "id": "13f730c4-64bf-4133-8f63-bd2d8598dd41",
   "metadata": {},
   "outputs": [],
   "source": [
    "import sys\n",
    "\n",
    "# Include helper functions in src folder\n",
    "sys.path.append(\"../src\")\n",
    "\n",
    "import time\n",
    "from api_client import create_openai_client, create_google_service, get_openai_response_and_total_tokens, search_google\n",
    "from helpers import parse_html\n",
    "from dotenv import dotenv_values\n",
    "import requests\n",
    "\n",
    "\"\"\"\n",
    "Main Idea for program\n",
    "---------------------\n",
    "\n",
    "1. User submits query.\n",
    "2. Intelligent LLM \"rephraser\" rephrases the query.\n",
    "3. Rephrased query gets submitted to Google.\n",
    "4. The URL's for the top 5 links are collected.\n",
    "5. Does SFBLIC come up in the top 5 links?  If not, replace the 5th link with SFBLIC.\n",
    "6. For each link,\n",
    "     - the content is fetched \n",
    "     - the content is cleaned with Beautiful soup's get_text()\n",
    "     - a semi-intellignt LLM \"refiner\" refines the cleaned results so that they contain information relevant to query.\n",
    "7. Intelligent LLM \"writer-citer\" is asked to write a response that will answer the refined query using only the cleaned results, providing citations to the results in a certain manner.\n",
    "9. Visibility metrics are computed.\n",
    "10. Intelligent LLM \"marketer\" is asked to re-write or add content to the SFBLIC page according to certain directions.\n",
    "11. Visibility metrics are computed.\n",
    "\"\"\"\n",
    "\n",
    "config = dotenv_values(\"../.env\") \n",
    "\n",
    "num_results = 5\n",
    "sfblic_link = \"https://www.sfbli.com/\"\n",
    "\n",
    "open_ai_key = config['OPEN_AI_API_KEY']\n",
    "google_api_key = config['GOOGLE_API_KEY']\n",
    "search_engine_id = config['SEARCH_ENGINE_ID']\n",
    "\n",
    "# Initialize clients\n",
    "openai_client = create_openai_client(open_ai_key)\n",
    "google_service, search_id = create_google_service(google_api_key, search_engine_id)\n",
    "\n",
    "num_tokens_rephrasing = []\n",
    "num_tokens_refining = []\n",
    "num_tokens_writing_citing = []\n",
    "num_tokens_marketing = []"
   ]
  },
  {
   "cell_type": "code",
   "execution_count": 2,
   "id": "ad57d3eb-a8b9-47e1-9a71-8eb908a09050",
   "metadata": {},
   "outputs": [
    {
     "name": "stdout",
     "output_type": "stream",
     "text": [
      "What insurance products does Southern Farm Bureau Life Insurance Company provide?\n",
      "42\n"
     ]
    }
   ],
   "source": [
    "# Step 1: User submits query\n",
    "original_query = \"products offered by southern farm bureau life insurance company\"\n",
    "\n",
    "# Step 2: Rephrase query using OpenAI (LLM name: rephraser)\n",
    "messages = [\n",
    "    {\"role\": \"system\", \"content\": \"Rephrase the user's query for search engine optimization.\"},\n",
    "    {\"role\": \"user\", \"content\": original_query},\n",
    "]\n",
    "rephrased_query, total_tokens_from_rephrasing, completion_tokens, prompt_tokens = get_openai_response_and_total_tokens(openai_client, messages,  model=\"gpt-4o\")\n",
    "\n",
    "print(rephrased_query)\n",
    "print(total_tokens_from_rephrasing)\n",
    "num_tokens_rephrasing.append(total_tokens_from_rephrasing)"
   ]
  },
  {
   "cell_type": "code",
   "execution_count": 3,
   "id": "689891a8-a8a3-49c9-9906-ac53d5edb790",
   "metadata": {},
   "outputs": [
    {
     "data": {
      "text/plain": [
       "30"
      ]
     },
     "execution_count": 3,
     "metadata": {},
     "output_type": "execute_result"
    }
   ],
   "source": [
    "prompt_tokens"
   ]
  },
  {
   "cell_type": "code",
   "execution_count": 4,
   "id": "dc8e5026-8102-459d-93f2-b87f632c5d05",
   "metadata": {},
   "outputs": [
    {
     "data": {
      "text/plain": [
       "12"
      ]
     },
     "execution_count": 4,
     "metadata": {},
     "output_type": "execute_result"
    }
   ],
   "source": [
    "completion_tokens"
   ]
  },
  {
   "cell_type": "code",
   "execution_count": 5,
   "id": "74cfe4a4-3a7a-4a49-b168-6547e278dbe1",
   "metadata": {},
   "outputs": [
    {
     "data": {
      "text/plain": [
       "['https://www.sfbli.com/',\n",
       " 'https://w3.sfbcic.com/',\n",
       " 'https://www.sfbli.com/loginregister',\n",
       " 'https://www.kyfb.com/insurance/insurance-products/life-and-financial/',\n",
       " 'https://www.scfbins.com/insurance/other-products/life-insurance']"
      ]
     },
     "execution_count": 5,
     "metadata": {},
     "output_type": "execute_result"
    }
   ],
   "source": [
    "# Step 3: Refined query gets submitted to Google.\n",
    "search_results = search_google(google_service, search_id, rephrased_query)\n",
    "\n",
    "# Step 4: The URL's to the top 5 links are collected.\n",
    "top_links = [result['link'] for result in search_results[:5]]\n",
    "top_links"
   ]
  },
  {
   "cell_type": "code",
   "execution_count": 6,
   "id": "fbaa4aaa-9bc0-42eb-bc43-7f22276b6a71",
   "metadata": {},
   "outputs": [
    {
     "data": {
      "text/plain": [
       "['https://www.sfbli.com/',\n",
       " 'https://w3.sfbcic.com/',\n",
       " 'https://www.sfbli.com/loginregister',\n",
       " 'https://www.kyfb.com/insurance/insurance-products/life-and-financial/',\n",
       " 'https://www.scfbins.com/insurance/other-products/life-insurance']"
      ]
     },
     "execution_count": 6,
     "metadata": {},
     "output_type": "execute_result"
    }
   ],
   "source": [
    "# Step 5: Does SFBLIC come up in the top 5 links?  If not, replace the 5th link with SFBLIC.\n",
    "if sfblic_link not in top_links:\n",
    "    top_links = top_links[:4] + [sfblic_link]\n",
    "\n",
    "top_links"
   ]
  },
  {
   "cell_type": "code",
   "execution_count": 8,
   "id": "2a73655e-b435-4377-9af7-22c7e8801ccd",
   "metadata": {},
   "outputs": [
    {
     "name": "stdout",
     "output_type": "stream",
     "text": [
      "Southern Farm Bureau Life Insurance Company provides various insurance products, primarily focusing on life insurance options, as well as services such as policy management and claims reporting. Specific product offerings may include term life insurance, whole life insurance, and possibly additional health plans. For detailed information, it is best to contact a local agent or visit the company's website.\n",
      "299\n",
      "67\n",
      "232\n",
      "The text does not provide any relevant information regarding the insurance products offered by Southern Farm Bureau Life Insurance Company.\n",
      "70\n",
      "21\n",
      "49\n",
      "Southern Farm Bureau Life Insurance Company provides the following insurance products:\n",
      "\n",
      "1. Life Insurance\n",
      "2. Health Plans\n",
      "3. Behavioral Health Plans\n",
      "\n",
      "The company aims to offer competitive products and superior customer service to its policyholders.\n",
      "437\n",
      "44\n",
      "393\n",
      "Southern Farm Bureau Life Insurance Company offers the following insurance products:\n",
      "\n",
      "1. **Life Insurance Options**:\n",
      "   - Term Life Insurance\n",
      "   - Whole Life Insurance\n",
      "\n",
      "2. **Long-term Care Insurance**: \n",
      "   - Coverage for long-term nursing facility care or home care, which protects against asset depletion and the financial burden on family members.\n",
      "\n",
      "3. **Retirement Planning**:\n",
      "   - Retirement plans and annuities to secure an enjoyable retirement.\n",
      "\n",
      "4. **Estate Planning**:\n",
      "   - Services to minimize estate shrinkage and ensure a more generous distribution to heirs.\n",
      "\n",
      "These products are designed to meet various life insurance and financial planning needs.\n",
      "1400\n",
      "128\n",
      "1272\n",
      "Southern Farm Bureau Life Insurance Company provides the following insurance products:\n",
      "\n",
      "1. **Life Insurance** - Financial protection for families in the event of death, tailored plans based on individual needs and budget.\n",
      "2. **Farm Insurance**\n",
      "3. **Business Insurance**\n",
      "4. **Umbrella Insurance**\n",
      "5. **Health Insurance**\n",
      "6. **Retirement Planning services**\n",
      "7. **Estate Planning services**\n",
      "712\n",
      "78\n",
      "634\n"
     ]
    }
   ],
   "source": [
    "\"\"\"\n",
    "6. For each link,\n",
    "     - the content is fetched \n",
    "     - the content is cleaned with Beautiful soup's get_text()\n",
    "     - a semi-intellignt LLM \"refiner\" refines the cleaned results so that they contain information relevant to query.\n",
    "\"\"\"\n",
    "\n",
    "refined_sources = []\n",
    "\n",
    "for url in top_links:\n",
    "    \n",
    "    time.sleep(1)    \n",
    "\n",
    "    # The content is fetched    \n",
    "    response = requests.get(url)\n",
    "\n",
    "    # The content is cleaned\n",
    "    raw_text = parse_html(response.content)\n",
    "\n",
    "    # A semi-intelligent LLM refines the cleaned results so that they contain information relevant to the query\n",
    "    messages = [\n",
    "    {\"role\": \"system\", \"content\": f\"Refine the following text and extract only relevant information related to the following query: {rephrased_query}\"},\n",
    "    {\"role\": \"user\", \"content\": raw_text},\n",
    "]\n",
    "\n",
    "    refined_text, total_tokens_from_refining, completion_tokens, prompt_tokens = get_openai_response_and_total_tokens(openai_client, messages, model=\"gpt-4o-mini\")\n",
    "    \n",
    "    print(refined_text)\n",
    "    print(total_tokens_from_refining)\n",
    "    print(completion_tokens)\n",
    "    print(prompt_tokens)\n",
    "    num_tokens_refining.append(total_tokens_from_refining)\n",
    "\n",
    "    refined_sources.append({\"url\" : url, \"refined_text\" : refined_text})"
   ]
  },
  {
   "cell_type": "code",
   "execution_count": 9,
   "id": "39837e5f-dd13-4b62-937d-1d3e091f707e",
   "metadata": {},
   "outputs": [
    {
     "name": "stdout",
     "output_type": "stream",
     "text": [
      "898\n",
      "208\n",
      "690\n"
     ]
    }
   ],
   "source": [
    "\"\"\"\n",
    "# 7. Intelligent LLM \"writer-citer\" is asked to write a response that will answer \n",
    "the refined query using only the cleaned results, providing citations to the results in a certain manner.\n",
    "\"\"\"\n",
    "\n",
    "system_content = \"\"\"\n",
    "Write an accurate and concise answer for the given user question, \n",
    "using _only_ the provided summarized web search results. \n",
    "The answer should be correct, high-quality, and written by an expert using an unbiased and journalistic tone. \n",
    "The answer should be informative, interesting, and engaging. \n",
    "The answer's logic and reasoning should be rigorous and defensible. \n",
    "Every sentence in the answer should be _immediately followed_ by an in-line citation to the search result(s). \n",
    "The cited search result(s) should fully support _all_ the information in the sentence. \n",
    "Search results need to be cited using [index]. \n",
    "When citing several search results, use [1][2][3] format rather than [1, 2, 3]. \n",
    "You can use multiple search results to respond comprehensively while avoiding irrelevant search results.\n",
    "\"\"\"\n",
    "\n",
    "messages = [\n",
    "    {\"role\": \"system\", \"content\": system_content},\n",
    "    {\"role\": \"user\", \"content\": f\"Original Query: {rephrased_query}\\n Summarized Web Search Results: {refined_sources}\"},\n",
    "]\n",
    "\n",
    "final_response, total_tokens_from_final_response,  completion_tokens, prompt_tokens = get_openai_response_and_total_tokens(openai_client, messages,  model=\"gpt-4o\")\n",
    "\n",
    "print(total_tokens_from_final_response)\n",
    "print(completion_tokens)\n",
    "print(prompt_tokens)"
   ]
  },
  {
   "cell_type": "code",
   "execution_count": 10,
   "id": "4ff616ca-a67b-4a46-a405-562b62f5adcc",
   "metadata": {},
   "outputs": [
    {
     "name": "stdout",
     "output_type": "stream",
     "text": [
      "Southern Farm Bureau Life Insurance Company offers a range of insurance products primarily focusing on life insurance. Their life insurance options include term life insurance and whole life insurance, each designed to provide financial security to families in the event of a policyholder's death [1][4][5]. Additionally, they provide long-term care insurance, which covers expenses for long-term nursing or home care, alleviating financial pressures on family members and preventing asset depletion [4]. \n",
      "\n",
      "The company also offers retirement planning services, featuring retirement plans and annuities to help secure a comfortable retirement [4][5]. Estate planning services are available to minimize estate shrinkage and ensure a generous distribution of assets to heirs [4][5]. Alongside these, Southern Farm Bureau Life Insurance Company provides health insurance and behavioral health plans to meet a variety of needs [3][5]. Policyholders can also access farm, business, and umbrella insurance products [5]. For detailed and personalized information about their offerings, it is advisable to contact a local agent or visit their website [1].\n"
     ]
    }
   ],
   "source": [
    "print(final_response)"
   ]
  },
  {
   "cell_type": "code",
   "execution_count": 8,
   "id": "7723d88c-c2c5-4b1b-ab9b-11035d18ad03",
   "metadata": {},
   "outputs": [
    {
     "data": {
      "text/plain": [
       "734"
      ]
     },
     "execution_count": 8,
     "metadata": {},
     "output_type": "execute_result"
    }
   ],
   "source": [
    "total_tokens_from_final_response"
   ]
  },
  {
   "cell_type": "code",
   "execution_count": 9,
   "id": "36b3f08e-bd68-4a3d-ba4b-2b4e8ea82860",
   "metadata": {},
   "outputs": [],
   "source": [
    "num_tokens_writing_citing.append(total_tokens_from_final_response)"
   ]
  },
  {
   "cell_type": "code",
   "execution_count": 10,
   "id": "54803e48-7493-4ba5-9719-2b330cf5de47",
   "metadata": {},
   "outputs": [
    {
     "data": {
      "text/plain": [
       "[42]"
      ]
     },
     "execution_count": 10,
     "metadata": {},
     "output_type": "execute_result"
    }
   ],
   "source": [
    "num_tokens_rephrasing "
   ]
  },
  {
   "cell_type": "code",
   "execution_count": 11,
   "id": "eaed6fef-3fff-4a7a-9dc0-f5682bedf2ab",
   "metadata": {},
   "outputs": [
    {
     "data": {
      "text/plain": [
       "[268, 70, 440, 1374, 99]"
      ]
     },
     "execution_count": 11,
     "metadata": {},
     "output_type": "execute_result"
    }
   ],
   "source": [
    "num_tokens_refining "
   ]
  },
  {
   "cell_type": "code",
   "execution_count": 12,
   "id": "2ff6359e-fc68-424c-b645-f9415001f705",
   "metadata": {},
   "outputs": [
    {
     "data": {
      "text/plain": [
       "[734]"
      ]
     },
     "execution_count": 12,
     "metadata": {},
     "output_type": "execute_result"
    }
   ],
   "source": [
    "num_tokens_writing_citing"
   ]
  },
  {
   "cell_type": "code",
   "execution_count": 17,
   "id": "fbbdfbdd-f371-43a4-8da1-7c017986f45d",
   "metadata": {},
   "outputs": [
    {
     "data": {
      "text/plain": [
       "[{'url': 'https://www.sfbli.com/',\n",
       "  'refined_text': \"Southern Farm Bureau Life Insurance Company provides various insurance products, primarily focusing on life insurance options, as well as services such as policy management and claims reporting. Specific product offerings may include term life insurance, whole life insurance, and possibly additional health plans. For detailed information, it is best to contact a local agent or visit the company's website.\"},\n",
       " {'url': 'https://w3.sfbcic.com/',\n",
       "  'refined_text': 'The text does not provide any relevant information regarding the insurance products offered by Southern Farm Bureau Life Insurance Company.'},\n",
       " {'url': 'https://www.sfbli.com/loginregister',\n",
       "  'refined_text': 'Southern Farm Bureau Life Insurance Company provides the following insurance products:\\n\\n1. Life Insurance\\n2. Health Plans\\n3. Behavioral Health Plans\\n\\nThe company aims to offer competitive products and superior customer service to its policyholders.'},\n",
       " {'url': 'https://www.kyfb.com/insurance/insurance-products/life-and-financial/',\n",
       "  'refined_text': 'Southern Farm Bureau Life Insurance Company offers the following insurance products:\\n\\n1. **Life Insurance Options**:\\n   - Term Life Insurance\\n   - Whole Life Insurance\\n\\n2. **Long-term Care Insurance**: \\n   - Coverage for long-term nursing facility care or home care, which protects against asset depletion and the financial burden on family members.\\n\\n3. **Retirement Planning**:\\n   - Retirement plans and annuities to secure an enjoyable retirement.\\n\\n4. **Estate Planning**:\\n   - Services to minimize estate shrinkage and ensure a more generous distribution to heirs.\\n\\nThese products are designed to meet various life insurance and financial planning needs.'},\n",
       " {'url': 'https://www.scfbins.com/insurance/other-products/life-insurance',\n",
       "  'refined_text': 'Southern Farm Bureau Life Insurance Company provides the following insurance products:\\n\\n1. **Life Insurance** - Financial protection for families in the event of death, tailored plans based on individual needs and budget.\\n2. **Farm Insurance**\\n3. **Business Insurance**\\n4. **Umbrella Insurance**\\n5. **Health Insurance**\\n6. **Retirement Planning services**\\n7. **Estate Planning services**'}]"
      ]
     },
     "execution_count": 17,
     "metadata": {},
     "output_type": "execute_result"
    }
   ],
   "source": [
    "refined_sources"
   ]
  },
  {
   "cell_type": "code",
   "execution_count": 16,
   "id": "dca84205-bd4b-4602-99e2-108d87763405",
   "metadata": {},
   "outputs": [
    {
     "data": {
      "text/plain": [
       "[{'url': 'https://www.sfbli.com/',\n",
       "  'refined_text': \"Southern Farm Bureau Life Insurance Company provides various insurance products, primarily focusing on life insurance options, as well as services such as policy management and claims reporting. Specific product offerings may include term life insurance, whole life insurance, and possibly additional health plans. For detailed information, it is best to contact a local agent or visit the company's website.\"},\n",
       " {'url': 'https://w3.sfbcic.com/',\n",
       "  'refined_text': 'The text does not provide any relevant information regarding the insurance products offered by Southern Farm Bureau Life Insurance Company.'},\n",
       " {'url': 'https://www.sfbli.com/loginregister',\n",
       "  'refined_text': 'Southern Farm Bureau Life Insurance Company provides the following insurance products:\\n\\n1. Life Insurance\\n2. Health Plans\\n3. Behavioral Health Plans\\n\\nThe company aims to offer competitive products and superior customer service to its policyholders.'},\n",
       " {'url': 'https://www.kyfb.com/insurance/insurance-products/life-and-financial/',\n",
       "  'refined_text': 'Southern Farm Bureau Life Insurance Company offers the following insurance products:\\n\\n1. **Life Insurance Options**:\\n   - Term Life Insurance\\n   - Whole Life Insurance\\n\\n2. **Long-term Care Insurance**: \\n   - Coverage for long-term nursing facility care or home care, which protects against asset depletion and the financial burden on family members.\\n\\n3. **Retirement Planning**:\\n   - Retirement plans and annuities to secure an enjoyable retirement.\\n\\n4. **Estate Planning**:\\n   - Services to minimize estate shrinkage and ensure a more generous distribution to heirs.\\n\\nThese products are designed to meet various life insurance and financial planning needs.'},\n",
       " {'url': 'https://www.scfbins.com/insurance/other-products/life-insurance',\n",
       "  'refined_text': 'Southern Farm Bureau Life Insurance Company provides the following insurance products:\\n\\n1. **Life Insurance** - Financial protection for families in the event of death, tailored plans based on individual needs and budget.\\n2. **Farm Insurance**\\n3. **Business Insurance**\\n4. **Umbrella Insurance**\\n5. **Health Insurance**\\n6. **Retirement Planning services**\\n7. **Estate Planning services**'}]"
      ]
     },
     "execution_count": 16,
     "metadata": {},
     "output_type": "execute_result"
    }
   ],
   "source": [
    "refined_sources"
   ]
  },
  {
   "cell_type": "code",
   "execution_count": 13,
   "id": "01216d93-cb2a-4a15-9dad-625d2ce0e0b2",
   "metadata": {},
   "outputs": [
    {
     "data": {
      "text/plain": [
       "'Southern Farm Bureau Life Insurance Company offers a range of insurance products and services, primarily focused on life insurance, to meet the needs of southern farmers and their families. The key insurance products provided by the company include:\\n\\n### Insurance Products:\\n1. **Life Insurance:**\\n   - **Permanent Life Insurance**: Options include whole life, single premium, modified premium, and adjustable premium plans, which provide lifelong coverage with flexible payment methods.\\n   - **Term Life Insurance**: Offered in 10, 20, and 30-year terms for affordable, temporary coverage.\\n\\n### Additional Financial Services:\\n- **Financial Planning**: Services for estate planning and retirement planning that protect legacies and help achieve long-term financial goals.\\n- **Retirement Plans**: Both tax-qualified and non-qualified options.\\n- **Banking Services**: Includes certificates of deposit, money market accounts, health savings accounts, and loans.\\n\\n### Mission Statement:\\nThe company aims to be the life insurance provider of choice for the Farm Bureau family with a commitment to competitive products and superior customer service while maintaining ethical business practices.\\n\\n### Company Background:\\nFounded in 1946 and operational since 1947, Southern Farm Bureau Life Insurance Company serves 11 states, emphasizing strong customer support and community engagement.\\n\\n### Financial Strength:\\nThe company holds an A+ (Superior) rating from A.M. Best, indicating strong financial stability and reliability for policyholders.\\n\\n### Contact Information:\\n- **Address**: 1401 Livingston Lane, Jackson, MS 39213\\n- **Customer Service Phone**: 601-981-7422\\n- **Death Claims Phone**: 1-800-562-0919\\n- **Policy Service Phone**: 1-800-457-9611\\n- **Website**: [sfbli.com](https://www.sfbli.com)\\n\\nThis information summarizes the key insurance products offered by Southern Farm Bureau Life Insurance Company, along with relevant background and contact details.'"
      ]
     },
     "execution_count": 13,
     "metadata": {},
     "output_type": "execute_result"
    }
   ],
   "source": [
    "\"\"\"\n",
    "# 7. Intelligent LLM \"writer-citer\" is asked to write a response that will answer \n",
    "the refined query using only the cleaned results, providing citations to the results in a certain manner.\n",
    "\"\"\"\n",
    "\n",
    "with open(\"../data/clean_content.txt\") as f:\n",
    "    clean_content = f.read()\n",
    "\n",
    "\n",
    "\n",
    "messages = [\n",
    "    {\"role\": \"system\", \"content\": f\"Refine the following text and extract relevant information related to the following query: {rephrased_query}\"},\n",
    "    {\"role\": \"user\", \"content\": clean_content},\n",
    "]\n",
    "\n",
    "\n",
    "refined_text, total_tokens_from_refining, completion_tokens, prompt_tokens = get_openai_response_and_total_tokens(openai_client, messages, model=\"gpt-4o-mini\")\n",
    "refined_text\n"
   ]
  },
  {
   "cell_type": "code",
   "execution_count": 15,
   "id": "b186e792-e618-4059-b7fa-548d773db69e",
   "metadata": {},
   "outputs": [
    {
     "data": {
      "text/plain": [
       "(959, 396, 563)"
      ]
     },
     "execution_count": 15,
     "metadata": {},
     "output_type": "execute_result"
    }
   ],
   "source": [
    "total_tokens_from_refining, completion_tokens, prompt_tokens"
   ]
  },
  {
   "cell_type": "code",
   "execution_count": 23,
   "id": "434564b6-8229-410e-b055-d18ef1103bcc",
   "metadata": {},
   "outputs": [
    {
     "data": {
      "text/plain": [
       "'What insurance products does Southern Farm Bureau Life Insurance Company provide?'"
      ]
     },
     "execution_count": 23,
     "metadata": {},
     "output_type": "execute_result"
    }
   ],
   "source": [
    "original_information = refined_sources[0]['refined_text']\n",
    "expanded_information = refined_text\n",
    "rephrased_query"
   ]
  },
  {
   "cell_type": "code",
   "execution_count": 24,
   "id": "31d770ef-aaf4-4b4b-8682-65a7ff40d420",
   "metadata": {},
   "outputs": [],
   "source": [
    "system_content = \"\"\"\n",
    "You will have access to a query.\n",
    "You will also have access to some basic information to answer the query.\n",
    "You will also have access to some expanded information to answer the query.\n",
    "Using all of the information provided, compose an answer to the original query.\n",
    "\"\"\"\n",
    "\n",
    "messages = [\n",
    "    {\"role\": \"system\", \"content\": system_content},\n",
    "    {\"role\": \"user\", \"content\": f\"Original Query: {rephrased_query}\\n Basic Information: {original_information}\\n Expanded Information: {refined_text} \"},\n",
    "]\n",
    "\n",
    "final_response, total_tokens_from_final_response,  completion_tokens, prompt_tokens = get_openai_response_and_total_tokens(openai_client, messages,  model=\"gpt-4o\")\n"
   ]
  },
  {
   "cell_type": "code",
   "execution_count": 25,
   "id": "15185aaf-4815-4180-81f8-37637e8b673d",
   "metadata": {},
   "outputs": [
    {
     "data": {
      "text/plain": [
       "548"
      ]
     },
     "execution_count": 25,
     "metadata": {},
     "output_type": "execute_result"
    }
   ],
   "source": [
    "total_tokens_from_final_response\n",
    "completion_tokens\n",
    "prompt_tokens"
   ]
  },
  {
   "cell_type": "code",
   "execution_count": 26,
   "id": "c507bfe2-ee5a-4938-8ba8-708afd600a04",
   "metadata": {},
   "outputs": [
    {
     "name": "stdout",
     "output_type": "stream",
     "text": [
      "Southern Farm Bureau Life Insurance Company provides a comprehensive array of insurance products, mainly centered around life insurance to cater to the needs of southern farmers and their families. Here are the primary offerings:\n",
      "\n",
      "### Life Insurance Products:\n",
      "1. **Permanent Life Insurance**: These options include whole life insurance, which offers lifelong coverage with fixed premiums, and other variations like single premium, modified premium, and adjustable premium plans. These plans are designed to provide enduring protection and come with flexible payment methods.\n",
      "   \n",
      "2. **Term Life Insurance**: Available in 10, 20, and 30-year terms, this type of insurance provides affordable and temporary coverage, ideal for those looking to safeguard their families or businesses for a specific period.\n",
      "\n",
      "### Additional Financial Services:\n",
      "Beyond life insurance, Southern Farm Bureau Life Insurance Company offers various financial services, including:\n",
      "- **Financial Planning**: Services for estate and retirement planning are designed to help protect family legacies and achieve long-term financial security.\n",
      "- **Retirement Plans**: The company offers both tax-qualified and non-qualified retirement planning options.\n",
      "- **Banking Services**: They provide services such as certificates of deposit, money market accounts, health savings accounts, and loans.\n",
      "\n",
      "These products and services are backed by the company's mission to deliver competitive insurance options with exceptional customer service and ethical business practices. As an established provider since 1947, they maintain a strong presence across 11 states and uphold a reputation for financial strength, evidenced by their A+ (Superior) rating from A.M. Best.\n",
      "\n",
      "For specific details or to explore these offerings further, interested individuals are encouraged to contact the company directly or visit their website at [sfbli.com](https://www.sfbli.com).\n"
     ]
    }
   ],
   "source": [
    "print(final_response)"
   ]
  },
  {
   "cell_type": "code",
   "execution_count": 27,
   "id": "1c41c9bb-e2b9-40f2-9b0f-c6f21d21aab6",
   "metadata": {},
   "outputs": [
    {
     "name": "stdout",
     "output_type": "stream",
     "text": [
      "342\n",
      "548\n"
     ]
    }
   ],
   "source": [
    "print(completion_tokens)\n",
    "print(prompt_tokens)"
   ]
  },
  {
   "cell_type": "code",
   "execution_count": 28,
   "id": "c8786450-89cc-49de-a877-712b812aa257",
   "metadata": {},
   "outputs": [
    {
     "data": {
      "text/plain": [
       "890"
      ]
     },
     "execution_count": 28,
     "metadata": {},
     "output_type": "execute_result"
    }
   ],
   "source": [
    "total_tokens_from_final_response"
   ]
  },
  {
   "cell_type": "code",
   "execution_count": null,
   "id": "b3f3ca07-3b4c-423a-a3c9-213c80131b01",
   "metadata": {},
   "outputs": [],
   "source": []
  }
 ],
 "metadata": {
  "kernelspec": {
   "display_name": "perplexity-clone",
   "language": "python",
   "name": "perplexity-clone"
  },
  "language_info": {
   "codemirror_mode": {
    "name": "ipython",
    "version": 3
   },
   "file_extension": ".py",
   "mimetype": "text/x-python",
   "name": "python",
   "nbconvert_exporter": "python",
   "pygments_lexer": "ipython3",
   "version": "3.13.0"
  }
 },
 "nbformat": 4,
 "nbformat_minor": 5
}
