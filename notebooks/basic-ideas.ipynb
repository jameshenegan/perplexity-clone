{
 "cells": [
  {
   "cell_type": "code",
   "execution_count": 5,
   "id": "13f730c4-64bf-4133-8f63-bd2d8598dd41",
   "metadata": {},
   "outputs": [
    {
     "name": "stdout",
     "output_type": "stream",
     "text": [
      "What life insurance plans are available from Southern Farm Bureau Life Insurance Company?\n",
      "46\n"
     ]
    }
   ],
   "source": [
    "import sys\n",
    "\n",
    "sys.path.append(\"../src\")\n",
    "\n",
    "import time\n",
    "from api_client import create_openai_client, create_google_service, get_openai_response_and_total_tokens, search_google\n",
    "from helpers import parse_html\n",
    "from dotenv import dotenv_values\n",
    "import requests\n",
    "\n",
    "config = dotenv_values(\"../.env\") \n",
    "\n",
    "num_results = 5\n",
    "\n",
    "open_ai_key = config['OPEN_AI_API_KEY']\n",
    "google_api_key = config['GOOGLE_API_KEY']\n",
    "search_engine_id = config['SEARCH_ENGINE_ID']\n",
    "\n",
    "# Initialize clients\n",
    "openai_client = create_openai_client(open_ai_key)\n",
    "google_service, search_id = create_google_service(google_api_key, search_engine_id)\n",
    "\n",
    "original_query = \"life insurance products offered by state farm\"\n",
    "original_query = \"life insurance products offered by southern farm bureau life insurance company\"\n",
    "\n",
    "# Step 1: Rephrase query using OpenAI\n",
    "messages = [\n",
    "    {\"role\": \"system\", \"content\": \"Rephrase the user's query for search engine optimization.\"},\n",
    "    {\"role\": \"user\", \"content\": original_query},\n",
    "]\n",
    "rephrased_query, total_tokens_from_rephrasing = get_openai_response_and_total_tokens(openai_client, messages,  model=\"gpt-4o\")\n",
    "\n",
    "print(rephrased_query)\n",
    "print(total_tokens_from_rephrasing)"
   ]
  },
  {
   "cell_type": "code",
   "execution_count": 6,
   "id": "74cfe4a4-3a7a-4a49-b168-6547e278dbe1",
   "metadata": {},
   "outputs": [
    {
     "name": "stdout",
     "output_type": "stream",
     "text": [
      "Southern Farm Bureau Life Insurance Company offers a range of life insurance plans, including:\n",
      "\n",
      "- Term Life Insurance\n",
      "- Whole Life Insurance\n",
      "- Universal Life Insurance\n",
      "\n",
      "These products are designed to provide competitive options and superior customer service to policyholders and agents. For specific details or to find an agent, individuals can visit their website or contact the company directly.\n",
      "303\n",
      "I'm unable to provide information about life insurance plans from Southern Farm Bureau Life Insurance Company as the content is restricted. Please refer to the company's official website or contact them directly for detailed information on available life insurance plans.\n",
      "93\n"
     ]
    }
   ],
   "source": [
    "# Step 2: Search Google\n",
    "search_results = search_google(google_service, search_id, rephrased_query)\n",
    "\n",
    "# Step 3: Fetch content and parse HTML\n",
    "\n",
    "refined_sources = []\n",
    "\n",
    "for i in [0, 1]:\n",
    "    \n",
    "    time.sleep(2)\n",
    "    \n",
    "    url = search_results[i]['link']\n",
    "    response = requests.get(url)\n",
    "    raw_text = parse_html(response.content)\n",
    "\n",
    "    messages = [\n",
    "    {\"role\": \"system\", \"content\": f\"Refine the following text and extract only relevant information related to the following query: {rephrased_query}\"},\n",
    "    {\"role\": \"user\", \"content\": raw_text},\n",
    "]\n",
    "\n",
    "    refined_text, total_tokens_from_refining = get_openai_response_and_total_tokens(openai_client, messages, model=\"gpt-4o-mini\")\n",
    "    \n",
    "    print(refined_text)\n",
    "    print(total_tokens_from_refining)\n",
    "\n",
    "    refined_sources.append({\"url\" : url, \"refined_text\" : refined_text})"
   ]
  },
  {
   "cell_type": "code",
   "execution_count": 7,
   "id": "39837e5f-dd13-4b62-937d-1d3e091f707e",
   "metadata": {},
   "outputs": [],
   "source": [
    "messages = [\n",
    "    {\"role\": \"system\", \"content\": \"Write an academic-style response to the query, citing the refined sources.\"},\n",
    "    {\"role\": \"user\", \"content\": f\"Original Query: {rephrased_query}\\nRefined Sources: {refined_sources}\"},\n",
    "]\n",
    "\n",
    "final_response, total_tokens_from_final_response = get_openai_response_and_total_tokens(openai_client, messages,  model=\"gpt-4o\")"
   ]
  },
  {
   "cell_type": "code",
   "execution_count": 8,
   "id": "4ff616ca-a67b-4a46-a405-562b62f5adcc",
   "metadata": {},
   "outputs": [
    {
     "name": "stdout",
     "output_type": "stream",
     "text": [
      "Southern Farm Bureau Life Insurance Company offers a range of life insurance products designed to meet diverse financial needs and preferences. Their offerings primarily include Term Life Insurance, Whole Life Insurance, and Universal Life Insurance (Southern Farm Bureau Life Insurance Company, n.d.).\n",
      "\n",
      "1. **Term Life Insurance**: This option provides coverage for a specific period, making it an attractive choice for individuals seeking protection during peak responsibility years such as raising children or paying off a mortgage. Term life policies are typically more affordable compared to permanent life insurance options and serve as a straightforward method to ensure financial security for one's beneficiaries in the event of the policyholder's untimely death.\n",
      "\n",
      "2. **Whole Life Insurance**: This policy is a form of permanent life insurance that offers lifetime coverage, with the added component of accumulating cash value over time. Policyholders can benefit from consistent premium payments and the opportunity to access or borrow against the accrued cash value, thereby offering both death benefit protection and a financial asset for the policyholder's lifetime.\n",
      "\n",
      "3. **Universal Life Insurance**: Known for its flexibility, Universal Life Insurance provides lifetime coverage and involves the accumulation of cash value with interest rates that might fluctuate over time. This type of policy offers policyholders the freedom to adjust their premium payments and death benefits, aligning insurance coverage with their evolving financial situations and needs.\n",
      "\n",
      "These options underline the company's commitment to providing competitive life insurance solutions supplemented by superior customer service. Individuals interested in learning more specific details about these products or wishing to purchase a policy are encouraged to visit Southern Farm Bureau's official website or consult with an insurance agent directly (Southern Farm Bureau Life Insurance Company, n.d.).\n",
      "\n",
      "Southern Farm Bureau Life Insurance Company. (n.d.). Retrieved from https://www.sfbli.com/\n"
     ]
    }
   ],
   "source": [
    "print(final_response)"
   ]
  },
  {
   "cell_type": "code",
   "execution_count": null,
   "id": "7723d88c-c2c5-4b1b-ab9b-11035d18ad03",
   "metadata": {},
   "outputs": [],
   "source": []
  },
  {
   "cell_type": "code",
   "execution_count": null,
   "id": "36b3f08e-bd68-4a3d-ba4b-2b4e8ea82860",
   "metadata": {},
   "outputs": [],
   "source": []
  }
 ],
 "metadata": {
  "kernelspec": {
   "display_name": "perplexity-clone",
   "language": "python",
   "name": "perplexity-clone"
  },
  "language_info": {
   "codemirror_mode": {
    "name": "ipython",
    "version": 3
   },
   "file_extension": ".py",
   "mimetype": "text/x-python",
   "name": "python",
   "nbconvert_exporter": "python",
   "pygments_lexer": "ipython3",
   "version": "3.13.0"
  }
 },
 "nbformat": 4,
 "nbformat_minor": 5
}
