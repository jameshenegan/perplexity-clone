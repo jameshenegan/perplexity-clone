{
 "cells": [
  {
   "cell_type": "code",
   "execution_count": 1,
   "id": "13f730c4-64bf-4133-8f63-bd2d8598dd41",
   "metadata": {},
   "outputs": [],
   "source": [
    "import requests\n",
    "from openai import OpenAI\n",
    "from dotenv import dotenv_values\n",
    "from bs4 import BeautifulSoup\n",
    "from googleapiclient.discovery import build  \n",
    "\n",
    "config = dotenv_values(\"../.env\") \n",
    "\n",
    "num_results = 5\n",
    "\n",
    "open_ai_key = config['OPEN_AI_API_KEY']\n",
    "GOOGLE_API_KEY = config['GOOGLE_API_KEY']\n",
    "SEARCH_ENGINE_ID = config['SEARCH_ENGINE_ID']\n",
    "\n",
    "client = OpenAI(api_key=open_ai_key)\n",
    "service = build(\"customsearch\", \"v1\", developerKey=GOOGLE_API_KEY)"
   ]
  },
  {
   "cell_type": "code",
   "execution_count": 2,
   "id": "74cfe4a4-3a7a-4a49-b168-6547e278dbe1",
   "metadata": {},
   "outputs": [],
   "source": [
    "original_query = \"what investing options are offered by etrade\""
   ]
  },
  {
   "cell_type": "code",
   "execution_count": 3,
   "id": "1ef39d76-4818-4866-a425-96e612664354",
   "metadata": {},
   "outputs": [
    {
     "data": {
      "text/plain": [
       "'What investment options does E*TRADE provide?'"
      ]
     },
     "execution_count": 3,
     "metadata": {},
     "output_type": "execute_result"
    }
   ],
   "source": [
    "chat_completion = client.chat.completions.create(\n",
    "    messages=[\n",
    "            {\"role\": \"system\", \"content\": \"Rephrase the user's query for search engine optimization.\"},\n",
    "            {\"role\": \"user\", \"content\": original_query},\n",
    "        ],\n",
    "    model=\"gpt-4o\",\n",
    ")\n",
    "\n",
    "rephrased_query = chat_completion.choices[0].message.content\n",
    "rephrased_query"
   ]
  },
  {
   "cell_type": "code",
   "execution_count": 4,
   "id": "905444e1-0495-49b5-982b-b6c407ea9c9f",
   "metadata": {},
   "outputs": [
    {
     "data": {
      "text/plain": [
       "{'kind': 'customsearch#result',\n",
       " 'title': 'Investment Choices | Understanding Types of Investments | E*TRADE',\n",
       " 'htmlTitle': '<b>Investment Choices</b> | Understanding Types of <b>Investments</b> | <b>E*TRADE</b>',\n",
       " 'link': 'https://us.etrade.com/what-we-offer/investment-choices',\n",
       " 'displayLink': 'us.etrade.com',\n",
       " 'snippet': 'Meet your investment choices · Stocks · Options · Futures · ETFs · Mutual Funds · Bonds & CDs.',\n",
       " 'htmlSnippet': 'Meet your <b>investment choices</b> &middot; Stocks &middot; <b>Options</b> &middot; Futures &middot; ETFs &middot; Mutual Funds &middot; Bonds &amp; CDs.',\n",
       " 'formattedUrl': 'https://us.etrade.com/what-we-offer/investment-choices',\n",
       " 'htmlFormattedUrl': 'https://us.<b>etrade</b>.com/what-we-offer/<b>investment</b>-choices',\n",
       " 'pagemap': {'cse_thumbnail': [{'src': 'https://encrypted-tbn0.gstatic.com/images?q=tbn:ANd9GcQ5DX-k0rgXmN40s90cTJ6nvFZAgqn4PWIn0QZj2wKoK5eFl_vjzxEi_r4D&s',\n",
       "    'width': '275',\n",
       "    'height': '183'}],\n",
       "  'metatags': [{'msapplication-config': 'https://cdn2.etrade.net/1/21123117210.0/aempros/content/dam/etrade/global/pagemeta/browserconfig.xml',\n",
       "    'twitter:card': 'summary',\n",
       "    'apple-mobile-web-app-status-bar-style': 'black-translucent',\n",
       "    'viewport': 'width=device-width, initial-scale=1.0',\n",
       "    'apple-mobile-web-app-capable': 'yes',\n",
       "    'mobile-web-app-capable': 'yes',\n",
       "    'title': 'Investment Choices | Understanding Types of Investments | E*TRADE'}],\n",
       "  'cse_image': [{'src': 'https://cdn2.etrade.net/1/20033018150.0/aempros/content/dam/etrade/retail/en_US/images/what-we-offer/investment-choices/stocks-bull-vs-bear.jpg'}]}}"
      ]
     },
     "execution_count": 4,
     "metadata": {},
     "output_type": "execute_result"
    }
   ],
   "source": [
    "result = service.cse().list(q=rephrased_query, cx=SEARCH_ENGINE_ID, num=num_results).execute()\n",
    "result_items = result.get('items', [])\n",
    "\n",
    "result_items[0]"
   ]
  },
  {
   "cell_type": "code",
   "execution_count": 5,
   "id": "de64b26b-3737-4dd6-beab-979d77f599fd",
   "metadata": {},
   "outputs": [
    {
     "data": {
      "text/plain": [
       "'https://us.etrade.com/what-we-offer/investment-choices'"
      ]
     },
     "execution_count": 5,
     "metadata": {},
     "output_type": "execute_result"
    }
   ],
   "source": [
    "url = result_items[0]['link']\n",
    "url"
   ]
  },
  {
   "cell_type": "code",
   "execution_count": 6,
   "id": "5cbc7fb8-93a8-4e97-ab83-cc87dcf4442f",
   "metadata": {},
   "outputs": [],
   "source": [
    "response = requests.get(url)\n",
    "html_doc = response.content\n",
    "soup = BeautifulSoup(html_doc, 'html.parser')\n",
    "raw_text_response = soup.get_text()"
   ]
  },
  {
   "cell_type": "code",
   "execution_count": 7,
   "id": "17a66c5b-aecf-40b9-b11c-1f8f6a98512e",
   "metadata": {},
   "outputs": [],
   "source": [
    "chat_completion = client.chat.completions.create(\n",
    "    messages=[\n",
    "            {\"role\": \"system\", \"content\": f\"Refine the following text and extract only relevant information related to the following query: {rephrased_query}\"},\n",
    "            {\"role\": \"user\", \"content\": raw_text_response},\n",
    "        ],\n",
    "    model=\"gpt-4o-mini\",\n",
    ")\n",
    "\n",
    "relevant_information = chat_completion.choices[0].message.content"
   ]
  },
  {
   "cell_type": "code",
   "execution_count": 8,
   "id": "e5c59ac9-8228-4e3e-bf9c-a9f67a2005d2",
   "metadata": {},
   "outputs": [
    {
     "name": "stdout",
     "output_type": "stream",
     "text": [
      "E*TRADE provides a variety of investment options that include:\n",
      "\n",
      "1. **Stocks** - Purchased in shares, representing ownership in companies.\n",
      "2. **Options** - Contracts granting the right to buy or sell a stock at a specified price before an expiration date.\n",
      "3. **Mutual Funds** - Investments that pool money from multiple investors to buy a diversified portfolio of stocks and bonds, priced once daily.\n",
      "4. **ETFs (Exchange-Traded Funds)** - Diversified baskets of investments traded like stocks throughout the day.\n",
      "5. **Futures** - Contracts that allow locking in prices for buying or selling assets at a future date.\n",
      "6. **Bonds and CDs** - Debt securities issued by governments or corporations paying interest, with a promise to return the principal at maturity.\n",
      "7. **Prebuilt Portfolios** - Managed portfolios that provide diversification.\n",
      "8. **IPOs (Initial Public Offerings) / New Issues** - Opportunities to invest in companies going public.\n",
      "\n",
      "Additionally, E*TRADE offers core and managed portfolios, as well as retirement accounts like Roth IRAs for long-term growth.\n"
     ]
    }
   ],
   "source": [
    "print(relevant_information)"
   ]
  },
  {
   "cell_type": "code",
   "execution_count": 9,
   "id": "2e109061-0806-4636-8198-17de07a9cdee",
   "metadata": {},
   "outputs": [
    {
     "data": {
      "text/plain": [
       "'https://play.google.com/store/apps/details?id=com.etrade.mobilepro.activity&hl=en_US'"
      ]
     },
     "execution_count": 9,
     "metadata": {},
     "output_type": "execute_result"
    }
   ],
   "source": [
    "url = result_items[1]['link']\n",
    "url"
   ]
  },
  {
   "cell_type": "code",
   "execution_count": 10,
   "id": "af068609-9df6-42d8-9632-361ca985210c",
   "metadata": {},
   "outputs": [],
   "source": [
    "response = requests.get(url)\n",
    "html_doc = response.content\n",
    "soup = BeautifulSoup(html_doc, 'html.parser')\n",
    "raw_text_response = soup.get_text()"
   ]
  },
  {
   "cell_type": "code",
   "execution_count": 11,
   "id": "bb679d4f-9938-4db1-a2bc-557195892643",
   "metadata": {},
   "outputs": [],
   "source": [
    "chat_completion = client.chat.completions.create(\n",
    "    messages=[\n",
    "            {\"role\": \"system\", \"content\": f\"Refine the following text and extract only relevant information related to the following query: {rephrased_query}\"},\n",
    "            {\"role\": \"user\", \"content\": raw_text_response},\n",
    "        ],\n",
    "    model=\"gpt-4o-mini\",\n",
    ")\n",
    "\n",
    "relevant_information = chat_completion.choices[0].message.content"
   ]
  },
  {
   "cell_type": "code",
   "execution_count": 12,
   "id": "6c143e93-5f90-44c9-8172-0130d7d35906",
   "metadata": {},
   "outputs": [
    {
     "name": "stdout",
     "output_type": "stream",
     "text": [
      "E*TRADE provides the following investment options:\n",
      "\n",
      "1. **Commission-Free Trading**: \n",
      "   - Online trades for US-listed stocks, ETFs, and options are commission-free.\n",
      "   - Mutual fund trading is available.\n",
      "\n",
      "2. **Investment Portfolios**: \n",
      "   - Professionally built portfolios to simplify investment choices.\n",
      "\n",
      "3. **Futures and Options**:\n",
      "   - Allows trading of commodity futures and options on futures; intended for sophisticated investors.\n",
      "\n",
      "4. **Research and Tools**: \n",
      "   - Access to streaming quotes, charts, and investment alerts.\n",
      "   - Comprehensive research tools and screeners to identify investment opportunities.\n",
      "\n",
      "5. **Mobile Banking Features**: \n",
      "   - Check deposits, bill payments, money transfers, and E*TRADE debit card with unlimited ATM fee refunds.\n",
      "\n",
      "E*TRADE supports a variety of investment products but carries risks, including potential loss of principal. Futures and options trading is complex and may not be suitable for all investors.\n"
     ]
    }
   ],
   "source": [
    "print(relevant_information)"
   ]
  },
  {
   "cell_type": "code",
   "execution_count": 17,
   "id": "73c1e57b-4fbb-469d-89d6-9a8fc16e2b20",
   "metadata": {},
   "outputs": [
    {
     "name": "stdout",
     "output_type": "stream",
     "text": [
      "[{'url': 'https://us.etrade.com/what-we-offer/investment-choices', 'text': 'E*TRADE provides a variety of investment options that include:\\n\\n1. **Stocks** - Purchased in shares, representing ownership in companies.\\n2. **Options** - Contracts granting the right to buy or sell a stock at a specified price before an expiration date.\\n3. **Mutual Funds** - Investments that pool money from multiple investors to buy a diversified portfolio of stocks and bonds, priced once daily.\\n4. **ETFs (Exchange-Traded Funds)** - Diversified baskets of investments traded like stocks throughout the day.\\n5. **Futures** - Contracts that allow locking in prices for buying or selling assets at a future date.\\n6. **Bonds and CDs** - Debt securities issued by governments or corporations paying interest, with a promise to return the principal at maturity.\\n7. **Prebuilt Portfolios** - Managed portfolios that provide diversification.\\n8. **IPOs (Initial Public Offerings) / New Issues** - Opportunities to invest in companies going public.\\n\\nAdditionally, E*TRADE offers core and managed portfolios, as well as retirement accounts like Roth IRAs for long-term growth.'}, {'url': 'https://play.google.com/store/apps/details?id=com.etrade.mobilepro.activity&hl=en_US&pli=1', 'text': 'E*TRADE provides the following investment options:\\n\\n1. **Commission-Free Trading**: \\n   - Online trades for US-listed stocks, ETFs, and options are commission-free.\\n   - Mutual fund trading is available.\\n\\n2. **Investment Portfolios**: \\n   - Professionally built portfolios to simplify investment choices.\\n\\n3. **Futures and Options**:\\n   - Allows trading of commodity futures and options on futures; intended for sophisticated investors.\\n\\n4. **Research and Tools**: \\n   - Access to streaming quotes, charts, and investment alerts.\\n   - Comprehensive research tools and screeners to identify investment opportunities.\\n\\n5. **Mobile Banking Features**: \\n   - Check deposits, bill payments, money transfers, and E*TRADE debit card with unlimited ATM fee refunds.\\n\\nE*TRADE supports a variety of investment products but carries risks, including potential loss of principal. Futures and options trading is complex and may not be suitable for all investors.\\n'}]\n"
     ]
    }
   ],
   "source": [
    "refined_text = [\n",
    "    {\n",
    "        \"url\" : \"https://us.etrade.com/what-we-offer/investment-choices\",\n",
    "        \"text\" : \"\"\"E*TRADE provides a variety of investment options that include:\n",
    "\n",
    "1. **Stocks** - Purchased in shares, representing ownership in companies.\n",
    "2. **Options** - Contracts granting the right to buy or sell a stock at a specified price before an expiration date.\n",
    "3. **Mutual Funds** - Investments that pool money from multiple investors to buy a diversified portfolio of stocks and bonds, priced once daily.\n",
    "4. **ETFs (Exchange-Traded Funds)** - Diversified baskets of investments traded like stocks throughout the day.\n",
    "5. **Futures** - Contracts that allow locking in prices for buying or selling assets at a future date.\n",
    "6. **Bonds and CDs** - Debt securities issued by governments or corporations paying interest, with a promise to return the principal at maturity.\n",
    "7. **Prebuilt Portfolios** - Managed portfolios that provide diversification.\n",
    "8. **IPOs (Initial Public Offerings) / New Issues** - Opportunities to invest in companies going public.\n",
    "\n",
    "Additionally, E*TRADE offers core and managed portfolios, as well as retirement accounts like Roth IRAs for long-term growth.\"\"\"\n",
    "        \n",
    "    },\n",
    "    \n",
    "    {\n",
    "        \"url\" : \"https://play.google.com/store/apps/details?id=com.etrade.mobilepro.activity&hl=en_US&pli=1\",\n",
    "        \"text\" : \"\"\"E*TRADE provides the following investment options:\n",
    "\n",
    "1. **Commission-Free Trading**: \n",
    "   - Online trades for US-listed stocks, ETFs, and options are commission-free.\n",
    "   - Mutual fund trading is available.\n",
    "\n",
    "2. **Investment Portfolios**: \n",
    "   - Professionally built portfolios to simplify investment choices.\n",
    "\n",
    "3. **Futures and Options**:\n",
    "   - Allows trading of commodity futures and options on futures; intended for sophisticated investors.\n",
    "\n",
    "4. **Research and Tools**: \n",
    "   - Access to streaming quotes, charts, and investment alerts.\n",
    "   - Comprehensive research tools and screeners to identify investment opportunities.\n",
    "\n",
    "5. **Mobile Banking Features**: \n",
    "   - Check deposits, bill payments, money transfers, and E*TRADE debit card with unlimited ATM fee refunds.\n",
    "\n",
    "E*TRADE supports a variety of investment products but carries risks, including potential loss of principal. Futures and options trading is complex and may not be suitable for all investors.\n",
    "\"\"\"\n",
    "        \n",
    "    }\n",
    "]\n",
    "\n",
    "print(refined_text)"
   ]
  },
  {
   "cell_type": "code",
   "execution_count": 16,
   "id": "15ed04ad-3671-4da8-a58d-bccf5f6f5855",
   "metadata": {},
   "outputs": [],
   "source": [
    "def generate_final_answer(original_query, refined_text):\n",
    "    response = openai.ChatCompletion.create(\n",
    "        model=\"gpt-4\",\n",
    "        messages=[\n",
    "            {\"role\": \"system\", \"content\": \"Write an academic-style response to the query, citing the refined sources.\"},\n",
    "            {\"role\": \"user\", \"content\": f\"Original Query: {original_query}\\nRefined Sources: {refined_text}\"},\n",
    "        ]\n",
    "    )\n",
    "    return response.choices[0].message['content']"
   ]
  },
  {
   "cell_type": "code",
   "execution_count": 18,
   "id": "39837e5f-dd13-4b62-937d-1d3e091f707e",
   "metadata": {},
   "outputs": [
    {
     "data": {
      "text/plain": [
       "\"E*TRADE, a leading online brokerage platform, offers a diverse range of investment options tailored to meet the needs of both novice and experienced investors. According to E*TRADE's official resources, the platform provides the following investment opportunities:\\n\\n1. **Stocks**: E*TRADE allows investors to purchase shares that represent ownership stakes in various companies. This traditional form of investment is foundational for building diversified portfolios and can be accessed through commission-free trading on US-listed stocks (E*TRADE, Investment Choices).\\n\\n2. **Options**: Investors can trade options, which are contracts that give the right to buy or sell a stock at a predetermined price before a certain expiration date. Options trading can be complex but offers strategic flexibility in market engagements (E*TRADE, Investment Choices).\\n\\n3. **Mutual Funds**: These are pooled investment vehicles that collect funds from multiple investors to purchase a portfolio of stocks and bonds. E*TRADE provides access to a vast selection of mutual funds, and trades can also be executed without commission fees (E*TRADE, What We Offer).\\n\\n4. **Exchange-Traded Funds (ETFs)**: Similar to mutual funds but traded like stocks throughout the day, ETFs offer a basket of investments and are popular for their liquidity and low costs (E*TRADE, Investment Choices).\\n\\n5. **Futures**: For sophisticated investors, E*TRADE offers the ability to trade futures, which are contracts enabling the purchase or sale of assets at a set price at a future date. This market requires a thorough understanding due to its inherent risk and potential for leverage (E*TRADE, What We Offer).\\n\\n6. **Bonds and Certificates of Deposit (CDs)**: E*TRADE offers traditional fixed-income securities such as government and corporate bonds, along with CDs that provide regular interest payments with principal return at maturity (E*TRADE, Investment Choices).\\n\\n7. **Prebuilt Portfolios**: These professionally managed portfolios are designed to simplify the investment process by offering diversified investment options tailored to specific risk profiles and financial goals (E*TRADE, Investment Choices).\\n\\n8. **Initial Public Offerings (IPOs) and New Issues**: Investors have the opportunity to participate in IPOs, which allows them to invest in companies at the forefront of going public (E*TRADE, Investment Choices).\\n\\nIn addition to these investment products, E*TRADE enhances user experience with advanced research tools, streaming quotes, and investment alerts that assist investors in making informed decisions. The mobile application further facilitates trading and account management by offering features such as check deposits, bill payments, and money transfers (E*TRADE, Mobile Pro Activity).\\n\\nFurthermore, E*TRADE offers specialized accounts, including Roth IRAs, designed for retirement savings, providing tax advantages for long-term investors seeking growth (E*TRADE, Investment Choices). Despite the comprehensive investment options and tools available, it is critical for investors to recognize the potential risks, including the risk of losing principal, particularly in complex instruments such as futures and options.\""
      ]
     },
     "execution_count": 18,
     "metadata": {},
     "output_type": "execute_result"
    }
   ],
   "source": [
    "chat_completion = client.chat.completions.create(\n",
    "    messages=[\n",
    "            {\"role\": \"system\", \"content\": \"Write an academic-style response to the query, citing the refined sources.\"},\n",
    "            {\"role\": \"user\", \"content\": f\"Original Query: {original_query}\\nRefined Sources: {refined_text}\"},\n",
    "        ],\n",
    "    model=\"gpt-4o\",\n",
    ")\n",
    "\n",
    "result = chat_completion.choices[0].message.content\n",
    "result"
   ]
  },
  {
   "cell_type": "code",
   "execution_count": 19,
   "id": "4ff616ca-a67b-4a46-a405-562b62f5adcc",
   "metadata": {},
   "outputs": [
    {
     "name": "stdout",
     "output_type": "stream",
     "text": [
      "E*TRADE, a leading online brokerage platform, offers a diverse range of investment options tailored to meet the needs of both novice and experienced investors. According to E*TRADE's official resources, the platform provides the following investment opportunities:\n",
      "\n",
      "1. **Stocks**: E*TRADE allows investors to purchase shares that represent ownership stakes in various companies. This traditional form of investment is foundational for building diversified portfolios and can be accessed through commission-free trading on US-listed stocks (E*TRADE, Investment Choices).\n",
      "\n",
      "2. **Options**: Investors can trade options, which are contracts that give the right to buy or sell a stock at a predetermined price before a certain expiration date. Options trading can be complex but offers strategic flexibility in market engagements (E*TRADE, Investment Choices).\n",
      "\n",
      "3. **Mutual Funds**: These are pooled investment vehicles that collect funds from multiple investors to purchase a portfolio of stocks and bonds. E*TRADE provides access to a vast selection of mutual funds, and trades can also be executed without commission fees (E*TRADE, What We Offer).\n",
      "\n",
      "4. **Exchange-Traded Funds (ETFs)**: Similar to mutual funds but traded like stocks throughout the day, ETFs offer a basket of investments and are popular for their liquidity and low costs (E*TRADE, Investment Choices).\n",
      "\n",
      "5. **Futures**: For sophisticated investors, E*TRADE offers the ability to trade futures, which are contracts enabling the purchase or sale of assets at a set price at a future date. This market requires a thorough understanding due to its inherent risk and potential for leverage (E*TRADE, What We Offer).\n",
      "\n",
      "6. **Bonds and Certificates of Deposit (CDs)**: E*TRADE offers traditional fixed-income securities such as government and corporate bonds, along with CDs that provide regular interest payments with principal return at maturity (E*TRADE, Investment Choices).\n",
      "\n",
      "7. **Prebuilt Portfolios**: These professionally managed portfolios are designed to simplify the investment process by offering diversified investment options tailored to specific risk profiles and financial goals (E*TRADE, Investment Choices).\n",
      "\n",
      "8. **Initial Public Offerings (IPOs) and New Issues**: Investors have the opportunity to participate in IPOs, which allows them to invest in companies at the forefront of going public (E*TRADE, Investment Choices).\n",
      "\n",
      "In addition to these investment products, E*TRADE enhances user experience with advanced research tools, streaming quotes, and investment alerts that assist investors in making informed decisions. The mobile application further facilitates trading and account management by offering features such as check deposits, bill payments, and money transfers (E*TRADE, Mobile Pro Activity).\n",
      "\n",
      "Furthermore, E*TRADE offers specialized accounts, including Roth IRAs, designed for retirement savings, providing tax advantages for long-term investors seeking growth (E*TRADE, Investment Choices). Despite the comprehensive investment options and tools available, it is critical for investors to recognize the potential risks, including the risk of losing principal, particularly in complex instruments such as futures and options.\n"
     ]
    }
   ],
   "source": [
    "print(result)"
   ]
  },
  {
   "cell_type": "code",
   "execution_count": null,
   "id": "7723d88c-c2c5-4b1b-ab9b-11035d18ad03",
   "metadata": {},
   "outputs": [],
   "source": []
  }
 ],
 "metadata": {
  "kernelspec": {
   "display_name": "perplexity-clone",
   "language": "python",
   "name": "perplexity-clone"
  },
  "language_info": {
   "codemirror_mode": {
    "name": "ipython",
    "version": 3
   },
   "file_extension": ".py",
   "mimetype": "text/x-python",
   "name": "python",
   "nbconvert_exporter": "python",
   "pygments_lexer": "ipython3",
   "version": "3.13.0"
  }
 },
 "nbformat": 4,
 "nbformat_minor": 5
}
