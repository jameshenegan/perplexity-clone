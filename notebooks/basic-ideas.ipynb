{
 "cells": [
  {
   "cell_type": "code",
   "execution_count": 1,
   "id": "13f730c4-64bf-4133-8f63-bd2d8598dd41",
   "metadata": {},
   "outputs": [],
   "source": [
    "import requests\n",
    "from openai import OpenAI\n",
    "from dotenv import dotenv_values\n",
    "from bs4 import BeautifulSoup\n",
    "from googleapiclient.discovery import build  \n",
    "\n",
    "config = dotenv_values(\"../.env\") \n",
    "\n",
    "num_results = 5\n",
    "\n",
    "open_ai_key = config['OPEN_AI_API_KEY']\n",
    "GOOGLE_API_KEY = config['GOOGLE_API_KEY']\n",
    "SEARCH_ENGINE_ID = config['SEARCH_ENGINE_ID']\n",
    "\n",
    "client = OpenAI(api_key=open_ai_key)\n",
    "service = build(\"customsearch\", \"v1\", developerKey=GOOGLE_API_KEY)"
   ]
  },
  {
   "cell_type": "code",
   "execution_count": 2,
   "id": "74cfe4a4-3a7a-4a49-b168-6547e278dbe1",
   "metadata": {},
   "outputs": [],
   "source": [
    "original_query = \"what investing options are offered by etrade\""
   ]
  },
  {
   "cell_type": "code",
   "execution_count": 3,
   "id": "1ef39d76-4818-4866-a425-96e612664354",
   "metadata": {},
   "outputs": [
    {
     "data": {
      "text/plain": [
       "'What investment choices are available through E*TRADE?'"
      ]
     },
     "execution_count": 3,
     "metadata": {},
     "output_type": "execute_result"
    }
   ],
   "source": [
    "chat_completion = client.chat.completions.create(\n",
    "    messages=[\n",
    "            {\"role\": \"system\", \"content\": \"Rephrase the user's query for search engine optimization.\"},\n",
    "            {\"role\": \"user\", \"content\": original_query},\n",
    "        ],\n",
    "    model=\"gpt-4o\",\n",
    ")\n",
    "\n",
    "rephrased_query = chat_completion.choices[0].message.content\n",
    "rephrased_query"
   ]
  },
  {
   "cell_type": "code",
   "execution_count": 4,
   "id": "905444e1-0495-49b5-982b-b6c407ea9c9f",
   "metadata": {},
   "outputs": [
    {
     "data": {
      "text/plain": [
       "{'kind': 'customsearch#result',\n",
       " 'title': 'Investment Choices | Understanding Types of Investments | E*TRADE',\n",
       " 'htmlTitle': '<b>Investment Choices</b> | Understanding Types of <b>Investments</b> | <b>E*TRADE</b>',\n",
       " 'link': 'https://us.etrade.com/what-we-offer/investment-choices',\n",
       " 'displayLink': 'us.etrade.com',\n",
       " 'snippet': 'E*TRADE offers a full range of investing products, including stocks, ETFs, mutual funds, futures, and options. Learn what they are and how to buy them.',\n",
       " 'htmlSnippet': '<b>E*TRADE</b> offers a full range of <b>investing</b> products, including stocks, ETFs, mutual funds, futures, and <b>options</b>. Learn what they are and how to buy them.',\n",
       " 'formattedUrl': 'https://us.etrade.com/what-we-offer/investment-choices',\n",
       " 'htmlFormattedUrl': 'https://us.<b>etrade</b>.com/what-we-offer/<b>investment</b>-<b>choices</b>',\n",
       " 'pagemap': {'cse_thumbnail': [{'src': 'https://encrypted-tbn0.gstatic.com/images?q=tbn:ANd9GcQ5DX-k0rgXmN40s90cTJ6nvFZAgqn4PWIn0QZj2wKoK5eFl_vjzxEi_r4D&s',\n",
       "    'width': '275',\n",
       "    'height': '183'}],\n",
       "  'metatags': [{'msapplication-config': 'https://cdn2.etrade.net/1/21123117210.0/aempros/content/dam/etrade/global/pagemeta/browserconfig.xml',\n",
       "    'twitter:card': 'summary',\n",
       "    'apple-mobile-web-app-status-bar-style': 'black-translucent',\n",
       "    'viewport': 'width=device-width, initial-scale=1.0',\n",
       "    'apple-mobile-web-app-capable': 'yes',\n",
       "    'mobile-web-app-capable': 'yes',\n",
       "    'title': 'Investment Choices | Understanding Types of Investments | E*TRADE'}],\n",
       "  'cse_image': [{'src': 'https://cdn2.etrade.net/1/20033018150.0/aempros/content/dam/etrade/retail/en_US/images/what-we-offer/investment-choices/stocks-bull-vs-bear.jpg'}]}}"
      ]
     },
     "execution_count": 4,
     "metadata": {},
     "output_type": "execute_result"
    }
   ],
   "source": [
    "result = service.cse().list(q=rephrased_query, cx=SEARCH_ENGINE_ID, num=num_results).execute()\n",
    "result_items = result.get('items', [])\n",
    "\n",
    "result_items[0]"
   ]
  },
  {
   "cell_type": "code",
   "execution_count": 5,
   "id": "de64b26b-3737-4dd6-beab-979d77f599fd",
   "metadata": {},
   "outputs": [
    {
     "data": {
      "text/plain": [
       "'https://us.etrade.com/what-we-offer/investment-choices'"
      ]
     },
     "execution_count": 5,
     "metadata": {},
     "output_type": "execute_result"
    }
   ],
   "source": [
    "url = result_items[0]['link']\n",
    "url"
   ]
  },
  {
   "cell_type": "code",
   "execution_count": 6,
   "id": "5cbc7fb8-93a8-4e97-ab83-cc87dcf4442f",
   "metadata": {},
   "outputs": [],
   "source": [
    "response = requests.get(url)\n",
    "html_doc = response.content\n",
    "soup = BeautifulSoup(html_doc, 'html.parser')\n",
    "raw_text_response = soup.get_text()"
   ]
  },
  {
   "cell_type": "code",
   "execution_count": 7,
   "id": "17a66c5b-aecf-40b9-b11c-1f8f6a98512e",
   "metadata": {},
   "outputs": [],
   "source": [
    "chat_completion = client.chat.completions.create(\n",
    "    messages=[\n",
    "            {\"role\": \"system\", \"content\": f\"Refine the following text and extract only relevant information related to the following query: {rephrased_query}\"},\n",
    "            {\"role\": \"user\", \"content\": raw_text_response},\n",
    "        ],\n",
    "    model=\"gpt-4o-mini\",\n",
    ")\n",
    "\n",
    "relevant_information = chat_completion.choices[0].message.content"
   ]
  },
  {
   "cell_type": "code",
   "execution_count": 8,
   "id": "e5c59ac9-8228-4e3e-bf9c-a9f67a2005d2",
   "metadata": {},
   "outputs": [
    {
     "name": "stdout",
     "output_type": "stream",
     "text": [
      "E*TRADE offers a diverse range of investment choices, including:\n",
      "\n",
      "1. **Stocks**: Investors can buy shares, representing ownership in companies, which can be traded throughout the day.\n",
      "\n",
      "2. **Options**: Contracts that give the right to buy or sell a stock at a set price before a specified expiration date.\n",
      "\n",
      "3. **Futures**: Agreements to buy or sell a security at a predetermined price on or before a future date.\n",
      "\n",
      "4. **ETFs (Exchange-Traded Funds)**: Diversified baskets of investments that can be traded like stocks throughout the day.\n",
      "\n",
      "5. **Mutual Funds**: Investment vehicles composed of a diversified portfolio of stocks and/or bonds, priced once at the end of the trading day.\n",
      "\n",
      "6. **Bonds and CDs (Certificates of Deposit)**: Fixed-income securities where investors lend money to institutions in exchange for interest payments and returned principal at maturity.\n",
      "\n",
      "7. **Prebuilt Portfolios**: Automated investment options that involve managed portfolios.\n",
      "\n",
      "8. **IPO (Initial Public Offerings)/New Issues**: Opportunities to invest in newly offered securities.\n",
      "\n",
      "E*TRADE provides various account types to suit different investor needs, including brokerage accounts, retirement accounts (like Roth IRAs), and managed portfolio services.\n"
     ]
    }
   ],
   "source": [
    "print(relevant_information)"
   ]
  },
  {
   "cell_type": "code",
   "execution_count": null,
   "id": "2e109061-0806-4636-8198-17de07a9cdee",
   "metadata": {},
   "outputs": [],
   "source": []
  }
 ],
 "metadata": {
  "kernelspec": {
   "display_name": "perplexity-clone",
   "language": "python",
   "name": "perplexity-clone"
  },
  "language_info": {
   "codemirror_mode": {
    "name": "ipython",
    "version": 3
   },
   "file_extension": ".py",
   "mimetype": "text/x-python",
   "name": "python",
   "nbconvert_exporter": "python",
   "pygments_lexer": "ipython3",
   "version": "3.13.0"
  }
 },
 "nbformat": 4,
 "nbformat_minor": 5
}
