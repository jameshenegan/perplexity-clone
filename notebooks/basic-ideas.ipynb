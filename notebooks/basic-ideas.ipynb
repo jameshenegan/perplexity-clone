{
 "cells": [
  {
   "cell_type": "code",
   "execution_count": 1,
   "id": "13f730c4-64bf-4133-8f63-bd2d8598dd41",
   "metadata": {},
   "outputs": [],
   "source": [
    "import sys\n",
    "\n",
    "# Include helper functions in src folder\n",
    "sys.path.append(\"../src\")\n",
    "\n",
    "import time\n",
    "from api_client import create_openai_client, create_google_service, get_openai_response_and_total_tokens, search_google\n",
    "from helpers import parse_html\n",
    "from dotenv import dotenv_values\n",
    "import requests\n",
    "\n",
    "\"\"\"\n",
    "Main Idea for program\n",
    "---------------------\n",
    "\n",
    "1. User submits query.\n",
    "2. Intelligent LLM \"rephraser\" rephrases the query.\n",
    "3. Rephrased query gets submitted to Google.\n",
    "4. The URL's for the top 5 links are collected.\n",
    "5. Does SFBLIC come up in the top 5 links?  If not, replace the 5th link with SFBLIC.\n",
    "6. For each link,\n",
    "     - the content is fetched \n",
    "     - the content is cleaned with Beautiful soup's get_text()\n",
    "     - a semi-intellignt LLM \"refiner\" refines the cleaned results so that they contain information relevant to query.\n",
    "7. Intelligent LLM \"writer-citer\" is asked to write a response that will answer the refined query using only the cleaned results, providing citations to the results in a certain manner.\n",
    "9. Visibility metrics are computed.\n",
    "10. Intelligent LLM \"marketer\" is asked to re-write or add content to the SFBLIC page according to certain directions.\n",
    "11. Visibility metrics are computed.\n",
    "\"\"\"\n",
    "\n",
    "config = dotenv_values(\"../.env\") \n",
    "\n",
    "num_results = 5\n",
    "sfblic_link = \"https://www.sfbli.com/\"\n",
    "\n",
    "open_ai_key = config['OPEN_AI_API_KEY']\n",
    "google_api_key = config['GOOGLE_API_KEY']\n",
    "search_engine_id = config['SEARCH_ENGINE_ID']\n",
    "\n",
    "# Initialize clients\n",
    "openai_client = create_openai_client(open_ai_key)\n",
    "google_service, search_id = create_google_service(google_api_key, search_engine_id)\n",
    "\n",
    "num_tokens_rephrasing = []\n",
    "num_tokens_refining = []\n",
    "num_tokens_writing_citing = []\n",
    "num_tokens_marketing = []"
   ]
  },
  {
   "cell_type": "code",
   "execution_count": 2,
   "id": "ad57d3eb-a8b9-47e1-9a71-8eb908a09050",
   "metadata": {},
   "outputs": [
    {
     "name": "stdout",
     "output_type": "stream",
     "text": [
      "What insurance products does Southern Farm Bureau Life Insurance Company offer?\n",
      "42\n"
     ]
    }
   ],
   "source": [
    "# Step 1: User submits query\n",
    "original_query = \"products offered by southern farm bureau life insurance company\"\n",
    "\n",
    "# Step 2: Rephrase query using OpenAI (LLM name: rephraser)\n",
    "messages = [\n",
    "    {\"role\": \"system\", \"content\": \"Rephrase the user's query for search engine optimization.\"},\n",
    "    {\"role\": \"user\", \"content\": original_query},\n",
    "]\n",
    "rephrased_query, total_tokens_from_rephrasing, completion_tokens, prompt_tokens = get_openai_response_and_total_tokens(openai_client, messages,  model=\"gpt-4o\")\n",
    "\n",
    "print(rephrased_query)\n",
    "print(total_tokens_from_rephrasing)\n",
    "num_tokens_rephrasing.append(total_tokens_from_rephrasing)"
   ]
  },
  {
   "cell_type": "code",
   "execution_count": 4,
   "id": "689891a8-a8a3-49c9-9906-ac53d5edb790",
   "metadata": {},
   "outputs": [
    {
     "data": {
      "text/plain": [
       "30"
      ]
     },
     "execution_count": 4,
     "metadata": {},
     "output_type": "execute_result"
    }
   ],
   "source": [
    "prompt_tokens"
   ]
  },
  {
   "cell_type": "code",
   "execution_count": 10,
   "id": "dc8e5026-8102-459d-93f2-b87f632c5d05",
   "metadata": {},
   "outputs": [
    {
     "data": {
      "text/plain": [
       "ChatCompletion(id='chatcmpl-AVdpOx36uHaf71qM2tc9BFMvzz9zQ', choices=[Choice(finish_reason='stop', index=0, logprobs=None, message=ChatCompletionMessage(content='What insurance products are available from Southern Farm Bureau Life Insurance Company?', refusal=None, role='assistant', audio=None, function_call=None, tool_calls=None))], created=1732104630, model='gpt-4o-2024-08-06', object='chat.completion', service_tier=None, system_fingerprint='fp_831e067d82', usage=CompletionUsage(completion_tokens=13, prompt_tokens=30, total_tokens=43, completion_tokens_details=CompletionTokensDetails(accepted_prediction_tokens=0, audio_tokens=0, reasoning_tokens=0, rejected_prediction_tokens=0), prompt_tokens_details=PromptTokensDetails(audio_tokens=0, cached_tokens=0)))"
      ]
     },
     "execution_count": 10,
     "metadata": {},
     "output_type": "execute_result"
    }
   ],
   "source": [
    "chat_completion"
   ]
  },
  {
   "cell_type": "code",
   "execution_count": 3,
   "id": "74cfe4a4-3a7a-4a49-b168-6547e278dbe1",
   "metadata": {},
   "outputs": [
    {
     "data": {
      "text/plain": [
       "['https://www.sfbli.com/',\n",
       " 'https://w3.sfbcic.com/',\n",
       " 'https://www.sfbli.com/loginregister',\n",
       " 'https://www.kyfb.com/insurance/insurance-products/life-and-financial/',\n",
       " 'https://msfbins.com/products/life/']"
      ]
     },
     "execution_count": 3,
     "metadata": {},
     "output_type": "execute_result"
    }
   ],
   "source": [
    "# Step 3: Refined query gets submitted to Google.\n",
    "search_results = search_google(google_service, search_id, rephrased_query)\n",
    "\n",
    "# Step 4: The URL's to the top 5 links are collected.\n",
    "top_links = [result['link'] for result in search_results[:5]]\n",
    "top_links"
   ]
  },
  {
   "cell_type": "code",
   "execution_count": 4,
   "id": "fbaa4aaa-9bc0-42eb-bc43-7f22276b6a71",
   "metadata": {},
   "outputs": [
    {
     "data": {
      "text/plain": [
       "['https://www.sfbli.com/',\n",
       " 'https://w3.sfbcic.com/',\n",
       " 'https://www.sfbli.com/loginregister',\n",
       " 'https://www.kyfb.com/insurance/insurance-products/life-and-financial/',\n",
       " 'https://msfbins.com/products/life/']"
      ]
     },
     "execution_count": 4,
     "metadata": {},
     "output_type": "execute_result"
    }
   ],
   "source": [
    "# Step 5: Does SFBLIC come up in the top 5 links?  If not, replace the 5th link with SFBLIC.\n",
    "if sfblic_link not in top_links:\n",
    "    top_links = top_links[:4] + [sfblic_link]\n",
    "\n",
    "top_links"
   ]
  },
  {
   "cell_type": "code",
   "execution_count": 5,
   "id": "2a73655e-b435-4377-9af7-22c7e8801ccd",
   "metadata": {},
   "outputs": [
    {
     "name": "stdout",
     "output_type": "stream",
     "text": [
      "Southern Farm Bureau Life Insurance Company offers a variety of insurance products, specifically focusing on life insurance. Further details on specific types of policies or additional products are not provided in the text.\n",
      "268\n",
      "The text provided does not contain relevant information regarding the insurance products offered by Southern Farm Bureau Life Insurance Company.\n",
      "70\n",
      "Southern Farm Bureau Life Insurance Company offers various insurance products, including:\n",
      "\n",
      "- Life Insurance\n",
      "- Variable Life Insurance\n",
      "- Health Plans\n",
      "- Behavioral Health Plans\n",
      "\n",
      "The company aims to provide competitive products and excellent customer service to its policyholders.\n",
      "440\n",
      "Southern Farm Bureau Life Insurance Company offers the following insurance products:\n",
      "\n",
      "1. **Life Insurance**:\n",
      "   - Term life insurance\n",
      "   - Whole life insurance\n",
      "\n",
      "2. **Long-Term Care Insurance**: This provides protection against the costs associated with long-term nursing facility care or home care.\n",
      "\n",
      "3. **Retirement Planning**: Includes retirement plans and annuities to support retirement needs.\n",
      "\n",
      "4. **Estate Planning**: Services to help minimize costs associated with estate shrinkage and ensure a generous distribution to heirs. \n",
      "\n",
      "These financial products are available through local agents associated with Kentucky Farm Bureau.\n",
      "1374\n",
      "Southern Farm Bureau Life Insurance Company offers a range of insurance products which typically include:\n",
      "\n",
      "- Life Insurance\n",
      "- Annuities\n",
      "- Health Insurance\n",
      "- Retirement Insurance Products \n",
      "\n",
      "For detailed offerings, it's recommended to visit their official website or contact them directly.\n",
      "99\n"
     ]
    }
   ],
   "source": [
    "\"\"\"\n",
    "6. For each link,\n",
    "     - the content is fetched \n",
    "     - the content is cleaned with Beautiful soup's get_text()\n",
    "     - a semi-intellignt LLM \"refiner\" refines the cleaned results so that they contain information relevant to query.\n",
    "\"\"\"\n",
    "\n",
    "refined_sources = []\n",
    "\n",
    "for url in top_links:\n",
    "    \n",
    "    time.sleep(1)    \n",
    "\n",
    "    # The content is fetched    \n",
    "    response = requests.get(url)\n",
    "\n",
    "    # The content is cleaned\n",
    "    raw_text = parse_html(response.content)\n",
    "\n",
    "    # A semi-intelligent LLM refines the cleaned results so that they contain information relevant to the query\n",
    "    messages = [\n",
    "    {\"role\": \"system\", \"content\": f\"Refine the following text and extract only relevant information related to the following query: {rephrased_query}\"},\n",
    "    {\"role\": \"user\", \"content\": raw_text},\n",
    "]\n",
    "\n",
    "    refined_text, total_tokens_from_refining = get_openai_response_and_total_tokens(openai_client, messages, model=\"gpt-4o-mini\")\n",
    "    \n",
    "    print(refined_text)\n",
    "    print(total_tokens_from_refining)\n",
    "    num_tokens_refining.append(total_tokens_from_refining)\n",
    "\n",
    "    refined_sources.append({\"url\" : url, \"refined_text\" : refined_text})"
   ]
  },
  {
   "cell_type": "code",
   "execution_count": 6,
   "id": "39837e5f-dd13-4b62-937d-1d3e091f707e",
   "metadata": {},
   "outputs": [],
   "source": [
    "\"\"\"\n",
    "# 7. Intelligent LLM \"writer-citer\" is asked to write a response that will answer \n",
    "the refined query using only the cleaned results, providing citations to the results in a certain manner.\n",
    "\"\"\"\n",
    "\n",
    "system_content = \"\"\"\n",
    "Write an accurate and concise answer for the given user question, \n",
    "using _only_ the provided summarized web search results. \n",
    "The answer should be correct, high-quality, and written by an expert using an unbiased and journalistic tone. \n",
    "The answer should be informative, interesting, and engaging. \n",
    "The answer's logic and reasoning should be rigorous and defensible. \n",
    "Every sentence in the answer should be _immediately followed_ by an in-line citation to the search result(s). \n",
    "The cited search result(s) should fully support _all_ the information in the sentence. \n",
    "Search results need to be cited using [index]. \n",
    "When citing several search results, use [1][2][3] format rather than [1, 2, 3]. \n",
    "You can use multiple search results to respond comprehensively while avoiding irrelevant search results.\n",
    "\"\"\"\n",
    "\n",
    "messages = [\n",
    "    {\"role\": \"system\", \"content\": system_content},\n",
    "    {\"role\": \"user\", \"content\": f\"Original Query: {rephrased_query}\\n Summarized Web Search Results: {refined_sources}\"},\n",
    "]\n",
    "\n",
    "final_response, total_tokens_from_final_response = get_openai_response_and_total_tokens(openai_client, messages,  model=\"gpt-4o\")"
   ]
  },
  {
   "cell_type": "code",
   "execution_count": 7,
   "id": "4ff616ca-a67b-4a46-a405-562b62f5adcc",
   "metadata": {},
   "outputs": [
    {
     "name": "stdout",
     "output_type": "stream",
     "text": [
      "Southern Farm Bureau Life Insurance Company provides a range of insurance products, with a particular emphasis on life insurance. Their life insurance offerings include term life insurance and whole life insurance [3][4]. Additionally, they offer variable life insurance, health plans, and behavioral health plans [2]. The company also provides long-term care insurance, which covers costs for long-term nursing facility care or home care, as well as retirement planning products like annuities, and services for estate planning [4][5]. These products aim to help customers with comprehensive financial planning and protection, and they are accessible through local agents, particularly those associated with the Kentucky Farm Bureau [4].\n"
     ]
    }
   ],
   "source": [
    "print(final_response)"
   ]
  },
  {
   "cell_type": "code",
   "execution_count": 8,
   "id": "7723d88c-c2c5-4b1b-ab9b-11035d18ad03",
   "metadata": {},
   "outputs": [
    {
     "data": {
      "text/plain": [
       "734"
      ]
     },
     "execution_count": 8,
     "metadata": {},
     "output_type": "execute_result"
    }
   ],
   "source": [
    "total_tokens_from_final_response"
   ]
  },
  {
   "cell_type": "code",
   "execution_count": 9,
   "id": "36b3f08e-bd68-4a3d-ba4b-2b4e8ea82860",
   "metadata": {},
   "outputs": [],
   "source": [
    "num_tokens_writing_citing.append(total_tokens_from_final_response)"
   ]
  },
  {
   "cell_type": "code",
   "execution_count": 10,
   "id": "54803e48-7493-4ba5-9719-2b330cf5de47",
   "metadata": {},
   "outputs": [
    {
     "data": {
      "text/plain": [
       "[42]"
      ]
     },
     "execution_count": 10,
     "metadata": {},
     "output_type": "execute_result"
    }
   ],
   "source": [
    "num_tokens_rephrasing "
   ]
  },
  {
   "cell_type": "code",
   "execution_count": 11,
   "id": "eaed6fef-3fff-4a7a-9dc0-f5682bedf2ab",
   "metadata": {},
   "outputs": [
    {
     "data": {
      "text/plain": [
       "[268, 70, 440, 1374, 99]"
      ]
     },
     "execution_count": 11,
     "metadata": {},
     "output_type": "execute_result"
    }
   ],
   "source": [
    "num_tokens_refining "
   ]
  },
  {
   "cell_type": "code",
   "execution_count": 12,
   "id": "2ff6359e-fc68-424c-b645-f9415001f705",
   "metadata": {},
   "outputs": [
    {
     "data": {
      "text/plain": [
       "[734]"
      ]
     },
     "execution_count": 12,
     "metadata": {},
     "output_type": "execute_result"
    }
   ],
   "source": [
    "num_tokens_writing_citing"
   ]
  },
  {
   "cell_type": "code",
   "execution_count": 13,
   "id": "fbbdfbdd-f371-43a4-8da1-7c017986f45d",
   "metadata": {},
   "outputs": [
    {
     "data": {
      "text/plain": [
       "[{'url': 'https://www.sfbli.com/',\n",
       "  'refined_text': 'Southern Farm Bureau Life Insurance Company offers a variety of insurance products, specifically focusing on life insurance. Further details on specific types of policies or additional products are not provided in the text.'},\n",
       " {'url': 'https://w3.sfbcic.com/',\n",
       "  'refined_text': 'The text provided does not contain relevant information regarding the insurance products offered by Southern Farm Bureau Life Insurance Company.'},\n",
       " {'url': 'https://www.sfbli.com/loginregister',\n",
       "  'refined_text': 'Southern Farm Bureau Life Insurance Company offers various insurance products, including:\\n\\n- Life Insurance\\n- Variable Life Insurance\\n- Health Plans\\n- Behavioral Health Plans\\n\\nThe company aims to provide competitive products and excellent customer service to its policyholders.'},\n",
       " {'url': 'https://www.kyfb.com/insurance/insurance-products/life-and-financial/',\n",
       "  'refined_text': 'Southern Farm Bureau Life Insurance Company offers the following insurance products:\\n\\n1. **Life Insurance**:\\n   - Term life insurance\\n   - Whole life insurance\\n\\n2. **Long-Term Care Insurance**: This provides protection against the costs associated with long-term nursing facility care or home care.\\n\\n3. **Retirement Planning**: Includes retirement plans and annuities to support retirement needs.\\n\\n4. **Estate Planning**: Services to help minimize costs associated with estate shrinkage and ensure a generous distribution to heirs. \\n\\nThese financial products are available through local agents associated with Kentucky Farm Bureau.'},\n",
       " {'url': 'https://msfbins.com/products/life/',\n",
       "  'refined_text': \"Southern Farm Bureau Life Insurance Company offers a range of insurance products which typically include:\\n\\n- Life Insurance\\n- Annuities\\n- Health Insurance\\n- Retirement Insurance Products \\n\\nFor detailed offerings, it's recommended to visit their official website or contact them directly.\"}]"
      ]
     },
     "execution_count": 13,
     "metadata": {},
     "output_type": "execute_result"
    }
   ],
   "source": [
    "refined_sources"
   ]
  },
  {
   "cell_type": "code",
   "execution_count": null,
   "id": "dca84205-bd4b-4602-99e2-108d87763405",
   "metadata": {},
   "outputs": [],
   "source": []
  }
 ],
 "metadata": {
  "kernelspec": {
   "display_name": "perplexity-clone",
   "language": "python",
   "name": "perplexity-clone"
  },
  "language_info": {
   "codemirror_mode": {
    "name": "ipython",
    "version": 3
   },
   "file_extension": ".py",
   "mimetype": "text/x-python",
   "name": "python",
   "nbconvert_exporter": "python",
   "pygments_lexer": "ipython3",
   "version": "3.13.0"
  }
 },
 "nbformat": 4,
 "nbformat_minor": 5
}
