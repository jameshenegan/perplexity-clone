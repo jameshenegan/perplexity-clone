{
 "cells": [
  {
   "cell_type": "code",
   "execution_count": 5,
   "id": "b6c41bb9-8985-401e-a4f6-4a4c23998b69",
   "metadata": {},
   "outputs": [],
   "source": [
    "from helpers.html_parser import HTMLParser \n",
    "import requests\n"
   ]
  },
  {
   "cell_type": "code",
   "execution_count": 10,
   "id": "3a681f3b-8de3-4949-b4fd-3cb7e84cb292",
   "metadata": {},
   "outputs": [],
   "source": [
    "link = \"https://www.statefarm.com/insurance/life\"\n",
    "link = \"https://www.statefarm.com/about-us/company-overview/why-state-farm\""
   ]
  },
  {
   "cell_type": "code",
   "execution_count": 11,
   "id": "b8873cd2-947f-4265-838c-d9bd7c13dbe4",
   "metadata": {},
   "outputs": [
    {
     "name": "stdout",
     "output_type": "stream",
     "text": [
      "\n"
     ]
    }
   ],
   "source": [
    "# Fet the HTML associated with the link\n",
    "response = requests.get(link)\n",
    "\n",
    "# Get the raw text associated with the HTML\n",
    "parsed_text = HTMLParser.parse_html(response.content)\n",
    "\n",
    "print(parsed_text)"
   ]
  },
  {
   "cell_type": "code",
   "execution_count": 12,
   "id": "0290f5e7-1e02-43f4-aa98-fab470da036f",
   "metadata": {},
   "outputs": [
    {
     "data": {
      "text/plain": [
       "''"
      ]
     },
     "execution_count": 12,
     "metadata": {},
     "output_type": "execute_result"
    }
   ],
   "source": [
    "parsed_text"
   ]
  },
  {
   "cell_type": "code",
   "execution_count": 13,
   "id": "de671e94-22c9-43dc-aa99-a60843638711",
   "metadata": {},
   "outputs": [
    {
     "data": {
      "text/plain": [
       "<Response [401]>"
      ]
     },
     "execution_count": 13,
     "metadata": {},
     "output_type": "execute_result"
    }
   ],
   "source": [
    "response"
   ]
  },
  {
   "cell_type": "code",
   "execution_count": null,
   "id": "99f84290-3c17-45c3-9a2e-f84595e7c325",
   "metadata": {},
   "outputs": [],
   "source": []
  }
 ],
 "metadata": {
  "kernelspec": {
   "display_name": "perplexity-clone",
   "language": "python",
   "name": "perplexity-clone"
  },
  "language_info": {
   "codemirror_mode": {
    "name": "ipython",
    "version": 3
   },
   "file_extension": ".py",
   "mimetype": "text/x-python",
   "name": "python",
   "nbconvert_exporter": "python",
   "pygments_lexer": "ipython3",
   "version": "3.13.0"
  }
 },
 "nbformat": 4,
 "nbformat_minor": 5
}
