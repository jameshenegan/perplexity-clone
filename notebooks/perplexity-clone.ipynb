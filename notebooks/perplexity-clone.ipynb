{
 "cells": [
  {
   "cell_type": "code",
   "execution_count": 1,
   "id": "eebe3882-6ad8-40cc-9d3b-5194529d1704",
   "metadata": {},
   "outputs": [
    {
     "data": {
      "text/plain": [
       "['https://www.libertymutual.com/insurance-resources/life/how-does-life-insurance-work',\n",
       " 'https://www.benefits.va.gov/insurance/',\n",
       " 'https://content.naic.org/insurance-topics/life-insurance',\n",
       " 'https://www.va.gov/life-insurance/options-eligibility/valife/',\n",
       " 'https://www.opm.gov/healthcare-insurance/life-insurance/']"
      ]
     },
     "execution_count": 1,
     "metadata": {},
     "output_type": "execute_result"
    }
   ],
   "source": [
    "from dotenv import dotenv_values\n",
    "import requests\n",
    "import sys\n",
    "\n",
    "\n",
    "\"\"\"\n",
    "Configuration\n",
    "\"\"\"\n",
    "\n",
    "path_to_src_folder = \"../src\"\n",
    "sfblic_link = \"https://www.sfbli.com/\"\n",
    "path_to_clean_corpus = \"../data/clean_content.txt\"\n",
    "\n",
    "# Load environment variables\n",
    "config = dotenv_values(\"../.env\")\n",
    "google_api_key = config['GOOGLE_API_KEY']\n",
    "search_engine_id = config['SEARCH_ENGINE_ID']\n",
    "\n",
    "sys.path.append(path_to_src_folder)\n",
    "\n",
    "from helpers.google_interactor import GoogleInteractor\n",
    "from helpers.html_parser import HTMLParser \n",
    "from helpers.storage_manager import StorageManager\n",
    "from helpers.refiner_model import RefinerModel\n",
    "from helpers.improver_model import ImproverModel\n",
    "from helpers.writer_citer_model import WriterCiterModel\n",
    "from helpers.visibility import parse_citations_from_text, compute_citation_scores\n",
    "\n",
    "\"\"\"\n",
    "============================================\n",
    "Interact with Helpers to mimic Perplexity\n",
    "============================================\n",
    "\"\"\"\n",
    "\n",
    "\"\"\"\n",
    "Set up\n",
    "\"\"\"\n",
    "\n",
    "# Number of links to consider\n",
    "K = 5\n",
    "\n",
    "# Select a query to use for the current trial\n",
    "query = \"What is life insurance?\"\n",
    "\n",
    "# Instantiate helpers\n",
    "google_interactor = GoogleInteractor(api_key=google_api_key, search_engine_id=search_engine_id)\n",
    "website_refiner = RefinerModel(api_key=config['OPEN_AI_API_KEY'])\n",
    "writer_citer = WriterCiterModel(api_key=config['OPEN_AI_API_KEY'])\n",
    "\n",
    "# Submit the query to Google\n",
    "search_results = google_interactor.search_google(query=query, num_results=K)\n",
    "\n",
    "\"\"\"\n",
    "View links\n",
    "\"\"\"\n",
    "\n",
    "top_k_links = [item['link'] for item in search_results['items']][:K]\n",
    "top_k_links\n"
   ]
  },
  {
   "cell_type": "code",
   "execution_count": 2,
   "id": "7044c53e-e6d3-4815-9c38-626054a1e0bc",
   "metadata": {},
   "outputs": [
    {
     "name": "stdout",
     "output_type": "stream",
     "text": [
      "https://www.libertymutual.com/insurance-resources/life/how-does-life-insurance-work\n",
      "Life insurance is a contract between an insurance company and policyholder. In exchange for a premium, the life insurance company agrees to pay a sum of money to one or more named beneficiaries upon the death of the policyholder. The purpose of life insurance is to help provide financial security to your loved ones upon your death. Some life policies also offer living benefits, meaning they can pay a part of the policy's death benefit while you're still alive if you're diagnosed with a covered illness that's considered chronic, critical, or terminal.\n",
      "\n",
      "https://www.benefits.va.gov/insurance/\n",
      "Life insurance is a contract wherein an insurance company provides a monetary benefit to a designated beneficiary upon the policyholder's death, in exchange for regular premium payments. In the context of the text, the following types of life insurance are highlighted:\n",
      "\n",
      "1. **Veterans Affairs Life Insurance (VALife)** - A guaranteed acceptance whole life insurance program for service-connected Veterans aged 80 and under, offering coverage of up to $40,000.\n",
      "\n",
      "2. **Servicemembers' Group Life Insurance (SGLI)** - A low-cost group term life insurance for Servicemembers, which can be extended for up to two years if the Servicemember is totally disabled at separation.\n",
      "\n",
      "3. **Veterans' Group Life Insurance (VGLI)** - Allows Veterans to convert their SGLI to a lifetime renewable term coverage after separating from service.\n",
      "\n",
      "4. **Family Servicemembers' Group Life Insurance (FSGLI)** - Provides insurance for spouses and children of Servicemembers covered under SGLI.\n",
      "\n",
      "5. **Servicemembers' Group Life Insurance Traumatic Injury Protection (TSGLI)** - An automatic feature providing payments for losses due to traumatic injuries occurring during service.\n",
      "\n",
      "6. **Veterans' Mortgage Life Insurance (VMLI)** - Offers mortgage life insurance protection to disabled Veterans approved for a VA Specially Adapted Housing grant. \n",
      "\n",
      "7. **Service-Disabled Veterans' Life Insurance (S-DVI)** - Previously available, it closed to new enrollments after December 31, 2022.\n",
      "\n",
      "These programs emphasize the importance of life insurance for Veterans and their families, providing various options based on their specific needs and status.\n",
      "\n",
      "https://content.naic.org/insurance-topics/life-insurance\n",
      "Life insurance illustrations are disclosures available to life insurance consumers that show how a policy should perform under specific circumstances. An illustration includes the benefits entitled to a policyholder, the premiums required to maintain that benefit, the expenses related to policy issuance and maintenance, and the benefit and premium periods. These illustrations are subject to the Life Insurance Illustrations Model Regulation (#582), which aims to protect consumers and foster education about life insurance. \n",
      "\n",
      "There are different types of illustrations defined in Model #582: \n",
      "\n",
      "1. **Basic Illustration**: Used in marketing, showing guaranteed and non-guaranteed elements of the policy.\n",
      "2. **Supplemental Illustration**: Depicts only non-guaranteed elements and refers to the basic illustration for guaranteed elements.\n",
      "3. **In-force Illustration**: Provided after the first policy anniversary to update on the policy's performance.\n",
      "\n",
      "The aim of these regulations and illustrations is to provide transparency for consumers in understanding life insurance policies and their performances.\n",
      "\n",
      "https://www.va.gov/life-insurance/options-eligibility/valife/\n",
      "Life insurance is a financial product that provides coverage to individuals in exchange for premium payments, ensuring that beneficiaries receive a payout upon the policyholder's death. Veterans Affairs Life Insurance (VALife) is a specific type of life insurance that offers low-cost coverage to veterans with service-connected disabilities. \n",
      "\n",
      "Eligibility for VALife includes veterans aged 80 or younger with a VA service-connected disability rating, and there is no time limit to apply after receiving a disability rating. For veterans aged 81 or older, additional criteria must be met to qualify.\n",
      "\n",
      "Benefits of VALife include up to $40,000 in whole life insurance coverage and a cash value that accumulates after two years. VALife guarantees acceptance without health proof if eligibility requirements are met, and coverage continues for life as long as premiums are paid. \n",
      "\n",
      "Premium payments may be made monthly or yearly, and they vary based on age and coverage amount. During the two-year waiting period after applying, if the policyholder dies, beneficiaries will receive the total premiums paid plus interest instead of the full coverage amount. After two years, beneficiaries will receive the full policy amount. \n",
      "\n",
      "Beneficiaries are designated individuals who will receive the insurance benefits upon the policyholder's death.\n",
      "\n",
      "https://www.opm.gov/healthcare-insurance/life-insurance/\n",
      "Life insurance refers to the Federal Employees' Group Life Insurance (FEGLI) Program established by the Federal Government on August 29, 1954. It is noted as the largest group life insurance program in the world, covering over 4 million Federal employees and retirees along with many of their family members. \n",
      "\n",
      "FEGLI provides group term life insurance, which does not accumulate cash value or paid-up value. It consists of Basic life insurance coverage and three optional types of insurance. New Federal employees are typically automatically covered by Basic life insurance, with premiums deducted from their paychecks unless they waive this coverage. In order to select any of the optional insurance options, an employee must first have Basic insurance.\n",
      "\n",
      "The cost structure mentions that Basic insurance is funded jointly—with the employee paying two-thirds of the total cost and the Government covering one-third, with age not affecting the cost of Basic insurance. Optional insurance is fully funded by the employee, and the cost varies based on age. Claims under the FEGLI Program are processed by the Office of Federal Employees' Group Life Insurance (OFEGLI), a private entity.\n",
      "\n",
      "For more information, the text mentions resources such as the FEGLI Calculator, which helps determine coverage amounts and premiums based on different options.\n",
      "\n",
      "\n",
      "\n"
     ]
    }
   ],
   "source": [
    "raw_text_from_html = []\n",
    "\n",
    "# For each item of raw text that was stored ...\n",
    "for link in top_k_links:    \n",
    "\n",
    "    try:\n",
    "\n",
    "        # Fet the HTML associated with the link\n",
    "        response = requests.get(link)\n",
    "    \n",
    "        # Get the raw text associated with the HTML\n",
    "        parsed_text = HTMLParser.parse_html(response.content)\n",
    "    \n",
    "        # Store the raw text from the HTML\n",
    "        raw_text_from_html.append({\"link\" : link, \"raw_text\" : parsed_text})\n",
    "\n",
    "    except:\n",
    "        print(\"Something happened with \", link)\n",
    "\n",
    "\n",
    "\"\"\"\n",
    "Get the refined text from the raw text\n",
    "\"\"\"\n",
    "\n",
    "\n",
    "website_refiner_responses = []\n",
    "# For each element of raw text that was stored ...\n",
    "for current_item in raw_text_from_html:\n",
    "    \n",
    "    link = current_item['link']\n",
    "    raw_text = current_item['raw_text']   \n",
    "\n",
    "    \n",
    "    response_from_website_refiner = website_refiner.refine_text(raw_text=raw_text, query=query)\n",
    "    \n",
    "    if response_from_website_refiner:\n",
    "        response_from_website_refiner['link'] = link\n",
    "        website_refiner_responses.append(response_from_website_refiner)\n",
    "    else:\n",
    "        print(\"Failed to refine text.\")\n",
    "\n",
    "\n",
    "\"\"\"\n",
    "Print the refined text\n",
    "\"\"\"\n",
    "for item in website_refiner_responses:\n",
    "    print(item['link'])\n",
    "    print(item['choices'][0]['message']['content'])\n",
    "    print()\n"
   ]
  },
  {
   "cell_type": "code",
   "execution_count": 3,
   "id": "74a2b3f4-584b-49ea-94e0-f653c13a46f9",
   "metadata": {},
   "outputs": [
    {
     "data": {
      "text/plain": [
       "[{'link': 'https://www.libertymutual.com/insurance-resources/life/how-does-life-insurance-work',\n",
       "  'information': \"Life insurance is a contract between an insurance company and policyholder. In exchange for a premium, the life insurance company agrees to pay a sum of money to one or more named beneficiaries upon the death of the policyholder. The purpose of life insurance is to help provide financial security to your loved ones upon your death. Some life policies also offer living benefits, meaning they can pay a part of the policy's death benefit while you're still alive if you're diagnosed with a covered illness that's considered chronic, critical, or terminal.\"},\n",
       " {'link': 'https://www.benefits.va.gov/insurance/',\n",
       "  'information': \"Life insurance is a contract wherein an insurance company provides a monetary benefit to a designated beneficiary upon the policyholder's death, in exchange for regular premium payments. In the context of the text, the following types of life insurance are highlighted:\\n\\n1. **Veterans Affairs Life Insurance (VALife)** - A guaranteed acceptance whole life insurance program for service-connected Veterans aged 80 and under, offering coverage of up to $40,000.\\n\\n2. **Servicemembers' Group Life Insurance (SGLI)** - A low-cost group term life insurance for Servicemembers, which can be extended for up to two years if the Servicemember is totally disabled at separation.\\n\\n3. **Veterans' Group Life Insurance (VGLI)** - Allows Veterans to convert their SGLI to a lifetime renewable term coverage after separating from service.\\n\\n4. **Family Servicemembers' Group Life Insurance (FSGLI)** - Provides insurance for spouses and children of Servicemembers covered under SGLI.\\n\\n5. **Servicemembers' Group Life Insurance Traumatic Injury Protection (TSGLI)** - An automatic feature providing payments for losses due to traumatic injuries occurring during service.\\n\\n6. **Veterans' Mortgage Life Insurance (VMLI)** - Offers mortgage life insurance protection to disabled Veterans approved for a VA Specially Adapted Housing grant. \\n\\n7. **Service-Disabled Veterans' Life Insurance (S-DVI)** - Previously available, it closed to new enrollments after December 31, 2022.\\n\\nThese programs emphasize the importance of life insurance for Veterans and their families, providing various options based on their specific needs and status.\"},\n",
       " {'link': 'https://content.naic.org/insurance-topics/life-insurance',\n",
       "  'information': \"Life insurance illustrations are disclosures available to life insurance consumers that show how a policy should perform under specific circumstances. An illustration includes the benefits entitled to a policyholder, the premiums required to maintain that benefit, the expenses related to policy issuance and maintenance, and the benefit and premium periods. These illustrations are subject to the Life Insurance Illustrations Model Regulation (#582), which aims to protect consumers and foster education about life insurance. \\n\\nThere are different types of illustrations defined in Model #582: \\n\\n1. **Basic Illustration**: Used in marketing, showing guaranteed and non-guaranteed elements of the policy.\\n2. **Supplemental Illustration**: Depicts only non-guaranteed elements and refers to the basic illustration for guaranteed elements.\\n3. **In-force Illustration**: Provided after the first policy anniversary to update on the policy's performance.\\n\\nThe aim of these regulations and illustrations is to provide transparency for consumers in understanding life insurance policies and their performances.\"},\n",
       " {'link': 'https://www.va.gov/life-insurance/options-eligibility/valife/',\n",
       "  'information': \"Life insurance is a financial product that provides coverage to individuals in exchange for premium payments, ensuring that beneficiaries receive a payout upon the policyholder's death. Veterans Affairs Life Insurance (VALife) is a specific type of life insurance that offers low-cost coverage to veterans with service-connected disabilities. \\n\\nEligibility for VALife includes veterans aged 80 or younger with a VA service-connected disability rating, and there is no time limit to apply after receiving a disability rating. For veterans aged 81 or older, additional criteria must be met to qualify.\\n\\nBenefits of VALife include up to $40,000 in whole life insurance coverage and a cash value that accumulates after two years. VALife guarantees acceptance without health proof if eligibility requirements are met, and coverage continues for life as long as premiums are paid. \\n\\nPremium payments may be made monthly or yearly, and they vary based on age and coverage amount. During the two-year waiting period after applying, if the policyholder dies, beneficiaries will receive the total premiums paid plus interest instead of the full coverage amount. After two years, beneficiaries will receive the full policy amount. \\n\\nBeneficiaries are designated individuals who will receive the insurance benefits upon the policyholder's death.\"},\n",
       " {'link': 'https://www.opm.gov/healthcare-insurance/life-insurance/',\n",
       "  'information': \"Life insurance refers to the Federal Employees' Group Life Insurance (FEGLI) Program established by the Federal Government on August 29, 1954. It is noted as the largest group life insurance program in the world, covering over 4 million Federal employees and retirees along with many of their family members. \\n\\nFEGLI provides group term life insurance, which does not accumulate cash value or paid-up value. It consists of Basic life insurance coverage and three optional types of insurance. New Federal employees are typically automatically covered by Basic life insurance, with premiums deducted from their paychecks unless they waive this coverage. In order to select any of the optional insurance options, an employee must first have Basic insurance.\\n\\nThe cost structure mentions that Basic insurance is funded jointly—with the employee paying two-thirds of the total cost and the Government covering one-third, with age not affecting the cost of Basic insurance. Optional insurance is fully funded by the employee, and the cost varies based on age. Claims under the FEGLI Program are processed by the Office of Federal Employees' Group Life Insurance (OFEGLI), a private entity.\\n\\nFor more information, the text mentions resources such as the FEGLI Calculator, which helps determine coverage amounts and premiums based on different options.\\n\\n\"}]"
      ]
     },
     "execution_count": 3,
     "metadata": {},
     "output_type": "execute_result"
    }
   ],
   "source": [
    "\"\"\"\n",
    "Bundle up a set of reference material to send to the writer-citer model\n",
    "\"\"\"\n",
    "reference_material =  [\n",
    "    {\n",
    "        \"link\" : item['link'],\n",
    "        \"information\" : item['choices'][0]['message']['content']\n",
    "    }\n",
    "    for item in website_refiner_responses\n",
    "]\n",
    "\n",
    "reference_material"
   ]
  },
  {
   "cell_type": "code",
   "execution_count": 4,
   "id": "a0445248-a419-4fd8-a102-12245e10aa5c",
   "metadata": {},
   "outputs": [],
   "source": [
    "# Generate a cited response with the writer-citer model\n",
    "cited_response = writer_citer.generate_cited_response(\n",
    "    rephrased_query=query,\n",
    "    set_of_reference_query=reference_material\n",
    ")\n"
   ]
  },
  {
   "cell_type": "code",
   "execution_count": 5,
   "id": "977af04f-b743-484d-bcd0-bd77ca7af064",
   "metadata": {},
   "outputs": [
    {
     "name": "stdout",
     "output_type": "stream",
     "text": [
      "Life insurance is a financial agreement between an insurance company and a policyholder, where the insurer promises to pay a designated sum of money to specified beneficiaries upon the policyholder's death, in exchange for premium payments[1]. The primary purpose of life insurance is to provide financial security to beneficiaries after the policyholder's demise[1][2].\n",
      "\n",
      "There are various types of life insurance policies, including whole life insurance, which offers permanent coverage and may accumulate cash value over time; and term life insurance, which provides coverage for a specific period[1][4]. Some policies also include living benefits, which allow the policyholder to receive a portion of the death benefit if they are diagnosed with a qualifying illness[1].\n",
      "\n",
      "Life insurance is crucial for different groups like veterans, who can access specialized insurance programs tailored to their needs, such as Veterans Affairs Life Insurance (VALife), which offers whole life coverage to service-connected veterans[2][4]. Additionally, the Federal Employees' Group Life Insurance (FEGLI) is a significant program for federal employees, providing group term life insurance without cash value accumulation[5].\n",
      "\n",
      "Overall, life insurance serves as a vital safety net, ensuring that dependents are cared for financially when the policyholder passes away, while also offering options for various individual circumstances and eligibility criteria[1][4].\n"
     ]
    }
   ],
   "source": [
    "text = cited_response['choices'][0]['message']['content']\n",
    "print(text)"
   ]
  },
  {
   "cell_type": "code",
   "execution_count": 8,
   "id": "811cde35-168f-4617-94a3-fcae8b7d79f9",
   "metadata": {},
   "outputs": [],
   "source": [
    "# Compute the visibility scores for the reference material\n",
    "parsed_data = parse_citations_from_text(text)\n",
    "scores = compute_citation_scores(parsed_data, num_citations=5, normalize=False)\n",
    "normalized_scores = compute_citation_scores(parsed_data, num_citations=5, normalize=True)"
   ]
  },
  {
   "cell_type": "code",
   "execution_count": 9,
   "id": "76a0df54-8b51-4ea7-a5da-dcc41cf57dbc",
   "metadata": {},
   "outputs": [
    {
     "data": {
      "text/plain": [
       "[62.22196765250655, 13.203387997277872, 0, 24.68394937224114, 9.56116058715572]"
      ]
     },
     "execution_count": 9,
     "metadata": {},
     "output_type": "execute_result"
    }
   ],
   "source": [
    "scores"
   ]
  },
  {
   "cell_type": "code",
   "execution_count": 10,
   "id": "96030993-f2ec-4cdc-ad20-b5a0ac94cb67",
   "metadata": {},
   "outputs": [
    {
     "data": {
      "text/plain": [
       "[0.567353911619552,\n",
       " 0.12039146477529429,\n",
       " 0.0,\n",
       " 0.2250738084782479,\n",
       " 0.08718081512690587]"
      ]
     },
     "execution_count": 10,
     "metadata": {},
     "output_type": "execute_result"
    }
   ],
   "source": [
    "normalized_scores"
   ]
  },
  {
   "cell_type": "code",
   "execution_count": null,
   "id": "f56f04bd-ebac-4c45-bf8c-8cad75ccd394",
   "metadata": {},
   "outputs": [],
   "source": []
  }
 ],
 "metadata": {
  "kernelspec": {
   "display_name": "perplexity-clone",
   "language": "python",
   "name": "perplexity-clone"
  },
  "language_info": {
   "codemirror_mode": {
    "name": "ipython",
    "version": 3
   },
   "file_extension": ".py",
   "mimetype": "text/x-python",
   "name": "python",
   "nbconvert_exporter": "python",
   "pygments_lexer": "ipython3",
   "version": "3.13.0"
  }
 },
 "nbformat": 4,
 "nbformat_minor": 5
}
