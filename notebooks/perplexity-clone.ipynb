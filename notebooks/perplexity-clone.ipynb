{
 "cells": [
  {
   "cell_type": "code",
   "execution_count": 1,
   "id": "eebe3882-6ad8-40cc-9d3b-5194529d1704",
   "metadata": {},
   "outputs": [
    {
     "data": {
      "text/plain": [
       "['https://www.newyorklife.com/articles/six-reasons-to-buy-life-insurance',\n",
       " 'https://www.reddit.com/r/FinancialPlanning/comments/12vb4s6/do_any_of_you_have_life_insurance_and_is_there/',\n",
       " 'https://www.iii.org/article/why-should-i-buy-life-insurance',\n",
       " 'https://www.reddit.com/r/Insurance/comments/17n2csg/how_many_people_have_life_insurance_and_is_it/',\n",
       " 'https://idoi.illinois.gov/consumers/consumerinsurance/lifeannuities/buying-life-insurance.html']"
      ]
     },
     "execution_count": 1,
     "metadata": {},
     "output_type": "execute_result"
    }
   ],
   "source": [
    "# Append the src folder to the path to access helper functions in src folder\n",
    "import sys\n",
    "path_to_src_folder = \"../src\"\n",
    "sys.path.append(path_to_src_folder)\n",
    "\n",
    "from dotenv import dotenv_values\n",
    "import requests\n",
    "from helpers.google_interactor import GoogleInteractor\n",
    "from helpers.html_parser import HTMLParser \n",
    "from helpers.storage_manager import StorageManager\n",
    "from helpers.refiner_model import RefinerModel\n",
    "from helpers.improver_model import ImproverModel\n",
    "from helpers.writer_citer_model import WriterCiterModel\n",
    "from helpers.visibility import parse_citations_from_text, compute_citation_scores\n",
    "\n",
    "\"\"\"\n",
    "============================================\n",
    "Interact with Helpers to mimic Perplexity\n",
    "============================================\n",
    "\"\"\"\n",
    "\n",
    "\"\"\"\n",
    "Set up\n",
    "\"\"\"\n",
    "\n",
    "# Number of links to consider\n",
    "K = 5\n",
    "\n",
    "# Select a query to use for the current trial\n",
    "query = \"Why should I buy life insurance?\"\n",
    "\n",
    "# Load environment variables to instantiate helpers\n",
    "config = dotenv_values(\"../.env\")\n",
    "google_api_key = config['GOOGLE_API_KEY']\n",
    "search_engine_id = config['SEARCH_ENGINE_ID']\n",
    "\n",
    "# Instantiate helpers\n",
    "google_interactor = GoogleInteractor(api_key=google_api_key, search_engine_id=search_engine_id)\n",
    "website_refiner = RefinerModel(api_key=config['OPEN_AI_API_KEY'])\n",
    "writer_citer = WriterCiterModel(api_key=config['OPEN_AI_API_KEY'])\n",
    "\n",
    "# Submit the query to Google\n",
    "search_results = google_interactor.search_google(query=query, num_results=K)\n",
    "\n",
    "\"\"\"\n",
    "View links\n",
    "\"\"\"\n",
    "\n",
    "top_k_links = [item['link'] for item in search_results['items']][:K]\n",
    "top_k_links"
   ]
  },
  {
   "cell_type": "code",
   "execution_count": 2,
   "id": "7044c53e-e6d3-4815-9c38-626054a1e0bc",
   "metadata": {},
   "outputs": [
    {
     "name": "stdout",
     "output_type": "stream",
     "text": [
      "https://www.newyorklife.com/articles/six-reasons-to-buy-life-insurance\n",
      "Reasons to buy life insurance are different for everyone. But the decision to purchase insurance is, at its core, all about providing financial security for yourself and the ones you care about. Here are some points on why life insurance is important:\n",
      "\n",
      "1. **Financial Security**: Life insurance protects your spouse and children from potentially devastating financial losses that could result from your death. It provides financial security to cover debts, living expenses, and medical or final expenses.\n",
      "\n",
      "2. **Guaranteed Protection**: Life insurance benefits act as a financial safety net for your dependents, ensuring they receive a lump-sum payment when you die, which provides essential protection.\n",
      "\n",
      "3. **Income Replacement**: If your income were to suddenly disappear, life insurance can help ensure your loved ones have the money they need to cover mortgage, childcare, health care, tuition, and debt.\n",
      "\n",
      "4. **Tax-Free Benefit**: The life insurance policy benefit is generally passed along federal income tax-free to your beneficiaries.\n",
      "\n",
      "5. **Guaranteed Cash Value Growth**: Whole Life policies build cash value that grows tax-deferred, helping to meet various financial goals such as retirement income or funding a child’s education.\n",
      "\n",
      "6. **Dividend Potential**: Buying whole life insurance from certain providers allows you to be eligible for dividends, which can be used in various beneficial ways.\n",
      "\n",
      "7. **Optional Riders**: Policies can be tailored to individual needs with riders for additional protection or benefits.\n",
      "\n",
      "These reasons highlight the importance of life insurance in securing financial stability and peace of mind for you and your loved ones.\n",
      "\n",
      "https://www.reddit.com/r/FinancialPlanning/comments/12vb4s6/do_any_of_you_have_life_insurance_and_is_there/\n",
      "THERE IS NO RELEVANT INFORMATION IN THE RAW TEXT\n",
      "\n",
      "https://www.iii.org/article/why-should-i-buy-life-insurance\n",
      "Life insurance is considered a cornerstone of sound financial planning for several reasons:\n",
      "\n",
      "1. **Replace income for dependents**: Life insurance can replace the income needed for dependents if the policyholder dies, ensuring financial stability for surviving family members.\n",
      "\n",
      "2. **Pay final expenses**: It can cover funeral and burial costs, as well as other debts and medical expenses not covered by health insurance.\n",
      "\n",
      "3. **Create an inheritance for heirs**: Even without other assets, a life insurance policy can provide an inheritance to named beneficiaries.\n",
      "\n",
      "4. **Pay federal and state “death” taxes**: Life insurance benefits can help pay estate taxes, preventing heirs from having to liquidate other assets or accept a smaller inheritance.\n",
      "\n",
      "5. **Make significant charitable contributions**: By naming a charity as the beneficiary, life insurance can facilitate larger contributions than if cash were donated directly.\n",
      "\n",
      "6. **Create a source of savings**: Some life insurance policies accumulate cash value that can be borrowed against or withdrawn, effectively serving as a forced savings plan, with tax-deferred growth. \n",
      "\n",
      "Overall, life insurance serves practical financial purposes, providing security and peace of mind.\n",
      "\n",
      "https://www.reddit.com/r/Insurance/comments/17n2csg/how_many_people_have_life_insurance_and_is_it/\n",
      "THERE IS NO RELEVANT INFORMATION IN THE RAW TEXT\n",
      "\n",
      "https://idoi.illinois.gov/consumers/consumerinsurance/lifeannuities/buying-life-insurance.html\n",
      "The goal of life insurance is to provide a measure of financial security for your family after you die. A life insurance policy will help them meet the financial needs that your income would have normally covered. Life insurance can be purchased on an individual or group basis. Most group life insurance is purchased through an employer group and is usually term coverage that is renewed yearly.\n",
      "\n",
      "Before purchasing a life insurance policy, you should consider your financial situation and the standard of living you want to maintain for your dependents or survivors. For example, you should consider who will be responsible for funeral costs and final medical bills, whether your family would have to relocate, and if there will be adequate funds for future or ongoing expenses such as daycare, mortgage payments, or college.\n",
      "\n",
      "You should reevaluate your life insurance policies annually or whenever you experience a major life event such as marriage, divorce, the birth or adoption of a child, or purchase of a major item such as a house or business.\n",
      "\n"
     ]
    }
   ],
   "source": [
    "\"\"\"\n",
    "Fetch the raw text from the html for each link\n",
    "\"\"\"\n",
    "\n",
    "raw_text_from_html = []\n",
    "\n",
    "# For each item of raw text that was stored ...\n",
    "for link in top_k_links:    \n",
    "\n",
    "    try:\n",
    "\n",
    "        # Fetch the HTML associated with the link\n",
    "        response = requests.get(link)\n",
    "    \n",
    "        # Get the raw text associated with the HTML\n",
    "        parsed_text = HTMLParser.parse_html(response.content)\n",
    "    \n",
    "        # Store the raw text from the HTML\n",
    "        raw_text_from_html.append({\"link\" : link, \"raw_text\" : parsed_text})\n",
    "\n",
    "    except:\n",
    "        print(\"Something happened with \", link)\n",
    "\n",
    "\n",
    "\"\"\"\n",
    "Get the refined text from the raw text\n",
    "\"\"\"\n",
    "\n",
    "\n",
    "website_refiner_responses = []\n",
    "# For each element of raw text that was stored ...\n",
    "for current_item in raw_text_from_html:\n",
    "    \n",
    "    link = current_item['link']\n",
    "    raw_text = current_item['raw_text']   \n",
    "\n",
    "    \n",
    "    response_from_website_refiner = website_refiner.refine_text(raw_text=raw_text, query=query)\n",
    "    \n",
    "    if response_from_website_refiner:\n",
    "        response_from_website_refiner['link'] = link\n",
    "        website_refiner_responses.append(response_from_website_refiner)\n",
    "    else:\n",
    "        print(\"Failed to refine text.\")\n",
    "\n",
    "\n",
    "\"\"\"\n",
    "Print the refined text\n",
    "\"\"\"\n",
    "for item in website_refiner_responses:\n",
    "    print(item['link'])\n",
    "    print(item['choices'][0]['message']['content'])\n",
    "    print()\n"
   ]
  },
  {
   "cell_type": "code",
   "execution_count": 3,
   "id": "74a2b3f4-584b-49ea-94e0-f653c13a46f9",
   "metadata": {},
   "outputs": [
    {
     "data": {
      "text/plain": [
       "[{'link': 'https://www.newyorklife.com/articles/six-reasons-to-buy-life-insurance',\n",
       "  'information': 'Reasons to buy life insurance are different for everyone. But the decision to purchase insurance is, at its core, all about providing financial security for yourself and the ones you care about. Here are some points on why life insurance is important:\\n\\n1. **Financial Security**: Life insurance protects your spouse and children from potentially devastating financial losses that could result from your death. It provides financial security to cover debts, living expenses, and medical or final expenses.\\n\\n2. **Guaranteed Protection**: Life insurance benefits act as a financial safety net for your dependents, ensuring they receive a lump-sum payment when you die, which provides essential protection.\\n\\n3. **Income Replacement**: If your income were to suddenly disappear, life insurance can help ensure your loved ones have the money they need to cover mortgage, childcare, health care, tuition, and debt.\\n\\n4. **Tax-Free Benefit**: The life insurance policy benefit is generally passed along federal income tax-free to your beneficiaries.\\n\\n5. **Guaranteed Cash Value Growth**: Whole Life policies build cash value that grows tax-deferred, helping to meet various financial goals such as retirement income or funding a child’s education.\\n\\n6. **Dividend Potential**: Buying whole life insurance from certain providers allows you to be eligible for dividends, which can be used in various beneficial ways.\\n\\n7. **Optional Riders**: Policies can be tailored to individual needs with riders for additional protection or benefits.\\n\\nThese reasons highlight the importance of life insurance in securing financial stability and peace of mind for you and your loved ones.'},\n",
       " {'link': 'https://www.reddit.com/r/FinancialPlanning/comments/12vb4s6/do_any_of_you_have_life_insurance_and_is_there/',\n",
       "  'information': 'THERE IS NO RELEVANT INFORMATION IN THE RAW TEXT'},\n",
       " {'link': 'https://www.iii.org/article/why-should-i-buy-life-insurance',\n",
       "  'information': 'Life insurance is considered a cornerstone of sound financial planning for several reasons:\\n\\n1. **Replace income for dependents**: Life insurance can replace the income needed for dependents if the policyholder dies, ensuring financial stability for surviving family members.\\n\\n2. **Pay final expenses**: It can cover funeral and burial costs, as well as other debts and medical expenses not covered by health insurance.\\n\\n3. **Create an inheritance for heirs**: Even without other assets, a life insurance policy can provide an inheritance to named beneficiaries.\\n\\n4. **Pay federal and state “death” taxes**: Life insurance benefits can help pay estate taxes, preventing heirs from having to liquidate other assets or accept a smaller inheritance.\\n\\n5. **Make significant charitable contributions**: By naming a charity as the beneficiary, life insurance can facilitate larger contributions than if cash were donated directly.\\n\\n6. **Create a source of savings**: Some life insurance policies accumulate cash value that can be borrowed against or withdrawn, effectively serving as a forced savings plan, with tax-deferred growth. \\n\\nOverall, life insurance serves practical financial purposes, providing security and peace of mind.'},\n",
       " {'link': 'https://www.reddit.com/r/Insurance/comments/17n2csg/how_many_people_have_life_insurance_and_is_it/',\n",
       "  'information': 'THERE IS NO RELEVANT INFORMATION IN THE RAW TEXT'},\n",
       " {'link': 'https://idoi.illinois.gov/consumers/consumerinsurance/lifeannuities/buying-life-insurance.html',\n",
       "  'information': 'The goal of life insurance is to provide a measure of financial security for your family after you die. A life insurance policy will help them meet the financial needs that your income would have normally covered. Life insurance can be purchased on an individual or group basis. Most group life insurance is purchased through an employer group and is usually term coverage that is renewed yearly.\\n\\nBefore purchasing a life insurance policy, you should consider your financial situation and the standard of living you want to maintain for your dependents or survivors. For example, you should consider who will be responsible for funeral costs and final medical bills, whether your family would have to relocate, and if there will be adequate funds for future or ongoing expenses such as daycare, mortgage payments, or college.\\n\\nYou should reevaluate your life insurance policies annually or whenever you experience a major life event such as marriage, divorce, the birth or adoption of a child, or purchase of a major item such as a house or business.'}]"
      ]
     },
     "execution_count": 3,
     "metadata": {},
     "output_type": "execute_result"
    }
   ],
   "source": [
    "\"\"\"\n",
    "Bundle up a set of reference material to send to the writer-citer model to answer query\n",
    "\"\"\"\n",
    "\n",
    "reference_material =  [\n",
    "    {\n",
    "        \"link\" : item['link'],\n",
    "        \"information\" : item['choices'][0]['message']['content']\n",
    "    }\n",
    "    for item in website_refiner_responses\n",
    "]\n",
    "\n",
    "reference_material"
   ]
  },
  {
   "cell_type": "code",
   "execution_count": 4,
   "id": "a0445248-a419-4fd8-a102-12245e10aa5c",
   "metadata": {},
   "outputs": [],
   "source": [
    "# Generate a cited response with the writer-citer model\n",
    "cited_response = writer_citer.generate_cited_response(\n",
    "    rephrased_query=query,\n",
    "    set_of_reference_query=reference_material\n",
    ")\n"
   ]
  },
  {
   "cell_type": "code",
   "execution_count": 5,
   "id": "977af04f-b743-484d-bcd0-bd77ca7af064",
   "metadata": {},
   "outputs": [
    {
     "name": "stdout",
     "output_type": "stream",
     "text": [
      "Life insurance offers multiple benefits that make it a crucial component of sound financial planning. Firstly, it provides financial security to your dependents by protecting them from potentially devastating financial losses upon your death, covering debts, living expenses, and final expenses like medical bills and funeral costs [1]. This coverage ensures your family can maintain their standard of living even in your absence [5].\n",
      "\n",
      "Additionally, life insurance serves as a replacement for lost income, helping ensure that your loved ones have the necessary funds to cover expenses such as mortgage payments, childcare, healthcare, and tuition [1][3]. Beyond merely replacing income, life insurance can also facilitate inheritance, even if there are no other assets to pass on, providing an inheritance to beneficiaries [3].\n",
      "\n",
      "Moreover, life insurance can be a tax-efficient way to provide for your heirs, as benefits are typically passed on federal income tax-free, which can also help pay any applicable federal and state estate taxes [1][3]. Some policies, like whole life insurance, build cash value over time, which grows tax-deferred and can be used for future financial goals, such as retirement savings or funding education [1][3].\n",
      "\n",
      "Life insurance policies can be customized with optional riders for additional benefits, and certain policies may offer dividend potential, which can be beneficially used [1]. Naming a charity as a beneficiary can also allow for significant charitable contributions, which might be larger than those made through direct cash donations [3]. Overall, life insurance not only secures the financial future of your family but can also serve broader fiscal objectives, ensuring peace of mind for the policyholder [1][3].\n"
     ]
    }
   ],
   "source": [
    "text = cited_response['choices'][0]['message']['content']\n",
    "print(text)"
   ]
  },
  {
   "cell_type": "code",
   "execution_count": 6,
   "id": "811cde35-168f-4617-94a3-fcae8b7d79f9",
   "metadata": {},
   "outputs": [],
   "source": [
    "# Compute the visibility scores for the reference material\n",
    "parsed_data = parse_citations_from_text(text)\n",
    "scores = compute_citation_scores(parsed_data, num_citations=5, normalize=False)\n",
    "normalized_scores = compute_citation_scores(parsed_data, num_citations=5, normalize=True)"
   ]
  },
  {
   "cell_type": "code",
   "execution_count": 7,
   "id": "76a0df54-8b51-4ea7-a5da-dcc41cf57dbc",
   "metadata": {},
   "outputs": [
    {
     "data": {
      "text/plain": [
       "[65.13928145132705, 0, 49.48624632523282, 0, 10.409586237918505]"
      ]
     },
     "execution_count": 7,
     "metadata": {},
     "output_type": "execute_result"
    }
   ],
   "source": [
    "scores"
   ]
  },
  {
   "cell_type": "code",
   "execution_count": 8,
   "id": "96030993-f2ec-4cdc-ad20-b5a0ac94cb67",
   "metadata": {},
   "outputs": [
    {
     "data": {
      "text/plain": [
       "[0.5209679054140286, 0.0, 0.3957787915441304, 0.0, 0.08325330304184096]"
      ]
     },
     "execution_count": 8,
     "metadata": {},
     "output_type": "execute_result"
    }
   ],
   "source": [
    "normalized_scores"
   ]
  },
  {
   "cell_type": "code",
   "execution_count": null,
   "id": "f56f04bd-ebac-4c45-bf8c-8cad75ccd394",
   "metadata": {},
   "outputs": [],
   "source": []
  }
 ],
 "metadata": {
  "kernelspec": {
   "display_name": "perplexity-clone",
   "language": "python",
   "name": "perplexity-clone"
  },
  "language_info": {
   "codemirror_mode": {
    "name": "ipython",
    "version": 3
   },
   "file_extension": ".py",
   "mimetype": "text/x-python",
   "name": "python",
   "nbconvert_exporter": "python",
   "pygments_lexer": "ipython3",
   "version": "3.13.0"
  }
 },
 "nbformat": 4,
 "nbformat_minor": 5
}
