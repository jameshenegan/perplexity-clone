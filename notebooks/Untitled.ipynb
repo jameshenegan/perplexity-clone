{
 "cells": [
  {
   "cell_type": "code",
   "execution_count": 8,
   "id": "a348fe60-b0c8-41cd-9220-37f1c6cab8e9",
   "metadata": {},
   "outputs": [],
   "source": [
    "import requests\n",
    "import time"
   ]
  },
  {
   "cell_type": "code",
   "execution_count": 9,
   "id": "551cca4f-dda8-4e02-9d90-3512d2a50cab",
   "metadata": {},
   "outputs": [],
   "source": [
    "from bs4 import BeautifulSoup\n",
    "\n",
    "def parse_html(html_content):\n",
    "    \"\"\"Parse HTML content and extract raw text.\"\"\"\n",
    "    soup = BeautifulSoup(html_content, 'html.parser')\n",
    "    return soup.get_text()\n"
   ]
  },
  {
   "cell_type": "code",
   "execution_count": 10,
   "id": "c4890e7f-2950-4e72-8ed2-c1fdf9171268",
   "metadata": {},
   "outputs": [],
   "source": [
    "combined_response = \"\"\n",
    "\n",
    "urls = [\n",
    "    \"https://www.scfbins.com/insurance/other-products/financial-services\",\n",
    "    \"https://www.scfbins.com/insurance/other-products/life-insurance\",\n",
    "    \"https://www.sfbli.com/blogs/Giving-Thanks\",\n",
    "    \"https://www.sfbli.com/blogs/LIAM2024\",\n",
    "    \"https://www.sfbli.com/blogs/Celebrating-Fathers-Day\",\n",
    "    \"https://www.sfbli.com/blogs/My-Reason-For-Life-Insurance\",\n",
    "    \"https://www.sfbli.com/blogs/Insure-Your-Love-2024\",\n",
    "    \"https://www.sfbli.com/blogs/Planning-For-The-Future\",\n",
    "    \"https://www.sfbli.com/blogs/LIAM-2023\",\n",
    "    \"https://www.sfbli.com/blogs/Values\",\n",
    "    \"https://www.sfbli.com/blogs/Why-Life-Insurance\",\n",
    "    \"https://www.sfbli.com/blogs/Women-And-Insurance\",\n",
    "    \"https://www.sfbli.com/blogs/LIAM-2023\",\n",
    "    \"https://www.sfbli.com/blogs/Planning-For-The-Future\",\n",
    "    \"https://www.insure.com/companies/southern-farm-bureau-life-insurance.html\",\n",
    "    \"https://msfbins.com/products/life/\",\n",
    "    \"https://sfbli.com/aboutus\"\n",
    "]\n",
    "\n",
    "for url in urls:\n",
    "    time.sleep(1)\n",
    "    response = requests.get(url)\n",
    "    parsed_html = parse_html(response.content)\n",
    "    combined_response += parsed_html"
   ]
  },
  {
   "cell_type": "code",
   "execution_count": 13,
   "id": "8af6491c-21bf-4d1f-b9a9-e1ec1ece5856",
   "metadata": {},
   "outputs": [],
   "source": [
    "with open (\"./data/content.txt\", 'w') as f:\n",
    "    f.write(combined_response)"
   ]
  },
  {
   "cell_type": "code",
   "execution_count": null,
   "id": "84c0e093-15dc-49f7-af32-f394fe2ccf97",
   "metadata": {},
   "outputs": [],
   "source": []
  }
 ],
 "metadata": {
  "kernelspec": {
   "display_name": "Python 3 (ipykernel)",
   "language": "python",
   "name": "python3"
  },
  "language_info": {
   "codemirror_mode": {
    "name": "ipython",
    "version": 3
   },
   "file_extension": ".py",
   "mimetype": "text/x-python",
   "name": "python",
   "nbconvert_exporter": "python",
   "pygments_lexer": "ipython3",
   "version": "3.13.0"
  }
 },
 "nbformat": 4,
 "nbformat_minor": 5
}
